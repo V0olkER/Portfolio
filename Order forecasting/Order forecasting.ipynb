{
 "cells": [
  {
   "cell_type": "markdown",
   "metadata": {},
   "source": [
    "**Содержание**<a id='toc0_'></a>    \n",
    "- [ Прогнозирование заказов такси](#toc1_)    \n",
    "  - [Подготовка данных](#toc1_1_)    \n",
    "  - [Анализ](#toc1_2_)    \n",
    "  - [Обучение](#toc1_3_)    \n",
    "      - [Создание признаков](#toc1_3_1_1_)    \n",
    "      - [Разбивка на выборки](#toc1_3_1_2_)    \n",
    "      - [LinearRegresson](#toc1_3_1_3_)    \n",
    "      - [Случайный лес](#toc1_3_1_4_)    \n",
    "      - [LightGBM](#toc1_3_1_5_)    \n",
    "      - [CatBoost](#toc1_3_1_6_)    \n",
    "      - [Выбор лучшей на основе валидации](#toc1_3_1_7_)    \n",
    "  - [Тестирование](#toc1_4_)    \n",
    "    - [Вывод](#toc1_4_1_)    \n",
    "\n",
    "<!-- vscode-jupyter-toc-config\n",
    "\tnumbering=false\n",
    "\tanchor=true\n",
    "\tflat=false\n",
    "\tminLevel=1\n",
    "\tmaxLevel=6\n",
    "\t/vscode-jupyter-toc-config -->\n",
    "<!-- THIS CELL WILL BE REPLACED ON TOC UPDATE. DO NOT WRITE YOUR TEXT IN THIS CELL -->"
   ]
  },
  {
   "cell_type": "markdown",
   "metadata": {},
   "source": [
    "# <a id='toc1_'></a>[ Прогнозирование заказов такси](#toc0_)"
   ]
  },
  {
   "cell_type": "markdown",
   "metadata": {},
   "source": [
    "**Описание:**\n",
    "\n",
    "Компания собрала исторические данные о заказах такси в аэропортах. Чтобы привлекать больше водителей в период пиковой нагрузки, нужно спрогнозировать количество заказов такси на следующий час. Постройте модель для такого предсказания.\n",
    "\n",
    "**Условие:**\n",
    "\n",
    "Значение метрики *RMSE* на тестовой выборке должно быть не больше 48.\n",
    "\n",
    "Нужно:\n",
    "\n",
    "1. Загрузить данные и выполнить их ресемплирование по одному часу.\n",
    "2. Проанализировать данные.\n",
    "3. Обучить разные модели с различными гиперпараметрами. Сделать тестовую выборку размером 10% от исходных данных.\n",
    "4. Проверить данные на тестовой выборке и сделать выводы.\n",
    "\n",
    "\n",
    "Количество заказов находится в столбце `num_orders`.\n"
   ]
  },
  {
   "cell_type": "markdown",
   "metadata": {},
   "source": [
    "## <a id='toc1_1_'></a>[Подготовка данных](#toc0_)"
   ]
  },
  {
   "cell_type": "code",
   "execution_count": 1,
   "metadata": {},
   "outputs": [],
   "source": [
    "import pandas as pd\n",
    "import numpy as np\n",
    "import matplotlib.pyplot as plt\n",
    "from IPython.core.display import display, HTML\n",
    "from statsmodels.tsa.seasonal import seasonal_decompose\n",
    "from sklearn.model_selection import train_test_split\n",
    "from sklearn.ensemble import RandomForestRegressor\n",
    "from sklearn.linear_model import LinearRegression\n",
    "from sklearn.metrics import mean_squared_error\n",
    "from lightgbm import LGBMRegressor\n",
    "from catboost import CatBoostRegressor"
   ]
  },
  {
   "cell_type": "code",
   "execution_count": 2,
   "metadata": {},
   "outputs": [
    {
     "data": {
      "text/html": [
       "<style>.container { width:75% !important; }</style>"
      ],
      "text/plain": [
       "<IPython.core.display.HTML object>"
      ]
     },
     "metadata": {},
     "output_type": "display_data"
    }
   ],
   "source": [
    "display(HTML(\"<style>.container { width:75% !important; }</style>\")) # больше не делаю, экран не такой большой как хотелось бы"
   ]
  },
  {
   "cell_type": "code",
   "execution_count": 3,
   "metadata": {},
   "outputs": [
    {
     "name": "stdout",
     "output_type": "stream",
     "text": [
      "<class 'pandas.core.frame.DataFrame'>\n",
      "DatetimeIndex: 26496 entries, 2018-03-01 00:00:00 to 2018-08-31 23:50:00\n",
      "Data columns (total 1 columns):\n",
      " #   Column      Non-Null Count  Dtype\n",
      "---  ------      --------------  -----\n",
      " 0   num_orders  26496 non-null  int64\n",
      "dtypes: int64(1)\n",
      "memory usage: 414.0 KB\n"
     ]
    },
    {
     "data": {
      "text/plain": [
       "None"
      ]
     },
     "metadata": {},
     "output_type": "display_data"
    },
    {
     "data": {
      "text/html": [
       "<div>\n",
       "<style scoped>\n",
       "    .dataframe tbody tr th:only-of-type {\n",
       "        vertical-align: middle;\n",
       "    }\n",
       "\n",
       "    .dataframe tbody tr th {\n",
       "        vertical-align: top;\n",
       "    }\n",
       "\n",
       "    .dataframe thead th {\n",
       "        text-align: right;\n",
       "    }\n",
       "</style>\n",
       "<table border=\"1\" class=\"dataframe\">\n",
       "  <thead>\n",
       "    <tr style=\"text-align: right;\">\n",
       "      <th></th>\n",
       "      <th>num_orders</th>\n",
       "    </tr>\n",
       "    <tr>\n",
       "      <th>datetime</th>\n",
       "      <th></th>\n",
       "    </tr>\n",
       "  </thead>\n",
       "  <tbody>\n",
       "    <tr>\n",
       "      <th>2018-03-01 00:00:00</th>\n",
       "      <td>9</td>\n",
       "    </tr>\n",
       "    <tr>\n",
       "      <th>2018-03-01 00:10:00</th>\n",
       "      <td>14</td>\n",
       "    </tr>\n",
       "    <tr>\n",
       "      <th>2018-03-01 00:20:00</th>\n",
       "      <td>28</td>\n",
       "    </tr>\n",
       "    <tr>\n",
       "      <th>2018-03-01 00:30:00</th>\n",
       "      <td>20</td>\n",
       "    </tr>\n",
       "    <tr>\n",
       "      <th>2018-03-01 00:40:00</th>\n",
       "      <td>32</td>\n",
       "    </tr>\n",
       "  </tbody>\n",
       "</table>\n",
       "</div>"
      ],
      "text/plain": [
       "                     num_orders\n",
       "datetime                       \n",
       "2018-03-01 00:00:00           9\n",
       "2018-03-01 00:10:00          14\n",
       "2018-03-01 00:20:00          28\n",
       "2018-03-01 00:30:00          20\n",
       "2018-03-01 00:40:00          32"
      ]
     },
     "metadata": {},
     "output_type": "display_data"
    }
   ],
   "source": [
    "data = pd.read_csv('/datasets/taxi.csv', index_col=[0], parse_dates=[0])\n",
    "display(data.info())\n",
    "display(data.head())"
   ]
  },
  {
   "cell_type": "markdown",
   "metadata": {},
   "source": [
    "Рассматриваемый период с 1го марта 18го года по 31 августа 18го года. \n",
    "\n",
    "Целевой признак - количество запасов. \n",
    "В качестве индекса - даты через каждые 10 минут. "
   ]
  },
  {
   "cell_type": "code",
   "execution_count": 4,
   "metadata": {},
   "outputs": [
    {
     "name": "stdout",
     "output_type": "stream",
     "text": [
      "Хронологический порядок индексов\n"
     ]
    }
   ],
   "source": [
    "# проверяем хролонолию\n",
    "if data.index.is_monotonic == True:\n",
    "    print('Хронологический порядок индексов')\n",
    "else:\n",
    "    print('Не хронологический порядок')"
   ]
  },
  {
   "cell_type": "code",
   "execution_count": 5,
   "metadata": {},
   "outputs": [
    {
     "data": {
      "text/html": [
       "<div>\n",
       "<style scoped>\n",
       "    .dataframe tbody tr th:only-of-type {\n",
       "        vertical-align: middle;\n",
       "    }\n",
       "\n",
       "    .dataframe tbody tr th {\n",
       "        vertical-align: top;\n",
       "    }\n",
       "\n",
       "    .dataframe thead th {\n",
       "        text-align: right;\n",
       "    }\n",
       "</style>\n",
       "<table border=\"1\" class=\"dataframe\">\n",
       "  <thead>\n",
       "    <tr style=\"text-align: right;\">\n",
       "      <th></th>\n",
       "      <th>num_orders</th>\n",
       "    </tr>\n",
       "    <tr>\n",
       "      <th>datetime</th>\n",
       "      <th></th>\n",
       "    </tr>\n",
       "  </thead>\n",
       "  <tbody>\n",
       "    <tr>\n",
       "      <th>2018-03-01 00:00:00</th>\n",
       "      <td>124</td>\n",
       "    </tr>\n",
       "    <tr>\n",
       "      <th>2018-03-01 01:00:00</th>\n",
       "      <td>85</td>\n",
       "    </tr>\n",
       "    <tr>\n",
       "      <th>2018-03-01 02:00:00</th>\n",
       "      <td>71</td>\n",
       "    </tr>\n",
       "    <tr>\n",
       "      <th>2018-03-01 03:00:00</th>\n",
       "      <td>66</td>\n",
       "    </tr>\n",
       "    <tr>\n",
       "      <th>2018-03-01 04:00:00</th>\n",
       "      <td>43</td>\n",
       "    </tr>\n",
       "  </tbody>\n",
       "</table>\n",
       "</div>"
      ],
      "text/plain": [
       "                     num_orders\n",
       "datetime                       \n",
       "2018-03-01 00:00:00         124\n",
       "2018-03-01 01:00:00          85\n",
       "2018-03-01 02:00:00          71\n",
       "2018-03-01 03:00:00          66\n",
       "2018-03-01 04:00:00          43"
      ]
     },
     "execution_count": 5,
     "metadata": {},
     "output_type": "execute_result"
    }
   ],
   "source": [
    "data = data.resample('1H').sum()\n",
    "data.head()"
   ]
  },
  {
   "cell_type": "markdown",
   "metadata": {},
   "source": [
    "Сделали ресемплирование в 1 час, с суммированием всех значений в этом диапозоне."
   ]
  },
  {
   "cell_type": "markdown",
   "metadata": {},
   "source": [
    "## <a id='toc1_2_'></a>[Анализ](#toc0_)"
   ]
  },
  {
   "cell_type": "code",
   "execution_count": 6,
   "metadata": {},
   "outputs": [
    {
     "data": {
      "image/png": "[encoded data removed]",
      "text/plain": [
       "<Figure size 432x576 with 3 Axes>"
      ]
     },
     "metadata": {
      "needs_background": "light"
     },
     "output_type": "display_data"
    }
   ],
   "source": [
    "decomposed = seasonal_decompose(data)\n",
    "plt.figure(figsize=(6, 8))\n",
    "plt.subplot(311)\n",
    "decomposed.trend.plot(ax=plt.gca())\n",
    "plt.title('Trend')\n",
    "plt.subplot(312)\n",
    "decomposed.seasonal['1 March 2018'].plot(ax=plt.gca())  # < напишите код здесь >\n",
    "plt.title('Seasonality')\n",
    "plt.subplot(313)\n",
    "decomposed.resid.plot(ax=plt.gca()) # < напишите код здесь >\n",
    "plt.title('Residuals')\n",
    "plt.tight_layout()"
   ]
  },
  {
   "cell_type": "markdown",
   "metadata": {},
   "source": [
    "- В трендах наблюдается увлечение заказов.\n",
    "- В сезонности за 1 день видно, что самое не актуальное время 6-7 утра, а пик достигается к полуночи."
   ]
  },
  {
   "cell_type": "markdown",
   "metadata": {},
   "source": [
    "## <a id='toc1_3_'></a>[Обучение](#toc0_)"
   ]
  },
  {
   "cell_type": "markdown",
   "metadata": {},
   "source": [
    "#### <a id='toc1_3_1_1_'></a>[Создание признаков](#toc0_)"
   ]
  },
  {
   "cell_type": "code",
   "execution_count": 7,
   "metadata": {},
   "outputs": [],
   "source": [
    "# Создаем признаки\n",
    "def make_features(data, max_lag, rolling_mean_size):\n",
    "#     data['month'] = data.index.month\n",
    "#     data['day'] = data.index.day\n",
    "    data['dayofweek'] = data.index.dayofweek\n",
    "    data['hour'] = data.index.hour\n",
    "    \n",
    "    for lag in range(1, max_lag + 1):\n",
    "        data['lag_{}'.format(lag)] = data['num_orders'].shift(lag)\n",
    "\n",
    "    # < напишите код здесь >\n",
    "    data['rolling_mean'] = data['num_orders'].shift().rolling(window=rolling_mean_size).mean()\n",
    "    return data"
   ]
  },
  {
   "cell_type": "code",
   "execution_count": 8,
   "metadata": {},
   "outputs": [
    {
     "data": {
      "text/html": [
       "<div>\n",
       "<style scoped>\n",
       "    .dataframe tbody tr th:only-of-type {\n",
       "        vertical-align: middle;\n",
       "    }\n",
       "\n",
       "    .dataframe tbody tr th {\n",
       "        vertical-align: top;\n",
       "    }\n",
       "\n",
       "    .dataframe thead th {\n",
       "        text-align: right;\n",
       "    }\n",
       "</style>\n",
       "<table border=\"1\" class=\"dataframe\">\n",
       "  <thead>\n",
       "    <tr style=\"text-align: right;\">\n",
       "      <th></th>\n",
       "      <th>num_orders</th>\n",
       "      <th>dayofweek</th>\n",
       "      <th>hour</th>\n",
       "      <th>lag_1</th>\n",
       "      <th>lag_2</th>\n",
       "      <th>lag_3</th>\n",
       "      <th>lag_4</th>\n",
       "      <th>rolling_mean</th>\n",
       "    </tr>\n",
       "    <tr>\n",
       "      <th>datetime</th>\n",
       "      <th></th>\n",
       "      <th></th>\n",
       "      <th></th>\n",
       "      <th></th>\n",
       "      <th></th>\n",
       "      <th></th>\n",
       "      <th></th>\n",
       "      <th></th>\n",
       "    </tr>\n",
       "  </thead>\n",
       "  <tbody>\n",
       "    <tr>\n",
       "      <th>2018-03-01 10:00:00</th>\n",
       "      <td>64</td>\n",
       "      <td>3</td>\n",
       "      <td>10</td>\n",
       "      <td>69.0</td>\n",
       "      <td>34.0</td>\n",
       "      <td>15.0</td>\n",
       "      <td>12.0</td>\n",
       "      <td>52.5</td>\n",
       "    </tr>\n",
       "    <tr>\n",
       "      <th>2018-03-01 11:00:00</th>\n",
       "      <td>96</td>\n",
       "      <td>3</td>\n",
       "      <td>11</td>\n",
       "      <td>64.0</td>\n",
       "      <td>69.0</td>\n",
       "      <td>34.0</td>\n",
       "      <td>15.0</td>\n",
       "      <td>46.5</td>\n",
       "    </tr>\n",
       "    <tr>\n",
       "      <th>2018-03-01 12:00:00</th>\n",
       "      <td>30</td>\n",
       "      <td>3</td>\n",
       "      <td>12</td>\n",
       "      <td>96.0</td>\n",
       "      <td>64.0</td>\n",
       "      <td>69.0</td>\n",
       "      <td>34.0</td>\n",
       "      <td>47.6</td>\n",
       "    </tr>\n",
       "    <tr>\n",
       "      <th>2018-03-01 13:00:00</th>\n",
       "      <td>32</td>\n",
       "      <td>3</td>\n",
       "      <td>13</td>\n",
       "      <td>30.0</td>\n",
       "      <td>96.0</td>\n",
       "      <td>64.0</td>\n",
       "      <td>69.0</td>\n",
       "      <td>43.5</td>\n",
       "    </tr>\n",
       "    <tr>\n",
       "      <th>2018-03-01 14:00:00</th>\n",
       "      <td>48</td>\n",
       "      <td>3</td>\n",
       "      <td>14</td>\n",
       "      <td>32.0</td>\n",
       "      <td>30.0</td>\n",
       "      <td>96.0</td>\n",
       "      <td>64.0</td>\n",
       "      <td>40.1</td>\n",
       "    </tr>\n",
       "  </tbody>\n",
       "</table>\n",
       "</div>"
      ],
      "text/plain": [
       "                     num_orders  dayofweek  hour  lag_1  lag_2  lag_3  lag_4  \\\n",
       "datetime                                                                       \n",
       "2018-03-01 10:00:00          64          3    10   69.0   34.0   15.0   12.0   \n",
       "2018-03-01 11:00:00          96          3    11   64.0   69.0   34.0   15.0   \n",
       "2018-03-01 12:00:00          30          3    12   96.0   64.0   69.0   34.0   \n",
       "2018-03-01 13:00:00          32          3    13   30.0   96.0   64.0   69.0   \n",
       "2018-03-01 14:00:00          48          3    14   32.0   30.0   96.0   64.0   \n",
       "\n",
       "                     rolling_mean  \n",
       "datetime                           \n",
       "2018-03-01 10:00:00          52.5  \n",
       "2018-03-01 11:00:00          46.5  \n",
       "2018-03-01 12:00:00          47.6  \n",
       "2018-03-01 13:00:00          43.5  \n",
       "2018-03-01 14:00:00          40.1  "
      ]
     },
     "execution_count": 8,
     "metadata": {},
     "output_type": "execute_result"
    }
   ],
   "source": [
    "make_features(data,4,10)\n",
    "data = data.dropna()\n",
    "data.head()"
   ]
  },
  {
   "cell_type": "markdown",
   "metadata": {},
   "source": [
    "#### <a id='toc1_3_1_2_'></a>[Разбивка на выборки](#toc0_)"
   ]
  },
  {
   "cell_type": "code",
   "execution_count": 9,
   "metadata": {},
   "outputs": [
    {
     "name": "stdout",
     "output_type": "stream",
     "text": [
      "2018-03-01 10:00:00 2018-07-28 01:00:00\n",
      "2018-07-28 02:00:00 2018-08-13 14:00:00\n",
      "2018-08-13 15:00:00 2018-08-31 23:00:00\n"
     ]
    }
   ],
   "source": [
    "train_v, test = train_test_split(data, shuffle=False, test_size=0.1)\n",
    "train, valid = train_test_split(train_v, shuffle=False, test_size=0.1)\n",
    "print(train.index.min(), train.index.max())\n",
    "print(valid.index.min(), valid.index.max())\n",
    "print(test.index.min(), test.index.max())"
   ]
  },
  {
   "cell_type": "code",
   "execution_count": 10,
   "metadata": {},
   "outputs": [
    {
     "data": {
      "text/plain": [
       "(3568, 7)"
      ]
     },
     "metadata": {},
     "output_type": "display_data"
    },
    {
     "data": {
      "text/plain": [
       "(397, 7)"
      ]
     },
     "metadata": {},
     "output_type": "display_data"
    },
    {
     "data": {
      "text/plain": [
       "(441, 7)"
      ]
     },
     "metadata": {},
     "output_type": "display_data"
    }
   ],
   "source": [
    "f_train = train.drop(['num_orders'], axis=1)\n",
    "t_train = train['num_orders']\n",
    "f_val = valid.drop(['num_orders'], axis=1)\n",
    "t_val = valid['num_orders']\n",
    "f_test = test.drop(['num_orders'], axis=1)\n",
    "t_test = test['num_orders']\n",
    "display(f_train.shape)\n",
    "display(f_val.shape)\n",
    "display(f_test.shape)"
   ]
  },
  {
   "cell_type": "markdown",
   "metadata": {},
   "source": [
    "#### <a id='toc1_3_1_3_'></a>[LinearRegresson](#toc0_)"
   ]
  },
  {
   "cell_type": "code",
   "execution_count": 11,
   "metadata": {},
   "outputs": [
    {
     "name": "stdout",
     "output_type": "stream",
     "text": [
      "RMSE валидационной выборки: 42.411708527068846\n"
     ]
    }
   ],
   "source": [
    "model = LinearRegression()\n",
    "model.fit(f_train,t_train )\n",
    "\n",
    "pred_val = model.predict(f_val)\n",
    "linear_rmse = np.sqrt(mean_squared_error(t_val, pred_val))\n",
    "\n",
    "print(\"RMSE валидационной выборки:\", linear_rmse) "
   ]
  },
  {
   "cell_type": "markdown",
   "metadata": {},
   "source": [
    "#### <a id='toc1_3_1_4_'></a>[Случайный лес](#toc0_)"
   ]
  },
  {
   "cell_type": "code",
   "execution_count": 12,
   "metadata": {},
   "outputs": [
    {
     "name": "stdout",
     "output_type": "stream",
     "text": [
      "Лучшая модель: RandomForestRegressor(max_depth=10, n_estimators=9, random_state=12345)\n",
      "Лучший параметр est 9\n",
      "Лучший параметр depth 10\n",
      "RMSE 32.400482968787216\n"
     ]
    }
   ],
   "source": [
    "best_model = None\n",
    "best_result = float('inf')\n",
    "best_param = None\n",
    "best_depth = None\n",
    "\n",
    "for est in range(1,11):\n",
    "    for depth in range(1,11):\n",
    "        \n",
    "        model = RandomForestRegressor(random_state=12345, n_estimators=est, max_depth=depth)\n",
    "        model.fit(f_train, t_train)\n",
    "        pred_val = model.predict(f_val)\n",
    "        rmse = np.sqrt(mean_squared_error(t_val, pred_val))\n",
    "    \n",
    "        if rmse < best_result:\n",
    "            best_model = model\n",
    "            best_param = est\n",
    "            best_depth = depth\n",
    "            best_result = rmse\n",
    "\n",
    "print('Лучшая модель:', best_model)\n",
    "print('Лучший параметр est', best_param)\n",
    "print('Лучший параметр depth', best_depth)\n",
    "print('RMSE', best_result)\n"
   ]
  },
  {
   "cell_type": "markdown",
   "metadata": {},
   "source": [
    "#### <a id='toc1_3_1_5_'></a>[LightGBM](#toc0_)"
   ]
  },
  {
   "cell_type": "code",
   "execution_count": 13,
   "metadata": {},
   "outputs": [
    {
     "name": "stdout",
     "output_type": "stream",
     "text": [
      "RMSE модели на валидационной выборке: 31.863312298493444\n"
     ]
    }
   ],
   "source": [
    "model = LGBMRegressor(random_state=12345, n_estimators=1000)\n",
    "\n",
    "model.fit(f_train, t_train)\n",
    "\n",
    "pred_val = model.predict(f_val)\n",
    "mse = mean_squared_error(t_val, pred_val)\n",
    "rmse_lgbm = np.sqrt(mse)\n",
    "print('RMSE модели на валидационной выборке:', rmse_lgbm)"
   ]
  },
  {
   "cell_type": "markdown",
   "metadata": {},
   "source": [
    "#### <a id='toc1_3_1_6_'></a>[CatBoost](#toc0_)"
   ]
  },
  {
   "cell_type": "code",
   "execution_count": 14,
   "metadata": {},
   "outputs": [
    {
     "name": "stdout",
     "output_type": "stream",
     "text": [
      "Learning rate set to 0.050057\n",
      "0:\tlearn: 35.2231554\ttotal: 48.5ms\tremaining: 48.4s\n",
      "200:\tlearn: 19.9760680\ttotal: 330ms\tremaining: 1.31s\n",
      "400:\tlearn: 17.9193359\ttotal: 609ms\tremaining: 910ms\n",
      "600:\tlearn: 16.3383141\ttotal: 914ms\tremaining: 607ms\n",
      "800:\tlearn: 15.1864943\ttotal: 1.22s\tremaining: 304ms\n",
      "999:\tlearn: 14.2246014\ttotal: 1.52s\tremaining: 0us\n",
      "RMSE модели на валидационной выборке: 32.06915752512844\n"
     ]
    }
   ],
   "source": [
    "model =CatBoostRegressor(iterations=1000)\n",
    "\n",
    "model.fit(f_train, t_train, verbose=200)\n",
    "pred_val = model.predict(f_val)\n",
    "mse = mean_squared_error(t_val, pred_val)\n",
    "rmse_cat = np.sqrt(mse)\n",
    "\n",
    "print('RMSE модели на валидационной выборке:', rmse_cat)"
   ]
  },
  {
   "cell_type": "markdown",
   "metadata": {},
   "source": [
    "#### <a id='toc1_3_1_7_'></a>[Выбор лучшей на основе валидации](#toc0_)"
   ]
  },
  {
   "cell_type": "code",
   "execution_count": 15,
   "metadata": {},
   "outputs": [
    {
     "data": {
      "text/html": [
       "<div>\n",
       "<style scoped>\n",
       "    .dataframe tbody tr th:only-of-type {\n",
       "        vertical-align: middle;\n",
       "    }\n",
       "\n",
       "    .dataframe tbody tr th {\n",
       "        vertical-align: top;\n",
       "    }\n",
       "\n",
       "    .dataframe thead th {\n",
       "        text-align: right;\n",
       "    }\n",
       "</style>\n",
       "<table border=\"1\" class=\"dataframe\">\n",
       "  <thead>\n",
       "    <tr style=\"text-align: right;\">\n",
       "      <th></th>\n",
       "      <th>Модели</th>\n",
       "      <th>RMSE valid</th>\n",
       "    </tr>\n",
       "  </thead>\n",
       "  <tbody>\n",
       "    <tr>\n",
       "      <th>0</th>\n",
       "      <td>Случайный лес</td>\n",
       "      <td>32.400483</td>\n",
       "    </tr>\n",
       "    <tr>\n",
       "      <th>1</th>\n",
       "      <td>Линейная регрессия</td>\n",
       "      <td>42.411709</td>\n",
       "    </tr>\n",
       "    <tr>\n",
       "      <th>2</th>\n",
       "      <td>LGBM</td>\n",
       "      <td>31.863312</td>\n",
       "    </tr>\n",
       "    <tr>\n",
       "      <th>3</th>\n",
       "      <td>CatBoost</td>\n",
       "      <td>32.069158</td>\n",
       "    </tr>\n",
       "  </tbody>\n",
       "</table>\n",
       "</div>"
      ],
      "text/plain": [
       "               Модели  RMSE valid\n",
       "0       Случайный лес   32.400483\n",
       "1  Линейная регрессия   42.411709\n",
       "2                LGBM   31.863312\n",
       "3            CatBoost   32.069158"
      ]
     },
     "execution_count": 15,
     "metadata": {},
     "output_type": "execute_result"
    }
   ],
   "source": [
    "table = {'Модели':\n",
    "    ['Случайный лес', 'Линейная регрессия', 'LGBM', 'CatBoost'],\n",
    "         'RMSE valid':[best_result, linear_rmse, rmse_lgbm, rmse_cat]\n",
    "         \n",
    "}\n",
    "\n",
    "table = pd.DataFrame(table)\n",
    "table.head()"
   ]
  },
  {
   "cell_type": "markdown",
   "metadata": {},
   "source": [
    "Лучшая метрика оказалась у модели CatBoost, с небольшим отставанием LGBM. "
   ]
  },
  {
   "cell_type": "markdown",
   "metadata": {},
   "source": [
    "## <a id='toc1_4_'></a>[Тестирование](#toc0_)"
   ]
  },
  {
   "cell_type": "code",
   "execution_count": 16,
   "metadata": {},
   "outputs": [],
   "source": [
    "full_features = train_v.drop(['num_orders'], axis=1)\n",
    "full_target = train_v['num_orders']\n"
   ]
  },
  {
   "cell_type": "code",
   "execution_count": 17,
   "metadata": {},
   "outputs": [
    {
     "name": "stdout",
     "output_type": "stream",
     "text": [
      "Learning rate set to 0.050898\n",
      "0:\tlearn: 37.7756641\ttotal: 2.35ms\tremaining: 2.35s\n",
      "100:\tlearn: 23.2681011\ttotal: 153ms\tremaining: 1.36s\n",
      "200:\tlearn: 21.3427496\ttotal: 303ms\tremaining: 1.21s\n",
      "300:\tlearn: 19.7765741\ttotal: 465ms\tremaining: 1.08s\n",
      "400:\tlearn: 18.7296707\ttotal: 608ms\tremaining: 909ms\n",
      "500:\tlearn: 17.9186954\ttotal: 752ms\tremaining: 749ms\n",
      "600:\tlearn: 17.2283671\ttotal: 899ms\tremaining: 597ms\n",
      "700:\tlearn: 16.5850151\ttotal: 1.05s\tremaining: 446ms\n",
      "800:\tlearn: 15.9952418\ttotal: 1.24s\tremaining: 307ms\n",
      "900:\tlearn: 15.4213197\ttotal: 1.41s\tremaining: 155ms\n",
      "999:\tlearn: 14.9240477\ttotal: 1.56s\tremaining: 0us\n",
      "RMSE модели на тестовой выборке: 45.05808922403923\n"
     ]
    }
   ],
   "source": [
    "model =CatBoostRegressor(iterations=1000)\n",
    "\n",
    "model.fit(full_features, full_target, verbose=100)\n",
    "pred_test = model.predict(f_test)\n",
    "mse = mean_squared_error(t_test, pred_test)\n",
    "rmse_cat = np.sqrt(mse)\n",
    "\n",
    "print('RMSE модели на тестовой выборке:', rmse_cat)"
   ]
  },
  {
   "cell_type": "markdown",
   "metadata": {},
   "source": [
    "Метрика достигнута! В условии задачи требование rmse не более 48, модель catboost показала 44,9. Мы не ошиблись в выборе модели. "
   ]
  },
  {
   "cell_type": "markdown",
   "metadata": {},
   "source": [
    "### <a id='toc1_4_1_'></a>[Вывод](#toc0_)"
   ]
  },
  {
   "cell_type": "markdown",
   "metadata": {},
   "source": [
    "- Подготовили и изучили данные:\n",
    "\n",
    "        - Целевой признак - количество запасов.\n",
    "        - Индекс - даты, диапозон каждые 10 минут. \n",
    "        - Рассматриваемый период с 1 марта по 31 августа 18го года.\n",
    "        - Индексы идут в хронологическом порядке.\n",
    "        - Сделали ресемплирование в 1 час, с суммированием всех значений в этом диапозоне.\n",
    "\n",
    "- Произвели анализ:\n",
    "\n",
    "        - В трендах наблюдается увлечение заказов.\n",
    "        - В сезонности за 1 день видно, что самое не актуальное время 6-7 утра, а пик достигается к полуночи.\n",
    "        \n",
    "- Поготовка и обучение моделей:\n",
    "\n",
    "        - Создали признаки\n",
    "        - Произвели разбивку на выборки\n",
    "        - Построили 4 разных модели и обучили на тренировочных данных\n",
    "        - В качестве промежуточных результатов была использована валидационная выборка\n",
    "        - Собрали метрики по моделям в таблицу для сравнения результатов. \n",
    "        - Лучшая модель на валидационной выборке - CatBoost\n",
    "        \n",
    "- Тестирование:\n",
    "\n",
    "        - Произвели предсказния лучшей модели (CatBoost) на тестовой выборке - RMSE - 45.05"
   ]
  }
 ],
 "metadata": {
  "ExecuteTimeLog": [
   {
    "duration": 398,
    "start_time": "2023-11-05T10:45:02.107Z"
   },
   {
    "duration": 3,
    "start_time": "2023-11-05T10:46:29.819Z"
   },
   {
    "duration": 51,
    "start_time": "2023-11-05T10:46:30.802Z"
   },
   {
    "duration": 175,
    "start_time": "2023-11-05T10:48:07.118Z"
   },
   {
    "duration": 78,
    "start_time": "2023-11-05T10:48:12.586Z"
   },
   {
    "duration": 61,
    "start_time": "2023-11-05T10:53:56.744Z"
   },
   {
    "duration": 71,
    "start_time": "2023-11-05T13:35:27.026Z"
   },
   {
    "duration": 3,
    "start_time": "2023-11-05T13:35:41.130Z"
   },
   {
    "duration": 95,
    "start_time": "2023-11-05T13:52:24.506Z"
   },
   {
    "duration": 366,
    "start_time": "2023-11-05T13:52:31.222Z"
   },
   {
    "duration": 752,
    "start_time": "2023-11-05T13:53:49.795Z"
   },
   {
    "duration": 636,
    "start_time": "2023-11-05T13:53:54.434Z"
   },
   {
    "duration": 83,
    "start_time": "2023-11-05T13:54:20.234Z"
   },
   {
    "duration": 66,
    "start_time": "2023-11-05T13:55:40.457Z"
   },
   {
    "duration": 736,
    "start_time": "2023-11-05T13:56:14.931Z"
   },
   {
    "duration": 692,
    "start_time": "2023-11-05T13:56:24.600Z"
   },
   {
    "duration": 628,
    "start_time": "2023-11-05T13:57:29.575Z"
   },
   {
    "duration": 13,
    "start_time": "2023-11-05T14:02:48.776Z"
   },
   {
    "duration": 12,
    "start_time": "2023-11-05T14:03:07.887Z"
   },
   {
    "duration": 577,
    "start_time": "2023-11-05T14:06:02.714Z"
   },
   {
    "duration": 825,
    "start_time": "2023-11-05T14:09:59.590Z"
   },
   {
    "duration": 2054,
    "start_time": "2023-11-05T14:13:10.274Z"
   },
   {
    "duration": 653,
    "start_time": "2023-11-05T14:13:24.083Z"
   },
   {
    "duration": 4,
    "start_time": "2023-11-05T14:23:34.533Z"
   },
   {
    "duration": 10,
    "start_time": "2023-11-05T14:24:05.927Z"
   },
   {
    "duration": 9,
    "start_time": "2023-11-05T14:25:06.315Z"
   },
   {
    "duration": 25,
    "start_time": "2023-11-05T14:26:52.553Z"
   },
   {
    "duration": 3126,
    "start_time": "2023-11-05T14:29:45.232Z"
   },
   {
    "duration": 11,
    "start_time": "2023-11-05T14:34:40.675Z"
   },
   {
    "duration": 9,
    "start_time": "2023-11-05T14:35:03.382Z"
   },
   {
    "duration": 30,
    "start_time": "2023-11-05T14:35:34.788Z"
   },
   {
    "duration": 11,
    "start_time": "2023-11-05T14:36:01.916Z"
   },
   {
    "duration": 9,
    "start_time": "2023-11-05T14:36:37.908Z"
   },
   {
    "duration": 8,
    "start_time": "2023-11-05T14:36:43.563Z"
   },
   {
    "duration": 1432,
    "start_time": "2023-11-05T14:36:50.564Z"
   },
   {
    "duration": 65,
    "start_time": "2023-11-05T14:36:51.998Z"
   },
   {
    "duration": 85,
    "start_time": "2023-11-05T14:36:52.065Z"
   },
   {
    "duration": 4,
    "start_time": "2023-11-05T14:36:52.152Z"
   },
   {
    "duration": 39,
    "start_time": "2023-11-05T14:36:52.158Z"
   },
   {
    "duration": 695,
    "start_time": "2023-11-05T14:36:52.199Z"
   },
   {
    "duration": 5,
    "start_time": "2023-11-05T14:36:52.895Z"
   },
   {
    "duration": 56,
    "start_time": "2023-11-05T14:36:52.901Z"
   },
   {
    "duration": 104,
    "start_time": "2023-11-05T14:36:52.959Z"
   },
   {
    "duration": 121,
    "start_time": "2023-11-05T14:41:09.412Z"
   },
   {
    "duration": 10,
    "start_time": "2023-11-05T14:41:30.868Z"
   },
   {
    "duration": 199,
    "start_time": "2023-11-05T14:44:54.574Z"
   },
   {
    "duration": 1594,
    "start_time": "2023-11-05T14:51:35.322Z"
   },
   {
    "duration": 38,
    "start_time": "2023-11-05T14:51:36.918Z"
   },
   {
    "duration": 65,
    "start_time": "2023-11-05T14:51:36.958Z"
   },
   {
    "duration": 3,
    "start_time": "2023-11-05T14:51:37.025Z"
   },
   {
    "duration": 20,
    "start_time": "2023-11-05T14:51:37.029Z"
   },
   {
    "duration": 755,
    "start_time": "2023-11-05T14:51:37.051Z"
   },
   {
    "duration": 4,
    "start_time": "2023-11-05T14:51:37.808Z"
   },
   {
    "duration": 35,
    "start_time": "2023-11-05T14:51:37.813Z"
   },
   {
    "duration": 7,
    "start_time": "2023-11-05T14:51:37.850Z"
   },
   {
    "duration": 10,
    "start_time": "2023-11-05T14:51:37.859Z"
   },
   {
    "duration": 9,
    "start_time": "2023-11-05T14:51:37.871Z"
   },
   {
    "duration": 1591,
    "start_time": "2023-11-05T14:54:24.712Z"
   },
   {
    "duration": 40,
    "start_time": "2023-11-05T14:54:26.305Z"
   },
   {
    "duration": 65,
    "start_time": "2023-11-05T14:54:26.347Z"
   },
   {
    "duration": 4,
    "start_time": "2023-11-05T14:54:26.414Z"
   },
   {
    "duration": 13,
    "start_time": "2023-11-05T14:54:26.420Z"
   },
   {
    "duration": 763,
    "start_time": "2023-11-05T14:54:26.434Z"
   },
   {
    "duration": 4,
    "start_time": "2023-11-05T14:54:27.198Z"
   },
   {
    "duration": 26,
    "start_time": "2023-11-05T14:54:27.204Z"
   },
   {
    "duration": 21,
    "start_time": "2023-11-05T14:54:27.232Z"
   },
   {
    "duration": 10,
    "start_time": "2023-11-05T14:54:27.255Z"
   },
   {
    "duration": 13,
    "start_time": "2023-11-05T14:54:27.267Z"
   },
   {
    "duration": 183,
    "start_time": "2023-11-05T14:55:49.911Z"
   },
   {
    "duration": 23,
    "start_time": "2023-11-05T14:56:02.931Z"
   },
   {
    "duration": 10,
    "start_time": "2023-11-05T14:56:41.994Z"
   },
   {
    "duration": 2852,
    "start_time": "2023-11-05T15:01:48.301Z"
   },
   {
    "duration": 106,
    "start_time": "2023-11-05T15:05:30.232Z"
   },
   {
    "duration": 65,
    "start_time": "2023-11-05T15:05:37.150Z"
   },
   {
    "duration": 11,
    "start_time": "2023-11-05T15:05:41.596Z"
   },
   {
    "duration": 1203,
    "start_time": "2023-11-05T15:16:23.662Z"
   },
   {
    "duration": 728,
    "start_time": "2023-11-05T15:16:40.131Z"
   },
   {
    "duration": 689,
    "start_time": "2023-11-05T15:16:54.066Z"
   },
   {
    "duration": 1572,
    "start_time": "2023-11-05T15:18:52.351Z"
   },
   {
    "duration": 9,
    "start_time": "2023-11-05T15:22:30.000Z"
   },
   {
    "duration": 1686,
    "start_time": "2023-11-05T15:24:39.712Z"
   },
   {
    "duration": 1572,
    "start_time": "2023-11-05T15:27:09.665Z"
   },
   {
    "duration": 44,
    "start_time": "2023-11-05T15:27:11.239Z"
   },
   {
    "duration": 65,
    "start_time": "2023-11-05T15:27:11.285Z"
   },
   {
    "duration": 3,
    "start_time": "2023-11-05T15:27:11.353Z"
   },
   {
    "duration": 15,
    "start_time": "2023-11-05T15:27:11.357Z"
   },
   {
    "duration": 783,
    "start_time": "2023-11-05T15:27:11.374Z"
   },
   {
    "duration": 4,
    "start_time": "2023-11-05T15:27:12.159Z"
   },
   {
    "duration": 49,
    "start_time": "2023-11-05T15:27:12.165Z"
   },
   {
    "duration": 8,
    "start_time": "2023-11-05T15:27:12.216Z"
   },
   {
    "duration": 26,
    "start_time": "2023-11-05T15:27:12.226Z"
   },
   {
    "duration": 42,
    "start_time": "2023-11-05T15:27:12.253Z"
   },
   {
    "duration": 3134,
    "start_time": "2023-11-05T15:27:12.297Z"
   },
   {
    "duration": 928,
    "start_time": "2023-11-05T15:27:15.433Z"
   },
   {
    "duration": 1559,
    "start_time": "2023-11-05T15:27:16.363Z"
   },
   {
    "duration": 9,
    "start_time": "2023-11-05T15:27:17.924Z"
   },
   {
    "duration": 1494,
    "start_time": "2023-11-05T15:27:17.934Z"
   },
   {
    "duration": 11,
    "start_time": "2023-11-05T15:33:28.318Z"
   },
   {
    "duration": 31,
    "start_time": "2023-11-05T15:34:54.079Z"
   },
   {
    "duration": 1519,
    "start_time": "2023-11-05T15:35:29.027Z"
   },
   {
    "duration": 20,
    "start_time": "2023-11-05T15:37:46.588Z"
   },
   {
    "duration": 1512,
    "start_time": "2023-11-05T15:37:56.184Z"
   },
   {
    "duration": 40,
    "start_time": "2023-11-05T15:37:57.698Z"
   },
   {
    "duration": 64,
    "start_time": "2023-11-05T15:37:57.739Z"
   },
   {
    "duration": 3,
    "start_time": "2023-11-05T15:37:57.805Z"
   },
   {
    "duration": 15,
    "start_time": "2023-11-05T15:37:57.810Z"
   },
   {
    "duration": 794,
    "start_time": "2023-11-05T15:37:57.826Z"
   },
   {
    "duration": 4,
    "start_time": "2023-11-05T15:37:58.622Z"
   },
   {
    "duration": 37,
    "start_time": "2023-11-05T15:37:58.628Z"
   },
   {
    "duration": 8,
    "start_time": "2023-11-05T15:37:58.666Z"
   },
   {
    "duration": 11,
    "start_time": "2023-11-05T15:37:58.675Z"
   },
   {
    "duration": 11,
    "start_time": "2023-11-05T15:37:58.687Z"
   },
   {
    "duration": 3197,
    "start_time": "2023-11-05T15:37:58.699Z"
   },
   {
    "duration": 1357,
    "start_time": "2023-11-05T15:38:01.898Z"
   },
   {
    "duration": 1528,
    "start_time": "2023-11-05T15:38:03.258Z"
   },
   {
    "duration": 9,
    "start_time": "2023-11-05T15:38:04.788Z"
   },
   {
    "duration": 1530,
    "start_time": "2023-11-05T15:38:04.799Z"
   },
   {
    "duration": 9,
    "start_time": "2023-11-05T15:38:06.331Z"
   },
   {
    "duration": 41,
    "start_time": "2023-11-05T15:38:06.341Z"
   },
   {
    "duration": 1428,
    "start_time": "2023-11-05T15:38:06.384Z"
   },
   {
    "duration": 1540,
    "start_time": "2023-11-05T15:39:31.782Z"
   },
   {
    "duration": 39,
    "start_time": "2023-11-05T15:39:33.325Z"
   },
   {
    "duration": 65,
    "start_time": "2023-11-05T15:39:33.365Z"
   },
   {
    "duration": 4,
    "start_time": "2023-11-05T15:39:33.431Z"
   },
   {
    "duration": 16,
    "start_time": "2023-11-05T15:39:33.437Z"
   },
   {
    "duration": 771,
    "start_time": "2023-11-05T15:39:33.454Z"
   },
   {
    "duration": 4,
    "start_time": "2023-11-05T15:39:34.228Z"
   },
   {
    "duration": 51,
    "start_time": "2023-11-05T15:39:34.234Z"
   },
   {
    "duration": 8,
    "start_time": "2023-11-05T15:39:34.287Z"
   },
   {
    "duration": 19,
    "start_time": "2023-11-05T15:39:34.297Z"
   },
   {
    "duration": 19,
    "start_time": "2023-11-05T15:39:34.318Z"
   },
   {
    "duration": 1594,
    "start_time": "2023-11-05T15:46:06.127Z"
   },
   {
    "duration": 43,
    "start_time": "2023-11-05T15:46:07.723Z"
   },
   {
    "duration": 66,
    "start_time": "2023-11-05T15:46:07.768Z"
   },
   {
    "duration": 3,
    "start_time": "2023-11-05T15:46:07.836Z"
   },
   {
    "duration": 32,
    "start_time": "2023-11-05T15:46:07.841Z"
   },
   {
    "duration": 757,
    "start_time": "2023-11-05T15:46:07.875Z"
   },
   {
    "duration": 14,
    "start_time": "2023-11-05T15:46:08.634Z"
   },
   {
    "duration": 30,
    "start_time": "2023-11-05T15:46:08.650Z"
   },
   {
    "duration": 8,
    "start_time": "2023-11-05T15:46:08.681Z"
   },
   {
    "duration": 10,
    "start_time": "2023-11-05T15:46:08.691Z"
   },
   {
    "duration": 6,
    "start_time": "2023-11-05T15:46:08.703Z"
   },
   {
    "duration": 43,
    "start_time": "2023-11-05T15:46:08.710Z"
   },
   {
    "duration": 4129,
    "start_time": "2023-11-05T15:46:08.755Z"
   },
   {
    "duration": 877,
    "start_time": "2023-11-05T15:46:12.887Z"
   },
   {
    "duration": 2500,
    "start_time": "2023-11-05T15:46:13.766Z"
   },
   {
    "duration": 9,
    "start_time": "2023-11-05T15:46:16.268Z"
   },
   {
    "duration": 1595,
    "start_time": "2023-11-05T15:46:16.279Z"
   },
   {
    "duration": 9,
    "start_time": "2023-11-05T15:46:17.876Z"
   },
   {
    "duration": 68,
    "start_time": "2023-11-05T15:46:17.887Z"
   },
   {
    "duration": 1488,
    "start_time": "2023-11-05T15:46:17.957Z"
   },
   {
    "duration": 5,
    "start_time": "2023-11-05T15:47:06.724Z"
   },
   {
    "duration": 1600,
    "start_time": "2023-11-05T15:48:33.325Z"
   },
   {
    "duration": 42,
    "start_time": "2023-11-05T15:48:34.927Z"
   },
   {
    "duration": 66,
    "start_time": "2023-11-05T15:48:34.970Z"
   },
   {
    "duration": 3,
    "start_time": "2023-11-05T15:48:35.038Z"
   },
   {
    "duration": 14,
    "start_time": "2023-11-05T15:48:35.044Z"
   },
   {
    "duration": 846,
    "start_time": "2023-11-05T15:48:35.060Z"
   },
   {
    "duration": 4,
    "start_time": "2023-11-05T15:48:35.908Z"
   },
   {
    "duration": 36,
    "start_time": "2023-11-05T15:48:35.914Z"
   },
   {
    "duration": 8,
    "start_time": "2023-11-05T15:48:35.952Z"
   },
   {
    "duration": 10,
    "start_time": "2023-11-05T15:48:35.962Z"
   },
   {
    "duration": 11,
    "start_time": "2023-11-05T15:48:35.973Z"
   },
   {
    "duration": 4151,
    "start_time": "2023-11-05T15:48:35.986Z"
   },
   {
    "duration": 1408,
    "start_time": "2023-11-05T15:48:40.139Z"
   },
   {
    "duration": 1640,
    "start_time": "2023-11-05T15:48:41.550Z"
   },
   {
    "duration": 9,
    "start_time": "2023-11-05T15:48:43.192Z"
   },
   {
    "duration": 1553,
    "start_time": "2023-11-05T15:48:43.204Z"
   },
   {
    "duration": 11,
    "start_time": "2023-11-05T15:48:44.759Z"
   },
   {
    "duration": 79,
    "start_time": "2023-11-05T15:48:44.772Z"
   },
   {
    "duration": 1591,
    "start_time": "2023-11-05T15:48:44.854Z"
   },
   {
    "duration": 1582,
    "start_time": "2023-11-05T16:06:28.541Z"
   },
   {
    "duration": 53,
    "start_time": "2023-11-05T16:06:30.126Z"
   },
   {
    "duration": 91,
    "start_time": "2023-11-05T16:06:30.180Z"
   },
   {
    "duration": 3,
    "start_time": "2023-11-05T16:06:30.273Z"
   },
   {
    "duration": 158,
    "start_time": "2023-11-05T16:06:30.279Z"
   },
   {
    "duration": 784,
    "start_time": "2023-11-05T16:06:30.439Z"
   },
   {
    "duration": 6,
    "start_time": "2023-11-05T16:06:31.225Z"
   },
   {
    "duration": 57,
    "start_time": "2023-11-05T16:06:31.233Z"
   },
   {
    "duration": 19,
    "start_time": "2023-11-05T16:06:31.292Z"
   },
   {
    "duration": 56,
    "start_time": "2023-11-05T16:06:31.313Z"
   },
   {
    "duration": 39,
    "start_time": "2023-11-05T16:06:31.371Z"
   },
   {
    "duration": 35196,
    "start_time": "2023-11-05T16:06:31.412Z"
   },
   {
    "duration": 10955,
    "start_time": "2023-11-05T16:07:06.610Z"
   },
   {
    "duration": 2564,
    "start_time": "2023-11-05T16:07:17.646Z"
   },
   {
    "duration": 9,
    "start_time": "2023-11-05T16:07:20.212Z"
   },
   {
    "duration": 1543,
    "start_time": "2023-11-05T16:07:20.223Z"
   },
   {
    "duration": 10,
    "start_time": "2023-11-05T16:07:21.768Z"
   },
   {
    "duration": 75,
    "start_time": "2023-11-05T16:07:21.779Z"
   },
   {
    "duration": 1564,
    "start_time": "2023-11-05T16:07:21.856Z"
   },
   {
    "duration": 1051,
    "start_time": "2023-11-05T16:08:32.297Z"
   },
   {
    "duration": 7909,
    "start_time": "2023-11-05T16:10:41.545Z"
   },
   {
    "duration": 1610,
    "start_time": "2023-11-05T16:11:08.675Z"
   },
   {
    "duration": 59,
    "start_time": "2023-11-05T16:11:10.288Z"
   },
   {
    "duration": 70,
    "start_time": "2023-11-05T16:11:10.349Z"
   },
   {
    "duration": 4,
    "start_time": "2023-11-05T16:11:10.421Z"
   },
   {
    "duration": 23,
    "start_time": "2023-11-05T16:11:10.427Z"
   },
   {
    "duration": 749,
    "start_time": "2023-11-05T16:11:10.451Z"
   },
   {
    "duration": 4,
    "start_time": "2023-11-05T16:11:11.202Z"
   },
   {
    "duration": 41,
    "start_time": "2023-11-05T16:11:11.208Z"
   },
   {
    "duration": 10,
    "start_time": "2023-11-05T16:11:11.250Z"
   },
   {
    "duration": 11,
    "start_time": "2023-11-05T16:11:11.262Z"
   },
   {
    "duration": 10,
    "start_time": "2023-11-05T16:11:11.275Z"
   },
   {
    "duration": 35466,
    "start_time": "2023-11-05T16:11:11.286Z"
   },
   {
    "duration": 40594,
    "start_time": "2023-11-05T16:11:46.754Z"
   },
   {
    "duration": 2516,
    "start_time": "2023-11-05T16:12:27.350Z"
   },
   {
    "duration": 10,
    "start_time": "2023-11-05T16:12:29.868Z"
   },
   {
    "duration": 1604,
    "start_time": "2023-11-05T16:12:29.880Z"
   },
   {
    "duration": 10,
    "start_time": "2023-11-05T16:12:31.485Z"
   },
   {
    "duration": 65,
    "start_time": "2023-11-05T16:12:31.497Z"
   },
   {
    "duration": 1598,
    "start_time": "2023-11-05T16:12:31.564Z"
   },
   {
    "duration": 1556,
    "start_time": "2023-11-05T16:15:05.389Z"
   },
   {
    "duration": 53,
    "start_time": "2023-11-05T16:15:06.947Z"
   },
   {
    "duration": 66,
    "start_time": "2023-11-05T16:15:07.002Z"
   },
   {
    "duration": 4,
    "start_time": "2023-11-05T16:15:07.069Z"
   },
   {
    "duration": 65,
    "start_time": "2023-11-05T16:15:07.075Z"
   },
   {
    "duration": 791,
    "start_time": "2023-11-05T16:15:07.141Z"
   },
   {
    "duration": 17,
    "start_time": "2023-11-05T16:15:07.934Z"
   },
   {
    "duration": 37,
    "start_time": "2023-11-05T16:15:07.953Z"
   },
   {
    "duration": 8,
    "start_time": "2023-11-05T16:15:07.991Z"
   },
   {
    "duration": 12,
    "start_time": "2023-11-05T16:15:08.001Z"
   },
   {
    "duration": 10,
    "start_time": "2023-11-05T16:15:08.014Z"
   },
   {
    "duration": 33673,
    "start_time": "2023-11-05T16:15:08.046Z"
   },
   {
    "duration": 17927,
    "start_time": "2023-11-05T16:15:41.720Z"
   },
   {
    "duration": 2587,
    "start_time": "2023-11-05T16:15:59.650Z"
   },
   {
    "duration": 9,
    "start_time": "2023-11-05T16:16:02.238Z"
   },
   {
    "duration": 1552,
    "start_time": "2023-11-05T16:16:02.249Z"
   },
   {
    "duration": 10,
    "start_time": "2023-11-05T16:16:03.803Z"
   },
   {
    "duration": 31,
    "start_time": "2023-11-05T16:16:03.815Z"
   },
   {
    "duration": 1501,
    "start_time": "2023-11-05T16:16:03.848Z"
   },
   {
    "duration": 1636,
    "start_time": "2023-11-05T16:19:01.126Z"
   },
   {
    "duration": 42,
    "start_time": "2023-11-05T16:19:02.765Z"
   },
   {
    "duration": 66,
    "start_time": "2023-11-05T16:19:02.812Z"
   },
   {
    "duration": 4,
    "start_time": "2023-11-05T16:19:02.881Z"
   },
   {
    "duration": 37,
    "start_time": "2023-11-05T16:19:02.887Z"
   },
   {
    "duration": 814,
    "start_time": "2023-11-05T16:19:02.926Z"
   },
   {
    "duration": 76,
    "start_time": "2023-11-05T16:19:03.747Z"
   },
   {
    "duration": 0,
    "start_time": "2023-11-05T16:19:03.825Z"
   },
   {
    "duration": 0,
    "start_time": "2023-11-05T16:19:03.826Z"
   },
   {
    "duration": 0,
    "start_time": "2023-11-05T16:19:03.827Z"
   },
   {
    "duration": 0,
    "start_time": "2023-11-05T16:19:03.829Z"
   },
   {
    "duration": 0,
    "start_time": "2023-11-05T16:19:03.830Z"
   },
   {
    "duration": 0,
    "start_time": "2023-11-05T16:19:03.832Z"
   },
   {
    "duration": 1,
    "start_time": "2023-11-05T16:19:03.832Z"
   },
   {
    "duration": 0,
    "start_time": "2023-11-05T16:19:03.834Z"
   },
   {
    "duration": 0,
    "start_time": "2023-11-05T16:19:03.835Z"
   },
   {
    "duration": 0,
    "start_time": "2023-11-05T16:19:03.837Z"
   },
   {
    "duration": 0,
    "start_time": "2023-11-05T16:19:03.838Z"
   },
   {
    "duration": 0,
    "start_time": "2023-11-05T16:19:03.839Z"
   },
   {
    "duration": 4,
    "start_time": "2023-11-05T16:19:34.922Z"
   },
   {
    "duration": 28,
    "start_time": "2023-11-05T16:19:36.884Z"
   },
   {
    "duration": 7,
    "start_time": "2023-11-05T16:19:39.357Z"
   },
   {
    "duration": 10,
    "start_time": "2023-11-05T16:19:41.879Z"
   },
   {
    "duration": 11,
    "start_time": "2023-11-05T16:19:58.815Z"
   },
   {
    "duration": 8,
    "start_time": "2023-11-05T16:20:12.026Z"
   },
   {
    "duration": 11,
    "start_time": "2023-11-05T16:20:17.832Z"
   },
   {
    "duration": 12,
    "start_time": "2023-11-05T16:20:23.454Z"
   },
   {
    "duration": 24274,
    "start_time": "2023-11-05T16:20:31.365Z"
   },
   {
    "duration": 10490,
    "start_time": "2023-11-05T16:21:04.067Z"
   },
   {
    "duration": 2343,
    "start_time": "2023-11-05T16:21:17.976Z"
   },
   {
    "duration": 10,
    "start_time": "2023-11-05T16:21:24.181Z"
   },
   {
    "duration": 1594,
    "start_time": "2023-11-05T16:21:29.222Z"
   },
   {
    "duration": 11,
    "start_time": "2023-11-05T16:21:35.956Z"
   },
   {
    "duration": 24,
    "start_time": "2023-11-05T16:21:40.268Z"
   },
   {
    "duration": 1410,
    "start_time": "2023-11-05T16:21:43.065Z"
   },
   {
    "duration": 20,
    "start_time": "2023-11-05T16:22:30.263Z"
   },
   {
    "duration": 8,
    "start_time": "2023-11-05T16:23:12.962Z"
   },
   {
    "duration": 13,
    "start_time": "2023-11-05T16:23:16.092Z"
   },
   {
    "duration": 11,
    "start_time": "2023-11-05T16:23:52.196Z"
   },
   {
    "duration": 34812,
    "start_time": "2023-11-05T16:23:57.538Z"
   },
   {
    "duration": 7651,
    "start_time": "2023-11-05T16:24:38.002Z"
   },
   {
    "duration": 2550,
    "start_time": "2023-11-05T16:24:46.641Z"
   },
   {
    "duration": 9,
    "start_time": "2023-11-05T16:24:51.712Z"
   },
   {
    "duration": 2625,
    "start_time": "2023-11-05T16:25:55.453Z"
   },
   {
    "duration": 14,
    "start_time": "2023-11-05T16:26:05.303Z"
   },
   {
    "duration": 7791,
    "start_time": "2023-11-05T16:26:28.450Z"
   },
   {
    "duration": 1609,
    "start_time": "2023-11-05T16:26:49.382Z"
   },
   {
    "duration": 7935,
    "start_time": "2023-11-05T16:28:00.620Z"
   },
   {
    "duration": 1576,
    "start_time": "2023-11-05T16:33:32.854Z"
   },
   {
    "duration": 43,
    "start_time": "2023-11-05T16:33:34.432Z"
   },
   {
    "duration": 116,
    "start_time": "2023-11-05T16:33:34.476Z"
   },
   {
    "duration": 5,
    "start_time": "2023-11-05T16:33:34.593Z"
   },
   {
    "duration": 17,
    "start_time": "2023-11-05T16:33:34.601Z"
   },
   {
    "duration": 847,
    "start_time": "2023-11-05T16:33:34.620Z"
   },
   {
    "duration": 5,
    "start_time": "2023-11-05T16:33:35.468Z"
   },
   {
    "duration": 48,
    "start_time": "2023-11-05T16:33:35.474Z"
   },
   {
    "duration": 11,
    "start_time": "2023-11-05T16:33:35.524Z"
   },
   {
    "duration": 41,
    "start_time": "2023-11-05T16:33:35.537Z"
   },
   {
    "duration": 55,
    "start_time": "2023-11-05T16:33:35.580Z"
   },
   {
    "duration": 41445,
    "start_time": "2023-11-05T16:33:35.638Z"
   },
   {
    "duration": 8863,
    "start_time": "2023-11-05T16:34:17.085Z"
   },
   {
    "duration": 2779,
    "start_time": "2023-11-05T16:34:25.951Z"
   },
   {
    "duration": 9,
    "start_time": "2023-11-05T16:34:28.733Z"
   },
   {
    "duration": 2725,
    "start_time": "2023-11-05T16:34:28.744Z"
   },
   {
    "duration": 11,
    "start_time": "2023-11-05T16:34:31.471Z"
   },
   {
    "duration": 7951,
    "start_time": "2023-11-05T16:34:31.484Z"
   },
   {
    "duration": 7516,
    "start_time": "2023-11-05T16:34:39.437Z"
   },
   {
    "duration": 1561,
    "start_time": "2023-11-05T16:35:29.587Z"
   },
   {
    "duration": 49,
    "start_time": "2023-11-05T16:35:31.150Z"
   },
   {
    "duration": 67,
    "start_time": "2023-11-05T16:35:31.201Z"
   },
   {
    "duration": 4,
    "start_time": "2023-11-05T16:35:31.270Z"
   },
   {
    "duration": 59,
    "start_time": "2023-11-05T16:35:31.277Z"
   },
   {
    "duration": 785,
    "start_time": "2023-11-05T16:35:31.338Z"
   },
   {
    "duration": 4,
    "start_time": "2023-11-05T16:35:32.126Z"
   },
   {
    "duration": 52,
    "start_time": "2023-11-05T16:35:32.131Z"
   },
   {
    "duration": 7,
    "start_time": "2023-11-05T16:35:32.185Z"
   },
   {
    "duration": 31,
    "start_time": "2023-11-05T16:35:32.194Z"
   },
   {
    "duration": 45,
    "start_time": "2023-11-05T16:35:32.226Z"
   },
   {
    "duration": 38759,
    "start_time": "2023-11-05T16:35:32.273Z"
   },
   {
    "duration": 7720,
    "start_time": "2023-11-05T16:36:11.034Z"
   },
   {
    "duration": 2484,
    "start_time": "2023-11-05T16:36:18.757Z"
   },
   {
    "duration": 10,
    "start_time": "2023-11-05T16:36:21.243Z"
   },
   {
    "duration": 2500,
    "start_time": "2023-11-05T16:36:21.254Z"
   },
   {
    "duration": 10,
    "start_time": "2023-11-05T16:36:23.756Z"
   },
   {
    "duration": 7625,
    "start_time": "2023-11-05T16:36:23.767Z"
   },
   {
    "duration": 10355,
    "start_time": "2023-11-05T16:36:31.394Z"
   },
   {
    "duration": 1519,
    "start_time": "2023-11-05T16:37:08.290Z"
   },
   {
    "duration": 43,
    "start_time": "2023-11-05T16:37:09.811Z"
   },
   {
    "duration": 66,
    "start_time": "2023-11-05T16:37:09.856Z"
   },
   {
    "duration": 3,
    "start_time": "2023-11-05T16:37:09.924Z"
   },
   {
    "duration": 49,
    "start_time": "2023-11-05T16:37:09.929Z"
   },
   {
    "duration": 815,
    "start_time": "2023-11-05T16:37:09.980Z"
   },
   {
    "duration": 4,
    "start_time": "2023-11-05T16:37:10.797Z"
   },
   {
    "duration": 29,
    "start_time": "2023-11-05T16:37:10.803Z"
   },
   {
    "duration": 19,
    "start_time": "2023-11-05T16:37:10.833Z"
   },
   {
    "duration": 10,
    "start_time": "2023-11-05T16:37:10.854Z"
   },
   {
    "duration": 10,
    "start_time": "2023-11-05T16:37:10.865Z"
   },
   {
    "duration": 42479,
    "start_time": "2023-11-05T16:37:10.877Z"
   },
   {
    "duration": 10008,
    "start_time": "2023-11-05T16:37:53.358Z"
   },
   {
    "duration": 2749,
    "start_time": "2023-11-05T16:38:03.369Z"
   },
   {
    "duration": 11,
    "start_time": "2023-11-05T16:38:06.120Z"
   },
   {
    "duration": 2512,
    "start_time": "2023-11-05T16:38:06.133Z"
   },
   {
    "duration": 9,
    "start_time": "2023-11-05T16:38:08.647Z"
   },
   {
    "duration": 7563,
    "start_time": "2023-11-05T16:38:08.658Z"
   },
   {
    "duration": 7747,
    "start_time": "2023-11-05T16:38:16.223Z"
   },
   {
    "duration": 1560,
    "start_time": "2023-11-05T16:42:03.704Z"
   },
   {
    "duration": 41,
    "start_time": "2023-11-05T16:42:05.267Z"
   },
   {
    "duration": 82,
    "start_time": "2023-11-05T16:42:05.313Z"
   },
   {
    "duration": 5,
    "start_time": "2023-11-05T16:42:05.398Z"
   },
   {
    "duration": 18,
    "start_time": "2023-11-05T16:42:05.405Z"
   },
   {
    "duration": 814,
    "start_time": "2023-11-05T16:42:05.426Z"
   },
   {
    "duration": 6,
    "start_time": "2023-11-05T16:42:06.242Z"
   },
   {
    "duration": 50,
    "start_time": "2023-11-05T16:42:06.250Z"
   },
   {
    "duration": 8,
    "start_time": "2023-11-05T16:42:06.302Z"
   },
   {
    "duration": 6,
    "start_time": "2023-11-05T16:42:06.313Z"
   },
   {
    "duration": 12,
    "start_time": "2023-11-05T16:42:06.320Z"
   },
   {
    "duration": 24,
    "start_time": "2023-11-05T16:42:06.333Z"
   },
   {
    "duration": 44130,
    "start_time": "2023-11-05T16:42:06.359Z"
   },
   {
    "duration": 8364,
    "start_time": "2023-11-05T16:42:50.491Z"
   },
   {
    "duration": 3095,
    "start_time": "2023-11-05T16:42:58.857Z"
   },
   {
    "duration": 8,
    "start_time": "2023-11-05T16:43:01.954Z"
   },
   {
    "duration": 1616,
    "start_time": "2023-11-05T16:43:05.043Z"
   },
   {
    "duration": 43,
    "start_time": "2023-11-05T16:43:06.661Z"
   },
   {
    "duration": 66,
    "start_time": "2023-11-05T16:43:06.706Z"
   },
   {
    "duration": 3,
    "start_time": "2023-11-05T16:43:06.774Z"
   },
   {
    "duration": 29,
    "start_time": "2023-11-05T16:43:06.779Z"
   },
   {
    "duration": 788,
    "start_time": "2023-11-05T16:43:06.809Z"
   },
   {
    "duration": 4,
    "start_time": "2023-11-05T16:43:07.599Z"
   },
   {
    "duration": 30,
    "start_time": "2023-11-05T16:43:07.605Z"
   },
   {
    "duration": 8,
    "start_time": "2023-11-05T16:43:07.646Z"
   },
   {
    "duration": 9,
    "start_time": "2023-11-05T16:43:07.655Z"
   },
   {
    "duration": 10,
    "start_time": "2023-11-05T16:43:07.665Z"
   },
   {
    "duration": 11,
    "start_time": "2023-11-05T16:43:07.676Z"
   },
   {
    "duration": 42008,
    "start_time": "2023-11-05T16:43:07.689Z"
   },
   {
    "duration": 9050,
    "start_time": "2023-11-05T16:43:49.699Z"
   },
   {
    "duration": 2786,
    "start_time": "2023-11-05T16:43:58.752Z"
   },
   {
    "duration": 10,
    "start_time": "2023-11-05T16:44:01.540Z"
   },
   {
    "duration": 2695,
    "start_time": "2023-11-05T16:44:01.552Z"
   },
   {
    "duration": 10,
    "start_time": "2023-11-05T16:44:04.249Z"
   },
   {
    "duration": 7912,
    "start_time": "2023-11-05T16:44:04.261Z"
   },
   {
    "duration": 19682,
    "start_time": "2023-11-05T16:44:12.174Z"
   },
   {
    "duration": 1547,
    "start_time": "2023-11-05T17:15:10.073Z"
   },
   {
    "duration": 43,
    "start_time": "2023-11-05T17:15:11.622Z"
   },
   {
    "duration": 67,
    "start_time": "2023-11-05T17:15:11.666Z"
   },
   {
    "duration": 4,
    "start_time": "2023-11-05T17:15:11.735Z"
   },
   {
    "duration": 20,
    "start_time": "2023-11-05T17:15:11.741Z"
   },
   {
    "duration": 773,
    "start_time": "2023-11-05T17:15:11.763Z"
   },
   {
    "duration": 12,
    "start_time": "2023-11-05T17:15:12.538Z"
   },
   {
    "duration": 32,
    "start_time": "2023-11-05T17:15:12.552Z"
   },
   {
    "duration": 9,
    "start_time": "2023-11-05T17:15:12.586Z"
   },
   {
    "duration": 16,
    "start_time": "2023-11-05T17:15:12.597Z"
   },
   {
    "duration": 12,
    "start_time": "2023-11-05T17:15:12.615Z"
   },
   {
    "duration": 25,
    "start_time": "2023-11-05T17:15:12.629Z"
   },
   {
    "duration": 4126,
    "start_time": "2023-11-05T17:15:12.656Z"
   },
   {
    "duration": 8462,
    "start_time": "2023-11-05T17:15:16.784Z"
   },
   {
    "duration": 2561,
    "start_time": "2023-11-05T17:15:25.249Z"
   },
   {
    "duration": 9,
    "start_time": "2023-11-05T17:15:27.812Z"
   },
   {
    "duration": 2706,
    "start_time": "2023-11-05T17:15:27.823Z"
   },
   {
    "duration": 10,
    "start_time": "2023-11-05T17:15:30.530Z"
   },
   {
    "duration": 7854,
    "start_time": "2023-11-05T17:15:30.542Z"
   },
   {
    "duration": 9255,
    "start_time": "2023-11-05T17:15:38.398Z"
   },
   {
    "duration": 125,
    "start_time": "2023-11-05T17:22:35.616Z"
   },
   {
    "duration": 21,
    "start_time": "2023-11-05T17:22:44.903Z"
   },
   {
    "duration": 5,
    "start_time": "2023-11-05T17:30:54.430Z"
   },
   {
    "duration": 2827,
    "start_time": "2023-11-05T17:30:57.010Z"
   },
   {
    "duration": 19,
    "start_time": "2023-11-05T17:31:22.576Z"
   },
   {
    "duration": 10,
    "start_time": "2023-11-05T17:31:44.028Z"
   },
   {
    "duration": 8822,
    "start_time": "2023-11-05T17:32:09.146Z"
   },
   {
    "duration": 4,
    "start_time": "2023-11-05T17:33:50.942Z"
   },
   {
    "duration": 1532,
    "start_time": "2023-11-05T17:35:25.498Z"
   },
   {
    "duration": 41,
    "start_time": "2023-11-05T17:35:27.032Z"
   },
   {
    "duration": 66,
    "start_time": "2023-11-05T17:35:27.075Z"
   },
   {
    "duration": 4,
    "start_time": "2023-11-05T17:35:27.142Z"
   },
   {
    "duration": 14,
    "start_time": "2023-11-05T17:35:27.148Z"
   },
   {
    "duration": 774,
    "start_time": "2023-11-05T17:35:27.164Z"
   },
   {
    "duration": 7,
    "start_time": "2023-11-05T17:35:27.940Z"
   },
   {
    "duration": 28,
    "start_time": "2023-11-05T17:35:27.949Z"
   },
   {
    "duration": 8,
    "start_time": "2023-11-05T17:35:27.979Z"
   },
   {
    "duration": 18,
    "start_time": "2023-11-05T17:35:27.988Z"
   },
   {
    "duration": 10,
    "start_time": "2023-11-05T17:35:28.007Z"
   },
   {
    "duration": 4075,
    "start_time": "2023-11-05T17:35:28.047Z"
   },
   {
    "duration": 8224,
    "start_time": "2023-11-05T17:35:32.123Z"
   },
   {
    "duration": 2568,
    "start_time": "2023-11-05T17:35:40.350Z"
   },
   {
    "duration": 9,
    "start_time": "2023-11-05T17:35:42.920Z"
   },
   {
    "duration": 8,
    "start_time": "2023-11-05T17:35:42.931Z"
   },
   {
    "duration": 2788,
    "start_time": "2023-11-05T17:35:42.940Z"
   },
   {
    "duration": 74,
    "start_time": "2023-11-05T17:40:25.169Z"
   },
   {
    "duration": 1630,
    "start_time": "2023-11-05T17:40:44.438Z"
   },
   {
    "duration": 76,
    "start_time": "2023-11-05T17:40:46.070Z"
   },
   {
    "duration": 67,
    "start_time": "2023-11-05T17:40:46.148Z"
   },
   {
    "duration": 4,
    "start_time": "2023-11-05T17:40:46.217Z"
   },
   {
    "duration": 17,
    "start_time": "2023-11-05T17:40:46.223Z"
   },
   {
    "duration": 775,
    "start_time": "2023-11-05T17:40:46.242Z"
   },
   {
    "duration": 5,
    "start_time": "2023-11-05T17:40:47.019Z"
   },
   {
    "duration": 40,
    "start_time": "2023-11-05T17:40:47.025Z"
   },
   {
    "duration": 8,
    "start_time": "2023-11-05T17:40:47.067Z"
   },
   {
    "duration": 17,
    "start_time": "2023-11-05T17:40:47.077Z"
   },
   {
    "duration": 10,
    "start_time": "2023-11-05T17:40:47.096Z"
   },
   {
    "duration": 4103,
    "start_time": "2023-11-05T17:40:47.108Z"
   },
   {
    "duration": 8445,
    "start_time": "2023-11-05T17:40:51.212Z"
   },
   {
    "duration": 2753,
    "start_time": "2023-11-05T17:40:59.660Z"
   },
   {
    "duration": 9,
    "start_time": "2023-11-05T17:41:02.415Z"
   },
   {
    "duration": 24,
    "start_time": "2023-11-05T17:41:02.426Z"
   },
   {
    "duration": 2707,
    "start_time": "2023-11-05T17:41:02.452Z"
   },
   {
    "duration": 1542,
    "start_time": "2023-11-05T17:41:08.997Z"
   },
   {
    "duration": 38,
    "start_time": "2023-11-05T17:41:10.541Z"
   },
   {
    "duration": 65,
    "start_time": "2023-11-05T17:41:10.581Z"
   },
   {
    "duration": 3,
    "start_time": "2023-11-05T17:41:10.648Z"
   },
   {
    "duration": 20,
    "start_time": "2023-11-05T17:41:10.653Z"
   },
   {
    "duration": 773,
    "start_time": "2023-11-05T17:41:10.674Z"
   },
   {
    "duration": 5,
    "start_time": "2023-11-05T17:41:11.448Z"
   },
   {
    "duration": 36,
    "start_time": "2023-11-05T17:41:11.454Z"
   },
   {
    "duration": 10,
    "start_time": "2023-11-05T17:41:11.491Z"
   },
   {
    "duration": 14,
    "start_time": "2023-11-05T17:41:11.503Z"
   },
   {
    "duration": 28,
    "start_time": "2023-11-05T17:41:11.519Z"
   },
   {
    "duration": 4033,
    "start_time": "2023-11-05T17:41:11.549Z"
   },
   {
    "duration": 7768,
    "start_time": "2023-11-05T17:41:15.585Z"
   },
   {
    "duration": 2647,
    "start_time": "2023-11-05T17:41:23.355Z"
   },
   {
    "duration": 9,
    "start_time": "2023-11-05T17:41:26.004Z"
   },
   {
    "duration": 6,
    "start_time": "2023-11-05T17:41:26.015Z"
   },
   {
    "duration": 2623,
    "start_time": "2023-11-05T17:41:26.023Z"
   },
   {
    "duration": 2853,
    "start_time": "2023-11-05T17:42:12.462Z"
   },
   {
    "duration": 1558,
    "start_time": "2023-11-05T17:42:23.467Z"
   },
   {
    "duration": 41,
    "start_time": "2023-11-05T17:42:25.027Z"
   },
   {
    "duration": 64,
    "start_time": "2023-11-05T17:42:25.072Z"
   },
   {
    "duration": 4,
    "start_time": "2023-11-05T17:42:25.138Z"
   },
   {
    "duration": 53,
    "start_time": "2023-11-05T17:42:25.143Z"
   },
   {
    "duration": 810,
    "start_time": "2023-11-05T17:42:25.199Z"
   },
   {
    "duration": 6,
    "start_time": "2023-11-05T17:42:26.011Z"
   },
   {
    "duration": 40,
    "start_time": "2023-11-05T17:42:26.018Z"
   },
   {
    "duration": 9,
    "start_time": "2023-11-05T17:42:26.060Z"
   },
   {
    "duration": 11,
    "start_time": "2023-11-05T17:42:26.071Z"
   },
   {
    "duration": 14,
    "start_time": "2023-11-05T17:42:26.084Z"
   },
   {
    "duration": 3998,
    "start_time": "2023-11-05T17:42:26.100Z"
   },
   {
    "duration": 10147,
    "start_time": "2023-11-05T17:42:30.101Z"
   },
   {
    "duration": 2568,
    "start_time": "2023-11-05T17:42:40.249Z"
   },
   {
    "duration": 10,
    "start_time": "2023-11-05T17:42:42.818Z"
   },
   {
    "duration": 18,
    "start_time": "2023-11-05T17:42:42.830Z"
   },
   {
    "duration": 2796,
    "start_time": "2023-11-05T17:42:42.849Z"
   },
   {
    "duration": 77,
    "start_time": "2023-11-07T12:06:38.144Z"
   },
   {
    "duration": 85,
    "start_time": "2023-11-07T12:08:32.555Z"
   },
   {
    "duration": 1125,
    "start_time": "2023-11-07T12:12:53.074Z"
   },
   {
    "duration": 1781,
    "start_time": "2023-11-07T12:14:21.768Z"
   },
   {
    "duration": 45,
    "start_time": "2023-11-07T12:14:23.551Z"
   },
   {
    "duration": 224,
    "start_time": "2023-11-07T12:14:23.598Z"
   },
   {
    "duration": 4,
    "start_time": "2023-11-07T12:14:23.823Z"
   },
   {
    "duration": 40,
    "start_time": "2023-11-07T12:14:23.830Z"
   },
   {
    "duration": 771,
    "start_time": "2023-11-07T12:14:23.872Z"
   },
   {
    "duration": 5,
    "start_time": "2023-11-07T12:14:24.645Z"
   },
   {
    "duration": 169,
    "start_time": "2023-11-07T12:14:24.651Z"
   },
   {
    "duration": 21,
    "start_time": "2023-11-07T12:14:24.821Z"
   },
   {
    "duration": 13,
    "start_time": "2023-11-07T12:14:24.844Z"
   },
   {
    "duration": 23,
    "start_time": "2023-11-07T12:14:24.858Z"
   },
   {
    "duration": 3411,
    "start_time": "2023-11-07T12:14:24.883Z"
   },
   {
    "duration": 18733,
    "start_time": "2023-11-07T12:14:28.296Z"
   },
   {
    "duration": 2948,
    "start_time": "2023-11-07T12:14:47.032Z"
   },
   {
    "duration": 9,
    "start_time": "2023-11-07T12:14:49.982Z"
   },
   {
    "duration": 6,
    "start_time": "2023-11-07T12:14:49.992Z"
   },
   {
    "duration": 2991,
    "start_time": "2023-11-07T12:14:49.999Z"
   },
   {
    "duration": 1534,
    "start_time": "2023-11-07T12:36:33.022Z"
   },
   {
    "duration": 41,
    "start_time": "2023-11-07T12:36:34.558Z"
   },
   {
    "duration": 108,
    "start_time": "2023-11-07T12:36:34.601Z"
   },
   {
    "duration": 43,
    "start_time": "2023-11-07T12:36:34.710Z"
   },
   {
    "duration": 73,
    "start_time": "2023-11-07T12:36:34.755Z"
   },
   {
    "duration": 742,
    "start_time": "2023-11-07T12:36:34.830Z"
   },
   {
    "duration": 3,
    "start_time": "2023-11-07T12:36:35.574Z"
   },
   {
    "duration": 258,
    "start_time": "2023-11-07T12:36:35.578Z"
   },
   {
    "duration": 147,
    "start_time": "2023-11-07T12:36:35.838Z"
   },
   {
    "duration": 122,
    "start_time": "2023-11-07T12:36:35.987Z"
   },
   {
    "duration": 89,
    "start_time": "2023-11-07T12:36:36.111Z"
   },
   {
    "duration": 3494,
    "start_time": "2023-11-07T12:36:36.202Z"
   },
   {
    "duration": 7634,
    "start_time": "2023-11-07T12:36:39.697Z"
   },
   {
    "duration": 3922,
    "start_time": "2023-11-07T12:36:47.334Z"
   },
   {
    "duration": 8,
    "start_time": "2023-11-07T12:36:51.258Z"
   },
   {
    "duration": 48,
    "start_time": "2023-11-07T12:36:51.268Z"
   },
   {
    "duration": 3166,
    "start_time": "2023-11-07T12:36:51.318Z"
   },
   {
    "duration": 1638,
    "start_time": "2023-11-07T12:43:03.105Z"
   },
   {
    "duration": 100,
    "start_time": "2023-11-07T12:43:04.745Z"
   },
   {
    "duration": 260,
    "start_time": "2023-11-07T12:43:04.846Z"
   },
   {
    "duration": 153,
    "start_time": "2023-11-07T12:43:05.107Z"
   },
   {
    "duration": 252,
    "start_time": "2023-11-07T12:43:05.262Z"
   },
   {
    "duration": 890,
    "start_time": "2023-11-07T12:43:05.515Z"
   },
   {
    "duration": 5,
    "start_time": "2023-11-07T12:43:06.407Z"
   },
   {
    "duration": 196,
    "start_time": "2023-11-07T12:43:06.424Z"
   },
   {
    "duration": 124,
    "start_time": "2023-11-07T12:43:06.622Z"
   },
   {
    "duration": 279,
    "start_time": "2023-11-07T12:43:06.748Z"
   },
   {
    "duration": 239,
    "start_time": "2023-11-07T12:43:07.029Z"
   },
   {
    "duration": 3446,
    "start_time": "2023-11-07T12:43:07.270Z"
   },
   {
    "duration": 9715,
    "start_time": "2023-11-07T12:43:10.724Z"
   },
   {
    "duration": 3211,
    "start_time": "2023-11-07T12:43:20.441Z"
   },
   {
    "duration": 8,
    "start_time": "2023-11-07T12:43:23.655Z"
   },
   {
    "duration": 45,
    "start_time": "2023-11-07T12:43:23.665Z"
   },
   {
    "duration": 3574,
    "start_time": "2023-11-07T12:43:23.712Z"
   }
  ],
  "kernelspec": {
   "display_name": "Python 3 (ipykernel)",
   "language": "python",
   "name": "python3"
  },
  "language_info": {
   "codemirror_mode": {
    "name": "ipython",
    "version": 3
   },
   "file_extension": ".py",
   "mimetype": "text/x-python",
   "name": "python",
   "nbconvert_exporter": "python",
   "pygments_lexer": "ipython3",
   "version": "3.11.7"
  },
  "toc": {
   "base_numbering": 1,
   "nav_menu": {},
   "number_sections": true,
   "sideBar": true,
   "skip_h1_title": true,
   "title_cell": "Содержание",
   "title_sidebar": "Contents",
   "toc_cell": true,
   "toc_position": {},
   "toc_section_display": true,
   "toc_window_display": true
  }
 },
 "nbformat": 4,
 "nbformat_minor": 4
}
