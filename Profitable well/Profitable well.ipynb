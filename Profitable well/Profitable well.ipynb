{
 "cells": [
  {
   "cell_type": "markdown",
   "metadata": {},
   "source": [
    "**Содержание**<a id='toc0_'></a>    \n",
    "- [Выбор локации для скважины](#toc1_)    \n",
    "  - [Загрузка и подготовка данных](#toc1_1_)    \n",
    "    - [Инфо](#toc1_1_1_)    \n",
    "    - [Пропуски](#toc1_1_2_)    \n",
    "    - [Дубликаты](#toc1_1_3_)    \n",
    "    - [Делим на выборки](#toc1_1_4_)    \n",
    "  - [Обучение и проверка модели](#toc1_2_)    \n",
    "  - [Подготовка к расчёту прибыли](#toc1_3_)    \n",
    "    - [Рассчитайте достаточный объём сырья для безубыточной разработки новой скважины. Сравните полученный объём сырья со средним запасом в каждом регионе.](#toc1_3_1_)    \n",
    "    - [Напишите функцию для расчёта прибыли по выбранным скважинам и предсказаниям модели](#toc1_3_2_)    \n",
    "  - [Расчёт прибыли и рисков](#toc1_4_)    \n",
    "    - [Вывод](#toc1_4_1_)    \n",
    "\n",
    "<!-- vscode-jupyter-toc-config\n",
    "\tnumbering=false\n",
    "\tanchor=true\n",
    "\tflat=false\n",
    "\tminLevel=1\n",
    "\tmaxLevel=6\n",
    "\t/vscode-jupyter-toc-config -->\n",
    "<!-- THIS CELL WILL BE REPLACED ON TOC UPDATE. DO NOT WRITE YOUR TEXT IN THIS CELL -->"
   ]
  },
  {
   "cell_type": "markdown",
   "metadata": {},
   "source": [
    "# <a id='toc1_'></a>[Выбор локации для скважины](#toc0_)"
   ]
  },
  {
   "cell_type": "markdown",
   "metadata": {},
   "source": [
    "Описание проекта:\n",
    "\n",
    "Нужно решить, где бурить новую скважину.\n",
    "\n",
    "Вам предоставлены пробы нефти в трёх регионах: в каждом 10 000 месторождений, где измерили качество нефти и объём её запасов. Постройте модель машинного обучения, которая поможет определить регион, где добыча принесёт наибольшую прибыль. Проанализируйте возможную прибыль и риски техникой *Bootstrap.*\n",
    "\n",
    "Шаги для выбора локации:\n",
    "\n",
    "- В избранном регионе ищут месторождения, для каждого определяют значения признаков;\n",
    "- Строят модель и оценивают объём запасов;\n",
    "- Выбирают месторождения с самым высокими оценками значений. Количество месторождений зависит от бюджета компании и стоимости разработки одной скважины;\n",
    "- Прибыль равна суммарной прибыли отобранных месторождений."
   ]
  },
  {
   "cell_type": "markdown",
   "metadata": {},
   "source": [
    "## <a id='toc1_1_'></a>[Загрузка и подготовка данных](#toc0_)"
   ]
  },
  {
   "cell_type": "markdown",
   "metadata": {},
   "source": [
    "### <a id='toc1_1_1_'></a>[Инфо](#toc0_)"
   ]
  },
  {
   "cell_type": "code",
   "execution_count": 1,
   "metadata": {},
   "outputs": [],
   "source": [
    "\n",
    "import pandas as pd\n",
    "from sklearn.model_selection import train_test_split\n",
    "from sklearn.linear_model import LinearRegression\n",
    "from sklearn.metrics import r2_score\n",
    "from sklearn.metrics import mean_squared_error\n",
    "import numpy as np\n",
    "from numpy.random import RandomState\n"
   ]
  },
  {
   "cell_type": "code",
   "execution_count": 2,
   "metadata": {},
   "outputs": [
    {
     "name": "stdout",
     "output_type": "stream",
     "text": [
      "<class 'pandas.core.frame.DataFrame'>\n",
      "RangeIndex: 100000 entries, 0 to 99999\n",
      "Data columns (total 5 columns):\n",
      " #   Column   Non-Null Count   Dtype  \n",
      "---  ------   --------------   -----  \n",
      " 0   id       100000 non-null  object \n",
      " 1   f0       100000 non-null  float64\n",
      " 2   f1       100000 non-null  float64\n",
      " 3   f2       100000 non-null  float64\n",
      " 4   product  100000 non-null  float64\n",
      "dtypes: float64(4), object(1)\n",
      "memory usage: 3.8+ MB\n",
      "None\n",
      "\n",
      "Первые 5 строк датасета:\n",
      "      id        f0        f1        f2     product\n",
      "0  txEyH  0.705745 -0.497823  1.221170  105.280062\n",
      "1  2acmU  1.334711 -0.340164  4.365080   73.037750\n",
      "2  409Wp  1.022732  0.151990  1.419926   85.265647\n",
      "3  iJLyR -0.032172  0.139033  2.978566  168.620776\n",
      "4  Xdl7t  1.988431  0.155413  4.751769  154.036647\n",
      "\n",
      "Стат.показатели:\n",
      "                  f0             f1             f2        product\n",
      "count  100000.000000  100000.000000  100000.000000  100000.000000\n",
      "mean        0.500419       0.250143       2.502647      92.500000\n",
      "std         0.871832       0.504433       3.248248      44.288691\n",
      "min        -1.408605      -0.848218     -12.088328       0.000000\n",
      "25%        -0.072580      -0.200881       0.287748      56.497507\n",
      "50%         0.502360       0.250252       2.515969      91.849972\n",
      "75%         1.073581       0.700646       4.715088     128.564089\n",
      "max         2.362331       1.343769      16.003790     185.364347\n"
     ]
    }
   ],
   "source": [
    "data_0 = pd.read_csv('/datasets/geo_data_0.csv')\n",
    "print(data_0.info())\n",
    "print()\n",
    "print('Первые 5 строк датасета:')\n",
    "print(data_0.head())\n",
    "print()\n",
    "print('Стат.показатели:')\n",
    "print(data_0.describe())"
   ]
  },
  {
   "cell_type": "code",
   "execution_count": 3,
   "metadata": {},
   "outputs": [
    {
     "name": "stdout",
     "output_type": "stream",
     "text": [
      "<class 'pandas.core.frame.DataFrame'>\n",
      "RangeIndex: 100000 entries, 0 to 99999\n",
      "Data columns (total 5 columns):\n",
      " #   Column   Non-Null Count   Dtype  \n",
      "---  ------   --------------   -----  \n",
      " 0   id       100000 non-null  object \n",
      " 1   f0       100000 non-null  float64\n",
      " 2   f1       100000 non-null  float64\n",
      " 3   f2       100000 non-null  float64\n",
      " 4   product  100000 non-null  float64\n",
      "dtypes: float64(4), object(1)\n",
      "memory usage: 3.8+ MB\n",
      "None\n",
      "\n",
      "Первые 5 строк датасета:\n",
      "      id         f0         f1        f2     product\n",
      "0  kBEdx -15.001348  -8.276000 -0.005876    3.179103\n",
      "1  62mP7  14.272088  -3.475083  0.999183   26.953261\n",
      "2  vyE1P   6.263187  -5.948386  5.001160  134.766305\n",
      "3  KcrkZ -13.081196 -11.506057  4.999415  137.945408\n",
      "4  AHL4O  12.702195  -8.147433  5.004363  134.766305\n",
      "\n",
      "Стат.показатели:\n",
      "                  f0             f1             f2        product\n",
      "count  100000.000000  100000.000000  100000.000000  100000.000000\n",
      "mean        1.141296      -4.796579       2.494541      68.825000\n",
      "std         8.965932       5.119872       1.703572      45.944423\n",
      "min       -31.609576     -26.358598      -0.018144       0.000000\n",
      "25%        -6.298551      -8.267985       1.000021      26.953261\n",
      "50%         1.153055      -4.813172       2.011479      57.085625\n",
      "75%         8.621015      -1.332816       3.999904     107.813044\n",
      "max        29.421755      18.734063       5.019721     137.945408\n"
     ]
    }
   ],
   "source": [
    "data_1 = pd.read_csv('/datasets/geo_data_1.csv')\n",
    "print(data_1.info())\n",
    "print()\n",
    "print('Первые 5 строк датасета:')\n",
    "print(data_1.head())\n",
    "print()\n",
    "print('Стат.показатели:')\n",
    "print(data_1.describe())"
   ]
  },
  {
   "cell_type": "code",
   "execution_count": 4,
   "metadata": {},
   "outputs": [
    {
     "name": "stdout",
     "output_type": "stream",
     "text": [
      "<class 'pandas.core.frame.DataFrame'>\n",
      "RangeIndex: 100000 entries, 0 to 99999\n",
      "Data columns (total 5 columns):\n",
      " #   Column   Non-Null Count   Dtype  \n",
      "---  ------   --------------   -----  \n",
      " 0   id       100000 non-null  object \n",
      " 1   f0       100000 non-null  float64\n",
      " 2   f1       100000 non-null  float64\n",
      " 3   f2       100000 non-null  float64\n",
      " 4   product  100000 non-null  float64\n",
      "dtypes: float64(4), object(1)\n",
      "memory usage: 3.8+ MB\n",
      "None\n",
      "\n",
      "Первые 5 строк датасета:\n",
      "      id        f0        f1        f2     product\n",
      "0  fwXo0 -1.146987  0.963328 -0.828965   27.758673\n",
      "1  WJtFt  0.262778  0.269839 -2.530187   56.069697\n",
      "2  ovLUW  0.194587  0.289035 -5.586433   62.871910\n",
      "3  q6cA6  2.236060 -0.553760  0.930038  114.572842\n",
      "4  WPMUX -0.515993  1.716266  5.899011  149.600746\n",
      "\n",
      "Стат.показатели:\n",
      "                  f0             f1             f2        product\n",
      "count  100000.000000  100000.000000  100000.000000  100000.000000\n",
      "mean        0.002023      -0.002081       2.495128      95.000000\n",
      "std         1.732045       1.730417       3.473445      44.749921\n",
      "min        -8.760004      -7.084020     -11.970335       0.000000\n",
      "25%        -1.162288      -1.174820       0.130359      59.450441\n",
      "50%         0.009424      -0.009482       2.484236      94.925613\n",
      "75%         1.158535       1.163678       4.858794     130.595027\n",
      "max         7.238262       7.844801      16.739402     190.029838\n"
     ]
    }
   ],
   "source": [
    "data_2 = pd.read_csv('/datasets/geo_data_2.csv')\n",
    "print(data_2.info())\n",
    "print()\n",
    "print('Первые 5 строк датасета:')\n",
    "print(data_2.head())\n",
    "print()\n",
    "print('Стат.показатели:')\n",
    "print(data_2.describe())"
   ]
  },
  {
   "cell_type": "markdown",
   "metadata": {},
   "source": [
    "Мы имеем 3 датасета по 100.000 строк каждый.\n",
    "\n",
    "В датасетах по 5 столбцов:\n",
    "\n",
    "    - id - уникальный идентификатор скважины\n",
    "    - f0 - признак точки\n",
    "    - f1 - признак точки\n",
    "    - f2 - признак точки\n",
    "    - product - объём запасов в скважине (тыс. баррелей)"
   ]
  },
  {
   "cell_type": "markdown",
   "metadata": {},
   "source": [
    "### <a id='toc1_1_2_'></a>[Пропуски](#toc0_)"
   ]
  },
  {
   "cell_type": "code",
   "execution_count": 5,
   "metadata": {},
   "outputs": [
    {
     "name": "stdout",
     "output_type": "stream",
     "text": [
      "Количество пропусков в датасете data_0: id         0\n",
      "f0         0\n",
      "f1         0\n",
      "f2         0\n",
      "product    0\n",
      "dtype: int64\n",
      "\n",
      "-------------------\n",
      "Количество пропусков в датасете data_1: id         0\n",
      "f0         0\n",
      "f1         0\n",
      "f2         0\n",
      "product    0\n",
      "dtype: int64\n",
      "\n",
      "-------------------\n",
      "Количество пропусков в датасете data_2: id         0\n",
      "f0         0\n",
      "f1         0\n",
      "f2         0\n",
      "product    0\n",
      "dtype: int64\n",
      "\n",
      "-------------------\n"
     ]
    }
   ],
   "source": [
    "data_full = ['data_0','data_1','data_2']\n",
    "for data_n in data_full:\n",
    "    data_check = globals()[data_n]  # получаем датасет по его имени\n",
    "    data_miss = data_check.isnull().sum()  # считаем количество пропусков в датасете\n",
    "    print(f\"Количество пропусков в датасете {data_n}: {data_miss}\")\n",
    "    print()\n",
    "    print('-------------------')"
   ]
  },
  {
   "cell_type": "markdown",
   "metadata": {},
   "source": [
    "Пропусков в датасете не обнаружено. "
   ]
  },
  {
   "cell_type": "markdown",
   "metadata": {},
   "source": [
    "### <a id='toc1_1_3_'></a>[Дубликаты](#toc0_)"
   ]
  },
  {
   "cell_type": "code",
   "execution_count": 6,
   "metadata": {},
   "outputs": [
    {
     "name": "stdout",
     "output_type": "stream",
     "text": [
      "Количество дубликатов по каждому столбцу:\n",
      "\n",
      "id: 10\n",
      "f0: 0\n",
      "f1: 0\n",
      "f2: 0\n",
      "product: 0\n",
      "\n",
      "\n",
      "Количество дубликатов по каждому столбцу:\n",
      "\n",
      "id: 4\n",
      "f0: 0\n",
      "f1: 0\n",
      "f2: 0\n",
      "product: 99988\n",
      "\n",
      "\n",
      "Количество дубликатов по каждому столбцу:\n",
      "\n",
      "id: 4\n",
      "f0: 0\n",
      "f1: 0\n",
      "f2: 0\n",
      "product: 0\n",
      "\n",
      "\n"
     ]
    }
   ],
   "source": [
    "data_full= [data_0, data_1,data_2]\n",
    "\n",
    "# Цикл for для проверки каждого столбца каждого датасета\n",
    "for df in data_full:  # Перебираем каждый датасет\n",
    "    print(\"Количество дубликатов по каждому столбцу:\")\n",
    "    print()\n",
    "    for column in df.columns:  # Перебираем каждый столбец датасета\n",
    "        duplicates = df[column].duplicated().sum()  # Считаем количество дубликатов в столбце\n",
    "        print(column + \": \" + str(duplicates))  # Выводим количество дубликатов для столбца\n",
    "    print(\"\\n\")"
   ]
  },
  {
   "cell_type": "markdown",
   "metadata": {},
   "source": [
    "Мы видим, что у нас есть дубликаты в колонке id во всех трех датасетах и в колонке product во втором датасете. \n",
    "\n",
    "Что мы можем сделать:\n",
    "\n",
    "    1. Колонку projuct мы не трограем, так как там указываются объемы запаса скважин, такие данные могут дублироваться. \n",
    "    2. Дубли в колонке id - можно удалить, так как это уникальный идентификатор, дублирование такой строки в большинстве случаев говорит о задвоении данных. К тому же таких строк не много и их удаление не повлияет на дальнейшее исследование. \n",
    "    3. Не трогать дубли в колонке id, так как при дальнейшей работе мы отбросим этот столбец, как \"неимформативный признак\". И возвращаясь, к мысли со 2 пункта, там всего 18 строк. \n",
    "    \n",
    "Я предлагаю остановиться на 3 варианте, а имеено не ликвидировать дубли, а просто отбросить столбец."
   ]
  },
  {
   "cell_type": "code",
   "execution_count": 7,
   "metadata": {},
   "outputs": [],
   "source": [
    "for df in data_full:\n",
    "    df.drop('id', axis=1, inplace=True)"
   ]
  },
  {
   "cell_type": "markdown",
   "metadata": {},
   "source": [
    "### <a id='toc1_1_4_'></a>[Делим на выборки](#toc0_)"
   ]
  },
  {
   "cell_type": "code",
   "execution_count": 8,
   "metadata": {},
   "outputs": [],
   "source": [
    "#d0\n",
    "target = data_0['product']\n",
    "features = data_0.drop('product', axis=1)\n",
    "features_train, features_valid, target_train, target_valid = train_test_split(\n",
    "    features, target, test_size=0.25, random_state=12345)"
   ]
  },
  {
   "cell_type": "code",
   "execution_count": 9,
   "metadata": {},
   "outputs": [
    {
     "data": {
      "text/plain": [
       "(75000, 3)"
      ]
     },
     "metadata": {},
     "output_type": "display_data"
    },
    {
     "data": {
      "text/plain": [
       "(25000, 3)"
      ]
     },
     "metadata": {},
     "output_type": "display_data"
    }
   ],
   "source": [
    "#check\n",
    "display(features_train.shape)\n",
    "display(features_valid.shape)"
   ]
  },
  {
   "cell_type": "code",
   "execution_count": 10,
   "metadata": {},
   "outputs": [],
   "source": [
    "#d1\n",
    "target_1 = data_1['product']\n",
    "features_1 = data_1.drop('product', axis=1)\n",
    "features_train_1, features_valid_1, target_train_1, target_valid_1 = train_test_split(\n",
    "    features_1, target_1, test_size=0.25, random_state=12345)"
   ]
  },
  {
   "cell_type": "code",
   "execution_count": 11,
   "metadata": {},
   "outputs": [
    {
     "data": {
      "text/plain": [
       "(75000, 3)"
      ]
     },
     "metadata": {},
     "output_type": "display_data"
    },
    {
     "data": {
      "text/plain": [
       "(25000, 3)"
      ]
     },
     "metadata": {},
     "output_type": "display_data"
    }
   ],
   "source": [
    "#check\n",
    "display(features_train_1.shape)\n",
    "display(features_valid_1.shape)"
   ]
  },
  {
   "cell_type": "code",
   "execution_count": 12,
   "metadata": {},
   "outputs": [],
   "source": [
    "#d2\n",
    "target_2 = data_2['product']\n",
    "features_2 = data_2.drop('product', axis=1)\n",
    "features_train_2, features_valid_2, target_train_2, target_valid_2 = train_test_split(\n",
    "    features, target, test_size=0.25, random_state=12345)"
   ]
  },
  {
   "cell_type": "code",
   "execution_count": 13,
   "metadata": {},
   "outputs": [
    {
     "data": {
      "text/plain": [
       "(75000, 3)"
      ]
     },
     "metadata": {},
     "output_type": "display_data"
    },
    {
     "data": {
      "text/plain": [
       "(25000, 3)"
      ]
     },
     "metadata": {},
     "output_type": "display_data"
    }
   ],
   "source": [
    "#check\n",
    "display(features_train_2.shape)\n",
    "display(features_valid_2.shape)"
   ]
  },
  {
   "cell_type": "markdown",
   "metadata": {},
   "source": [
    "## <a id='toc1_2_'></a>[Обучение и проверка модели](#toc0_)"
   ]
  },
  {
   "cell_type": "code",
   "execution_count": 14,
   "metadata": {},
   "outputs": [
    {
     "name": "stdout",
     "output_type": "stream",
     "text": [
      "RMSE модели на валидационной выборке: 37.5794217150813\n",
      "Средний запас сырья: 92.59256778438035\n",
      "R2 = 0.27994321524487786\n"
     ]
    }
   ],
   "source": [
    "#d0 linear_regression\n",
    "model = LinearRegression() \n",
    "model.fit(features_train, target_train) # обучили модель на тренировочной выборке\n",
    "predicted_valid = model.predict(features_valid) # получили предсказания модели на валидационной выборке\n",
    "r2= r2_score(target_valid, predicted_valid)\n",
    "result =mean_squared_error(target_valid, predicted_valid)**0.5   # посчитали значение метрики RMSE на валидационной выборке\n",
    "print(\"RMSE модели на валидационной выборке:\", result)\n",
    "print('Средний запас сырья:',predicted_valid.mean())\n",
    "print(\"R2 =\", r2)"
   ]
  },
  {
   "cell_type": "code",
   "execution_count": 15,
   "metadata": {},
   "outputs": [
    {
     "name": "stdout",
     "output_type": "stream",
     "text": [
      "RMSE модели на валидационной выборке: 0.893099286775617\n",
      "Средний запас сырья: 68.728546895446\n",
      "R2 = 0.9996233978805127\n"
     ]
    }
   ],
   "source": [
    "#d1 linear_regression\n",
    "model = LinearRegression() \n",
    "model.fit(features_train_1, target_train_1) # обучили модель на тренировочной выборке\n",
    "predicted_valid_1 = model.predict(features_valid_1) # получили предсказания модели на валидационной выборке\n",
    "r2= r2_score(target_valid_1, predicted_valid_1)\n",
    "result =mean_squared_error(target_valid_1, predicted_valid_1)**0.5   # посчитали значение метрики RMSE на валидационной выборке\n",
    "print(\"RMSE модели на валидационной выборке:\", result)\n",
    "print('Средний запас сырья:',predicted_valid_1.mean())\n",
    "print(\"R2 =\", r2)"
   ]
  },
  {
   "cell_type": "code",
   "execution_count": 16,
   "metadata": {},
   "outputs": [
    {
     "name": "stdout",
     "output_type": "stream",
     "text": [
      "RMSE модели на валидационной выборке: 37.5794217150813\n",
      "Средний запас сырья: 92.59256778438035\n",
      "R2 = 0.27994321524487786\n"
     ]
    }
   ],
   "source": [
    "#d2 linear_regression\n",
    "model = LinearRegression() \n",
    "model.fit(features_train_2, target_train_2) # обучили модель на тренировочной выборке\n",
    "predicted_valid_2 = model.predict(features_valid_2) # получили предсказания модели на валидационной выборке\n",
    "r2= r2_score(target_valid_2, predicted_valid_2)\n",
    "result =mean_squared_error(target_valid_2, predicted_valid_2)**0.5   # посчитали значение метрики RMSE на валидационной выборке\n",
    "print(\"RMSE модели на валидационной выборке:\", result)\n",
    "print('Средний запас сырья:',predicted_valid_2.mean())\n",
    "print(\"R2 =\", r2)"
   ]
  },
  {
   "cell_type": "markdown",
   "metadata": {},
   "source": [
    "Показетели первой и третей модели хуже, чем второй. Они выигрывают по среднему заполнению, но показатель модели R2 говорит нам о том, что они весьма плохо отображают действительность, в отличии от модели под номером 2. Ее предсказания можно посчитать идеальными, так как ее значение 0.99. \n",
    "\n",
    "RMSE второй модели 0.89"
   ]
  },
  {
   "cell_type": "markdown",
   "metadata": {},
   "source": [
    "## <a id='toc1_3_'></a>[Подготовка к расчёту прибыли](#toc0_)"
   ]
  },
  {
   "cell_type": "markdown",
   "metadata": {},
   "source": [
    "Условия задачи:\n",
    "\n",
    "- [x] Для обучения модели подходит только линейная регрессия (остальные — недостаточно предсказуемые).\n",
    "- [x] При разведке региона исследуют 500 точек, из которых с помощью машинного обучения выбирают 200 лучших для разработки.\n",
    "- [x] Бюджет на разработку скважин в регионе — 10 млрд рублей.\n",
    "- [x] При нынешних ценах один баррель сырья приносит 450 рублей дохода. Доход с каждой единицы продукта составляет 450 тыс. рублей, поскольку объём указан в тысячах баррелей.\n",
    "- [x] После оценки рисков нужно оставить лишь те регионы, в которых вероятность убытков меньше 2.5%. Среди них выбирают регион с наибольшей средней прибылью."
   ]
  },
  {
   "cell_type": "code",
   "execution_count": 17,
   "metadata": {},
   "outputs": [],
   "source": [
    "points = 500 # точки\n",
    "best_points = 200 # лучшие точки для разработки\n",
    "budget = 10000000000 # бюджет\n",
    "barrel = 450 # цена за 1 баррель в рублях\n",
    "barrel_unit = 1000 # кол-во продукта\n",
    "icome_barrel = barrel*barrel_unit # Доход с каждой единицы продукта\n",
    "\n",
    "\n"
   ]
  },
  {
   "cell_type": "markdown",
   "metadata": {},
   "source": [
    "### <a id='toc1_3_1_'></a>[Рассчитайте достаточный объём сырья для безубыточной разработки новой скважины. Сравните полученный объём сырья со средним запасом в каждом регионе.](#toc0_)\n"
   ]
  },
  {
   "cell_type": "code",
   "execution_count": 18,
   "metadata": {},
   "outputs": [
    {
     "name": "stdout",
     "output_type": "stream",
     "text": [
      "Минимальный объем сырья для безубыточной точки: 111.11111111111111\n"
     ]
    }
   ],
   "source": [
    "min_new_points= budget / best_points / icome_barrel\n",
    "print(f'Минимальный объем сырья для безубыточной точки: {min_new_points}')"
   ]
  },
  {
   "cell_type": "code",
   "execution_count": 19,
   "metadata": {},
   "outputs": [
    {
     "name": "stdout",
     "output_type": "stream",
     "text": [
      "Первый регион:\n",
      "Средний объем сырья в регионе: 92.50000000000001\n",
      "Второй регион:\n",
      "Средний объем сырья в регионе: 68.82500000000002\n",
      "Третий регион:\n",
      "Средний объем сырья в регионе: 95.00000000000004\n"
     ]
    }
   ],
   "source": [
    "print('Первый регион:')\n",
    "print(f'Средний объем сырья в регионе:', data_0['product'].mean())\n",
    "print('Второй регион:')\n",
    "print(f'Средний объем сырья в регионе:', data_1['product'].mean())\n",
    "print('Третий регион:')\n",
    "print(f'Средний объем сырья в регионе:', data_2['product'].mean())"
   ]
  },
  {
   "cell_type": "markdown",
   "metadata": {},
   "source": [
    "Не смотря на то, что средние объемы в регионах отображают цифры меньше минимальной планки. Стоит отметить, что в регионах есть множество точек с околонулевым или же нулевым значением, из-за этого средний показатель по региону снизился. "
   ]
  },
  {
   "cell_type": "markdown",
   "metadata": {},
   "source": [
    "### <a id='toc1_3_2_'></a>[Напишите функцию для расчёта прибыли по выбранным скважинам и предсказаниям модели](#toc0_)"
   ]
  },
  {
   "cell_type": "code",
   "execution_count": 20,
   "metadata": {},
   "outputs": [],
   "source": [
    "def calc_income(predictions, target):\n",
    "    predictions = pd.Series(predictions).reset_index(drop=True)\n",
    "    target = pd.Series(target).reset_index(drop=True)\n",
    "    # Сортировка предсказаний по убыванию\n",
    "    sorted_predictions = pd.Series(predictions).sort_values(ascending=False)\n",
    "    \n",
    "    # Получение первых 200 строк отсортированных предсказаний\n",
    "    top_200_predicted = sorted_predictions[:200]\n",
    "    \n",
    "    # Получение соответствующих запасов сырья из массива целевых значений, используя индексы отсортированных предсказаний\n",
    "    top_200_target = target[top_200_predicted.index]\n",
    "    \n",
    "    # Расчет итогового дохода\n",
    "    \n",
    "    total_income = top_200_target.sum() * icome_barrel - budget\n",
    "    return total_income"
   ]
  },
  {
   "cell_type": "code",
   "execution_count": 21,
   "metadata": {},
   "outputs": [
    {
     "data": {
      "text/plain": [
       "3320826043.1398506"
      ]
     },
     "execution_count": 21,
     "metadata": {},
     "output_type": "execute_result"
    }
   ],
   "source": [
    "calc_income(predicted_valid, target_valid)"
   ]
  },
  {
   "cell_type": "code",
   "execution_count": 22,
   "metadata": {},
   "outputs": [
    {
     "data": {
      "text/plain": [
       "2415086696.681511"
      ]
     },
     "execution_count": 22,
     "metadata": {},
     "output_type": "execute_result"
    }
   ],
   "source": [
    "calc_income(predicted_valid_1, target_valid_1)"
   ]
  },
  {
   "cell_type": "code",
   "execution_count": 23,
   "metadata": {},
   "outputs": [
    {
     "data": {
      "text/plain": [
       "3320826043.1398506"
      ]
     },
     "execution_count": 23,
     "metadata": {},
     "output_type": "execute_result"
    }
   ],
   "source": [
    "calc_income(predicted_valid_2, target_valid_2)"
   ]
  },
  {
   "cell_type": "markdown",
   "metadata": {},
   "source": [
    "## <a id='toc1_4_'></a>[Расчёт прибыли и рисков](#toc0_)"
   ]
  },
  {
   "cell_type": "code",
   "execution_count": 24,
   "metadata": {},
   "outputs": [
    {
     "name": "stdout",
     "output_type": "stream",
     "text": [
      "Первый регион: \n",
      "Минимальная прибыль: -111,215,545.89 руб.\n",
      "Максимальаня прибыль: 909,766,941.55 руб.\n",
      "Среднее значение: 396,164,984.80 руб.\n",
      "Риск получить убытки: 6.90%\n"
     ]
    }
   ],
   "source": [
    "state = np.random.RandomState(12345)\n",
    "values = []\n",
    "predicted = pd.Series(predicted_valid).reset_index(drop=True)  \n",
    "target = pd.Series(target_valid).reset_index(drop=True) \n",
    "for i in range(1000):\n",
    "    pred_sample = predicted.sample(n=points, replace=True, random_state=state) \n",
    "    target_sample = target.loc[pred_sample.index]  \n",
    "    values.append(calc_income(pred_sample, target_sample))  \n",
    "\n",
    "\n",
    "values = pd.Series(values)\n",
    "values_mean = values.mean()\n",
    "lover = values.quantile(0.025)\n",
    "upper = values.quantile(0.975)\n",
    "\n",
    "print('Первый регион: \\n'\n",
    "      f'Минимальная прибыль: {lover:,.2f} руб.\\n'\n",
    "      f'Максимальаня прибыль: {upper:,.2f} руб.\\n'\n",
    "      f'Среднее значение: {values.mean():,.2f} руб.\\n'\n",
    "      f'Риск получить убытки: {values[(values) < 0].size / values.size:.2%}')"
   ]
  },
  {
   "cell_type": "code",
   "execution_count": 25,
   "metadata": {},
   "outputs": [
    {
     "name": "stdout",
     "output_type": "stream",
     "text": [
      "Второй регион: \n",
      "Минимальная прибыль: 78,050,810.75 руб.\n",
      "Максимальаня прибыль: 862,952,060.26 руб.\n",
      "Среднее значение: 461,155,817.28 руб.\n",
      "Риск получить убытки: 0.70%\n"
     ]
    }
   ],
   "source": [
    "values = []\n",
    "predicted = pd.Series(predicted_valid_1).reset_index(drop=True)  \n",
    "target = pd.Series(target_valid_1).reset_index(drop=True) \n",
    "for i in range(1000):\n",
    "    pred_sample = predicted.sample(n=points, replace=True, random_state=state) \n",
    "    target_sample = target.loc[pred_sample.index]  \n",
    "    values.append(calc_income(pred_sample, target_sample))  \n",
    "\n",
    "\n",
    "values = pd.Series(values)\n",
    "values_mean = values.mean()\n",
    "lover = values.quantile(0.025)\n",
    "upper = values.quantile(0.975)\n",
    "\n",
    "print('Второй регион: \\n'\n",
    "      f'Минимальная прибыль: {lover:,.2f} руб.\\n'\n",
    "      f'Максимальаня прибыль: {upper:,.2f} руб.\\n'\n",
    "      f'Среднее значение: {values.mean():,.2f} руб.\\n'\n",
    "      f'Риск получить убытки: {values[(values) < 0].size / values.size:.2%}')"
   ]
  },
  {
   "cell_type": "code",
   "execution_count": 26,
   "metadata": {},
   "outputs": [
    {
     "name": "stdout",
     "output_type": "stream",
     "text": [
      "Третий регион: \n",
      "Минимальная прибыль: -121,346,142.82 руб.\n",
      "Максимальаня прибыль: 954,523,567.68 руб.\n",
      "Среднее значение: 405,860,055.03 руб.\n",
      "Риск получить убытки: 5.90%\n"
     ]
    }
   ],
   "source": [
    "values = []\n",
    "predicted = pd.Series(predicted_valid_2).reset_index(drop=True)  \n",
    "target = pd.Series(target_valid_2).reset_index(drop=True) \n",
    "for i in range(1000):\n",
    "    pred_sample = predicted.sample(n=points, replace=True, random_state=state) \n",
    "    target_sample = target.loc[pred_sample.index]  \n",
    "    values.append(calc_income(pred_sample, target_sample))  \n",
    "\n",
    "\n",
    "values = pd.Series(values)\n",
    "values_mean = values.mean()\n",
    "lover = values.quantile(0.025)\n",
    "upper = values.quantile(0.975)\n",
    "\n",
    "print('Третий регион: \\n'\n",
    "      f'Минимальная прибыль: {lover:,.2f} руб.\\n'\n",
    "      f'Максимальаня прибыль: {upper:,.2f} руб.\\n'\n",
    "      f'Среднее значение: {values.mean():,.2f} руб.\\n'\n",
    "      f'Риск получить убытки: {values[(values) < 0].size / values.size:.2%}')"
   ]
  },
  {
   "cell_type": "markdown",
   "metadata": {},
   "source": [
    "Самым выгодным регионом для создания новых точек является второй регион, тут и самый минимальный риск получить убытки и показатель среднего выше чем в других регионах. "
   ]
  },
  {
   "cell_type": "markdown",
   "metadata": {},
   "source": [
    "### <a id='toc1_4_1_'></a>[Вывод](#toc0_)"
   ]
  },
  {
   "cell_type": "markdown",
   "metadata": {},
   "source": [
    "- Были получены и изучены 3 датасета (3 региона) для разработки. \n",
    "- Проверили на дубликаты, были обнаружены дубликаты в по столбцу id в количестве 18 строк на все 3 датасета. \n",
    "- некоторые дублирущие строки дублировались только по id, по остальным значениям были различия. \n",
    "- было принято решение не удалять дубликаты, их очень мало и на исследование негативно они не повлияют, к тому же, не все дубликаты были точным копией строки. \n",
    "- пропусков в датасете не обнаружено\n",
    "- убрали не информативный столбец id, он не нужен нам для исследования.\n",
    "- поделили каждый датасет на выборки\n",
    "- Сделали и обучили модели на каждый регион. \n",
    "- Модель для второго региона показала лучший результат R2 = 0.99\n",
    "- произвели подготовку к расчету прибыли:\n",
    "\n",
    "    - объявили константы\n",
    "    - рассчитали минимальный объем сырья для безубыточной точки: 111.11\n",
    "    - рассчитали средний объем сырья для каждого региона\n",
    "        - Не смотря что показатели в регионах оказались нижи минимального порога, не стоит забывать, что в регионах есть множество точек с околонулевым или же нулевым значением, из-за этого средний показатель по региону снизился.\n",
    "    - Написали функцию для расчёта прибыли по выбранным скважинам и предсказаниям модели\n",
    "- Произвели рассчет прибыли и рисков:\n",
    "    - лучший регион по разработке является регион под номером 2, так как у него самый минимальный процент риска убытков 0.7\n",
    "    - также выше среднее значение прибыли с разницей в ~68 млн рублей. "
   ]
  }
 ],
 "metadata": {
  "ExecuteTimeLog": [
   {
    "duration": 464,
    "start_time": "2023-07-27T10:57:58.091Z"
   },
   {
    "duration": 69,
    "start_time": "2023-07-27T11:11:02.665Z"
   },
   {
    "duration": 471,
    "start_time": "2023-07-27T11:11:49.820Z"
   },
   {
    "duration": 8,
    "start_time": "2023-07-27T11:13:01.168Z"
   },
   {
    "duration": 154,
    "start_time": "2023-07-27T11:13:05.205Z"
   },
   {
    "duration": 16,
    "start_time": "2023-07-27T11:13:06.603Z"
   },
   {
    "duration": 247,
    "start_time": "2023-07-27T11:27:22.803Z"
   },
   {
    "duration": 10,
    "start_time": "2023-07-27T11:27:36.005Z"
   },
   {
    "duration": 239,
    "start_time": "2023-07-27T11:28:15.590Z"
   },
   {
    "duration": 10,
    "start_time": "2023-07-27T11:28:33.998Z"
   },
   {
    "duration": 3,
    "start_time": "2023-08-05T13:53:36.002Z"
   },
   {
    "duration": 47,
    "start_time": "2023-08-05T13:59:46.429Z"
   },
   {
    "duration": 7,
    "start_time": "2023-08-05T14:00:17.549Z"
   },
   {
    "duration": 75,
    "start_time": "2023-08-05T14:03:25.384Z"
   },
   {
    "duration": 387,
    "start_time": "2023-08-05T14:04:25.457Z"
   },
   {
    "duration": 372,
    "start_time": "2023-08-05T14:04:25.846Z"
   },
   {
    "duration": 17,
    "start_time": "2023-08-05T14:04:26.219Z"
   },
   {
    "duration": 211,
    "start_time": "2023-08-05T14:04:26.237Z"
   },
   {
    "duration": 8,
    "start_time": "2023-08-05T14:04:26.450Z"
   },
   {
    "duration": 222,
    "start_time": "2023-08-05T14:04:26.460Z"
   },
   {
    "duration": 9,
    "start_time": "2023-08-05T14:04:26.683Z"
   },
   {
    "duration": 63,
    "start_time": "2023-08-05T14:04:26.694Z"
   },
   {
    "duration": 19,
    "start_time": "2023-08-05T14:05:22.773Z"
   },
   {
    "duration": 20,
    "start_time": "2023-08-05T14:05:47.465Z"
   },
   {
    "duration": 93,
    "start_time": "2023-08-05T14:06:06.256Z"
   },
   {
    "duration": 21,
    "start_time": "2023-08-05T14:06:13.000Z"
   },
   {
    "duration": 20,
    "start_time": "2023-08-05T14:06:45.828Z"
   },
   {
    "duration": 11,
    "start_time": "2023-08-05T14:09:30.555Z"
   },
   {
    "duration": 11,
    "start_time": "2023-08-05T14:15:24.865Z"
   },
   {
    "duration": 134,
    "start_time": "2023-08-05T14:15:46.183Z"
   },
   {
    "duration": 38,
    "start_time": "2023-08-05T14:16:27.792Z"
   },
   {
    "duration": 39,
    "start_time": "2023-08-05T14:16:31.234Z"
   },
   {
    "duration": 42,
    "start_time": "2023-08-05T14:16:34.893Z"
   },
   {
    "duration": 5,
    "start_time": "2023-08-05T14:24:09.975Z"
   },
   {
    "duration": 4,
    "start_time": "2023-08-05T14:28:51.852Z"
   },
   {
    "duration": 7,
    "start_time": "2023-08-05T14:33:57.399Z"
   },
   {
    "duration": 8,
    "start_time": "2023-08-05T14:37:05.809Z"
   },
   {
    "duration": 84,
    "start_time": "2023-08-05T14:38:47.248Z"
   },
   {
    "duration": 67,
    "start_time": "2023-08-05T15:04:49.448Z"
   },
   {
    "duration": 72,
    "start_time": "2023-08-05T15:05:18.151Z"
   },
   {
    "duration": 71,
    "start_time": "2023-08-05T15:05:30.955Z"
   },
   {
    "duration": 61,
    "start_time": "2023-08-05T15:06:36.898Z"
   },
   {
    "duration": 67,
    "start_time": "2023-08-05T15:07:20.627Z"
   },
   {
    "duration": 72,
    "start_time": "2023-08-05T15:07:46.685Z"
   },
   {
    "duration": 1327,
    "start_time": "2023-08-05T15:07:59.586Z"
   },
   {
    "duration": 67,
    "start_time": "2023-08-05T15:08:32.773Z"
   },
   {
    "duration": 41,
    "start_time": "2023-08-05T15:11:58.828Z"
   },
   {
    "duration": 7,
    "start_time": "2023-08-05T15:12:05.903Z"
   },
   {
    "duration": 37,
    "start_time": "2023-08-05T15:12:10.211Z"
   },
   {
    "duration": 47,
    "start_time": "2023-08-05T15:12:14.051Z"
   },
   {
    "duration": 697,
    "start_time": "2023-08-05T15:40:26.083Z"
   },
   {
    "duration": 61,
    "start_time": "2023-08-05T15:43:23.880Z"
   },
   {
    "duration": 45,
    "start_time": "2023-08-05T15:45:22.345Z"
   },
   {
    "duration": 30,
    "start_time": "2023-08-05T15:53:24.474Z"
   },
   {
    "duration": 12,
    "start_time": "2023-08-05T15:53:41.801Z"
   },
   {
    "duration": 9,
    "start_time": "2023-08-05T15:54:02.594Z"
   },
   {
    "duration": 9,
    "start_time": "2023-08-05T15:54:17.642Z"
   },
   {
    "duration": 3613,
    "start_time": "2023-08-05T16:15:19.215Z"
   },
   {
    "duration": 2038,
    "start_time": "2023-08-05T16:17:23.303Z"
   },
   {
    "duration": 2092,
    "start_time": "2023-08-05T16:17:43.194Z"
   },
   {
    "duration": 2069,
    "start_time": "2023-08-05T16:19:46.255Z"
   },
   {
    "duration": 15,
    "start_time": "2023-08-05T16:24:15.284Z"
   },
   {
    "duration": 3,
    "start_time": "2023-08-05T16:25:58.567Z"
   },
   {
    "duration": 29,
    "start_time": "2023-08-05T16:28:33.160Z"
   },
   {
    "duration": 13,
    "start_time": "2023-08-05T16:30:42.635Z"
   },
   {
    "duration": 4,
    "start_time": "2023-08-05T16:31:04.331Z"
   },
   {
    "duration": 15,
    "start_time": "2023-08-05T16:31:15.807Z"
   },
   {
    "duration": 3,
    "start_time": "2023-08-05T16:31:17.768Z"
   },
   {
    "duration": 5,
    "start_time": "2023-08-05T16:32:02.040Z"
   },
   {
    "duration": 14,
    "start_time": "2023-08-05T17:10:46.939Z"
   },
   {
    "duration": 5,
    "start_time": "2023-08-05T17:10:48.157Z"
   },
   {
    "duration": 15,
    "start_time": "2023-08-05T17:10:49.488Z"
   },
   {
    "duration": 4,
    "start_time": "2023-08-05T17:11:09.404Z"
   },
   {
    "duration": 1146,
    "start_time": "2023-08-06T11:48:09.265Z"
   },
   {
    "duration": 881,
    "start_time": "2023-08-06T11:48:10.414Z"
   },
   {
    "duration": 16,
    "start_time": "2023-08-06T11:48:11.297Z"
   },
   {
    "duration": 646,
    "start_time": "2023-08-06T11:48:11.314Z"
   },
   {
    "duration": 13,
    "start_time": "2023-08-06T11:48:11.962Z"
   },
   {
    "duration": 614,
    "start_time": "2023-08-06T11:48:11.977Z"
   },
   {
    "duration": 9,
    "start_time": "2023-08-06T11:48:12.593Z"
   },
   {
    "duration": 21,
    "start_time": "2023-08-06T11:48:12.603Z"
   },
   {
    "duration": 96,
    "start_time": "2023-08-06T11:48:12.625Z"
   },
   {
    "duration": 12,
    "start_time": "2023-08-06T11:48:12.722Z"
   },
   {
    "duration": 32,
    "start_time": "2023-08-06T11:48:12.736Z"
   },
   {
    "duration": 6,
    "start_time": "2023-08-06T11:48:12.781Z"
   },
   {
    "duration": 18,
    "start_time": "2023-08-06T11:48:12.788Z"
   },
   {
    "duration": 5,
    "start_time": "2023-08-06T11:48:12.809Z"
   },
   {
    "duration": 18,
    "start_time": "2023-08-06T11:48:12.816Z"
   },
   {
    "duration": 11,
    "start_time": "2023-08-06T11:48:12.836Z"
   },
   {
    "duration": 22,
    "start_time": "2023-08-06T11:55:08.407Z"
   },
   {
    "duration": 281,
    "start_time": "2023-08-06T12:54:58.375Z"
   },
   {
    "duration": 3,
    "start_time": "2023-08-06T12:55:24.806Z"
   },
   {
    "duration": 187,
    "start_time": "2023-08-06T12:55:31.080Z"
   },
   {
    "duration": 20,
    "start_time": "2023-08-06T12:56:15.522Z"
   },
   {
    "duration": 26,
    "start_time": "2023-08-06T12:59:53.520Z"
   },
   {
    "duration": 19,
    "start_time": "2023-08-06T13:00:31.706Z"
   },
   {
    "duration": 110,
    "start_time": "2023-08-06T14:49:28.952Z"
   },
   {
    "duration": 3,
    "start_time": "2023-08-06T15:17:40.353Z"
   },
   {
    "duration": 5,
    "start_time": "2023-08-06T15:21:43.977Z"
   },
   {
    "duration": 4,
    "start_time": "2023-08-06T15:22:49.807Z"
   },
   {
    "duration": 4,
    "start_time": "2023-08-06T15:24:09.737Z"
   },
   {
    "duration": 4,
    "start_time": "2023-08-06T15:24:13.094Z"
   },
   {
    "duration": 3,
    "start_time": "2023-08-06T15:25:24.529Z"
   },
   {
    "duration": 3,
    "start_time": "2023-08-06T15:25:26.660Z"
   },
   {
    "duration": 5,
    "start_time": "2023-08-06T15:27:00.520Z"
   },
   {
    "duration": 5,
    "start_time": "2023-08-06T15:27:39.924Z"
   },
   {
    "duration": 111,
    "start_time": "2023-08-06T15:28:45.971Z"
   },
   {
    "duration": 7,
    "start_time": "2023-08-06T15:29:04.281Z"
   },
   {
    "duration": 10,
    "start_time": "2023-08-06T15:29:37.983Z"
   },
   {
    "duration": 3,
    "start_time": "2023-08-06T15:36:01.835Z"
   },
   {
    "duration": 541,
    "start_time": "2023-08-06T15:52:15.050Z"
   },
   {
    "duration": 119,
    "start_time": "2023-08-06T15:53:04.763Z"
   },
   {
    "duration": 205,
    "start_time": "2023-08-06T15:53:16.891Z"
   },
   {
    "duration": 199,
    "start_time": "2023-08-06T15:53:52.500Z"
   },
   {
    "duration": 232,
    "start_time": "2023-08-06T15:54:19.047Z"
   },
   {
    "duration": 205,
    "start_time": "2023-08-06T15:54:34.952Z"
   },
   {
    "duration": 655,
    "start_time": "2023-08-06T15:55:29.072Z"
   },
   {
    "duration": 647,
    "start_time": "2023-08-06T15:55:51.394Z"
   },
   {
    "duration": 6,
    "start_time": "2023-08-06T16:57:57.630Z"
   },
   {
    "duration": 4,
    "start_time": "2023-08-06T17:02:43.393Z"
   },
   {
    "duration": 17,
    "start_time": "2023-08-06T17:04:14.743Z"
   },
   {
    "duration": 18,
    "start_time": "2023-08-06T17:04:41.220Z"
   },
   {
    "duration": 10,
    "start_time": "2023-08-06T17:05:09.828Z"
   },
   {
    "duration": 24,
    "start_time": "2023-08-06T17:05:30.462Z"
   },
   {
    "duration": 6,
    "start_time": "2023-08-06T17:17:45.985Z"
   },
   {
    "duration": 12,
    "start_time": "2023-08-06T17:17:47.718Z"
   },
   {
    "duration": 18,
    "start_time": "2023-08-06T17:18:05.414Z"
   },
   {
    "duration": 5,
    "start_time": "2023-08-06T17:25:48.581Z"
   },
   {
    "duration": 12,
    "start_time": "2023-08-06T17:25:49.242Z"
   },
   {
    "duration": 1140,
    "start_time": "2023-08-16T15:37:30.860Z"
   },
   {
    "duration": 428,
    "start_time": "2023-08-16T15:37:32.002Z"
   },
   {
    "duration": 277,
    "start_time": "2023-08-16T15:37:32.433Z"
   },
   {
    "duration": 244,
    "start_time": "2023-08-16T15:37:32.711Z"
   },
   {
    "duration": 20,
    "start_time": "2023-08-16T15:37:32.957Z"
   },
   {
    "duration": 150,
    "start_time": "2023-08-16T15:37:32.979Z"
   },
   {
    "duration": 15,
    "start_time": "2023-08-16T15:37:33.131Z"
   },
   {
    "duration": 29,
    "start_time": "2023-08-16T15:37:33.147Z"
   },
   {
    "duration": 15,
    "start_time": "2023-08-16T15:37:33.178Z"
   },
   {
    "duration": 20,
    "start_time": "2023-08-16T15:37:33.195Z"
   },
   {
    "duration": 5,
    "start_time": "2023-08-16T15:37:33.217Z"
   },
   {
    "duration": 27,
    "start_time": "2023-08-16T15:37:33.224Z"
   },
   {
    "duration": 13,
    "start_time": "2023-08-16T15:37:33.260Z"
   },
   {
    "duration": 86,
    "start_time": "2023-08-16T15:37:33.275Z"
   },
   {
    "duration": 105,
    "start_time": "2023-08-16T15:37:33.363Z"
   },
   {
    "duration": 208,
    "start_time": "2023-08-16T15:37:33.472Z"
   },
   {
    "duration": 79,
    "start_time": "2023-08-16T15:37:33.682Z"
   },
   {
    "duration": 98,
    "start_time": "2023-08-16T15:37:33.763Z"
   },
   {
    "duration": 39,
    "start_time": "2023-08-16T15:37:33.863Z"
   },
   {
    "duration": 29,
    "start_time": "2023-08-16T15:37:33.903Z"
   },
   {
    "duration": 132,
    "start_time": "2023-08-16T15:37:33.934Z"
   },
   {
    "duration": 97,
    "start_time": "2023-08-16T15:44:44.507Z"
   },
   {
    "duration": 4,
    "start_time": "2023-08-16T15:45:07.594Z"
   },
   {
    "duration": 51,
    "start_time": "2023-08-16T15:45:08.468Z"
   },
   {
    "duration": 4,
    "start_time": "2023-08-16T15:49:36.185Z"
   },
   {
    "duration": 13,
    "start_time": "2023-08-16T15:49:38.774Z"
   },
   {
    "duration": 4,
    "start_time": "2023-08-16T15:49:54.465Z"
   },
   {
    "duration": 15,
    "start_time": "2023-08-16T15:49:55.394Z"
   },
   {
    "duration": 4,
    "start_time": "2023-08-16T15:52:14.653Z"
   },
   {
    "duration": 29,
    "start_time": "2023-08-16T15:52:15.389Z"
   },
   {
    "duration": 3,
    "start_time": "2023-08-16T16:01:24.930Z"
   },
   {
    "duration": 19,
    "start_time": "2023-08-16T16:01:28.110Z"
   },
   {
    "duration": 4,
    "start_time": "2023-08-16T16:06:26.315Z"
   },
   {
    "duration": 12,
    "start_time": "2023-08-16T16:06:28.569Z"
   },
   {
    "duration": 3,
    "start_time": "2023-08-16T16:06:59.193Z"
   },
   {
    "duration": 4,
    "start_time": "2023-08-16T16:07:05.660Z"
   },
   {
    "duration": 14,
    "start_time": "2023-08-16T16:07:06.792Z"
   },
   {
    "duration": 5,
    "start_time": "2023-08-16T16:09:55.310Z"
   },
   {
    "duration": 16,
    "start_time": "2023-08-16T16:09:58.763Z"
   },
   {
    "duration": 3,
    "start_time": "2023-08-16T16:10:35.894Z"
   },
   {
    "duration": 25,
    "start_time": "2023-08-16T16:10:36.380Z"
   },
   {
    "duration": 5,
    "start_time": "2023-08-16T16:25:00.515Z"
   },
   {
    "duration": 19,
    "start_time": "2023-08-16T16:25:01.995Z"
   },
   {
    "duration": 10,
    "start_time": "2023-08-16T17:11:20.331Z"
   },
   {
    "duration": 10,
    "start_time": "2023-08-16T17:11:22.653Z"
   },
   {
    "duration": 9,
    "start_time": "2023-08-16T17:21:05.000Z"
   },
   {
    "duration": 10,
    "start_time": "2023-08-16T17:21:18.461Z"
   },
   {
    "duration": 12,
    "start_time": "2023-08-16T17:56:32.632Z"
   },
   {
    "duration": 17,
    "start_time": "2023-08-16T18:11:24.000Z"
   },
   {
    "duration": 15,
    "start_time": "2023-08-16T18:11:59.526Z"
   },
   {
    "duration": 1313,
    "start_time": "2023-08-18T09:41:12.402Z"
   },
   {
    "duration": 984,
    "start_time": "2023-08-18T09:41:13.716Z"
   },
   {
    "duration": 312,
    "start_time": "2023-08-18T09:41:14.702Z"
   },
   {
    "duration": 303,
    "start_time": "2023-08-18T09:41:15.017Z"
   },
   {
    "duration": 44,
    "start_time": "2023-08-18T09:41:15.322Z"
   },
   {
    "duration": 134,
    "start_time": "2023-08-18T09:41:15.368Z"
   },
   {
    "duration": 32,
    "start_time": "2023-08-18T09:41:15.504Z"
   },
   {
    "duration": 24,
    "start_time": "2023-08-18T09:41:15.541Z"
   },
   {
    "duration": 13,
    "start_time": "2023-08-18T09:41:15.568Z"
   },
   {
    "duration": 49,
    "start_time": "2023-08-18T09:41:15.584Z"
   },
   {
    "duration": 7,
    "start_time": "2023-08-18T09:41:15.636Z"
   },
   {
    "duration": 44,
    "start_time": "2023-08-18T09:41:15.651Z"
   },
   {
    "duration": 5,
    "start_time": "2023-08-18T09:41:15.697Z"
   },
   {
    "duration": 134,
    "start_time": "2023-08-18T09:41:15.704Z"
   },
   {
    "duration": 85,
    "start_time": "2023-08-18T09:41:15.852Z"
   },
   {
    "duration": 119,
    "start_time": "2023-08-18T09:41:15.947Z"
   },
   {
    "duration": 9,
    "start_time": "2023-08-18T09:41:16.071Z"
   },
   {
    "duration": 23,
    "start_time": "2023-08-18T09:41:16.127Z"
   },
   {
    "duration": 18,
    "start_time": "2023-08-18T09:41:16.159Z"
   },
   {
    "duration": 52,
    "start_time": "2023-08-18T09:41:16.181Z"
   },
   {
    "duration": 35,
    "start_time": "2023-08-18T09:41:16.242Z"
   },
   {
    "duration": 12,
    "start_time": "2023-08-18T09:41:16.280Z"
   },
   {
    "duration": 10,
    "start_time": "2023-08-18T09:41:16.295Z"
   },
   {
    "duration": 155,
    "start_time": "2023-08-18T09:41:16.307Z"
   },
   {
    "duration": 0,
    "start_time": "2023-08-18T09:41:16.469Z"
   },
   {
    "duration": 144,
    "start_time": "2023-08-18T09:41:38.917Z"
   },
   {
    "duration": 1191,
    "start_time": "2023-08-21T12:49:11.671Z"
   },
   {
    "duration": 601,
    "start_time": "2023-08-21T12:49:12.864Z"
   },
   {
    "duration": 661,
    "start_time": "2023-08-21T12:49:13.467Z"
   },
   {
    "duration": 599,
    "start_time": "2023-08-21T12:49:14.130Z"
   },
   {
    "duration": 22,
    "start_time": "2023-08-21T12:49:14.732Z"
   },
   {
    "duration": 142,
    "start_time": "2023-08-21T12:49:14.756Z"
   },
   {
    "duration": 21,
    "start_time": "2023-08-21T12:49:14.900Z"
   },
   {
    "duration": 29,
    "start_time": "2023-08-21T12:49:14.923Z"
   },
   {
    "duration": 21,
    "start_time": "2023-08-21T12:49:14.955Z"
   },
   {
    "duration": 22,
    "start_time": "2023-08-21T12:49:14.978Z"
   },
   {
    "duration": 7,
    "start_time": "2023-08-21T12:49:15.002Z"
   },
   {
    "duration": 46,
    "start_time": "2023-08-21T12:49:15.010Z"
   },
   {
    "duration": 12,
    "start_time": "2023-08-21T12:49:15.058Z"
   },
   {
    "duration": 194,
    "start_time": "2023-08-21T12:49:15.073Z"
   },
   {
    "duration": 24,
    "start_time": "2023-08-21T12:49:15.270Z"
   },
   {
    "duration": 171,
    "start_time": "2023-08-21T12:49:15.296Z"
   },
   {
    "duration": 4,
    "start_time": "2023-08-21T12:49:15.470Z"
   },
   {
    "duration": 93,
    "start_time": "2023-08-21T12:49:15.476Z"
   },
   {
    "duration": 27,
    "start_time": "2023-08-21T12:49:15.572Z"
   },
   {
    "duration": 35,
    "start_time": "2023-08-21T12:49:15.601Z"
   },
   {
    "duration": 38,
    "start_time": "2023-08-21T12:49:15.638Z"
   },
   {
    "duration": 13,
    "start_time": "2023-08-21T12:49:15.678Z"
   },
   {
    "duration": 9,
    "start_time": "2023-08-21T12:49:15.693Z"
   },
   {
    "duration": 127,
    "start_time": "2023-08-21T12:49:15.704Z"
   },
   {
    "duration": 13,
    "start_time": "2023-08-21T12:56:07.278Z"
   },
   {
    "duration": 13,
    "start_time": "2023-08-21T12:56:32.882Z"
   },
   {
    "duration": 6,
    "start_time": "2023-08-21T13:03:18.492Z"
   },
   {
    "duration": 23,
    "start_time": "2023-08-21T13:03:19.211Z"
   },
   {
    "duration": 20,
    "start_time": "2023-08-21T13:03:19.550Z"
   },
   {
    "duration": 4,
    "start_time": "2023-08-21T13:03:32.181Z"
   },
   {
    "duration": 12,
    "start_time": "2023-08-21T13:03:32.985Z"
   },
   {
    "duration": 11,
    "start_time": "2023-08-21T13:03:33.680Z"
   },
   {
    "duration": 14,
    "start_time": "2023-08-21T13:08:58.076Z"
   },
   {
    "duration": 7,
    "start_time": "2023-08-21T13:09:25.281Z"
   },
   {
    "duration": 13,
    "start_time": "2023-08-21T13:10:16.191Z"
   },
   {
    "duration": 11,
    "start_time": "2023-08-21T13:10:29.057Z"
   },
   {
    "duration": 14,
    "start_time": "2023-08-21T13:11:52.871Z"
   },
   {
    "duration": 13,
    "start_time": "2023-08-21T13:12:03.018Z"
   },
   {
    "duration": 13,
    "start_time": "2023-08-21T13:14:44.541Z"
   },
   {
    "duration": 13,
    "start_time": "2023-08-21T13:16:57.804Z"
   },
   {
    "duration": 1168,
    "start_time": "2023-08-21T13:17:09.648Z"
   },
   {
    "duration": 194,
    "start_time": "2023-08-21T13:17:10.818Z"
   },
   {
    "duration": 197,
    "start_time": "2023-08-21T13:17:11.014Z"
   },
   {
    "duration": 180,
    "start_time": "2023-08-21T13:17:11.214Z"
   },
   {
    "duration": 21,
    "start_time": "2023-08-21T13:17:11.395Z"
   },
   {
    "duration": 106,
    "start_time": "2023-08-21T13:17:11.418Z"
   },
   {
    "duration": 16,
    "start_time": "2023-08-21T13:17:11.526Z"
   },
   {
    "duration": 30,
    "start_time": "2023-08-21T13:17:11.544Z"
   },
   {
    "duration": 10,
    "start_time": "2023-08-21T13:17:11.576Z"
   },
   {
    "duration": 44,
    "start_time": "2023-08-21T13:17:11.589Z"
   },
   {
    "duration": 40,
    "start_time": "2023-08-21T13:17:11.635Z"
   },
   {
    "duration": 69,
    "start_time": "2023-08-21T13:17:11.677Z"
   },
   {
    "duration": 6,
    "start_time": "2023-08-21T13:17:11.749Z"
   },
   {
    "duration": 117,
    "start_time": "2023-08-21T13:17:11.757Z"
   },
   {
    "duration": 23,
    "start_time": "2023-08-21T13:17:11.966Z"
   },
   {
    "duration": 105,
    "start_time": "2023-08-21T13:17:12.066Z"
   },
   {
    "duration": 96,
    "start_time": "2023-08-21T13:17:12.173Z"
   },
   {
    "duration": 97,
    "start_time": "2023-08-21T13:17:12.271Z"
   },
   {
    "duration": 18,
    "start_time": "2023-08-21T13:17:12.371Z"
   },
   {
    "duration": 11,
    "start_time": "2023-08-21T13:17:12.392Z"
   },
   {
    "duration": 21,
    "start_time": "2023-08-21T13:17:12.405Z"
   },
   {
    "duration": 13,
    "start_time": "2023-08-21T13:17:12.428Z"
   },
   {
    "duration": 35,
    "start_time": "2023-08-21T13:17:12.443Z"
   },
   {
    "duration": 138,
    "start_time": "2023-08-21T13:17:12.480Z"
   },
   {
    "duration": 14,
    "start_time": "2023-08-21T13:24:19.029Z"
   },
   {
    "duration": 13,
    "start_time": "2023-08-21T13:24:49.321Z"
   },
   {
    "duration": 14,
    "start_time": "2023-08-21T13:25:29.336Z"
   },
   {
    "duration": 1147,
    "start_time": "2023-08-21T13:25:54.826Z"
   },
   {
    "duration": 187,
    "start_time": "2023-08-21T13:25:55.975Z"
   },
   {
    "duration": 162,
    "start_time": "2023-08-21T13:25:56.163Z"
   },
   {
    "duration": 165,
    "start_time": "2023-08-21T13:25:56.327Z"
   },
   {
    "duration": 23,
    "start_time": "2023-08-21T13:25:56.495Z"
   },
   {
    "duration": 102,
    "start_time": "2023-08-21T13:25:56.519Z"
   },
   {
    "duration": 16,
    "start_time": "2023-08-21T13:25:56.623Z"
   },
   {
    "duration": 29,
    "start_time": "2023-08-21T13:25:56.640Z"
   },
   {
    "duration": 10,
    "start_time": "2023-08-21T13:25:56.671Z"
   },
   {
    "duration": 25,
    "start_time": "2023-08-21T13:25:56.683Z"
   },
   {
    "duration": 6,
    "start_time": "2023-08-21T13:25:56.709Z"
   },
   {
    "duration": 35,
    "start_time": "2023-08-21T13:25:56.716Z"
   },
   {
    "duration": 16,
    "start_time": "2023-08-21T13:25:56.752Z"
   },
   {
    "duration": 102,
    "start_time": "2023-08-21T13:25:56.770Z"
   },
   {
    "duration": 193,
    "start_time": "2023-08-21T13:25:56.875Z"
   },
   {
    "duration": 111,
    "start_time": "2023-08-21T13:25:57.071Z"
   },
   {
    "duration": 4,
    "start_time": "2023-08-21T13:25:57.268Z"
   },
   {
    "duration": 96,
    "start_time": "2023-08-21T13:25:57.273Z"
   },
   {
    "duration": 32,
    "start_time": "2023-08-21T13:25:57.371Z"
   },
   {
    "duration": 8,
    "start_time": "2023-08-21T13:25:57.405Z"
   },
   {
    "duration": 42,
    "start_time": "2023-08-21T13:25:57.415Z"
   },
   {
    "duration": 36,
    "start_time": "2023-08-21T13:25:57.459Z"
   },
   {
    "duration": 9,
    "start_time": "2023-08-21T13:25:57.497Z"
   },
   {
    "duration": 103,
    "start_time": "2023-08-21T13:25:57.507Z"
   },
   {
    "duration": 30,
    "start_time": "2023-08-21T13:28:39.160Z"
   },
   {
    "duration": 21,
    "start_time": "2023-08-21T13:30:40.972Z"
   },
   {
    "duration": 26,
    "start_time": "2023-08-21T13:32:06.250Z"
   },
   {
    "duration": 4,
    "start_time": "2023-08-21T13:39:05.101Z"
   },
   {
    "duration": 9,
    "start_time": "2023-08-21T13:39:05.676Z"
   },
   {
    "duration": 9,
    "start_time": "2023-08-21T13:39:06.202Z"
   },
   {
    "duration": 11,
    "start_time": "2023-08-21T13:39:06.505Z"
   },
   {
    "duration": 27,
    "start_time": "2023-08-21T13:39:11.970Z"
   },
   {
    "duration": 1317,
    "start_time": "2023-08-21T13:40:08.473Z"
   },
   {
    "duration": 1291,
    "start_time": "2023-08-21T13:40:41.835Z"
   },
   {
    "duration": 1411,
    "start_time": "2023-08-21T13:44:43.810Z"
   },
   {
    "duration": 1270,
    "start_time": "2023-08-21T13:46:04.136Z"
   },
   {
    "duration": 1494,
    "start_time": "2023-08-21T14:05:21.368Z"
   },
   {
    "duration": 4,
    "start_time": "2023-08-21T14:07:52.205Z"
   },
   {
    "duration": 29,
    "start_time": "2023-08-21T14:07:52.860Z"
   },
   {
    "duration": 5,
    "start_time": "2023-08-21T14:08:27.103Z"
   },
   {
    "duration": 9,
    "start_time": "2023-08-21T14:08:27.452Z"
   },
   {
    "duration": 9,
    "start_time": "2023-08-21T14:08:28.159Z"
   },
   {
    "duration": 9,
    "start_time": "2023-08-21T14:08:28.572Z"
   },
   {
    "duration": 1251,
    "start_time": "2023-08-21T14:08:58.313Z"
   },
   {
    "duration": 4,
    "start_time": "2023-08-21T14:10:08.012Z"
   },
   {
    "duration": 23,
    "start_time": "2023-08-21T14:10:08.581Z"
   },
   {
    "duration": 4,
    "start_time": "2023-08-21T14:21:29.709Z"
   },
   {
    "duration": 9,
    "start_time": "2023-08-21T14:21:32.012Z"
   },
   {
    "duration": 9,
    "start_time": "2023-08-21T14:21:33.645Z"
   },
   {
    "duration": 8,
    "start_time": "2023-08-21T14:21:34.665Z"
   },
   {
    "duration": 1450,
    "start_time": "2023-08-21T14:21:40.167Z"
   },
   {
    "duration": 181,
    "start_time": "2023-08-21T14:47:10.354Z"
   },
   {
    "duration": 1238,
    "start_time": "2023-08-21T14:47:41.383Z"
   },
   {
    "duration": 1197,
    "start_time": "2023-08-21T14:50:43.680Z"
   },
   {
    "duration": 1268,
    "start_time": "2023-08-21T14:54:53.599Z"
   },
   {
    "duration": 1321,
    "start_time": "2023-08-21T14:55:29.253Z"
   },
   {
    "duration": 1129,
    "start_time": "2023-08-21T14:57:55.133Z"
   },
   {
    "duration": 2215,
    "start_time": "2023-08-21T17:55:35.334Z"
   },
   {
    "duration": 780,
    "start_time": "2023-08-21T17:55:37.552Z"
   },
   {
    "duration": 378,
    "start_time": "2023-08-21T17:55:38.339Z"
   },
   {
    "duration": 383,
    "start_time": "2023-08-21T17:55:38.719Z"
   },
   {
    "duration": 38,
    "start_time": "2023-08-21T17:55:39.110Z"
   },
   {
    "duration": 106,
    "start_time": "2023-08-21T17:55:39.150Z"
   },
   {
    "duration": 16,
    "start_time": "2023-08-21T17:55:39.258Z"
   },
   {
    "duration": 38,
    "start_time": "2023-08-21T17:55:39.275Z"
   },
   {
    "duration": 15,
    "start_time": "2023-08-21T17:55:39.319Z"
   },
   {
    "duration": 19,
    "start_time": "2023-08-21T17:55:39.336Z"
   },
   {
    "duration": 10,
    "start_time": "2023-08-21T17:55:39.357Z"
   },
   {
    "duration": 43,
    "start_time": "2023-08-21T17:55:39.369Z"
   },
   {
    "duration": 10,
    "start_time": "2023-08-21T17:55:39.414Z"
   },
   {
    "duration": 31,
    "start_time": "2023-08-21T17:55:39.427Z"
   },
   {
    "duration": 134,
    "start_time": "2023-08-21T17:55:39.499Z"
   },
   {
    "duration": 81,
    "start_time": "2023-08-21T17:55:39.637Z"
   },
   {
    "duration": 76,
    "start_time": "2023-08-21T17:55:39.725Z"
   },
   {
    "duration": 87,
    "start_time": "2023-08-21T17:55:39.809Z"
   },
   {
    "duration": 11,
    "start_time": "2023-08-21T17:55:39.899Z"
   },
   {
    "duration": 24,
    "start_time": "2023-08-21T17:55:39.912Z"
   },
   {
    "duration": 67,
    "start_time": "2023-08-21T17:55:39.938Z"
   },
   {
    "duration": 28,
    "start_time": "2023-08-21T17:55:40.007Z"
   },
   {
    "duration": 53,
    "start_time": "2023-08-21T17:55:40.038Z"
   },
   {
    "duration": 1309,
    "start_time": "2023-08-21T17:55:40.092Z"
   },
   {
    "duration": 1272,
    "start_time": "2023-08-21T17:55:41.403Z"
   },
   {
    "duration": 1265,
    "start_time": "2023-08-21T17:55:42.677Z"
   },
   {
    "duration": 122,
    "start_time": "2023-08-21T17:58:16.053Z"
   }
  ],
  "kernelspec": {
   "display_name": "Python 3 (ipykernel)",
   "language": "python",
   "name": "python3"
  },
  "language_info": {
   "codemirror_mode": {
    "name": "ipython",
    "version": 3
   },
   "file_extension": ".py",
   "mimetype": "text/x-python",
   "name": "python",
   "nbconvert_exporter": "python",
   "pygments_lexer": "ipython3",
   "version": "3.9.5"
  },
  "toc": {
   "base_numbering": 1,
   "nav_menu": {},
   "number_sections": true,
   "sideBar": true,
   "skip_h1_title": true,
   "title_cell": "Table of Contents",
   "title_sidebar": "Contents",
   "toc_cell": false,
   "toc_position": {},
   "toc_section_display": true,
   "toc_window_display": true
  }
 },
 "nbformat": 4,
 "nbformat_minor": 2
}
