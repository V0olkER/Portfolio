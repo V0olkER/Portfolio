{
 "cells": [
  {
   "cell_type": "markdown",
   "metadata": {},
   "source": [
    "**Содержание**<a id='toc0_'></a>    \n",
    "- [Определение стоимости автомобилей](#toc1_)    \n",
    "  - [Подготовка данных](#toc1_1_)    \n",
    "    - [Анализ и предобработка данных](#toc1_1_1_)    \n",
    "      - [Price](#toc1_1_1_1_)    \n",
    "      - [VehicleType - категориальный признак](#toc1_1_1_2_)    \n",
    "      - [RegistrationYear](#toc1_1_1_3_)    \n",
    "      - [Gearbox  - категориальный признак](#toc1_1_1_4_)    \n",
    "      - [Power](#toc1_1_1_5_)    \n",
    "      - [Model - категориальный признак](#toc1_1_1_6_)    \n",
    "      - [Kilometer](#toc1_1_1_7_)    \n",
    "      - [RegistrationMonth](#toc1_1_1_8_)    \n",
    "      - [FuelType - Категориальный признак](#toc1_1_1_9_)    \n",
    "      - [Brand - Категориальный признак](#toc1_1_1_10_)    \n",
    "      - [Repaired - Категориальный признак.](#toc1_1_1_11_)    \n",
    "      - [PostalCode](#toc1_1_1_12_)    \n",
    "    - [Разбивка на выборки](#toc1_1_2_)    \n",
    "    - [Кодировка](#toc1_1_3_)    \n",
    "    - [Масштабирование](#toc1_1_4_)    \n",
    "    - [Объеденяем выборки](#toc1_1_5_)    \n",
    "  - [Обучение моделей](#toc1_2_)    \n",
    "    - [Случайный лес](#toc1_2_1_)    \n",
    "    - [Линейная регрессия](#toc1_2_2_)    \n",
    "    - [LightGBM](#toc1_2_3_)    \n",
    "    - [CatBoost](#toc1_2_4_)    \n",
    "  - [Анализ моделей](#toc1_3_)    \n",
    "    - [Проверка лучшей на тестовых данных](#toc1_3_1_)    \n",
    "  - [Вывод:](#toc1_4_)    \n",
    "\n",
    "<!-- vscode-jupyter-toc-config\n",
    "\tnumbering=false\n",
    "\tanchor=true\n",
    "\tflat=false\n",
    "\tminLevel=1\n",
    "\tmaxLevel=6\n",
    "\t/vscode-jupyter-toc-config -->\n",
    "<!-- THIS CELL WILL BE REPLACED ON TOC UPDATE. DO NOT WRITE YOUR TEXT IN THIS CELL -->"
   ]
  },
  {
   "cell_type": "markdown",
   "metadata": {},
   "source": [
    "# <a id='toc1_'></a>[Определение стоимости автомобилей](#toc0_)"
   ]
  },
  {
   "cell_type": "markdown",
   "metadata": {},
   "source": [
    "Сервис по продаже автомобилей с пробегом разрабатывает приложение для привлечения новых клиентов. В нём можно быстро узнать рыночную стоимость своего автомобиля. В вашем распоряжении исторические данные: технические характеристики, комплектации и цены автомобилей. Вам нужно построить модель для определения стоимости. \n",
    "\n",
    "Заказчику важны:\n",
    "\n",
    "- качество предсказания;\n",
    "- скорость предсказания;\n",
    "- время обучения."
   ]
  },
  {
   "cell_type": "markdown",
   "metadata": {},
   "source": [
    "## <a id='toc1_1_'></a>[Подготовка данных](#toc0_)"
   ]
  },
  {
   "cell_type": "code",
   "execution_count": 1,
   "metadata": {},
   "outputs": [],
   "source": [
    "#загрузка библиотек\n",
    "import pandas as pd\n",
    "import numpy as np\n",
    "from IPython.core.display import display, HTML\n",
    "import matplotlib.pyplot as plt\n",
    "from sklearn.model_selection import train_test_split\n",
    "from sklearn.preprocessing import OneHotEncoder\n",
    "from sklearn.preprocessing import StandardScaler\n",
    "import time\n",
    "from sklearn.ensemble import RandomForestRegressor\n",
    "from sklearn.linear_model import LinearRegression\n",
    "from sklearn.metrics import mean_squared_error\n",
    "from lightgbm import LGBMRegressor\n",
    "from catboost import CatBoostRegressor\n",
    "from sklearn.preprocessing import OrdinalEncoder \n",
    "import lightgbm as lgb"
   ]
  },
  {
   "cell_type": "code",
   "execution_count": 2,
   "metadata": {},
   "outputs": [
    {
     "data": {
      "text/html": [
       "<style>.container { width:75% !important; }</style>"
      ],
      "text/plain": [
       "<IPython.core.display.HTML object>"
      ]
     },
     "metadata": {},
     "output_type": "display_data"
    }
   ],
   "source": [
    "display(HTML(\"<style>.container { width:75% !important; }</style>\")) # больше не делаю, экран не такой большой как хотелось бы"
   ]
  },
  {
   "cell_type": "code",
   "execution_count": 3,
   "metadata": {},
   "outputs": [
    {
     "name": "stdout",
     "output_type": "stream",
     "text": [
      "<class 'pandas.core.frame.DataFrame'>\n",
      "RangeIndex: 354369 entries, 0 to 354368\n",
      "Data columns (total 16 columns):\n",
      " #   Column             Non-Null Count   Dtype \n",
      "---  ------             --------------   ----- \n",
      " 0   DateCrawled        354369 non-null  object\n",
      " 1   Price              354369 non-null  int64 \n",
      " 2   VehicleType        316879 non-null  object\n",
      " 3   RegistrationYear   354369 non-null  int64 \n",
      " 4   Gearbox            334536 non-null  object\n",
      " 5   Power              354369 non-null  int64 \n",
      " 6   Model              334664 non-null  object\n",
      " 7   Kilometer          354369 non-null  int64 \n",
      " 8   RegistrationMonth  354369 non-null  int64 \n",
      " 9   FuelType           321474 non-null  object\n",
      " 10  Brand              354369 non-null  object\n",
      " 11  Repaired           283215 non-null  object\n",
      " 12  DateCreated        354369 non-null  object\n",
      " 13  NumberOfPictures   354369 non-null  int64 \n",
      " 14  PostalCode         354369 non-null  int64 \n",
      " 15  LastSeen           354369 non-null  object\n",
      "dtypes: int64(7), object(9)\n",
      "memory usage: 43.3+ MB\n"
     ]
    },
    {
     "data": {
      "text/plain": [
       "None"
      ]
     },
     "metadata": {},
     "output_type": "display_data"
    },
    {
     "data": {
      "text/html": [
       "<div>\n",
       "<style scoped>\n",
       "    .dataframe tbody tr th:only-of-type {\n",
       "        vertical-align: middle;\n",
       "    }\n",
       "\n",
       "    .dataframe tbody tr th {\n",
       "        vertical-align: top;\n",
       "    }\n",
       "\n",
       "    .dataframe thead th {\n",
       "        text-align: right;\n",
       "    }\n",
       "</style>\n",
       "<table border=\"1\" class=\"dataframe\">\n",
       "  <thead>\n",
       "    <tr style=\"text-align: right;\">\n",
       "      <th></th>\n",
       "      <th>DateCrawled</th>\n",
       "      <th>Price</th>\n",
       "      <th>VehicleType</th>\n",
       "      <th>RegistrationYear</th>\n",
       "      <th>Gearbox</th>\n",
       "      <th>Power</th>\n",
       "      <th>Model</th>\n",
       "      <th>Kilometer</th>\n",
       "      <th>RegistrationMonth</th>\n",
       "      <th>FuelType</th>\n",
       "      <th>Brand</th>\n",
       "      <th>Repaired</th>\n",
       "      <th>DateCreated</th>\n",
       "      <th>NumberOfPictures</th>\n",
       "      <th>PostalCode</th>\n",
       "      <th>LastSeen</th>\n",
       "    </tr>\n",
       "  </thead>\n",
       "  <tbody>\n",
       "    <tr>\n",
       "      <th>0</th>\n",
       "      <td>2016-03-24 11:52:17</td>\n",
       "      <td>480</td>\n",
       "      <td>NaN</td>\n",
       "      <td>1993</td>\n",
       "      <td>manual</td>\n",
       "      <td>0</td>\n",
       "      <td>golf</td>\n",
       "      <td>150000</td>\n",
       "      <td>0</td>\n",
       "      <td>petrol</td>\n",
       "      <td>volkswagen</td>\n",
       "      <td>NaN</td>\n",
       "      <td>2016-03-24 00:00:00</td>\n",
       "      <td>0</td>\n",
       "      <td>70435</td>\n",
       "      <td>2016-04-07 03:16:57</td>\n",
       "    </tr>\n",
       "    <tr>\n",
       "      <th>1</th>\n",
       "      <td>2016-03-24 10:58:45</td>\n",
       "      <td>18300</td>\n",
       "      <td>coupe</td>\n",
       "      <td>2011</td>\n",
       "      <td>manual</td>\n",
       "      <td>190</td>\n",
       "      <td>NaN</td>\n",
       "      <td>125000</td>\n",
       "      <td>5</td>\n",
       "      <td>gasoline</td>\n",
       "      <td>audi</td>\n",
       "      <td>yes</td>\n",
       "      <td>2016-03-24 00:00:00</td>\n",
       "      <td>0</td>\n",
       "      <td>66954</td>\n",
       "      <td>2016-04-07 01:46:50</td>\n",
       "    </tr>\n",
       "    <tr>\n",
       "      <th>2</th>\n",
       "      <td>2016-03-14 12:52:21</td>\n",
       "      <td>9800</td>\n",
       "      <td>suv</td>\n",
       "      <td>2004</td>\n",
       "      <td>auto</td>\n",
       "      <td>163</td>\n",
       "      <td>grand</td>\n",
       "      <td>125000</td>\n",
       "      <td>8</td>\n",
       "      <td>gasoline</td>\n",
       "      <td>jeep</td>\n",
       "      <td>NaN</td>\n",
       "      <td>2016-03-14 00:00:00</td>\n",
       "      <td>0</td>\n",
       "      <td>90480</td>\n",
       "      <td>2016-04-05 12:47:46</td>\n",
       "    </tr>\n",
       "    <tr>\n",
       "      <th>3</th>\n",
       "      <td>2016-03-17 16:54:04</td>\n",
       "      <td>1500</td>\n",
       "      <td>small</td>\n",
       "      <td>2001</td>\n",
       "      <td>manual</td>\n",
       "      <td>75</td>\n",
       "      <td>golf</td>\n",
       "      <td>150000</td>\n",
       "      <td>6</td>\n",
       "      <td>petrol</td>\n",
       "      <td>volkswagen</td>\n",
       "      <td>no</td>\n",
       "      <td>2016-03-17 00:00:00</td>\n",
       "      <td>0</td>\n",
       "      <td>91074</td>\n",
       "      <td>2016-03-17 17:40:17</td>\n",
       "    </tr>\n",
       "    <tr>\n",
       "      <th>4</th>\n",
       "      <td>2016-03-31 17:25:20</td>\n",
       "      <td>3600</td>\n",
       "      <td>small</td>\n",
       "      <td>2008</td>\n",
       "      <td>manual</td>\n",
       "      <td>69</td>\n",
       "      <td>fabia</td>\n",
       "      <td>90000</td>\n",
       "      <td>7</td>\n",
       "      <td>gasoline</td>\n",
       "      <td>skoda</td>\n",
       "      <td>no</td>\n",
       "      <td>2016-03-31 00:00:00</td>\n",
       "      <td>0</td>\n",
       "      <td>60437</td>\n",
       "      <td>2016-04-06 10:17:21</td>\n",
       "    </tr>\n",
       "  </tbody>\n",
       "</table>\n",
       "</div>"
      ],
      "text/plain": [
       "           DateCrawled  Price VehicleType  RegistrationYear Gearbox  Power  \\\n",
       "0  2016-03-24 11:52:17    480         NaN              1993  manual      0   \n",
       "1  2016-03-24 10:58:45  18300       coupe              2011  manual    190   \n",
       "2  2016-03-14 12:52:21   9800         suv              2004    auto    163   \n",
       "3  2016-03-17 16:54:04   1500       small              2001  manual     75   \n",
       "4  2016-03-31 17:25:20   3600       small              2008  manual     69   \n",
       "\n",
       "   Model  Kilometer  RegistrationMonth  FuelType       Brand Repaired  \\\n",
       "0   golf     150000                  0    petrol  volkswagen      NaN   \n",
       "1    NaN     125000                  5  gasoline        audi      yes   \n",
       "2  grand     125000                  8  gasoline        jeep      NaN   \n",
       "3   golf     150000                  6    petrol  volkswagen       no   \n",
       "4  fabia      90000                  7  gasoline       skoda       no   \n",
       "\n",
       "           DateCreated  NumberOfPictures  PostalCode             LastSeen  \n",
       "0  2016-03-24 00:00:00                 0       70435  2016-04-07 03:16:57  \n",
       "1  2016-03-24 00:00:00                 0       66954  2016-04-07 01:46:50  \n",
       "2  2016-03-14 00:00:00                 0       90480  2016-04-05 12:47:46  \n",
       "3  2016-03-17 00:00:00                 0       91074  2016-03-17 17:40:17  \n",
       "4  2016-03-31 00:00:00                 0       60437  2016-04-06 10:17:21  "
      ]
     },
     "metadata": {},
     "output_type": "display_data"
    }
   ],
   "source": [
    "data = pd.read_csv('/datasets/autos.csv')\n",
    "display(data.info())\n",
    "display(data.head())"
   ]
  },
  {
   "cell_type": "markdown",
   "metadata": {},
   "source": [
    "В датасете 16 столбцов и 354369 строк.\n",
    "\n",
    "Признаки:\n",
    "\n",
    "    DateCrawled — дата скачивания анкеты из базы\n",
    "    VehicleType — тип автомобильного кузова\n",
    "    RegistrationYear — год регистрации автомобиля\n",
    "    Gearbox — тип коробки передач\n",
    "    Power — мощность (л. с.)\n",
    "    Model — модель автомобиля\n",
    "    Kilometer — пробег (км)\n",
    "    RegistrationMonth — месяц регистрации автомобиля\n",
    "    FuelType — тип топлива\n",
    "    Brand — марка автомобиля\n",
    "    Repaired — была машина в ремонте или нет\n",
    "    DateCreated — дата создания анкеты\n",
    "    NumberOfPictures — количество фотографий автомобиля\n",
    "    PostalCode — почтовый индекс владельца анкеты (пользователя)\n",
    "    LastSeen — дата последней активности пользователя\n",
    "    \n",
    "Целевой признак:\n",
    "\n",
    "    Price — цена (евро)\n",
    "    \n",
    "По первым строкам датасета уже видно что есть пропущенные значения в данных. Ниже посмотрим на количество пропусков, а также поработаем над их устранением. \n"
   ]
  },
  {
   "cell_type": "code",
   "execution_count": 4,
   "metadata": {},
   "outputs": [
    {
     "data": {
      "text/html": [
       "<div>\n",
       "<style scoped>\n",
       "    .dataframe tbody tr th:only-of-type {\n",
       "        vertical-align: middle;\n",
       "    }\n",
       "\n",
       "    .dataframe tbody tr th {\n",
       "        vertical-align: top;\n",
       "    }\n",
       "\n",
       "    .dataframe thead th {\n",
       "        text-align: right;\n",
       "    }\n",
       "</style>\n",
       "<table border=\"1\" class=\"dataframe\">\n",
       "  <thead>\n",
       "    <tr style=\"text-align: right;\">\n",
       "      <th></th>\n",
       "      <th>Price</th>\n",
       "      <th>RegistrationYear</th>\n",
       "      <th>Power</th>\n",
       "      <th>Kilometer</th>\n",
       "      <th>RegistrationMonth</th>\n",
       "      <th>NumberOfPictures</th>\n",
       "      <th>PostalCode</th>\n",
       "    </tr>\n",
       "  </thead>\n",
       "  <tbody>\n",
       "    <tr>\n",
       "      <th>count</th>\n",
       "      <td>354369.000000</td>\n",
       "      <td>354369.000000</td>\n",
       "      <td>354369.000000</td>\n",
       "      <td>354369.000000</td>\n",
       "      <td>354369.000000</td>\n",
       "      <td>354369.0</td>\n",
       "      <td>354369.000000</td>\n",
       "    </tr>\n",
       "    <tr>\n",
       "      <th>mean</th>\n",
       "      <td>4416.656776</td>\n",
       "      <td>2004.234448</td>\n",
       "      <td>110.094337</td>\n",
       "      <td>128211.172535</td>\n",
       "      <td>5.714645</td>\n",
       "      <td>0.0</td>\n",
       "      <td>50508.689087</td>\n",
       "    </tr>\n",
       "    <tr>\n",
       "      <th>std</th>\n",
       "      <td>4514.158514</td>\n",
       "      <td>90.227958</td>\n",
       "      <td>189.850405</td>\n",
       "      <td>37905.341530</td>\n",
       "      <td>3.726421</td>\n",
       "      <td>0.0</td>\n",
       "      <td>25783.096248</td>\n",
       "    </tr>\n",
       "    <tr>\n",
       "      <th>min</th>\n",
       "      <td>0.000000</td>\n",
       "      <td>1000.000000</td>\n",
       "      <td>0.000000</td>\n",
       "      <td>5000.000000</td>\n",
       "      <td>0.000000</td>\n",
       "      <td>0.0</td>\n",
       "      <td>1067.000000</td>\n",
       "    </tr>\n",
       "    <tr>\n",
       "      <th>25%</th>\n",
       "      <td>1050.000000</td>\n",
       "      <td>1999.000000</td>\n",
       "      <td>69.000000</td>\n",
       "      <td>125000.000000</td>\n",
       "      <td>3.000000</td>\n",
       "      <td>0.0</td>\n",
       "      <td>30165.000000</td>\n",
       "    </tr>\n",
       "    <tr>\n",
       "      <th>50%</th>\n",
       "      <td>2700.000000</td>\n",
       "      <td>2003.000000</td>\n",
       "      <td>105.000000</td>\n",
       "      <td>150000.000000</td>\n",
       "      <td>6.000000</td>\n",
       "      <td>0.0</td>\n",
       "      <td>49413.000000</td>\n",
       "    </tr>\n",
       "    <tr>\n",
       "      <th>75%</th>\n",
       "      <td>6400.000000</td>\n",
       "      <td>2008.000000</td>\n",
       "      <td>143.000000</td>\n",
       "      <td>150000.000000</td>\n",
       "      <td>9.000000</td>\n",
       "      <td>0.0</td>\n",
       "      <td>71083.000000</td>\n",
       "    </tr>\n",
       "    <tr>\n",
       "      <th>max</th>\n",
       "      <td>20000.000000</td>\n",
       "      <td>9999.000000</td>\n",
       "      <td>20000.000000</td>\n",
       "      <td>150000.000000</td>\n",
       "      <td>12.000000</td>\n",
       "      <td>0.0</td>\n",
       "      <td>99998.000000</td>\n",
       "    </tr>\n",
       "  </tbody>\n",
       "</table>\n",
       "</div>"
      ],
      "text/plain": [
       "               Price  RegistrationYear          Power      Kilometer  \\\n",
       "count  354369.000000     354369.000000  354369.000000  354369.000000   \n",
       "mean     4416.656776       2004.234448     110.094337  128211.172535   \n",
       "std      4514.158514         90.227958     189.850405   37905.341530   \n",
       "min         0.000000       1000.000000       0.000000    5000.000000   \n",
       "25%      1050.000000       1999.000000      69.000000  125000.000000   \n",
       "50%      2700.000000       2003.000000     105.000000  150000.000000   \n",
       "75%      6400.000000       2008.000000     143.000000  150000.000000   \n",
       "max     20000.000000       9999.000000   20000.000000  150000.000000   \n",
       "\n",
       "       RegistrationMonth  NumberOfPictures     PostalCode  \n",
       "count      354369.000000          354369.0  354369.000000  \n",
       "mean            5.714645               0.0   50508.689087  \n",
       "std             3.726421               0.0   25783.096248  \n",
       "min             0.000000               0.0    1067.000000  \n",
       "25%             3.000000               0.0   30165.000000  \n",
       "50%             6.000000               0.0   49413.000000  \n",
       "75%             9.000000               0.0   71083.000000  \n",
       "max            12.000000               0.0   99998.000000  "
      ]
     },
     "execution_count": 4,
     "metadata": {},
     "output_type": "execute_result"
    }
   ],
   "source": [
    "data.describe()"
   ]
  },
  {
   "cell_type": "markdown",
   "metadata": {},
   "source": [
    "Заметки:\n",
    "    \n",
    "    Столбцы DateCrawled, DateCreated, LastSeen  - столбцы с датами, их надо преобразовать к типу datetime\n",
    "    В столбце RegistrationYear - есть значения 1000 и 9999 - явно выбросы, необходимо изучить столбец более подробно. \n",
    "    В столбце Power также имеются выбросы, максимальное значение 20.000 - оно не реально, машина - монстр Devel Sixteen (5000 л. с.), является самой мощной машиной в мире и есть всего в 3х экземплярах. Да и в минимальном значении есть нули, что можно тоже посчитать некорректными данными. Нужно более подробно разобрать данный столбец.  \n",
    "    В столбце Price есть нулевые значения. \n",
    "    В столбце NumberOfPictures - одни нули, данный столбец бесполезен нам для дальнейшего исследования, его можно убрать из датасета. \n",
    "\n",
    "    "
   ]
  },
  {
   "cell_type": "code",
   "execution_count": 5,
   "metadata": {},
   "outputs": [],
   "source": [
    "# удаляем столбцец\n",
    "data = data.drop('NumberOfPictures', axis=1)\n"
   ]
  },
  {
   "cell_type": "code",
   "execution_count": 6,
   "metadata": {},
   "outputs": [],
   "source": [
    "# Преобразовываем временные столбцы\n",
    "data[['DateCrawled', 'DateCreated', 'LastSeen']] = data[['DateCrawled', 'DateCreated', 'LastSeen']].apply(pd.to_datetime)"
   ]
  },
  {
   "cell_type": "code",
   "execution_count": 7,
   "metadata": {},
   "outputs": [
    {
     "name": "stdout",
     "output_type": "stream",
     "text": [
      "<class 'pandas.core.frame.DataFrame'>\n",
      "RangeIndex: 354369 entries, 0 to 354368\n",
      "Data columns (total 15 columns):\n",
      " #   Column             Non-Null Count   Dtype         \n",
      "---  ------             --------------   -----         \n",
      " 0   DateCrawled        354369 non-null  datetime64[ns]\n",
      " 1   Price              354369 non-null  int64         \n",
      " 2   VehicleType        316879 non-null  object        \n",
      " 3   RegistrationYear   354369 non-null  int64         \n",
      " 4   Gearbox            334536 non-null  object        \n",
      " 5   Power              354369 non-null  int64         \n",
      " 6   Model              334664 non-null  object        \n",
      " 7   Kilometer          354369 non-null  int64         \n",
      " 8   RegistrationMonth  354369 non-null  int64         \n",
      " 9   FuelType           321474 non-null  object        \n",
      " 10  Brand              354369 non-null  object        \n",
      " 11  Repaired           283215 non-null  object        \n",
      " 12  DateCreated        354369 non-null  datetime64[ns]\n",
      " 13  PostalCode         354369 non-null  int64         \n",
      " 14  LastSeen           354369 non-null  datetime64[ns]\n",
      "dtypes: datetime64[ns](3), int64(6), object(6)\n",
      "memory usage: 40.6+ MB\n"
     ]
    },
    {
     "data": {
      "text/plain": [
       "None"
      ]
     },
     "metadata": {},
     "output_type": "display_data"
    },
    {
     "data": {
      "text/html": [
       "<div>\n",
       "<style scoped>\n",
       "    .dataframe tbody tr th:only-of-type {\n",
       "        vertical-align: middle;\n",
       "    }\n",
       "\n",
       "    .dataframe tbody tr th {\n",
       "        vertical-align: top;\n",
       "    }\n",
       "\n",
       "    .dataframe thead th {\n",
       "        text-align: right;\n",
       "    }\n",
       "</style>\n",
       "<table border=\"1\" class=\"dataframe\">\n",
       "  <thead>\n",
       "    <tr style=\"text-align: right;\">\n",
       "      <th></th>\n",
       "      <th>DateCrawled</th>\n",
       "      <th>Price</th>\n",
       "      <th>VehicleType</th>\n",
       "      <th>RegistrationYear</th>\n",
       "      <th>Gearbox</th>\n",
       "      <th>Power</th>\n",
       "      <th>Model</th>\n",
       "      <th>Kilometer</th>\n",
       "      <th>RegistrationMonth</th>\n",
       "      <th>FuelType</th>\n",
       "      <th>Brand</th>\n",
       "      <th>Repaired</th>\n",
       "      <th>DateCreated</th>\n",
       "      <th>PostalCode</th>\n",
       "      <th>LastSeen</th>\n",
       "    </tr>\n",
       "  </thead>\n",
       "  <tbody>\n",
       "    <tr>\n",
       "      <th>0</th>\n",
       "      <td>2016-03-24 11:52:17</td>\n",
       "      <td>480</td>\n",
       "      <td>NaN</td>\n",
       "      <td>1993</td>\n",
       "      <td>manual</td>\n",
       "      <td>0</td>\n",
       "      <td>golf</td>\n",
       "      <td>150000</td>\n",
       "      <td>0</td>\n",
       "      <td>petrol</td>\n",
       "      <td>volkswagen</td>\n",
       "      <td>NaN</td>\n",
       "      <td>2016-03-24</td>\n",
       "      <td>70435</td>\n",
       "      <td>2016-04-07 03:16:57</td>\n",
       "    </tr>\n",
       "    <tr>\n",
       "      <th>1</th>\n",
       "      <td>2016-03-24 10:58:45</td>\n",
       "      <td>18300</td>\n",
       "      <td>coupe</td>\n",
       "      <td>2011</td>\n",
       "      <td>manual</td>\n",
       "      <td>190</td>\n",
       "      <td>NaN</td>\n",
       "      <td>125000</td>\n",
       "      <td>5</td>\n",
       "      <td>gasoline</td>\n",
       "      <td>audi</td>\n",
       "      <td>yes</td>\n",
       "      <td>2016-03-24</td>\n",
       "      <td>66954</td>\n",
       "      <td>2016-04-07 01:46:50</td>\n",
       "    </tr>\n",
       "    <tr>\n",
       "      <th>2</th>\n",
       "      <td>2016-03-14 12:52:21</td>\n",
       "      <td>9800</td>\n",
       "      <td>suv</td>\n",
       "      <td>2004</td>\n",
       "      <td>auto</td>\n",
       "      <td>163</td>\n",
       "      <td>grand</td>\n",
       "      <td>125000</td>\n",
       "      <td>8</td>\n",
       "      <td>gasoline</td>\n",
       "      <td>jeep</td>\n",
       "      <td>NaN</td>\n",
       "      <td>2016-03-14</td>\n",
       "      <td>90480</td>\n",
       "      <td>2016-04-05 12:47:46</td>\n",
       "    </tr>\n",
       "    <tr>\n",
       "      <th>3</th>\n",
       "      <td>2016-03-17 16:54:04</td>\n",
       "      <td>1500</td>\n",
       "      <td>small</td>\n",
       "      <td>2001</td>\n",
       "      <td>manual</td>\n",
       "      <td>75</td>\n",
       "      <td>golf</td>\n",
       "      <td>150000</td>\n",
       "      <td>6</td>\n",
       "      <td>petrol</td>\n",
       "      <td>volkswagen</td>\n",
       "      <td>no</td>\n",
       "      <td>2016-03-17</td>\n",
       "      <td>91074</td>\n",
       "      <td>2016-03-17 17:40:17</td>\n",
       "    </tr>\n",
       "    <tr>\n",
       "      <th>4</th>\n",
       "      <td>2016-03-31 17:25:20</td>\n",
       "      <td>3600</td>\n",
       "      <td>small</td>\n",
       "      <td>2008</td>\n",
       "      <td>manual</td>\n",
       "      <td>69</td>\n",
       "      <td>fabia</td>\n",
       "      <td>90000</td>\n",
       "      <td>7</td>\n",
       "      <td>gasoline</td>\n",
       "      <td>skoda</td>\n",
       "      <td>no</td>\n",
       "      <td>2016-03-31</td>\n",
       "      <td>60437</td>\n",
       "      <td>2016-04-06 10:17:21</td>\n",
       "    </tr>\n",
       "  </tbody>\n",
       "</table>\n",
       "</div>"
      ],
      "text/plain": [
       "          DateCrawled  Price VehicleType  RegistrationYear Gearbox  Power  \\\n",
       "0 2016-03-24 11:52:17    480         NaN              1993  manual      0   \n",
       "1 2016-03-24 10:58:45  18300       coupe              2011  manual    190   \n",
       "2 2016-03-14 12:52:21   9800         suv              2004    auto    163   \n",
       "3 2016-03-17 16:54:04   1500       small              2001  manual     75   \n",
       "4 2016-03-31 17:25:20   3600       small              2008  manual     69   \n",
       "\n",
       "   Model  Kilometer  RegistrationMonth  FuelType       Brand Repaired  \\\n",
       "0   golf     150000                  0    petrol  volkswagen      NaN   \n",
       "1    NaN     125000                  5  gasoline        audi      yes   \n",
       "2  grand     125000                  8  gasoline        jeep      NaN   \n",
       "3   golf     150000                  6    petrol  volkswagen       no   \n",
       "4  fabia      90000                  7  gasoline       skoda       no   \n",
       "\n",
       "  DateCreated  PostalCode            LastSeen  \n",
       "0  2016-03-24       70435 2016-04-07 03:16:57  \n",
       "1  2016-03-24       66954 2016-04-07 01:46:50  \n",
       "2  2016-03-14       90480 2016-04-05 12:47:46  \n",
       "3  2016-03-17       91074 2016-03-17 17:40:17  \n",
       "4  2016-03-31       60437 2016-04-06 10:17:21  "
      ]
     },
     "metadata": {},
     "output_type": "display_data"
    }
   ],
   "source": [
    "#check\n",
    "display(data.info())\n",
    "display(data.head())"
   ]
  },
  {
   "cell_type": "code",
   "execution_count": 8,
   "metadata": {},
   "outputs": [
    {
     "data": {
      "text/plain": [
       "DateCrawled              0\n",
       "Price                    0\n",
       "VehicleType          37490\n",
       "RegistrationYear         0\n",
       "Gearbox              19833\n",
       "Power                    0\n",
       "Model                19705\n",
       "Kilometer                0\n",
       "RegistrationMonth        0\n",
       "FuelType             32895\n",
       "Brand                    0\n",
       "Repaired             71154\n",
       "DateCreated              0\n",
       "PostalCode               0\n",
       "LastSeen                 0\n",
       "dtype: int64"
      ]
     },
     "execution_count": 8,
     "metadata": {},
     "output_type": "execute_result"
    }
   ],
   "source": [
    "data.isna().sum()"
   ]
  },
  {
   "cell_type": "code",
   "execution_count": 9,
   "metadata": {},
   "outputs": [
    {
     "data": {
      "text/plain": [
       "DateCrawled          0.00\n",
       "Price                0.00\n",
       "VehicleType          0.11\n",
       "RegistrationYear     0.00\n",
       "Gearbox              0.06\n",
       "Power                0.00\n",
       "Model                0.06\n",
       "Kilometer            0.00\n",
       "RegistrationMonth    0.00\n",
       "FuelType             0.09\n",
       "Brand                0.00\n",
       "Repaired             0.20\n",
       "DateCreated          0.00\n",
       "PostalCode           0.00\n",
       "LastSeen             0.00\n",
       "dtype: float64"
      ]
     },
     "execution_count": 9,
     "metadata": {},
     "output_type": "execute_result"
    }
   ],
   "source": [
    "round(data.isna().mean(), 2)"
   ]
  },
  {
   "cell_type": "markdown",
   "metadata": {},
   "source": [
    "Как я уже и говорил выше, в датасете есть пропущенные значения, максимальная доля пропущенных значений 0.2. В целевом признаке нет пропусков.  "
   ]
  },
  {
   "cell_type": "code",
   "execution_count": 10,
   "metadata": {},
   "outputs": [
    {
     "name": "stdout",
     "output_type": "stream",
     "text": [
      "4\n"
     ]
    }
   ],
   "source": [
    "if data.duplicated().sum() == 0:\n",
    "    print('Дубликатов нет')\n",
    "else:\n",
    "    print(data.duplicated().sum())"
   ]
  },
  {
   "cell_type": "code",
   "execution_count": 11,
   "metadata": {},
   "outputs": [
    {
     "name": "stdout",
     "output_type": "stream",
     "text": [
      "Дубликатов нет\n"
     ]
    }
   ],
   "source": [
    "data = data.drop_duplicates()\n",
    "if data.duplicated().sum() == 0:\n",
    "    print('Дубликатов нет')\n",
    "else:\n",
    "    print(data.duplicated().sum())"
   ]
  },
  {
   "cell_type": "markdown",
   "metadata": {},
   "source": [
    "Нашли и избавились от дубликатов, их было всего 4 шутки. "
   ]
  },
  {
   "cell_type": "markdown",
   "metadata": {},
   "source": [
    "### <a id='toc1_1_1_'></a>[Анализ и предобработка данных](#toc0_)"
   ]
  },
  {
   "cell_type": "markdown",
   "metadata": {},
   "source": [
    "Изучим преобразованные столбцы с датами."
   ]
  },
  {
   "cell_type": "code",
   "execution_count": 12,
   "metadata": {},
   "outputs": [],
   "source": [
    "date =['DateCrawled', 'DateCreated', 'LastSeen']"
   ]
  },
  {
   "cell_type": "code",
   "execution_count": 13,
   "metadata": {},
   "outputs": [
    {
     "name": "stdout",
     "output_type": "stream",
     "text": [
      "DateCrawled\n",
      "count                  354365\n",
      "unique                 271174\n",
      "top       2016-03-24 14:49:47\n",
      "freq                        7\n",
      "first     2016-03-05 14:06:22\n",
      "last      2016-04-07 14:36:58\n",
      "Name: DateCrawled, dtype: object \n",
      "\n",
      "DateCreated\n",
      "count                  354365\n",
      "unique                    109\n",
      "top       2016-04-03 00:00:00\n",
      "freq                    13718\n",
      "first     2014-03-10 00:00:00\n",
      "last      2016-04-07 00:00:00\n",
      "Name: DateCreated, dtype: object \n",
      "\n",
      "LastSeen\n",
      "count                  354365\n",
      "unique                 179150\n",
      "top       2016-04-06 13:45:54\n",
      "freq                       17\n",
      "first     2016-03-05 14:15:08\n",
      "last      2016-04-07 14:58:51\n",
      "Name: LastSeen, dtype: object \n",
      "\n"
     ]
    },
    {
     "name": "stderr",
     "output_type": "stream",
     "text": [
      "/tmp/ipykernel_447/4106584414.py:3: FutureWarning: Treating datetime data as categorical rather than numeric in `.describe` is deprecated and will be removed in a future version of pandas. Specify `datetime_is_numeric=True` to silence this warning and adopt the future behavior now.\n",
      "  print(data[i].describe(), '\\n')\n",
      "/tmp/ipykernel_447/4106584414.py:3: FutureWarning: Treating datetime data as categorical rather than numeric in `.describe` is deprecated and will be removed in a future version of pandas. Specify `datetime_is_numeric=True` to silence this warning and adopt the future behavior now.\n",
      "  print(data[i].describe(), '\\n')\n",
      "/tmp/ipykernel_447/4106584414.py:3: FutureWarning: Treating datetime data as categorical rather than numeric in `.describe` is deprecated and will be removed in a future version of pandas. Specify `datetime_is_numeric=True` to silence this warning and adopt the future behavior now.\n",
      "  print(data[i].describe(), '\\n')\n"
     ]
    }
   ],
   "source": [
    "for i in date:\n",
    "    print(i)\n",
    "    print(data[i].describe(), '\\n')"
   ]
  },
  {
   "cell_type": "markdown",
   "metadata": {},
   "source": [
    "DateCrawled - дата скачивания анкеты из базы. Тут мы можем заметить, что выгрузка была с 5 марта 16го года по 7го апреля 16го года. \n",
    "\n",
    "DateCreated — дата создания анкеты. Тут данные за период с 10 марта 14го года по 7 апреля 16 года.\n",
    "\n",
    "LastSeen — дата последней активности пользователя. Активность пользователь была  в период с 5 марта 16го года по 7 апреля 16 года."
   ]
  },
  {
   "cell_type": "markdown",
   "metadata": {},
   "source": [
    "В датасете есть стобцы с годом и месяцем регистрации авто, следовательно не должно быть записей с авто после апреля 16го года.\n",
    "Столбцы с датами больше нам не понадобятся, мы можем удалить их с датасета."
   ]
  },
  {
   "cell_type": "code",
   "execution_count": 14,
   "metadata": {},
   "outputs": [
    {
     "name": "stdout",
     "output_type": "stream",
     "text": [
      "<class 'pandas.core.frame.DataFrame'>\n",
      "Int64Index: 354365 entries, 0 to 354368\n",
      "Data columns (total 12 columns):\n",
      " #   Column             Non-Null Count   Dtype \n",
      "---  ------             --------------   ----- \n",
      " 0   Price              354365 non-null  int64 \n",
      " 1   VehicleType        316875 non-null  object\n",
      " 2   RegistrationYear   354365 non-null  int64 \n",
      " 3   Gearbox            334532 non-null  object\n",
      " 4   Power              354365 non-null  int64 \n",
      " 5   Model              334660 non-null  object\n",
      " 6   Kilometer          354365 non-null  int64 \n",
      " 7   RegistrationMonth  354365 non-null  int64 \n",
      " 8   FuelType           321470 non-null  object\n",
      " 9   Brand              354365 non-null  object\n",
      " 10  Repaired           283211 non-null  object\n",
      " 11  PostalCode         354365 non-null  int64 \n",
      "dtypes: int64(6), object(6)\n",
      "memory usage: 35.1+ MB\n"
     ]
    }
   ],
   "source": [
    "data = data.drop(['DateCrawled', 'DateCreated', 'LastSeen'], axis=1)\n",
    "data.info()"
   ]
  },
  {
   "cell_type": "code",
   "execution_count": 15,
   "metadata": {},
   "outputs": [
    {
     "data": {
      "text/plain": [
       "0    0\n",
       "1    5\n",
       "2    8\n",
       "3    6\n",
       "4    7\n",
       "Name: RegistrationMonth, dtype: int64"
      ]
     },
     "execution_count": 15,
     "metadata": {},
     "output_type": "execute_result"
    }
   ],
   "source": [
    "data['RegistrationMonth'].head()"
   ]
  },
  {
   "cell_type": "markdown",
   "metadata": {},
   "source": [
    "Сделаем новый датасет с данными до апреля (включительно) 16го года."
   ]
  },
  {
   "cell_type": "code",
   "execution_count": 16,
   "metadata": {},
   "outputs": [
    {
     "data": {
      "text/html": [
       "<div>\n",
       "<style scoped>\n",
       "    .dataframe tbody tr th:only-of-type {\n",
       "        vertical-align: middle;\n",
       "    }\n",
       "\n",
       "    .dataframe tbody tr th {\n",
       "        vertical-align: top;\n",
       "    }\n",
       "\n",
       "    .dataframe thead th {\n",
       "        text-align: right;\n",
       "    }\n",
       "</style>\n",
       "<table border=\"1\" class=\"dataframe\">\n",
       "  <thead>\n",
       "    <tr style=\"text-align: right;\">\n",
       "      <th></th>\n",
       "      <th>Price</th>\n",
       "      <th>VehicleType</th>\n",
       "      <th>RegistrationYear</th>\n",
       "      <th>Gearbox</th>\n",
       "      <th>Power</th>\n",
       "      <th>Model</th>\n",
       "      <th>Kilometer</th>\n",
       "      <th>RegistrationMonth</th>\n",
       "      <th>FuelType</th>\n",
       "      <th>Brand</th>\n",
       "      <th>Repaired</th>\n",
       "      <th>PostalCode</th>\n",
       "    </tr>\n",
       "  </thead>\n",
       "  <tbody>\n",
       "    <tr>\n",
       "      <th>0</th>\n",
       "      <td>480</td>\n",
       "      <td>NaN</td>\n",
       "      <td>1993</td>\n",
       "      <td>manual</td>\n",
       "      <td>0</td>\n",
       "      <td>golf</td>\n",
       "      <td>150000</td>\n",
       "      <td>0</td>\n",
       "      <td>petrol</td>\n",
       "      <td>volkswagen</td>\n",
       "      <td>NaN</td>\n",
       "      <td>70435</td>\n",
       "    </tr>\n",
       "    <tr>\n",
       "      <th>1</th>\n",
       "      <td>18300</td>\n",
       "      <td>coupe</td>\n",
       "      <td>2011</td>\n",
       "      <td>manual</td>\n",
       "      <td>190</td>\n",
       "      <td>NaN</td>\n",
       "      <td>125000</td>\n",
       "      <td>5</td>\n",
       "      <td>gasoline</td>\n",
       "      <td>audi</td>\n",
       "      <td>yes</td>\n",
       "      <td>66954</td>\n",
       "    </tr>\n",
       "    <tr>\n",
       "      <th>2</th>\n",
       "      <td>9800</td>\n",
       "      <td>suv</td>\n",
       "      <td>2004</td>\n",
       "      <td>auto</td>\n",
       "      <td>163</td>\n",
       "      <td>grand</td>\n",
       "      <td>125000</td>\n",
       "      <td>8</td>\n",
       "      <td>gasoline</td>\n",
       "      <td>jeep</td>\n",
       "      <td>NaN</td>\n",
       "      <td>90480</td>\n",
       "    </tr>\n",
       "    <tr>\n",
       "      <th>3</th>\n",
       "      <td>1500</td>\n",
       "      <td>small</td>\n",
       "      <td>2001</td>\n",
       "      <td>manual</td>\n",
       "      <td>75</td>\n",
       "      <td>golf</td>\n",
       "      <td>150000</td>\n",
       "      <td>6</td>\n",
       "      <td>petrol</td>\n",
       "      <td>volkswagen</td>\n",
       "      <td>no</td>\n",
       "      <td>91074</td>\n",
       "    </tr>\n",
       "    <tr>\n",
       "      <th>4</th>\n",
       "      <td>3600</td>\n",
       "      <td>small</td>\n",
       "      <td>2008</td>\n",
       "      <td>manual</td>\n",
       "      <td>69</td>\n",
       "      <td>fabia</td>\n",
       "      <td>90000</td>\n",
       "      <td>7</td>\n",
       "      <td>gasoline</td>\n",
       "      <td>skoda</td>\n",
       "      <td>no</td>\n",
       "      <td>60437</td>\n",
       "    </tr>\n",
       "    <tr>\n",
       "      <th>5</th>\n",
       "      <td>650</td>\n",
       "      <td>sedan</td>\n",
       "      <td>1995</td>\n",
       "      <td>manual</td>\n",
       "      <td>102</td>\n",
       "      <td>3er</td>\n",
       "      <td>150000</td>\n",
       "      <td>10</td>\n",
       "      <td>petrol</td>\n",
       "      <td>bmw</td>\n",
       "      <td>yes</td>\n",
       "      <td>33775</td>\n",
       "    </tr>\n",
       "    <tr>\n",
       "      <th>6</th>\n",
       "      <td>2200</td>\n",
       "      <td>convertible</td>\n",
       "      <td>2004</td>\n",
       "      <td>manual</td>\n",
       "      <td>109</td>\n",
       "      <td>2_reihe</td>\n",
       "      <td>150000</td>\n",
       "      <td>8</td>\n",
       "      <td>petrol</td>\n",
       "      <td>peugeot</td>\n",
       "      <td>no</td>\n",
       "      <td>67112</td>\n",
       "    </tr>\n",
       "    <tr>\n",
       "      <th>7</th>\n",
       "      <td>0</td>\n",
       "      <td>sedan</td>\n",
       "      <td>1980</td>\n",
       "      <td>manual</td>\n",
       "      <td>50</td>\n",
       "      <td>other</td>\n",
       "      <td>40000</td>\n",
       "      <td>7</td>\n",
       "      <td>petrol</td>\n",
       "      <td>volkswagen</td>\n",
       "      <td>no</td>\n",
       "      <td>19348</td>\n",
       "    </tr>\n",
       "    <tr>\n",
       "      <th>8</th>\n",
       "      <td>14500</td>\n",
       "      <td>bus</td>\n",
       "      <td>2014</td>\n",
       "      <td>manual</td>\n",
       "      <td>125</td>\n",
       "      <td>c_max</td>\n",
       "      <td>30000</td>\n",
       "      <td>8</td>\n",
       "      <td>petrol</td>\n",
       "      <td>ford</td>\n",
       "      <td>NaN</td>\n",
       "      <td>94505</td>\n",
       "    </tr>\n",
       "    <tr>\n",
       "      <th>9</th>\n",
       "      <td>999</td>\n",
       "      <td>small</td>\n",
       "      <td>1998</td>\n",
       "      <td>manual</td>\n",
       "      <td>101</td>\n",
       "      <td>golf</td>\n",
       "      <td>150000</td>\n",
       "      <td>0</td>\n",
       "      <td>NaN</td>\n",
       "      <td>volkswagen</td>\n",
       "      <td>NaN</td>\n",
       "      <td>27472</td>\n",
       "    </tr>\n",
       "  </tbody>\n",
       "</table>\n",
       "</div>"
      ],
      "text/plain": [
       "   Price  VehicleType  RegistrationYear Gearbox  Power    Model  Kilometer  \\\n",
       "0    480          NaN              1993  manual      0     golf     150000   \n",
       "1  18300        coupe              2011  manual    190      NaN     125000   \n",
       "2   9800          suv              2004    auto    163    grand     125000   \n",
       "3   1500        small              2001  manual     75     golf     150000   \n",
       "4   3600        small              2008  manual     69    fabia      90000   \n",
       "5    650        sedan              1995  manual    102      3er     150000   \n",
       "6   2200  convertible              2004  manual    109  2_reihe     150000   \n",
       "7      0        sedan              1980  manual     50    other      40000   \n",
       "8  14500          bus              2014  manual    125    c_max      30000   \n",
       "9    999        small              1998  manual    101     golf     150000   \n",
       "\n",
       "   RegistrationMonth  FuelType       Brand Repaired  PostalCode  \n",
       "0                  0    petrol  volkswagen      NaN       70435  \n",
       "1                  5  gasoline        audi      yes       66954  \n",
       "2                  8  gasoline        jeep      NaN       90480  \n",
       "3                  6    petrol  volkswagen       no       91074  \n",
       "4                  7  gasoline       skoda       no       60437  \n",
       "5                 10    petrol         bmw      yes       33775  \n",
       "6                  8    petrol     peugeot       no       67112  \n",
       "7                  7    petrol  volkswagen       no       19348  \n",
       "8                  8    petrol        ford      NaN       94505  \n",
       "9                  0       NaN  volkswagen      NaN       27472  "
      ]
     },
     "metadata": {},
     "output_type": "display_data"
    },
    {
     "name": "stdout",
     "output_type": "stream",
     "text": [
      "<class 'pandas.core.frame.DataFrame'>\n",
      "Int64Index: 335145 entries, 0 to 354368\n",
      "Data columns (total 12 columns):\n",
      " #   Column             Non-Null Count   Dtype \n",
      "---  ------             --------------   ----- \n",
      " 0   Price              335145 non-null  int64 \n",
      " 1   VehicleType        316840 non-null  object\n",
      " 2   RegistrationYear   335145 non-null  int64 \n",
      " 3   Gearbox            317605 non-null  object\n",
      " 4   Power              335145 non-null  int64 \n",
      " 5   Model              318088 non-null  object\n",
      " 6   Kilometer          335145 non-null  int64 \n",
      " 7   RegistrationMonth  335145 non-null  int64 \n",
      " 8   FuelType           309750 non-null  object\n",
      " 9   Brand              335145 non-null  object\n",
      " 10  Repaired           272238 non-null  object\n",
      " 11  PostalCode         335145 non-null  int64 \n",
      "dtypes: int64(6), object(6)\n",
      "memory usage: 33.2+ MB\n"
     ]
    },
    {
     "data": {
      "text/plain": [
       "None"
      ]
     },
     "metadata": {},
     "output_type": "display_data"
    },
    {
     "data": {
      "text/plain": [
       "(335145, 12)"
      ]
     },
     "metadata": {},
     "output_type": "display_data"
    }
   ],
   "source": [
    "new_data= data[(data['RegistrationYear'] < 2016) | ((data['RegistrationYear'] == 2016) & (data['RegistrationMonth'] <= 4))]\n",
    "display(new_data.head(10))\n",
    "display(new_data.info())\n",
    "display(new_data.shape)"
   ]
  },
  {
   "cell_type": "markdown",
   "metadata": {},
   "source": [
    "Теперь разберем признаки по отдельности. Стоит также заметить, что в датасете присутствуют как численные, так и категориальные признаки. "
   ]
  },
  {
   "cell_type": "markdown",
   "metadata": {},
   "source": [
    "#### <a id='toc1_1_1_1_'></a>[Price](#toc0_)"
   ]
  },
  {
   "cell_type": "code",
   "execution_count": 17,
   "metadata": {},
   "outputs": [
    {
     "data": {
      "image/png": "[encoded data removed]",
      "text/plain": [
       "<Figure size 1440x576 with 1 Axes>"
      ]
     },
     "metadata": {
      "needs_background": "light"
     },
     "output_type": "display_data"
    }
   ],
   "source": [
    "new_data.Price.hist(bins=100, figsize=(20,8))\n",
    "plt.xlabel('Цена в евро')\n",
    "plt.ylabel('Кол-во объявлений')\n",
    "plt.title('Цены автомобилей')\n",
    "plt.show()"
   ]
  },
  {
   "cell_type": "markdown",
   "metadata": {},
   "source": [
    "В целом, все логично с увеличением стоимости авто - уменьшается количество предложений. Но по гистограмме мы можем увидеть, что есть немало значений около нуля, предалагаю посмотреть на них более внимательно. "
   ]
  },
  {
   "cell_type": "code",
   "execution_count": 18,
   "metadata": {},
   "outputs": [
    {
     "data": {
      "image/png": "[encoded data removed]",
      "text/plain": [
       "<Figure size 1440x576 with 1 Axes>"
      ]
     },
     "metadata": {
      "needs_background": "light"
     },
     "output_type": "display_data"
    }
   ],
   "source": [
    "new_data[new_data.Price <500].Price.hist(bins=100, figsize=(20,8))\n",
    "plt.xlabel('Цена в евро')\n",
    "plt.ylabel('Кол-во объявлений')\n",
    "plt.title('Цены автомобилей')\n",
    "plt.show()"
   ]
  },
  {
   "cell_type": "markdown",
   "metadata": {},
   "source": [
    "Уберем сомнительные объявления о продаже с ценной менее 40 евро. Нулевые же значения могут быть указаны в случаее если продавец не пожелал указывать цену, а планирует ее определить в случаее непосредственной продажи. "
   ]
  },
  {
   "cell_type": "code",
   "execution_count": 19,
   "metadata": {},
   "outputs": [
    {
     "data": {
      "image/png": "[encoded data removed]",
      "text/plain": [
       "<Figure size 1440x360 with 1 Axes>"
      ]
     },
     "metadata": {
      "needs_background": "light"
     },
     "output_type": "display_data"
    }
   ],
   "source": [
    "new_data = new_data[new_data['Price']>50]\n",
    "new_data['Price'].hist(bins=100, figsize=(20,5));"
   ]
  },
  {
   "cell_type": "markdown",
   "metadata": {},
   "source": [
    "#### <a id='toc1_1_1_2_'></a>[VehicleType - категориальный признак](#toc0_)"
   ]
  },
  {
   "cell_type": "code",
   "execution_count": 20,
   "metadata": {},
   "outputs": [
    {
     "data": {
      "image/png": "[encoded data removed]",
      "text/plain": [
       "<Figure size 1440x576 with 1 Axes>"
      ]
     },
     "metadata": {
      "needs_background": "light"
     },
     "output_type": "display_data"
    }
   ],
   "source": [
    "new_data.VehicleType.hist(bins=100, figsize=(20,8))\n",
    "plt.xlabel('Тип кузова')\n",
    "plt.ylabel('Кол-во объявлений')\n",
    "plt.title('Виды авто')\n",
    "plt.show()"
   ]
  },
  {
   "cell_type": "code",
   "execution_count": 21,
   "metadata": {},
   "outputs": [
    {
     "data": {
      "text/plain": [
       "array([nan, 'coupe', 'suv', 'small', 'sedan', 'convertible', 'bus',\n",
       "       'wagon', 'other'], dtype=object)"
      ]
     },
     "execution_count": 21,
     "metadata": {},
     "output_type": "execute_result"
    }
   ],
   "source": [
    "new_data['VehicleType'].unique()"
   ]
  },
  {
   "cell_type": "code",
   "execution_count": 22,
   "metadata": {},
   "outputs": [
    {
     "data": {
      "text/plain": [
       "14752"
      ]
     },
     "execution_count": 22,
     "metadata": {},
     "output_type": "execute_result"
    }
   ],
   "source": [
    "new_data['VehicleType'].isna().sum()"
   ]
  },
  {
   "cell_type": "markdown",
   "metadata": {},
   "source": [
    "Пропущенных значений слишком много чтобы их удалять, поставим значение unknown для пропусков."
   ]
  },
  {
   "cell_type": "code",
   "execution_count": 23,
   "metadata": {},
   "outputs": [],
   "source": [
    "new_data['VehicleType'].fillna('unknown', inplace=True)"
   ]
  },
  {
   "cell_type": "code",
   "execution_count": 24,
   "metadata": {},
   "outputs": [
    {
     "data": {
      "text/plain": [
       "0"
      ]
     },
     "execution_count": 24,
     "metadata": {},
     "output_type": "execute_result"
    }
   ],
   "source": [
    "#check\n",
    "new_data['VehicleType'].isna().sum()"
   ]
  },
  {
   "cell_type": "markdown",
   "metadata": {},
   "source": [
    "#### <a id='toc1_1_1_3_'></a>[RegistrationYear](#toc0_)"
   ]
  },
  {
   "cell_type": "code",
   "execution_count": 25,
   "metadata": {},
   "outputs": [
    {
     "data": {
      "text/plain": [
       "0"
      ]
     },
     "execution_count": 25,
     "metadata": {},
     "output_type": "execute_result"
    }
   ],
   "source": [
    "new_data['RegistrationYear'].isna().sum()"
   ]
  },
  {
   "cell_type": "code",
   "execution_count": 26,
   "metadata": {},
   "outputs": [
    {
     "data": {
      "text/plain": [
       "count    323497.000000\n",
       "mean       2002.319505\n",
       "std          12.205660\n",
       "min        1000.000000\n",
       "25%        1999.000000\n",
       "50%        2003.000000\n",
       "75%        2007.000000\n",
       "max        2016.000000\n",
       "Name: RegistrationYear, dtype: float64"
      ]
     },
     "execution_count": 26,
     "metadata": {},
     "output_type": "execute_result"
    }
   ],
   "source": [
    "new_data['RegistrationYear'].describe()"
   ]
  },
  {
   "cell_type": "code",
   "execution_count": 27,
   "metadata": {},
   "outputs": [
    {
     "data": {
      "image/png": "[encoded data removed]",
      "text/plain": [
       "<Figure size 1440x576 with 1 Axes>"
      ]
     },
     "metadata": {
      "needs_background": "light"
     },
     "output_type": "display_data"
    }
   ],
   "source": [
    "new_data['RegistrationYear'].plot.hist(range=(1900, 1999), bins=100, figsize=(20,8));"
   ]
  },
  {
   "cell_type": "code",
   "execution_count": 28,
   "metadata": {},
   "outputs": [],
   "source": [
    "new_data = new_data[new_data['RegistrationYear']>1960]"
   ]
  },
  {
   "cell_type": "code",
   "execution_count": 29,
   "metadata": {},
   "outputs": [
    {
     "data": {
      "image/png": "[encoded data removed]",
      "text/plain": [
       "<Figure size 1440x576 with 1 Axes>"
      ]
     },
     "metadata": {
      "needs_background": "light"
     },
     "output_type": "display_data"
    }
   ],
   "source": [
    "#check\n",
    "new_data['RegistrationYear'].plot.hist(range=(1900, 1999), bins=100, figsize=(20,8));"
   ]
  },
  {
   "cell_type": "markdown",
   "metadata": {},
   "source": [
    "Отбросили выброс с годом регистрации 1000 и сделали минимальный стартовый год регистрации 1960год. Также стоит отметить. что на данном этапе у нас уже пропали выбросы с 9999 годом. "
   ]
  },
  {
   "cell_type": "markdown",
   "metadata": {},
   "source": [
    "#### <a id='toc1_1_1_4_'></a>[Gearbox  - категориальный признак](#toc0_)"
   ]
  },
  {
   "cell_type": "code",
   "execution_count": 30,
   "metadata": {},
   "outputs": [
    {
     "data": {
      "text/plain": [
       "14292"
      ]
     },
     "execution_count": 30,
     "metadata": {},
     "output_type": "execute_result"
    }
   ],
   "source": [
    "new_data['Gearbox'].isna().sum()"
   ]
  },
  {
   "cell_type": "code",
   "execution_count": 31,
   "metadata": {},
   "outputs": [
    {
     "data": {
      "text/plain": [
       "array(['manual', 'auto', nan], dtype=object)"
      ]
     },
     "execution_count": 31,
     "metadata": {},
     "output_type": "execute_result"
    }
   ],
   "source": [
    "new_data['Gearbox'].unique()"
   ]
  },
  {
   "cell_type": "code",
   "execution_count": 32,
   "metadata": {},
   "outputs": [],
   "source": [
    "new_data['Gearbox'].fillna('unknown', inplace=True)"
   ]
  },
  {
   "cell_type": "code",
   "execution_count": 33,
   "metadata": {},
   "outputs": [
    {
     "data": {
      "text/plain": [
       "0"
      ]
     },
     "execution_count": 33,
     "metadata": {},
     "output_type": "execute_result"
    }
   ],
   "source": [
    "#check\n",
    "new_data['Gearbox'].isna().sum()"
   ]
  },
  {
   "cell_type": "markdown",
   "metadata": {},
   "source": [
    "Также как и с VehicleType - пропусков слишком много для удаления, заклеили их заглушкой. "
   ]
  },
  {
   "cell_type": "markdown",
   "metadata": {},
   "source": [
    "#### <a id='toc1_1_1_5_'></a>[Power](#toc0_)"
   ]
  },
  {
   "cell_type": "code",
   "execution_count": 34,
   "metadata": {},
   "outputs": [
    {
     "data": {
      "text/plain": [
       "0"
      ]
     },
     "execution_count": 34,
     "metadata": {},
     "output_type": "execute_result"
    }
   ],
   "source": [
    "new_data['Power'].isna().sum()"
   ]
  },
  {
   "cell_type": "code",
   "execution_count": 35,
   "metadata": {},
   "outputs": [
    {
     "data": {
      "text/plain": [
       "count    323068.000000\n",
       "mean        112.644412\n",
       "std         183.570449\n",
       "min           0.000000\n",
       "25%          72.000000\n",
       "50%         105.000000\n",
       "75%         143.000000\n",
       "max       20000.000000\n",
       "Name: Power, dtype: float64"
      ]
     },
     "execution_count": 35,
     "metadata": {},
     "output_type": "execute_result"
    }
   ],
   "source": [
    "new_data['Power'].describe()"
   ]
  },
  {
   "cell_type": "code",
   "execution_count": 36,
   "metadata": {},
   "outputs": [
    {
     "data": {
      "image/png": "[encoded data removed]",
      "text/plain": [
       "<Figure size 1440x576 with 1 Axes>"
      ]
     },
     "metadata": {
      "needs_background": "light"
     },
     "output_type": "display_data"
    }
   ],
   "source": [
    "new_data[new_data.Power <60].Power.hist(bins=100, figsize=(20,8))\n",
    "plt.xlabel('Мощность')\n",
    "plt.ylabel('Кол-во объявлений')\n",
    "plt.title('Мощность авто л.с.')\n",
    "plt.show()"
   ]
  },
  {
   "cell_type": "code",
   "execution_count": 37,
   "metadata": {
    "scrolled": true
   },
   "outputs": [
    {
     "data": {
      "image/png": "[encoded data removed]",
      "text/plain": [
       "<Figure size 1440x576 with 1 Axes>"
      ]
     },
     "metadata": {
      "needs_background": "light"
     },
     "output_type": "display_data"
    }
   ],
   "source": [
    "new_data[new_data.Power > 1500].Power.hist(bins=100, figsize=(20,8))\n",
    "plt.xlabel('Мощность')\n",
    "plt.ylabel('Кол-во объявлений')\n",
    "plt.title('Мощность авто л.с.')\n",
    "plt.show()"
   ]
  },
  {
   "cell_type": "code",
   "execution_count": 38,
   "metadata": {},
   "outputs": [
    {
     "name": "stdout",
     "output_type": "stream",
     "text": [
      "167\n"
     ]
    }
   ],
   "source": [
    "count=len(new_data[new_data['Power']>1500])\n",
    "print(count)"
   ]
  },
  {
   "cell_type": "markdown",
   "metadata": {},
   "source": [
    "Как много гиперкаров однако, но все же, чтобы не было искревлений в показателях, ограничи максимальную мощность в 1500, потеряем всего 167 строк, это не критично. "
   ]
  },
  {
   "cell_type": "code",
   "execution_count": 39,
   "metadata": {},
   "outputs": [],
   "source": [
    "new_data = new_data[(new_data['Power']> 40) & (new_data['Power'] <= 1500)] "
   ]
  },
  {
   "cell_type": "code",
   "execution_count": 40,
   "metadata": {},
   "outputs": [
    {
     "data": {
      "text/plain": [
       "count    290772.000000\n",
       "mean        121.768743\n",
       "std          57.673215\n",
       "min          41.000000\n",
       "25%          79.000000\n",
       "50%         113.000000\n",
       "75%         150.000000\n",
       "max        1500.000000\n",
       "Name: Power, dtype: float64"
      ]
     },
     "execution_count": 40,
     "metadata": {},
     "output_type": "execute_result"
    }
   ],
   "source": [
    "#check\n",
    "new_data['Power'].describe()"
   ]
  },
  {
   "cell_type": "markdown",
   "metadata": {},
   "source": [
    "#### <a id='toc1_1_1_6_'></a>[Model - категориальный признак](#toc0_)"
   ]
  },
  {
   "cell_type": "code",
   "execution_count": 41,
   "metadata": {},
   "outputs": [
    {
     "data": {
      "text/plain": [
       "10369"
      ]
     },
     "execution_count": 41,
     "metadata": {},
     "output_type": "execute_result"
    }
   ],
   "source": [
    "new_data['Model'].isna().sum()"
   ]
  },
  {
   "cell_type": "code",
   "execution_count": 42,
   "metadata": {},
   "outputs": [
    {
     "data": {
      "text/plain": [
       "249"
      ]
     },
     "execution_count": 42,
     "metadata": {},
     "output_type": "execute_result"
    }
   ],
   "source": [
    "new_data['Model'].nunique()"
   ]
  },
  {
   "cell_type": "code",
   "execution_count": 43,
   "metadata": {},
   "outputs": [
    {
     "data": {
      "text/plain": [
       "0"
      ]
     },
     "metadata": {},
     "output_type": "display_data"
    }
   ],
   "source": [
    "new_data['Model'].fillna('unknown', inplace=True)\n",
    "#check\n",
    "display(new_data['Model'].isna().sum())"
   ]
  },
  {
   "cell_type": "markdown",
   "metadata": {},
   "source": [
    "В столбце с моделями 249 уникальный значений и 10.3к пропусков, удалять их не будем, поставили значение неизвестно."
   ]
  },
  {
   "cell_type": "markdown",
   "metadata": {},
   "source": [
    "#### <a id='toc1_1_1_7_'></a>[Kilometer](#toc0_)"
   ]
  },
  {
   "cell_type": "code",
   "execution_count": 44,
   "metadata": {},
   "outputs": [
    {
     "data": {
      "text/plain": [
       "0"
      ]
     },
     "execution_count": 44,
     "metadata": {},
     "output_type": "execute_result"
    }
   ],
   "source": [
    "new_data['Kilometer'].isna().sum()"
   ]
  },
  {
   "cell_type": "code",
   "execution_count": 45,
   "metadata": {},
   "outputs": [
    {
     "data": {
      "image/png": "[encoded data removed]",
      "text/plain": [
       "<Figure size 1440x576 with 1 Axes>"
      ]
     },
     "metadata": {
      "needs_background": "light"
     },
     "output_type": "display_data"
    }
   ],
   "source": [
    "new_data.Kilometer.hist(bins=100, figsize=(20,8))\n",
    "plt.xlabel('Пройдено')\n",
    "plt.ylabel('Кол-во объявлений')\n",
    "plt.title('Километры')\n",
    "plt.show()"
   ]
  },
  {
   "cell_type": "code",
   "execution_count": 46,
   "metadata": {},
   "outputs": [
    {
     "data": {
      "text/plain": [
       "array([125000, 150000,  90000,  30000,  70000, 100000,  60000,   5000,\n",
       "        20000,  80000,  50000,  40000,  10000])"
      ]
     },
     "execution_count": 46,
     "metadata": {},
     "output_type": "execute_result"
    }
   ],
   "source": [
    "new_data['Kilometer'].unique()"
   ]
  },
  {
   "cell_type": "markdown",
   "metadata": {},
   "source": [
    "Мы имеем 13 показателей километража. Пропусков в данном столбце нет, в целом, его можно отнести к категориальному признаку, потому что все значения фиксированные, их не много (на такой большой датасет). Нет разбивок, например: 5432 или 125421. "
   ]
  },
  {
   "cell_type": "markdown",
   "metadata": {},
   "source": [
    "#### <a id='toc1_1_1_8_'></a>[RegistrationMonth](#toc0_)"
   ]
  },
  {
   "cell_type": "code",
   "execution_count": 47,
   "metadata": {},
   "outputs": [
    {
     "name": "stdout",
     "output_type": "stream",
     "text": [
      "<class 'pandas.core.frame.DataFrame'>\n",
      "Int64Index: 290772 entries, 1 to 354368\n",
      "Data columns (total 11 columns):\n",
      " #   Column            Non-Null Count   Dtype \n",
      "---  ------            --------------   ----- \n",
      " 0   Price             290772 non-null  int64 \n",
      " 1   VehicleType       290772 non-null  object\n",
      " 2   RegistrationYear  290772 non-null  int64 \n",
      " 3   Gearbox           290772 non-null  object\n",
      " 4   Power             290772 non-null  int64 \n",
      " 5   Model             290772 non-null  object\n",
      " 6   Kilometer         290772 non-null  int64 \n",
      " 7   FuelType          277009 non-null  object\n",
      " 8   Brand             290772 non-null  object\n",
      " 9   Repaired          249848 non-null  object\n",
      " 10  PostalCode        290772 non-null  int64 \n",
      "dtypes: int64(5), object(6)\n",
      "memory usage: 26.6+ MB\n"
     ]
    },
    {
     "data": {
      "text/plain": [
       "None"
      ]
     },
     "metadata": {},
     "output_type": "display_data"
    }
   ],
   "source": [
    "new_data = new_data.drop('RegistrationMonth', axis=1)\n",
    "#check\n",
    "display(new_data.info())"
   ]
  },
  {
   "cell_type": "markdown",
   "metadata": {},
   "source": [
    "Столбец с месяцем регистрации нам больше не пригодиться, самое важное мы сделали еще в самом начали когда создали отфильтрованный датасет с датой публикации объявлений не позднее апреля месяца 16го года. \n",
    "\n",
    "Месяц регистрации врядли оказывает какое либо воздействие на ценовую политику авто. "
   ]
  },
  {
   "cell_type": "markdown",
   "metadata": {},
   "source": [
    "#### <a id='toc1_1_1_9_'></a>[FuelType - Категориальный признак](#toc0_)"
   ]
  },
  {
   "cell_type": "code",
   "execution_count": 48,
   "metadata": {},
   "outputs": [
    {
     "data": {
      "text/plain": [
       "13763"
      ]
     },
     "execution_count": 48,
     "metadata": {},
     "output_type": "execute_result"
    }
   ],
   "source": [
    "new_data['FuelType'].isna().sum() "
   ]
  },
  {
   "cell_type": "code",
   "execution_count": 49,
   "metadata": {},
   "outputs": [
    {
     "data": {
      "text/plain": [
       "7"
      ]
     },
     "execution_count": 49,
     "metadata": {},
     "output_type": "execute_result"
    }
   ],
   "source": [
    "new_data['FuelType'].nunique()"
   ]
  },
  {
   "cell_type": "code",
   "execution_count": 50,
   "metadata": {},
   "outputs": [
    {
     "data": {
      "image/png": "[encoded data removed]",
      "text/plain": [
       "<Figure size 1440x576 with 1 Axes>"
      ]
     },
     "metadata": {
      "needs_background": "light"
     },
     "output_type": "display_data"
    }
   ],
   "source": [
    "new_data.FuelType.hist(bins=100, figsize=(20,8))\n",
    "plt.xlabel('Тип')\n",
    "plt.ylabel('Кол-во')\n",
    "plt.title('Тип топлива')\n",
    "plt.show()"
   ]
  },
  {
   "cell_type": "code",
   "execution_count": 51,
   "metadata": {},
   "outputs": [
    {
     "data": {
      "text/plain": [
       "0"
      ]
     },
     "metadata": {},
     "output_type": "display_data"
    }
   ],
   "source": [
    "new_data['FuelType'].fillna('unknown', inplace=True)\n",
    "#check\n",
    "display(new_data['FuelType'].isna().sum())"
   ]
  },
  {
   "cell_type": "markdown",
   "metadata": {},
   "source": [
    "В столбце 7 уникальных значений, есть существенное количество пропусков, их также заполнили параметром \"неизвестно\""
   ]
  },
  {
   "cell_type": "markdown",
   "metadata": {},
   "source": [
    "#### <a id='toc1_1_1_10_'></a>[Brand - Категориальный признак](#toc0_)"
   ]
  },
  {
   "cell_type": "code",
   "execution_count": 52,
   "metadata": {},
   "outputs": [
    {
     "data": {
      "text/plain": [
       "0"
      ]
     },
     "metadata": {},
     "output_type": "display_data"
    },
    {
     "data": {
      "text/plain": [
       "array(['audi', 'jeep', 'volkswagen', 'skoda', 'bmw', 'peugeot', 'ford',\n",
       "       'mazda', 'nissan', 'renault', 'mercedes_benz', 'seat', 'honda',\n",
       "       'fiat', 'opel', 'mini', 'smart', 'hyundai', 'alfa_romeo', 'subaru',\n",
       "       'volvo', 'mitsubishi', 'kia', 'suzuki', 'lancia', 'citroen',\n",
       "       'toyota', 'chevrolet', 'dacia', 'daihatsu', 'chrysler',\n",
       "       'sonstige_autos', 'jaguar', 'daewoo', 'rover', 'porsche', 'saab',\n",
       "       'land_rover', 'trabant', 'lada'], dtype=object)"
      ]
     },
     "metadata": {},
     "output_type": "display_data"
    },
    {
     "data": {
      "text/plain": [
       "40"
      ]
     },
     "metadata": {},
     "output_type": "display_data"
    }
   ],
   "source": [
    "display(new_data['Brand'].isna().sum())\n",
    "display(new_data['Brand'].unique())\n",
    "display(new_data['Brand'].nunique())"
   ]
  },
  {
   "cell_type": "markdown",
   "metadata": {},
   "source": [
    "Пропусков нет, имеем 40 уникальных категорий. "
   ]
  },
  {
   "cell_type": "markdown",
   "metadata": {},
   "source": [
    "#### <a id='toc1_1_1_11_'></a>[Repaired - Категориальный признак.](#toc0_)"
   ]
  },
  {
   "cell_type": "code",
   "execution_count": 53,
   "metadata": {},
   "outputs": [
    {
     "data": {
      "text/plain": [
       "40924"
      ]
     },
     "metadata": {},
     "output_type": "display_data"
    },
    {
     "data": {
      "text/plain": [
       "array(['yes', nan, 'no'], dtype=object)"
      ]
     },
     "metadata": {},
     "output_type": "display_data"
    },
    {
     "data": {
      "text/plain": [
       "2"
      ]
     },
     "metadata": {},
     "output_type": "display_data"
    }
   ],
   "source": [
    "display(new_data['Repaired'].isna().sum())\n",
    "display(new_data['Repaired'].unique())\n",
    "display(new_data['Repaired'].nunique())"
   ]
  },
  {
   "cell_type": "code",
   "execution_count": 54,
   "metadata": {},
   "outputs": [
    {
     "data": {
      "text/plain": [
       "0"
      ]
     },
     "metadata": {},
     "output_type": "display_data"
    }
   ],
   "source": [
    "new_data['Repaired'].fillna('unknown', inplace=True)\n",
    "#check\n",
    "display(new_data['Repaired'].isna().sum())"
   ]
  },
  {
   "cell_type": "markdown",
   "metadata": {},
   "source": [
    "Почти 41 тысяча пропусков была заполнена параметром \"неизвестно\". Категории всего 2, да и нет. "
   ]
  },
  {
   "cell_type": "markdown",
   "metadata": {},
   "source": [
    "#### <a id='toc1_1_1_12_'></a>[PostalCode](#toc0_)"
   ]
  },
  {
   "cell_type": "code",
   "execution_count": 55,
   "metadata": {},
   "outputs": [
    {
     "data": {
      "text/plain": [
       "0"
      ]
     },
     "metadata": {},
     "output_type": "display_data"
    },
    {
     "data": {
      "text/plain": [
       "array([66954, 90480, 91074, ..., 86751, 89344, 95691])"
      ]
     },
     "metadata": {},
     "output_type": "display_data"
    },
    {
     "data": {
      "text/plain": [
       "8112"
      ]
     },
     "metadata": {},
     "output_type": "display_data"
    }
   ],
   "source": [
    "display(new_data['PostalCode'].isna().sum())\n",
    "display(new_data['PostalCode'].unique())\n",
    "display(new_data['PostalCode'].nunique())"
   ]
  },
  {
   "cell_type": "markdown",
   "metadata": {},
   "source": [
    "Данный столбец не имеет пропусков, в нем 8112 индексов. Данный столбец удалять не будем, так как он отображает местонахождение продавца. "
   ]
  },
  {
   "cell_type": "markdown",
   "metadata": {},
   "source": [
    "Кратко по блоку:\n",
    "\n",
    "    - Приобразовали столбцы с датой в читабельный вид. Исследовали их, затем убрали. \n",
    "    - Слепили новый датасет с датой публикации объявлений не старше апреля 2016г. К такой дате мы пришли изучив преобразованные столбцы с датами. \n",
    "    - Разобрали каждый признак по отдельности:\n",
    "        \n",
    "        - Price - убрали нулевые значения и отсекли все объявления с аномально низкими ценами. \n",
    "        - VehicleType - заменили пропущенные значение параметром неизвестно.\n",
    "        - RegistrationYear - убрали выбросы, публикации теперь от 1960года.\n",
    "        - Gearbox - заменили пропущенные значение параметром неизвестно.\n",
    "        - Power - убрали объявления с аномально низкими и сверхвысокими параметрами мощности. \n",
    "        - Model - VehicleType - заменили пропущенные значение параметром неизвестно.\n",
    "        - Kilometer - Пропусков нет, всего 13 значений, можно даже отнести к категориальному признаку. \n",
    "        - RegistrationMonth - дропнули в виду ненадобности в дальнейшем исследовании. Месяц на ценовую политику авто вряд-ли существенно повлияет. \n",
    "        - FuelType - заменили пропущенные значение параметром неизвестно.\n",
    "        - Brand - пропусков не имеет, 40 уникальный значений. \n",
    "        - Repaired - заменили пропущенные значение параметром неизвестно.\n",
    "        - PostalCode - пропусков не имеет, данные с индексами удалять не стали, т.к. это по сути местонахождение объявления. "
   ]
  },
  {
   "cell_type": "markdown",
   "metadata": {},
   "source": [
    "### <a id='toc1_1_2_'></a>[Разбивка на выборки](#toc0_)"
   ]
  },
  {
   "cell_type": "code",
   "execution_count": 56,
   "metadata": {},
   "outputs": [
    {
     "data": {
      "text/plain": [
       "(174462, 10)"
      ]
     },
     "metadata": {},
     "output_type": "display_data"
    },
    {
     "data": {
      "text/plain": [
       "(58155, 10)"
      ]
     },
     "metadata": {},
     "output_type": "display_data"
    },
    {
     "data": {
      "text/plain": [
       "(58155, 10)"
      ]
     },
     "metadata": {},
     "output_type": "display_data"
    },
    {
     "data": {
      "text/plain": [
       "(174462,)"
      ]
     },
     "metadata": {},
     "output_type": "display_data"
    },
    {
     "data": {
      "text/plain": [
       "(58155,)"
      ]
     },
     "metadata": {},
     "output_type": "display_data"
    },
    {
     "data": {
      "text/plain": [
       "(58155,)"
      ]
     },
     "metadata": {},
     "output_type": "display_data"
    }
   ],
   "source": [
    "features = new_data.drop('Price', axis = 1)\n",
    "target = new_data['Price']\n",
    "features_train, features_valid, target_train, target_valid = train_test_split(\n",
    "    features, target, test_size=0.20, random_state=12345)\n",
    "\n",
    "features_train, features_test, target_train, target_test = train_test_split(\n",
    "    features_train, target_train, test_size=0.25, random_state=12345)\n",
    "display(features_train.shape)\n",
    "display(features_valid.shape)\n",
    "display(features_test.shape)\n",
    "display(target_train.shape)\n",
    "display(target_valid.shape)\n",
    "display(target_test.shape)"
   ]
  },
  {
   "cell_type": "markdown",
   "metadata": {},
   "source": [
    "### <a id='toc1_1_3_'></a>[Кодировка](#toc0_)"
   ]
  },
  {
   "cell_type": "code",
   "execution_count": 58,
   "metadata": {},
   "outputs": [
    {
     "name": "stderr",
     "output_type": "stream",
     "text": [
      "/opt/conda/lib/python3.9/site-packages/sklearn/preprocessing/_encoders.py:228: UserWarning: Found unknown categories in columns [2] during transform. These unknown categories will be encoded as all zeros\n",
      "  warnings.warn(\n"
     ]
    }
   ],
   "source": [
    "encoder = OneHotEncoder(handle_unknown='ignore', drop='first')\n",
    "features_train_one= (\n",
    "    pd.DataFrame(encoder.fit_transform(features_train[['VehicleType','Gearbox', 'Model', 'FuelType','Brand', 'Repaired']]).toarray(), \n",
    "                 columns=encoder.get_feature_names_out(), index=features_train.index)\n",
    ")\n",
    "features_valid_one= (\n",
    "    pd.DataFrame(encoder.transform(features_valid[['VehicleType','Gearbox', 'Model', 'FuelType','Brand', 'Repaired']]).toarray(),\n",
    "                 columns=encoder.get_feature_names_out(), index=features_valid.index) \n",
    ")\n",
    "features_test_one= (\n",
    "    pd.DataFrame(encoder.transform(features_test[['VehicleType','Gearbox', 'Model', 'FuelType','Brand', 'Repaired']]).toarray(),\n",
    "                 columns=encoder.get_feature_names_out(), index=features_test.index)\n",
    ")"
   ]
  },
  {
   "cell_type": "code",
   "execution_count": 59,
   "metadata": {},
   "outputs": [],
   "source": [
    "category = ['VehicleType','Gearbox', 'Model', 'FuelType','Brand', 'Repaired']\n",
    "encoder_oe = OrdinalEncoder(handle_unknown='use_encoded_value', unknown_value=np.nan)\n",
    "\n",
    "features_train_oe = features_train.copy()\n",
    "features_train_oe[category] = encoder_oe.fit_transform(features_train[category])\n",
    "target_train_oe = target_train.copy()\n",
    "\n",
    "features_valid_oe = features_valid.copy()\n",
    "features_valid_oe[category] = encoder_oe.transform(features_valid[category])\n",
    "features_valid_oe = features_valid_oe.dropna()\n",
    "target_valid_oe = target_valid[features_valid_oe.index]\n",
    "\n",
    "features_test_oe = features_test.copy()\n",
    "features_test_oe[category] = encoder_oe.transform(features_test[category])\n",
    "features_test_oe = features_test_oe.dropna()\n",
    "target_test_oe = target_test[features_test_oe.index]\n",
    "\n"
   ]
  },
  {
   "cell_type": "code",
   "execution_count": 60,
   "metadata": {},
   "outputs": [
    {
     "data": {
      "text/html": [
       "<div>\n",
       "<style scoped>\n",
       "    .dataframe tbody tr th:only-of-type {\n",
       "        vertical-align: middle;\n",
       "    }\n",
       "\n",
       "    .dataframe tbody tr th {\n",
       "        vertical-align: top;\n",
       "    }\n",
       "\n",
       "    .dataframe thead th {\n",
       "        text-align: right;\n",
       "    }\n",
       "</style>\n",
       "<table border=\"1\" class=\"dataframe\">\n",
       "  <thead>\n",
       "    <tr style=\"text-align: right;\">\n",
       "      <th></th>\n",
       "      <th>VehicleType</th>\n",
       "      <th>RegistrationYear</th>\n",
       "      <th>Gearbox</th>\n",
       "      <th>Power</th>\n",
       "      <th>Model</th>\n",
       "      <th>Kilometer</th>\n",
       "      <th>FuelType</th>\n",
       "      <th>Brand</th>\n",
       "      <th>Repaired</th>\n",
       "      <th>PostalCode</th>\n",
       "    </tr>\n",
       "  </thead>\n",
       "  <tbody>\n",
       "    <tr>\n",
       "      <th>188662</th>\n",
       "      <td>1.0</td>\n",
       "      <td>2002</td>\n",
       "      <td>0.0</td>\n",
       "      <td>231</td>\n",
       "      <td>11.0</td>\n",
       "      <td>150000</td>\n",
       "      <td>6.0</td>\n",
       "      <td>2.0</td>\n",
       "      <td>0.0</td>\n",
       "      <td>90431</td>\n",
       "    </tr>\n",
       "    <tr>\n",
       "      <th>63179</th>\n",
       "      <td>4.0</td>\n",
       "      <td>2006</td>\n",
       "      <td>1.0</td>\n",
       "      <td>200</td>\n",
       "      <td>115.0</td>\n",
       "      <td>90000</td>\n",
       "      <td>6.0</td>\n",
       "      <td>38.0</td>\n",
       "      <td>0.0</td>\n",
       "      <td>52152</td>\n",
       "    </tr>\n",
       "    <tr>\n",
       "      <th>302528</th>\n",
       "      <td>1.0</td>\n",
       "      <td>2002</td>\n",
       "      <td>1.0</td>\n",
       "      <td>41</td>\n",
       "      <td>105.0</td>\n",
       "      <td>150000</td>\n",
       "      <td>2.0</td>\n",
       "      <td>32.0</td>\n",
       "      <td>0.0</td>\n",
       "      <td>26441</td>\n",
       "    </tr>\n",
       "    <tr>\n",
       "      <th>2946</th>\n",
       "      <td>4.0</td>\n",
       "      <td>2013</td>\n",
       "      <td>1.0</td>\n",
       "      <td>110</td>\n",
       "      <td>179.0</td>\n",
       "      <td>50000</td>\n",
       "      <td>2.0</td>\n",
       "      <td>23.0</td>\n",
       "      <td>0.0</td>\n",
       "      <td>94336</td>\n",
       "    </tr>\n",
       "    <tr>\n",
       "      <th>72835</th>\n",
       "      <td>8.0</td>\n",
       "      <td>1999</td>\n",
       "      <td>1.0</td>\n",
       "      <td>150</td>\n",
       "      <td>50.0</td>\n",
       "      <td>30000</td>\n",
       "      <td>6.0</td>\n",
       "      <td>38.0</td>\n",
       "      <td>2.0</td>\n",
       "      <td>94556</td>\n",
       "    </tr>\n",
       "  </tbody>\n",
       "</table>\n",
       "</div>"
      ],
      "text/plain": [
       "        VehicleType  RegistrationYear  Gearbox  Power  Model  Kilometer  \\\n",
       "188662          1.0              2002      0.0    231   11.0     150000   \n",
       "63179           4.0              2006      1.0    200  115.0      90000   \n",
       "302528          1.0              2002      1.0     41  105.0     150000   \n",
       "2946            4.0              2013      1.0    110  179.0      50000   \n",
       "72835           8.0              1999      1.0    150   50.0      30000   \n",
       "\n",
       "        FuelType  Brand  Repaired  PostalCode  \n",
       "188662       6.0    2.0       0.0       90431  \n",
       "63179        6.0   38.0       0.0       52152  \n",
       "302528       2.0   32.0       0.0       26441  \n",
       "2946         2.0   23.0       0.0       94336  \n",
       "72835        6.0   38.0       2.0       94556  "
      ]
     },
     "execution_count": 60,
     "metadata": {},
     "output_type": "execute_result"
    }
   ],
   "source": [
    "features_train_oe.head()"
   ]
  },
  {
   "cell_type": "markdown",
   "metadata": {},
   "source": [
    "### <a id='toc1_1_4_'></a>[Масштабирование](#toc0_)"
   ]
  },
  {
   "cell_type": "code",
   "execution_count": 61,
   "metadata": {},
   "outputs": [
    {
     "name": "stdout",
     "output_type": "stream",
     "text": [
      "<class 'pandas.core.frame.DataFrame'>\n",
      "Int64Index: 174462 entries, 188662 to 260662\n",
      "Data columns (total 10 columns):\n",
      " #   Column            Non-Null Count   Dtype \n",
      "---  ------            --------------   ----- \n",
      " 0   VehicleType       174462 non-null  object\n",
      " 1   RegistrationYear  174462 non-null  int64 \n",
      " 2   Gearbox           174462 non-null  object\n",
      " 3   Power             174462 non-null  int64 \n",
      " 4   Model             174462 non-null  object\n",
      " 5   Kilometer         174462 non-null  int64 \n",
      " 6   FuelType          174462 non-null  object\n",
      " 7   Brand             174462 non-null  object\n",
      " 8   Repaired          174462 non-null  object\n",
      " 9   PostalCode        174462 non-null  int64 \n",
      "dtypes: int64(4), object(6)\n",
      "memory usage: 14.6+ MB\n"
     ]
    }
   ],
   "source": [
    "features_train.info()"
   ]
  },
  {
   "cell_type": "code",
   "execution_count": 62,
   "metadata": {},
   "outputs": [],
   "source": [
    "numeric=['RegistrationYear', 'Power', 'Kilometer', 'PostalCode']\n",
    "scaler = StandardScaler()\n",
    "f_train_num=pd.DataFrame(scaler.fit_transform(features_train[numeric]), columns= numeric, index=features_train.index )\n",
    "f_valid_num=pd.DataFrame(scaler.transform(features_valid[numeric]),columns= numeric, index=features_valid.index)\n",
    "f_test_num= pd.DataFrame(scaler.transform(features_test[numeric]),columns= numeric, index=features_test.index)"
   ]
  },
  {
   "cell_type": "markdown",
   "metadata": {},
   "source": [
    "### <a id='toc1_1_5_'></a>[Объеденяем выборки](#toc0_)"
   ]
  },
  {
   "cell_type": "code",
   "execution_count": 63,
   "metadata": {},
   "outputs": [],
   "source": [
    "features_train_full = features_train_one.join(f_train_num)\n",
    "features_valid_full = features_valid_one.join(f_valid_num)\n",
    "features_test_full = features_test_one.join(f_test_num)"
   ]
  },
  {
   "cell_type": "markdown",
   "metadata": {},
   "source": [
    "## <a id='toc1_2_'></a>[Обучение моделей](#toc0_)"
   ]
  },
  {
   "cell_type": "markdown",
   "metadata": {},
   "source": [
    "### <a id='toc1_2_1_'></a>[Случайный лес](#toc0_)"
   ]
  },
  {
   "cell_type": "code",
   "execution_count": 64,
   "metadata": {},
   "outputs": [
    {
     "name": "stdout",
     "output_type": "stream",
     "text": [
      "Лучшая модель: RandomForestRegressor(max_depth=9, n_estimators=10, random_state=12345)\n",
      "Лучший параметр est 10\n",
      "Лучший параметр depth 9\n",
      "RMSE 1937.1592539615208\n",
      "Время обучения: 3.442481517791748 сек.\n",
      "Время предсказания: 0.048775672912597656 сек.\n"
     ]
    }
   ],
   "source": [
    "best_model = None\n",
    "best_result = float('inf')\n",
    "best_param = None\n",
    "best_depth = None\n",
    "\n",
    "for est in range(1, 11):\n",
    "    for depth in range(1,10):\n",
    "        \n",
    "        model = RandomForestRegressor(random_state=12345, n_estimators=est, max_depth=depth)\n",
    "        start_time = time.time()\n",
    "        model.fit(features_train_oe, target_train_oe)\n",
    "        end_time = time.time()\n",
    "        train_time = end_time - start_time\n",
    "        start_time = time.time()\n",
    "        pred_val = model.predict(features_valid_oe)\n",
    "        end_time = time.time()\n",
    "        pred_time = end_time - start_time\n",
    "        rmse = np.sqrt(mean_squared_error(target_valid_oe, pred_val))\n",
    "    \n",
    "        if rmse < best_result:\n",
    "            best_model = model\n",
    "            best_param = est\n",
    "            best_depth = depth\n",
    "            best_result = rmse\n",
    "\n",
    "print('Лучшая модель:', best_model)\n",
    "print('Лучший параметр est', best_param)\n",
    "print('Лучший параметр depth', best_depth)\n",
    "print('RMSE', best_result)\n",
    "print('Время обучения:', train_time, 'сек.')\n",
    "print('Время предсказания:', pred_time, 'сек.')"
   ]
  },
  {
   "cell_type": "code",
   "execution_count": 65,
   "metadata": {},
   "outputs": [],
   "source": [
    "# Пока не требуется\n",
    "# model = RandomForestRegressor(random_state=12345, n_estimators=10, max_depth=9)\n",
    "\n",
    "# start_time = time.time()\n",
    "# model.fit(features_train_or, target_train)\n",
    "# end_time = time.time()\n",
    "# train_time = end_time - start_time\n",
    "\n",
    "# start_time = time.time()\n",
    "# pred_test = model.predict(features_test_or)\n",
    "# end_time = time.time()\n",
    "# pred_time = end_time - start_time\n",
    "\n",
    "# rmse = np.sqrt(mean_squared_error(target_test, pred_test))\n",
    "# print('Время обучения:', train_time, 'сек.')\n",
    "# print('Время предсказания на тестовой:', pred_time, 'сек.')\n",
    "# print('RMSE модели на тестовой выборке:', rmse)"
   ]
  },
  {
   "cell_type": "markdown",
   "metadata": {},
   "source": [
    "### <a id='toc1_2_2_'></a>[Линейная регрессия](#toc0_)"
   ]
  },
  {
   "cell_type": "code",
   "execution_count": 66,
   "metadata": {},
   "outputs": [
    {
     "name": "stdout",
     "output_type": "stream",
     "text": [
      "Время обучения: 18.143405437469482 сек.\n",
      "Время предсказания на валидации: 0.2956826686859131 сек.\n",
      "RMSE модели на валидационной выборке: 2592.1040460758772\n"
     ]
    }
   ],
   "source": [
    "model=LinearRegression()\n",
    "\n",
    "start_time = time.time()\n",
    "model.fit(features_train_full,target_train)\n",
    "end_time = time.time()\n",
    "train_time = end_time - start_time\n",
    "\n",
    "start_time = time.time()\n",
    "pred_val = model.predict(features_valid_full)\n",
    "end_time = time.time()\n",
    "pred_time = end_time - start_time\n",
    "mse = mean_squared_error(target_valid, pred_val)\n",
    "rmse = np.sqrt(mse)\n",
    "print('Время обучения:', train_time, 'сек.')\n",
    "print('Время предсказания на валидации:', pred_time, 'сек.')\n",
    "print('RMSE модели на валидационной выборке:', rmse)\n"
   ]
  },
  {
   "cell_type": "markdown",
   "metadata": {},
   "source": [
    "### <a id='toc1_2_3_'></a>[LightGBM](#toc0_)"
   ]
  },
  {
   "cell_type": "code",
   "execution_count": 67,
   "metadata": {},
   "outputs": [
    {
     "name": "stdout",
     "output_type": "stream",
     "text": [
      "Время обучения: 4.204513788223267 сек.\n",
      "Время предсказания на валидации: 0.5057084560394287 сек.\n",
      "RMSE модели на валидационной выборке: 1652.5702926615377\n"
     ]
    }
   ],
   "source": [
    "\n",
    "model = LGBMRegressor(random_state=12345)\n",
    "\n",
    "start_time = time.time()\n",
    "model.fit(features_train_oe,target_train)\n",
    "end_time = time.time()\n",
    "\n",
    "train_time = end_time - start_time\n",
    "start_time = time.time()\n",
    "pred_val = model.predict(features_valid_oe)\n",
    "end_time = time.time()\n",
    "pred_time = end_time - start_time\n",
    "mse = mean_squared_error(target_valid_oe, pred_val)\n",
    "rmse = np.sqrt(mse)\n",
    "\n",
    "print('Время обучения:', train_time, 'сек.')\n",
    "print('Время предсказания на валидации:', pred_time, 'сек.')\n",
    "print('RMSE модели на валидационной выборке:', rmse)"
   ]
  },
  {
   "cell_type": "markdown",
   "metadata": {},
   "source": [
    "### <a id='toc1_2_4_'></a>[CatBoost](#toc0_)"
   ]
  },
  {
   "cell_type": "code",
   "execution_count": 69,
   "metadata": {},
   "outputs": [
    {
     "name": "stdout",
     "output_type": "stream",
     "text": [
      "Learning rate set to 0.162594\n",
      "0:\tlearn: 4120.5175858\ttotal: 29.5ms\tremaining: 14.7s\n",
      "100:\tlearn: 1694.8912132\ttotal: 2.52s\tremaining: 9.97s\n",
      "200:\tlearn: 1607.4788885\ttotal: 5.02s\tremaining: 7.46s\n",
      "300:\tlearn: 1559.3116962\ttotal: 7.58s\tremaining: 5.01s\n",
      "400:\tlearn: 1525.9841388\ttotal: 10.1s\tremaining: 2.49s\n",
      "499:\tlearn: 1498.9778114\ttotal: 12.6s\tremaining: 0us\n",
      "Время обучения: 13.656612634658813 сек.\n",
      "Время предсказания на валидации: 0.03335118293762207 сек.\n",
      "RMSE модели на валидационной выборке: 1577.0676998124752\n"
     ]
    }
   ],
   "source": [
    "model =CatBoostRegressor(iterations=500)\n",
    "start_time = time.time()\n",
    "model.fit(features_train_oe,target_train_oe, verbose=100)\n",
    "end_time = time.time()\n",
    "train_time = end_time - start_time\n",
    "\n",
    "start_time = time.time()\n",
    "pred_val = model.predict(features_valid_oe)\n",
    "end_time = time.time()\n",
    "pred_time = end_time - start_time\n",
    "mse = mean_squared_error(target_valid_oe, pred_val)\n",
    "rmse = np.sqrt(mse)\n",
    "\n",
    "\n",
    "print('Время обучения:', train_time, 'сек.')\n",
    "print('Время предсказания на валидации:', pred_time, 'сек.')\n",
    "print('RMSE модели на валидационной выборке:', rmse)"
   ]
  },
  {
   "cell_type": "markdown",
   "metadata": {},
   "source": [
    "## <a id='toc1_3_'></a>[Анализ моделей](#toc0_)"
   ]
  },
  {
   "cell_type": "code",
   "execution_count": 71,
   "metadata": {},
   "outputs": [
    {
     "data": {
      "text/html": [
       "<div>\n",
       "<style scoped>\n",
       "    .dataframe tbody tr th:only-of-type {\n",
       "        vertical-align: middle;\n",
       "    }\n",
       "\n",
       "    .dataframe tbody tr th {\n",
       "        vertical-align: top;\n",
       "    }\n",
       "\n",
       "    .dataframe thead th {\n",
       "        text-align: right;\n",
       "    }\n",
       "</style>\n",
       "<table border=\"1\" class=\"dataframe\">\n",
       "  <thead>\n",
       "    <tr style=\"text-align: right;\">\n",
       "      <th></th>\n",
       "      <th>Модели</th>\n",
       "      <th>Время обучения</th>\n",
       "      <th>Время предсказания на валидации</th>\n",
       "      <th>RMSE valid</th>\n",
       "    </tr>\n",
       "  </thead>\n",
       "  <tbody>\n",
       "    <tr>\n",
       "      <th>0</th>\n",
       "      <td>Случайный лес</td>\n",
       "      <td>3.442482</td>\n",
       "      <td>0.048776</td>\n",
       "      <td>1937.159254</td>\n",
       "    </tr>\n",
       "    <tr>\n",
       "      <th>1</th>\n",
       "      <td>Линейная регрессия</td>\n",
       "      <td>18.143405</td>\n",
       "      <td>0.295683</td>\n",
       "      <td>2592.104046</td>\n",
       "    </tr>\n",
       "    <tr>\n",
       "      <th>2</th>\n",
       "      <td>LGBM</td>\n",
       "      <td>4.204514</td>\n",
       "      <td>0.505708</td>\n",
       "      <td>1652.570293</td>\n",
       "    </tr>\n",
       "    <tr>\n",
       "      <th>3</th>\n",
       "      <td>CatBoost</td>\n",
       "      <td>13.656613</td>\n",
       "      <td>0.033351</td>\n",
       "      <td>1577.067700</td>\n",
       "    </tr>\n",
       "  </tbody>\n",
       "</table>\n",
       "</div>"
      ],
      "text/plain": [
       "               Модели  Время обучения  Время предсказания на валидации  \\\n",
       "0       Случайный лес        3.442482                         0.048776   \n",
       "1  Линейная регрессия       18.143405                         0.295683   \n",
       "2                LGBM        4.204514                         0.505708   \n",
       "3            CatBoost       13.656613                         0.033351   \n",
       "\n",
       "    RMSE valid  \n",
       "0  1937.159254  \n",
       "1  2592.104046  \n",
       "2  1652.570293  \n",
       "3  1577.067700  "
      ]
     },
     "execution_count": 71,
     "metadata": {},
     "output_type": "execute_result"
    }
   ],
   "source": [
    "table = {'Модели':\n",
    "    ['Случайный лес', 'Линейная регрессия', 'LGBM', 'CatBoost'],\n",
    "         'Время обучения': [3.442481517791748, 18.143405437469482, 4.204513788223267, 13.656612634658813],\n",
    "         'Время предсказания на валидации':[0.048775672912597656, 0.2956826686859131, 0.5057084560394287, 0.03335118293762207],\n",
    "         'RMSE valid':[1937.1592539615208, 2592.1040460758772, 1652.5702926615377, 1577.0676998124752]\n",
    "         \n",
    "}\n",
    "\n",
    "table = pd.DataFrame(table)\n",
    "table.head()\n",
    "# Больше никогда не буду так лениться и записывать однотипные переменны. Такую табличку пишу в последний раз. "
   ]
  },
  {
   "cell_type": "markdown",
   "metadata": {},
   "source": [
    "Итог:\n",
    "\n",
    "- Лудшее время обучения показала модель случайного леса, не сильно отстает от нее LGBM.  Худшее у линейной регрессии, она значительно уступает по времени обучения. \n",
    "- Лучшие результаты по времени предсказания у CatBoost, за ним случайный лес. А тут дольше всего думает моделька LGBM. \n",
    "- Финалист по метрике RMSE - CatBoost. Эта модель  существенно оторвалась от всех остальных. Худший показетель у линейной регресии. \n",
    "\n",
    "Не смотря на более длительное обученеи, модель CatBoost  выигрывает всех в скорости предсказания, а главное в качестве. Поэтому ее будет брать в качесте лучшей модели. \n",
    "\n",
    "Можно конечно пожертовать немного скоростью предсказания и качеством модели и выбрать модельку LGBM, но момент предсказывания на текущем исследовании составляет разницу во времени 0.47 секундны, не в пользу LGBM. "
   ]
  },
  {
   "cell_type": "markdown",
   "metadata": {},
   "source": [
    "### <a id='toc1_3_1_'></a>[Проверка лучшей на тестовых данных](#toc0_)"
   ]
  },
  {
   "cell_type": "code",
   "execution_count": 73,
   "metadata": {},
   "outputs": [
    {
     "name": "stdout",
     "output_type": "stream",
     "text": [
      "Learning rate set to 0.162594\n",
      "0:\tlearn: 4120.5175858\ttotal: 25.9ms\tremaining: 12.9s\n",
      "100:\tlearn: 1694.8912132\ttotal: 2.46s\tremaining: 9.7s\n",
      "200:\tlearn: 1607.4788885\ttotal: 4.87s\tremaining: 7.24s\n",
      "300:\tlearn: 1559.3116962\ttotal: 7.28s\tremaining: 4.82s\n",
      "400:\tlearn: 1525.9841388\ttotal: 9.64s\tremaining: 2.38s\n",
      "499:\tlearn: 1498.9778114\ttotal: 12s\tremaining: 0us\n",
      "Время обучения: 13.158280611038208 сек.\n",
      "Время предсказания на валидации: 0.03490400314331055 сек.\n",
      "RMSE модели на тестовой выборке: 1563.7987566129425\n"
     ]
    }
   ],
   "source": [
    "model =CatBoostRegressor(iterations=500)\n",
    "start_time = time.time()\n",
    "model.fit(features_train_oe,target_train_oe, verbose=100)\n",
    "end_time = time.time()\n",
    "train_time = end_time - start_time\n",
    "\n",
    "start_time = time.time()\n",
    "pred_test = model.predict(features_test_oe)\n",
    "end_time = time.time()\n",
    "pred_time = end_time - start_time\n",
    "mse = mean_squared_error(target_test_oe, pred_test)\n",
    "rmse = np.sqrt(mse)\n",
    "\n",
    "\n",
    "print('Время обучения:', train_time, 'сек.')\n",
    "print('Время предсказания на валидации:', pred_time, 'сек.')\n",
    "print('RMSE модели на тестовой выборке:', rmse)"
   ]
  },
  {
   "cell_type": "markdown",
   "metadata": {},
   "source": [
    "На тестовой выборке моделька показала качество еще лучше чем на валидации, хоть и не намного (1577 - valid, против 1563 - test). "
   ]
  },
  {
   "cell_type": "markdown",
   "metadata": {},
   "source": [
    "## <a id='toc1_4_'></a>[Вывод:](#toc0_)\n",
    "\n",
    "При проверки моделей на валидационной выборке было принято решение взять модель CatBoos, так как она показала лучшие результаты и оптимальное время работоспособности. \n",
    "\n",
    "Проверка на тестовых данных показало положительные результаты метрики RMSE 1563.79"
   ]
  }
 ],
 "metadata": {
  "ExecuteTimeLog": [
   {
    "duration": 369,
    "start_time": "2023-10-23T11:31:59.579Z"
   },
   {
    "duration": 1298,
    "start_time": "2023-10-23T11:33:08.809Z"
   },
   {
    "duration": 136,
    "start_time": "2023-10-23T11:45:25.863Z"
   },
   {
    "duration": 3,
    "start_time": "2023-10-23T11:48:20.640Z"
   },
   {
    "duration": 87,
    "start_time": "2023-10-23T11:55:11.253Z"
   },
   {
    "duration": 83,
    "start_time": "2023-10-23T12:12:41.227Z"
   },
   {
    "duration": 48,
    "start_time": "2023-10-23T12:19:40.987Z"
   },
   {
    "duration": 71,
    "start_time": "2023-10-23T12:19:54.637Z"
   },
   {
    "duration": 11,
    "start_time": "2023-10-23T12:20:09.305Z"
   },
   {
    "duration": 424,
    "start_time": "2023-10-23T12:20:26.044Z"
   },
   {
    "duration": 1007,
    "start_time": "2023-10-23T12:20:26.469Z"
   },
   {
    "duration": 100,
    "start_time": "2023-10-23T12:20:27.478Z"
   },
   {
    "duration": 50,
    "start_time": "2023-10-23T12:20:27.580Z"
   },
   {
    "duration": 143,
    "start_time": "2023-10-23T12:20:27.644Z"
   },
   {
    "duration": 140,
    "start_time": "2023-10-23T12:20:37.946Z"
   },
   {
    "duration": 3,
    "start_time": "2023-10-23T12:33:28.159Z"
   },
   {
    "duration": 41,
    "start_time": "2023-10-23T12:33:42.484Z"
   },
   {
    "duration": 103,
    "start_time": "2023-10-23T12:34:25.696Z"
   },
   {
    "duration": 138,
    "start_time": "2023-10-23T12:37:56.140Z"
   },
   {
    "duration": 85,
    "start_time": "2023-10-23T12:43:24.015Z"
   },
   {
    "duration": 135,
    "start_time": "2023-10-23T12:43:31.729Z"
   },
   {
    "duration": 146,
    "start_time": "2023-10-23T12:43:38.856Z"
   },
   {
    "duration": 148,
    "start_time": "2023-10-23T13:00:50.496Z"
   },
   {
    "duration": 903,
    "start_time": "2023-10-23T13:11:21.975Z"
   },
   {
    "duration": 909,
    "start_time": "2023-10-23T13:11:42.423Z"
   },
   {
    "duration": 81,
    "start_time": "2023-10-23T13:12:04.444Z"
   },
   {
    "duration": 132,
    "start_time": "2023-10-23T13:12:17.089Z"
   },
   {
    "duration": 138,
    "start_time": "2023-10-23T13:12:20.058Z"
   },
   {
    "duration": 15,
    "start_time": "2023-10-23T13:15:37.565Z"
   },
   {
    "duration": 422,
    "start_time": "2023-10-23T13:15:42.530Z"
   },
   {
    "duration": 48,
    "start_time": "2023-10-23T13:15:42.954Z"
   },
   {
    "duration": 1097,
    "start_time": "2023-10-23T13:15:43.004Z"
   },
   {
    "duration": 93,
    "start_time": "2023-10-23T13:15:44.102Z"
   },
   {
    "duration": 59,
    "start_time": "2023-10-23T13:15:44.197Z"
   },
   {
    "duration": 153,
    "start_time": "2023-10-23T13:15:44.258Z"
   },
   {
    "duration": 936,
    "start_time": "2023-10-23T13:15:44.413Z"
   },
   {
    "duration": 903,
    "start_time": "2023-10-23T13:15:45.350Z"
   },
   {
    "duration": 137,
    "start_time": "2023-10-23T13:15:46.255Z"
   },
   {
    "duration": 158,
    "start_time": "2023-10-23T13:15:46.394Z"
   },
   {
    "duration": 273,
    "start_time": "2023-10-23T13:29:42.910Z"
   },
   {
    "duration": 98,
    "start_time": "2023-10-23T13:29:45.745Z"
   },
   {
    "duration": 118,
    "start_time": "2023-10-23T13:30:17.426Z"
   },
   {
    "duration": 72,
    "start_time": "2023-10-23T13:38:08.600Z"
   },
   {
    "duration": 65,
    "start_time": "2023-10-23T13:39:32.283Z"
   },
   {
    "duration": 1558,
    "start_time": "2023-10-23T13:42:01.960Z"
   },
   {
    "duration": 3,
    "start_time": "2023-10-23T13:42:12.934Z"
   },
   {
    "duration": 74,
    "start_time": "2023-10-23T13:46:22.474Z"
   },
   {
    "duration": 68,
    "start_time": "2023-10-23T13:47:18.387Z"
   },
   {
    "duration": 41,
    "start_time": "2023-10-23T13:49:33.512Z"
   },
   {
    "duration": 72,
    "start_time": "2023-10-23T13:49:44.007Z"
   },
   {
    "duration": 57,
    "start_time": "2023-10-23T13:49:53.784Z"
   },
   {
    "duration": 84,
    "start_time": "2023-10-23T13:50:00.017Z"
   },
   {
    "duration": 422,
    "start_time": "2023-10-23T13:59:26.761Z"
   },
   {
    "duration": 46,
    "start_time": "2023-10-23T13:59:27.185Z"
   },
   {
    "duration": 1084,
    "start_time": "2023-10-23T13:59:27.232Z"
   },
   {
    "duration": 89,
    "start_time": "2023-10-23T13:59:28.318Z"
   },
   {
    "duration": 49,
    "start_time": "2023-10-23T13:59:28.409Z"
   },
   {
    "duration": 305,
    "start_time": "2023-10-23T13:59:28.460Z"
   },
   {
    "duration": 116,
    "start_time": "2023-10-23T13:59:28.767Z"
   },
   {
    "duration": 119,
    "start_time": "2023-10-23T13:59:28.884Z"
   },
   {
    "duration": 113,
    "start_time": "2023-10-23T13:59:29.005Z"
   },
   {
    "duration": 604,
    "start_time": "2023-10-23T13:59:29.120Z"
   },
   {
    "duration": 655,
    "start_time": "2023-10-23T13:59:29.726Z"
   },
   {
    "duration": 3,
    "start_time": "2023-10-23T13:59:30.382Z"
   },
   {
    "duration": 112,
    "start_time": "2023-10-23T13:59:30.387Z"
   },
   {
    "duration": 21,
    "start_time": "2023-10-23T14:17:53.361Z"
   },
   {
    "duration": 67,
    "start_time": "2023-10-23T14:18:02.038Z"
   },
   {
    "duration": 404,
    "start_time": "2023-10-23T14:18:09.704Z"
   },
   {
    "duration": 50,
    "start_time": "2023-10-23T14:18:10.110Z"
   },
   {
    "duration": 1062,
    "start_time": "2023-10-23T14:18:10.163Z"
   },
   {
    "duration": 90,
    "start_time": "2023-10-23T14:18:11.227Z"
   },
   {
    "duration": 54,
    "start_time": "2023-10-23T14:18:11.318Z"
   },
   {
    "duration": 339,
    "start_time": "2023-10-23T14:18:11.374Z"
   },
   {
    "duration": 116,
    "start_time": "2023-10-23T14:18:11.715Z"
   },
   {
    "duration": 105,
    "start_time": "2023-10-23T14:18:11.833Z"
   },
   {
    "duration": 186,
    "start_time": "2023-10-23T14:18:11.940Z"
   },
   {
    "duration": 601,
    "start_time": "2023-10-23T14:18:12.128Z"
   },
   {
    "duration": 620,
    "start_time": "2023-10-23T14:18:12.731Z"
   },
   {
    "duration": 3,
    "start_time": "2023-10-23T14:18:13.353Z"
   },
   {
    "duration": 92,
    "start_time": "2023-10-23T14:18:13.359Z"
   },
   {
    "duration": 142,
    "start_time": "2023-10-23T14:18:13.453Z"
   },
   {
    "duration": 118,
    "start_time": "2023-10-23T14:22:29.497Z"
   },
   {
    "duration": 128,
    "start_time": "2023-10-23T14:36:47.741Z"
   },
   {
    "duration": 5,
    "start_time": "2023-10-23T14:37:57.863Z"
   },
   {
    "duration": 31,
    "start_time": "2023-10-23T14:38:11.647Z"
   },
   {
    "duration": 54,
    "start_time": "2023-10-23T14:38:24.498Z"
   },
   {
    "duration": 180,
    "start_time": "2023-10-23T14:39:12.472Z"
   },
   {
    "duration": 145,
    "start_time": "2023-10-23T14:40:23.620Z"
   },
   {
    "duration": 112,
    "start_time": "2023-10-23T14:57:14.982Z"
   },
   {
    "duration": 761,
    "start_time": "2023-10-23T14:57:23.619Z"
   },
   {
    "duration": 3,
    "start_time": "2023-10-23T14:58:24.183Z"
   },
   {
    "duration": 313,
    "start_time": "2023-10-23T14:58:32.278Z"
   },
   {
    "duration": 398,
    "start_time": "2023-10-23T15:01:55.272Z"
   },
   {
    "duration": 352,
    "start_time": "2023-10-23T15:02:22.738Z"
   },
   {
    "duration": 407,
    "start_time": "2023-10-23T15:02:34.751Z"
   },
   {
    "duration": 271,
    "start_time": "2023-10-23T15:02:40.689Z"
   },
   {
    "duration": 296,
    "start_time": "2023-10-23T15:02:55.915Z"
   },
   {
    "duration": 267,
    "start_time": "2023-10-23T15:03:07.545Z"
   },
   {
    "duration": 356,
    "start_time": "2023-10-23T15:03:26.051Z"
   },
   {
    "duration": 28,
    "start_time": "2023-10-23T15:24:16.308Z"
   },
   {
    "duration": 169,
    "start_time": "2023-10-23T15:24:35.575Z"
   },
   {
    "duration": 307,
    "start_time": "2023-10-23T15:25:08.408Z"
   },
   {
    "duration": 346,
    "start_time": "2023-10-23T15:25:20.849Z"
   },
   {
    "duration": 340,
    "start_time": "2023-10-23T15:25:28.851Z"
   },
   {
    "duration": 295,
    "start_time": "2023-10-23T15:25:36.791Z"
   },
   {
    "duration": 354,
    "start_time": "2023-10-23T15:25:48.412Z"
   },
   {
    "duration": 359,
    "start_time": "2023-10-23T15:30:37.371Z"
   },
   {
    "duration": 362,
    "start_time": "2023-10-23T15:31:29.240Z"
   },
   {
    "duration": 8,
    "start_time": "2023-10-23T15:33:32.920Z"
   },
   {
    "duration": 33,
    "start_time": "2023-10-23T15:33:36.053Z"
   },
   {
    "duration": 325,
    "start_time": "2023-10-23T15:33:36.874Z"
   },
   {
    "duration": 422,
    "start_time": "2023-10-23T15:34:16.565Z"
   },
   {
    "duration": 359,
    "start_time": "2023-10-23T15:35:55.686Z"
   },
   {
    "duration": 482,
    "start_time": "2023-10-23T15:38:37.131Z"
   },
   {
    "duration": 20,
    "start_time": "2023-10-23T15:41:25.654Z"
   },
   {
    "duration": 25,
    "start_time": "2023-10-23T15:42:00.708Z"
   },
   {
    "duration": 25,
    "start_time": "2023-10-23T15:42:20.716Z"
   },
   {
    "duration": 25,
    "start_time": "2023-10-23T15:42:24.938Z"
   },
   {
    "duration": 20,
    "start_time": "2023-10-23T15:42:30.878Z"
   },
   {
    "duration": 17,
    "start_time": "2023-10-23T15:42:59.150Z"
   },
   {
    "duration": 18,
    "start_time": "2023-10-23T15:46:14.123Z"
   },
   {
    "duration": 29,
    "start_time": "2023-10-23T15:46:36.794Z"
   },
   {
    "duration": 6,
    "start_time": "2023-10-23T15:48:10.213Z"
   },
   {
    "duration": 319,
    "start_time": "2023-10-23T15:49:00.090Z"
   },
   {
    "duration": 235,
    "start_time": "2023-10-23T15:49:13.267Z"
   },
   {
    "duration": 181,
    "start_time": "2023-10-23T15:50:26.921Z"
   },
   {
    "duration": 184,
    "start_time": "2023-10-23T15:50:34.823Z"
   },
   {
    "duration": 8,
    "start_time": "2023-10-23T15:51:10.031Z"
   },
   {
    "duration": 17,
    "start_time": "2023-10-23T15:51:29.442Z"
   },
   {
    "duration": 144,
    "start_time": "2023-10-23T15:58:04.827Z"
   },
   {
    "duration": 241,
    "start_time": "2023-10-23T15:58:11.312Z"
   },
   {
    "duration": 1380,
    "start_time": "2023-10-23T15:58:16.095Z"
   },
   {
    "duration": 327,
    "start_time": "2023-10-23T15:58:21.447Z"
   },
   {
    "duration": 78,
    "start_time": "2023-10-23T15:58:40.642Z"
   },
   {
    "duration": 277,
    "start_time": "2023-10-23T15:58:48.101Z"
   },
   {
    "duration": 329,
    "start_time": "2023-10-23T15:59:14.324Z"
   },
   {
    "duration": 22,
    "start_time": "2023-10-23T16:01:35.158Z"
   },
   {
    "duration": 275,
    "start_time": "2023-10-23T16:01:49.799Z"
   },
   {
    "duration": 22,
    "start_time": "2023-10-23T16:02:37.904Z"
   },
   {
    "duration": 280,
    "start_time": "2023-10-23T16:02:39.054Z"
   },
   {
    "duration": 23,
    "start_time": "2023-10-23T16:02:48.965Z"
   },
   {
    "duration": 280,
    "start_time": "2023-10-23T16:02:49.760Z"
   },
   {
    "duration": 87,
    "start_time": "2023-10-23T16:04:36.824Z"
   },
   {
    "duration": 19,
    "start_time": "2023-10-23T16:08:57.342Z"
   },
   {
    "duration": 21,
    "start_time": "2023-10-23T16:09:15.983Z"
   },
   {
    "duration": 18,
    "start_time": "2023-10-23T16:10:22.660Z"
   },
   {
    "duration": 19,
    "start_time": "2023-10-23T16:10:40.576Z"
   },
   {
    "duration": 6,
    "start_time": "2023-10-23T16:13:24.423Z"
   },
   {
    "duration": 15,
    "start_time": "2023-10-23T16:23:01.345Z"
   },
   {
    "duration": 420,
    "start_time": "2023-10-23T16:23:52.491Z"
   },
   {
    "duration": 218,
    "start_time": "2023-10-23T16:24:01.918Z"
   },
   {
    "duration": 1662,
    "start_time": "2023-10-23T16:24:08.537Z"
   },
   {
    "duration": 319,
    "start_time": "2023-10-23T17:02:17.058Z"
   },
   {
    "duration": 294,
    "start_time": "2023-10-23T17:02:27.708Z"
   },
   {
    "duration": 339,
    "start_time": "2023-10-23T17:03:01.930Z"
   },
   {
    "duration": 6,
    "start_time": "2023-10-23T17:57:44.357Z"
   },
   {
    "duration": 6,
    "start_time": "2023-10-23T17:58:14.862Z"
   },
   {
    "duration": 5,
    "start_time": "2023-10-23T17:58:22.298Z"
   },
   {
    "duration": 9,
    "start_time": "2023-10-23T17:58:27.252Z"
   },
   {
    "duration": 5,
    "start_time": "2023-10-23T17:58:55.192Z"
   },
   {
    "duration": 4,
    "start_time": "2023-10-23T18:06:30.235Z"
   },
   {
    "duration": 10,
    "start_time": "2023-10-23T18:06:49.759Z"
   },
   {
    "duration": 7,
    "start_time": "2023-10-23T18:07:19.898Z"
   },
   {
    "duration": 4,
    "start_time": "2023-10-23T18:07:52.791Z"
   },
   {
    "duration": 8,
    "start_time": "2023-10-23T18:07:54.195Z"
   },
   {
    "duration": 732,
    "start_time": "2023-10-23T18:08:04.068Z"
   },
   {
    "duration": 47,
    "start_time": "2023-10-23T18:08:04.803Z"
   },
   {
    "duration": 1332,
    "start_time": "2023-10-23T18:08:04.854Z"
   },
   {
    "duration": 117,
    "start_time": "2023-10-23T18:08:06.188Z"
   },
   {
    "duration": 56,
    "start_time": "2023-10-23T18:08:06.308Z"
   },
   {
    "duration": 350,
    "start_time": "2023-10-23T18:08:06.366Z"
   },
   {
    "duration": 142,
    "start_time": "2023-10-23T18:08:06.717Z"
   },
   {
    "duration": 117,
    "start_time": "2023-10-23T18:08:06.861Z"
   },
   {
    "duration": 126,
    "start_time": "2023-10-23T18:08:06.979Z"
   },
   {
    "duration": 667,
    "start_time": "2023-10-23T18:08:07.107Z"
   },
   {
    "duration": 706,
    "start_time": "2023-10-23T18:08:07.776Z"
   },
   {
    "duration": 4,
    "start_time": "2023-10-23T18:08:08.484Z"
   },
   {
    "duration": 98,
    "start_time": "2023-10-23T18:08:08.489Z"
   },
   {
    "duration": 145,
    "start_time": "2023-10-23T18:08:08.590Z"
   },
   {
    "duration": 18,
    "start_time": "2023-10-23T18:08:08.737Z"
   },
   {
    "duration": 156,
    "start_time": "2023-10-23T18:08:08.758Z"
   },
   {
    "duration": 380,
    "start_time": "2023-10-23T18:08:08.915Z"
   },
   {
    "duration": 304,
    "start_time": "2023-10-23T18:08:09.297Z"
   },
   {
    "duration": 379,
    "start_time": "2023-10-23T18:08:09.603Z"
   },
   {
    "duration": 410,
    "start_time": "2023-10-23T18:08:09.983Z"
   },
   {
    "duration": 21,
    "start_time": "2023-10-23T18:08:10.395Z"
   },
   {
    "duration": 37,
    "start_time": "2023-10-23T18:08:10.418Z"
   },
   {
    "duration": 37,
    "start_time": "2023-10-23T18:08:10.456Z"
   },
   {
    "duration": 27,
    "start_time": "2023-10-23T18:08:10.495Z"
   },
   {
    "duration": 9,
    "start_time": "2023-10-23T18:08:10.524Z"
   },
   {
    "duration": 60,
    "start_time": "2023-10-23T18:08:10.535Z"
   },
   {
    "duration": 317,
    "start_time": "2023-10-23T18:08:10.597Z"
   },
   {
    "duration": 42,
    "start_time": "2023-10-23T18:08:10.916Z"
   },
   {
    "duration": 329,
    "start_time": "2023-10-23T18:08:10.960Z"
   },
   {
    "duration": 19,
    "start_time": "2023-10-23T18:08:11.291Z"
   },
   {
    "duration": 48,
    "start_time": "2023-10-23T18:08:11.312Z"
   },
   {
    "duration": 31,
    "start_time": "2023-10-23T18:08:11.362Z"
   },
   {
    "duration": 19,
    "start_time": "2023-10-23T18:08:11.395Z"
   },
   {
    "duration": 16,
    "start_time": "2023-10-23T18:08:11.416Z"
   },
   {
    "duration": 19,
    "start_time": "2023-10-23T18:08:11.443Z"
   },
   {
    "duration": 319,
    "start_time": "2023-10-23T18:08:11.464Z"
   },
   {
    "duration": 379,
    "start_time": "2023-10-23T18:08:11.785Z"
   },
   {
    "duration": 5,
    "start_time": "2023-10-23T18:08:12.166Z"
   },
   {
    "duration": 23,
    "start_time": "2023-10-23T18:08:12.173Z"
   },
   {
    "duration": 19,
    "start_time": "2023-10-23T18:08:12.198Z"
   },
   {
    "duration": 821,
    "start_time": "2023-10-26T13:39:55.464Z"
   },
   {
    "duration": 41,
    "start_time": "2023-10-26T13:39:56.287Z"
   },
   {
    "duration": 1320,
    "start_time": "2023-10-26T13:39:56.329Z"
   },
   {
    "duration": 106,
    "start_time": "2023-10-26T13:39:57.651Z"
   },
   {
    "duration": 52,
    "start_time": "2023-10-26T13:39:57.759Z"
   },
   {
    "duration": 314,
    "start_time": "2023-10-26T13:39:57.813Z"
   },
   {
    "duration": 107,
    "start_time": "2023-10-26T13:39:58.129Z"
   },
   {
    "duration": 106,
    "start_time": "2023-10-26T13:39:58.238Z"
   },
   {
    "duration": 104,
    "start_time": "2023-10-26T13:39:58.345Z"
   },
   {
    "duration": 537,
    "start_time": "2023-10-26T13:39:58.451Z"
   },
   {
    "duration": 577,
    "start_time": "2023-10-26T13:39:58.989Z"
   },
   {
    "duration": 4,
    "start_time": "2023-10-26T13:39:59.567Z"
   },
   {
    "duration": 97,
    "start_time": "2023-10-26T13:39:59.572Z"
   },
   {
    "duration": 123,
    "start_time": "2023-10-26T13:39:59.670Z"
   },
   {
    "duration": 4,
    "start_time": "2023-10-26T13:39:59.795Z"
   },
   {
    "duration": 135,
    "start_time": "2023-10-26T13:39:59.806Z"
   },
   {
    "duration": 343,
    "start_time": "2023-10-26T13:39:59.943Z"
   },
   {
    "duration": 290,
    "start_time": "2023-10-26T13:40:00.287Z"
   },
   {
    "duration": 377,
    "start_time": "2023-10-26T13:40:00.579Z"
   },
   {
    "duration": 380,
    "start_time": "2023-10-26T13:40:00.958Z"
   },
   {
    "duration": 20,
    "start_time": "2023-10-26T13:40:01.339Z"
   },
   {
    "duration": 197,
    "start_time": "2023-10-26T13:40:01.361Z"
   },
   {
    "duration": 275,
    "start_time": "2023-10-26T13:40:01.560Z"
   },
   {
    "duration": 69,
    "start_time": "2023-10-26T13:40:01.837Z"
   },
   {
    "duration": 68,
    "start_time": "2023-10-26T13:40:01.908Z"
   },
   {
    "duration": 205,
    "start_time": "2023-10-26T13:40:01.978Z"
   },
   {
    "duration": 487,
    "start_time": "2023-10-26T13:40:02.185Z"
   },
   {
    "duration": 115,
    "start_time": "2023-10-26T13:40:02.675Z"
   },
   {
    "duration": 466,
    "start_time": "2023-10-26T13:40:02.792Z"
   },
   {
    "duration": 20,
    "start_time": "2023-10-26T13:40:03.260Z"
   },
   {
    "duration": 53,
    "start_time": "2023-10-26T13:40:03.282Z"
   },
   {
    "duration": 36,
    "start_time": "2023-10-26T13:40:03.338Z"
   },
   {
    "duration": 25,
    "start_time": "2023-10-26T13:40:03.376Z"
   },
   {
    "duration": 31,
    "start_time": "2023-10-26T13:40:03.403Z"
   },
   {
    "duration": 32,
    "start_time": "2023-10-26T13:40:03.437Z"
   },
   {
    "duration": 316,
    "start_time": "2023-10-26T13:40:03.471Z"
   },
   {
    "duration": 390,
    "start_time": "2023-10-26T13:40:03.789Z"
   },
   {
    "duration": 5,
    "start_time": "2023-10-26T13:40:04.181Z"
   },
   {
    "duration": 36,
    "start_time": "2023-10-26T13:40:04.187Z"
   },
   {
    "duration": 22,
    "start_time": "2023-10-26T13:40:04.225Z"
   },
   {
    "duration": 17,
    "start_time": "2023-10-26T13:45:55.682Z"
   },
   {
    "duration": 21,
    "start_time": "2023-10-26T13:46:12.152Z"
   },
   {
    "duration": 70,
    "start_time": "2023-10-26T13:47:59.134Z"
   },
   {
    "duration": 34,
    "start_time": "2023-10-26T13:48:02.256Z"
   },
   {
    "duration": 43,
    "start_time": "2023-10-26T13:53:52.709Z"
   },
   {
    "duration": 29,
    "start_time": "2023-10-26T13:54:09.262Z"
   },
   {
    "duration": 5,
    "start_time": "2023-10-26T13:58:09.198Z"
   },
   {
    "duration": 331,
    "start_time": "2023-10-26T14:01:01.017Z"
   },
   {
    "duration": 325,
    "start_time": "2023-10-26T14:01:22.813Z"
   },
   {
    "duration": 10,
    "start_time": "2023-10-26T14:01:57.636Z"
   },
   {
    "duration": 8,
    "start_time": "2023-10-26T14:02:13.225Z"
   },
   {
    "duration": 3,
    "start_time": "2023-10-26T14:05:04.142Z"
   },
   {
    "duration": 99,
    "start_time": "2023-10-26T14:06:37.127Z"
   },
   {
    "duration": 27,
    "start_time": "2023-10-26T14:12:53.269Z"
   },
   {
    "duration": 33,
    "start_time": "2023-10-26T14:13:29.695Z"
   },
   {
    "duration": 33,
    "start_time": "2023-10-26T14:14:00.791Z"
   },
   {
    "duration": 364,
    "start_time": "2023-10-26T14:14:55.021Z"
   },
   {
    "duration": 35,
    "start_time": "2023-10-26T14:16:02.772Z"
   },
   {
    "duration": 3,
    "start_time": "2023-10-26T14:18:07.983Z"
   },
   {
    "duration": 72,
    "start_time": "2023-10-26T14:19:10.071Z"
   },
   {
    "duration": 70,
    "start_time": "2023-10-26T14:19:26.574Z"
   },
   {
    "duration": 539,
    "start_time": "2023-10-26T14:20:19.179Z"
   },
   {
    "duration": 613,
    "start_time": "2023-10-26T14:20:37.255Z"
   },
   {
    "duration": 891,
    "start_time": "2023-10-26T14:20:47.248Z"
   },
   {
    "duration": 633,
    "start_time": "2023-10-26T14:21:09.530Z"
   },
   {
    "duration": 64,
    "start_time": "2023-10-26T14:24:07.571Z"
   },
   {
    "duration": 39,
    "start_time": "2023-10-26T14:30:25.291Z"
   },
   {
    "duration": 20,
    "start_time": "2023-10-26T14:34:43.015Z"
   },
   {
    "duration": 3,
    "start_time": "2023-10-26T15:07:21.266Z"
   },
   {
    "duration": 729,
    "start_time": "2023-10-26T15:07:44.937Z"
   },
   {
    "duration": 97,
    "start_time": "2023-10-26T15:24:04.973Z"
   },
   {
    "duration": 129,
    "start_time": "2023-10-26T15:24:49.009Z"
   },
   {
    "duration": 112,
    "start_time": "2023-10-26T15:25:19.699Z"
   },
   {
    "duration": 88,
    "start_time": "2023-10-26T15:25:28.203Z"
   },
   {
    "duration": 116,
    "start_time": "2023-10-26T15:28:14.907Z"
   },
   {
    "duration": 112,
    "start_time": "2023-10-26T15:28:33.142Z"
   },
   {
    "duration": 119,
    "start_time": "2023-10-26T15:29:10.764Z"
   },
   {
    "duration": 82,
    "start_time": "2023-10-26T15:29:41.142Z"
   },
   {
    "duration": 140,
    "start_time": "2023-10-26T15:30:06.570Z"
   },
   {
    "duration": 19,
    "start_time": "2023-10-26T16:09:20.507Z"
   },
   {
    "duration": 3,
    "start_time": "2023-10-26T16:11:56.753Z"
   },
   {
    "duration": 750,
    "start_time": "2023-10-26T16:12:02.317Z"
   },
   {
    "duration": 6912,
    "start_time": "2023-10-26T16:14:17.605Z"
   },
   {
    "duration": 737,
    "start_time": "2023-10-26T16:14:28.543Z"
   },
   {
    "duration": 695,
    "start_time": "2023-10-26T16:14:49.210Z"
   },
   {
    "duration": 1245,
    "start_time": "2023-10-26T16:15:06.372Z"
   },
   {
    "duration": 91,
    "start_time": "2023-10-26T16:15:07.620Z"
   },
   {
    "duration": 1054,
    "start_time": "2023-10-26T16:15:07.713Z"
   },
   {
    "duration": 108,
    "start_time": "2023-10-26T16:15:08.769Z"
   },
   {
    "duration": 57,
    "start_time": "2023-10-26T16:15:08.881Z"
   },
   {
    "duration": 325,
    "start_time": "2023-10-26T16:15:08.940Z"
   },
   {
    "duration": 110,
    "start_time": "2023-10-26T16:15:09.266Z"
   },
   {
    "duration": 110,
    "start_time": "2023-10-26T16:15:09.378Z"
   },
   {
    "duration": 169,
    "start_time": "2023-10-26T16:15:09.489Z"
   },
   {
    "duration": 585,
    "start_time": "2023-10-26T16:15:09.659Z"
   },
   {
    "duration": 573,
    "start_time": "2023-10-26T16:15:10.245Z"
   },
   {
    "duration": 2,
    "start_time": "2023-10-26T16:15:10.820Z"
   },
   {
    "duration": 76,
    "start_time": "2023-10-26T16:15:10.823Z"
   },
   {
    "duration": 118,
    "start_time": "2023-10-26T16:15:10.906Z"
   },
   {
    "duration": 4,
    "start_time": "2023-10-26T16:15:11.025Z"
   },
   {
    "duration": 161,
    "start_time": "2023-10-26T16:15:11.031Z"
   },
   {
    "duration": 322,
    "start_time": "2023-10-26T16:15:11.194Z"
   },
   {
    "duration": 273,
    "start_time": "2023-10-26T16:15:11.518Z"
   },
   {
    "duration": 304,
    "start_time": "2023-10-26T16:15:11.793Z"
   },
   {
    "duration": 433,
    "start_time": "2023-10-26T16:15:12.098Z"
   },
   {
    "duration": 21,
    "start_time": "2023-10-26T16:15:12.533Z"
   },
   {
    "duration": 30,
    "start_time": "2023-10-26T16:15:12.556Z"
   },
   {
    "duration": 37,
    "start_time": "2023-10-26T16:15:12.587Z"
   },
   {
    "duration": 25,
    "start_time": "2023-10-26T16:15:12.625Z"
   },
   {
    "duration": 5,
    "start_time": "2023-10-26T16:15:12.652Z"
   },
   {
    "duration": 21,
    "start_time": "2023-10-26T16:15:12.658Z"
   },
   {
    "duration": 271,
    "start_time": "2023-10-26T16:15:12.681Z"
   },
   {
    "duration": 22,
    "start_time": "2023-10-26T16:15:12.954Z"
   },
   {
    "duration": 295,
    "start_time": "2023-10-26T16:15:12.977Z"
   },
   {
    "duration": 16,
    "start_time": "2023-10-26T16:15:13.274Z"
   },
   {
    "duration": 31,
    "start_time": "2023-10-26T16:15:13.292Z"
   },
   {
    "duration": 29,
    "start_time": "2023-10-26T16:15:13.325Z"
   },
   {
    "duration": 29,
    "start_time": "2023-10-26T16:15:13.356Z"
   },
   {
    "duration": 21,
    "start_time": "2023-10-26T16:15:13.387Z"
   },
   {
    "duration": 28,
    "start_time": "2023-10-26T16:15:13.410Z"
   },
   {
    "duration": 318,
    "start_time": "2023-10-26T16:15:13.439Z"
   },
   {
    "duration": 288,
    "start_time": "2023-10-26T16:15:13.759Z"
   },
   {
    "duration": 5,
    "start_time": "2023-10-26T16:15:14.049Z"
   },
   {
    "duration": 46,
    "start_time": "2023-10-26T16:15:14.055Z"
   },
   {
    "duration": 19,
    "start_time": "2023-10-26T16:15:14.102Z"
   },
   {
    "duration": 22,
    "start_time": "2023-10-26T16:15:14.124Z"
   },
   {
    "duration": 51,
    "start_time": "2023-10-26T16:15:14.148Z"
   },
   {
    "duration": 30,
    "start_time": "2023-10-26T16:15:14.201Z"
   },
   {
    "duration": 11,
    "start_time": "2023-10-26T16:15:14.233Z"
   },
   {
    "duration": 305,
    "start_time": "2023-10-26T16:15:14.246Z"
   },
   {
    "duration": 5,
    "start_time": "2023-10-26T16:15:14.553Z"
   },
   {
    "duration": 135,
    "start_time": "2023-10-26T16:15:14.559Z"
   },
   {
    "duration": 21,
    "start_time": "2023-10-26T16:15:14.696Z"
   },
   {
    "duration": 34,
    "start_time": "2023-10-26T16:15:14.719Z"
   },
   {
    "duration": 486,
    "start_time": "2023-10-26T16:15:14.754Z"
   },
   {
    "duration": 32,
    "start_time": "2023-10-26T16:15:15.242Z"
   },
   {
    "duration": 94,
    "start_time": "2023-10-26T16:15:15.276Z"
   },
   {
    "duration": 76,
    "start_time": "2023-10-26T16:15:15.372Z"
   },
   {
    "duration": 29,
    "start_time": "2023-10-26T16:15:15.450Z"
   },
   {
    "duration": 36,
    "start_time": "2023-10-26T16:15:15.481Z"
   },
   {
    "duration": 182,
    "start_time": "2023-10-26T16:15:15.518Z"
   },
   {
    "duration": 2727,
    "start_time": "2023-10-26T16:15:15.701Z"
   },
   {
    "duration": 835,
    "start_time": "2023-10-26T16:15:18.430Z"
   },
   {
    "duration": 1324,
    "start_time": "2023-10-26T16:19:34.103Z"
   },
   {
    "duration": 3,
    "start_time": "2023-10-26T16:21:48.683Z"
   },
   {
    "duration": 3,
    "start_time": "2023-10-26T16:21:55.518Z"
   },
   {
    "duration": 18,
    "start_time": "2023-10-26T16:25:21.018Z"
   },
   {
    "duration": 14,
    "start_time": "2023-10-26T16:26:13.565Z"
   },
   {
    "duration": 4,
    "start_time": "2023-10-26T16:29:04.630Z"
   },
   {
    "duration": 51,
    "start_time": "2023-10-26T16:29:42.847Z"
   },
   {
    "duration": 24,
    "start_time": "2023-10-26T16:31:09.557Z"
   },
   {
    "duration": 24,
    "start_time": "2023-10-26T16:42:41.236Z"
   },
   {
    "duration": 2,
    "start_time": "2023-10-26T16:43:08.348Z"
   },
   {
    "duration": 1383,
    "start_time": "2023-10-26T16:43:14.291Z"
   },
   {
    "duration": 1483,
    "start_time": "2023-10-26T16:56:52.179Z"
   },
   {
    "duration": 102,
    "start_time": "2023-10-26T17:02:51.100Z"
   },
   {
    "duration": 4,
    "start_time": "2023-10-26T17:12:00.070Z"
   },
   {
    "duration": 3,
    "start_time": "2023-10-26T17:16:36.336Z"
   },
   {
    "duration": 74,
    "start_time": "2023-10-26T17:21:22.192Z"
   },
   {
    "duration": 2112,
    "start_time": "2023-10-26T17:21:57.648Z"
   },
   {
    "duration": 39,
    "start_time": "2023-10-26T17:21:59.762Z"
   },
   {
    "duration": 1519,
    "start_time": "2023-10-26T17:21:59.803Z"
   },
   {
    "duration": 106,
    "start_time": "2023-10-26T17:22:01.324Z"
   },
   {
    "duration": 132,
    "start_time": "2023-10-26T17:22:01.432Z"
   },
   {
    "duration": 367,
    "start_time": "2023-10-26T17:22:01.566Z"
   },
   {
    "duration": 117,
    "start_time": "2023-10-26T17:22:01.935Z"
   },
   {
    "duration": 121,
    "start_time": "2023-10-26T17:22:02.054Z"
   },
   {
    "duration": 112,
    "start_time": "2023-10-26T17:22:02.176Z"
   },
   {
    "duration": 642,
    "start_time": "2023-10-26T17:22:02.290Z"
   },
   {
    "duration": 620,
    "start_time": "2023-10-26T17:22:02.934Z"
   },
   {
    "duration": 2,
    "start_time": "2023-10-26T17:22:03.556Z"
   },
   {
    "duration": 94,
    "start_time": "2023-10-26T17:22:03.560Z"
   },
   {
    "duration": 131,
    "start_time": "2023-10-26T17:22:03.657Z"
   },
   {
    "duration": 4,
    "start_time": "2023-10-26T17:22:03.789Z"
   },
   {
    "duration": 146,
    "start_time": "2023-10-26T17:22:03.795Z"
   },
   {
    "duration": 325,
    "start_time": "2023-10-26T17:22:03.942Z"
   },
   {
    "duration": 304,
    "start_time": "2023-10-26T17:22:04.269Z"
   },
   {
    "duration": 388,
    "start_time": "2023-10-26T17:22:04.574Z"
   },
   {
    "duration": 388,
    "start_time": "2023-10-26T17:22:04.963Z"
   },
   {
    "duration": 19,
    "start_time": "2023-10-26T17:22:05.353Z"
   },
   {
    "duration": 52,
    "start_time": "2023-10-26T17:22:05.373Z"
   },
   {
    "duration": 58,
    "start_time": "2023-10-26T17:22:05.426Z"
   },
   {
    "duration": 77,
    "start_time": "2023-10-26T17:22:05.486Z"
   },
   {
    "duration": 19,
    "start_time": "2023-10-26T17:22:05.564Z"
   },
   {
    "duration": 42,
    "start_time": "2023-10-26T17:22:05.585Z"
   },
   {
    "duration": 346,
    "start_time": "2023-10-26T17:22:05.629Z"
   },
   {
    "duration": 30,
    "start_time": "2023-10-26T17:22:05.977Z"
   },
   {
    "duration": 362,
    "start_time": "2023-10-26T17:22:06.009Z"
   },
   {
    "duration": 16,
    "start_time": "2023-10-26T17:22:06.373Z"
   },
   {
    "duration": 40,
    "start_time": "2023-10-26T17:22:06.391Z"
   },
   {
    "duration": 18,
    "start_time": "2023-10-26T17:22:06.433Z"
   },
   {
    "duration": 28,
    "start_time": "2023-10-26T17:22:06.453Z"
   },
   {
    "duration": 8,
    "start_time": "2023-10-26T17:22:06.482Z"
   },
   {
    "duration": 28,
    "start_time": "2023-10-26T17:22:06.492Z"
   },
   {
    "duration": 313,
    "start_time": "2023-10-26T17:22:06.521Z"
   },
   {
    "duration": 307,
    "start_time": "2023-10-26T17:22:06.836Z"
   },
   {
    "duration": 4,
    "start_time": "2023-10-26T17:22:07.145Z"
   },
   {
    "duration": 74,
    "start_time": "2023-10-26T17:22:07.151Z"
   },
   {
    "duration": 49,
    "start_time": "2023-10-26T17:22:07.227Z"
   },
   {
    "duration": 45,
    "start_time": "2023-10-26T17:22:07.281Z"
   },
   {
    "duration": 69,
    "start_time": "2023-10-26T17:22:07.327Z"
   },
   {
    "duration": 41,
    "start_time": "2023-10-26T17:22:07.398Z"
   },
   {
    "duration": 31,
    "start_time": "2023-10-26T17:22:07.441Z"
   },
   {
    "duration": 431,
    "start_time": "2023-10-26T17:22:07.474Z"
   },
   {
    "duration": 15,
    "start_time": "2023-10-26T17:22:07.908Z"
   },
   {
    "duration": 114,
    "start_time": "2023-10-26T17:22:07.924Z"
   },
   {
    "duration": 17,
    "start_time": "2023-10-26T17:22:08.040Z"
   },
   {
    "duration": 76,
    "start_time": "2023-10-26T17:22:08.059Z"
   },
   {
    "duration": 406,
    "start_time": "2023-10-26T17:22:08.137Z"
   },
   {
    "duration": 32,
    "start_time": "2023-10-26T17:22:08.545Z"
   },
   {
    "duration": 103,
    "start_time": "2023-10-26T17:22:08.579Z"
   },
   {
    "duration": 84,
    "start_time": "2023-10-26T17:22:08.684Z"
   },
   {
    "duration": 58,
    "start_time": "2023-10-26T17:22:08.770Z"
   },
   {
    "duration": 22,
    "start_time": "2023-10-26T17:22:08.831Z"
   },
   {
    "duration": 192,
    "start_time": "2023-10-26T17:22:08.854Z"
   },
   {
    "duration": 2911,
    "start_time": "2023-10-26T17:22:09.048Z"
   },
   {
    "duration": 1232,
    "start_time": "2023-10-26T17:22:11.961Z"
   },
   {
    "duration": 60,
    "start_time": "2023-10-26T17:22:13.195Z"
   },
   {
    "duration": 24,
    "start_time": "2023-10-26T17:22:13.257Z"
   },
   {
    "duration": 1541,
    "start_time": "2023-10-26T17:22:13.283Z"
   },
   {
    "duration": 1936,
    "start_time": "2023-10-26T17:23:40.920Z"
   },
   {
    "duration": 39,
    "start_time": "2023-10-26T17:23:42.858Z"
   },
   {
    "duration": 1393,
    "start_time": "2023-10-26T17:23:42.899Z"
   },
   {
    "duration": 101,
    "start_time": "2023-10-26T17:23:44.294Z"
   },
   {
    "duration": 53,
    "start_time": "2023-10-26T17:23:44.398Z"
   },
   {
    "duration": 331,
    "start_time": "2023-10-26T17:23:44.453Z"
   },
   {
    "duration": 136,
    "start_time": "2023-10-26T17:23:44.786Z"
   },
   {
    "duration": 99,
    "start_time": "2023-10-26T17:23:44.923Z"
   },
   {
    "duration": 154,
    "start_time": "2023-10-26T17:23:45.024Z"
   },
   {
    "duration": 589,
    "start_time": "2023-10-26T17:23:45.179Z"
   },
   {
    "duration": 653,
    "start_time": "2023-10-26T17:23:45.770Z"
   },
   {
    "duration": 6,
    "start_time": "2023-10-26T17:23:46.425Z"
   },
   {
    "duration": 102,
    "start_time": "2023-10-26T17:23:46.433Z"
   },
   {
    "duration": 134,
    "start_time": "2023-10-26T17:23:46.538Z"
   },
   {
    "duration": 5,
    "start_time": "2023-10-26T17:23:46.674Z"
   },
   {
    "duration": 155,
    "start_time": "2023-10-26T17:23:46.680Z"
   },
   {
    "duration": 337,
    "start_time": "2023-10-26T17:23:46.836Z"
   },
   {
    "duration": 330,
    "start_time": "2023-10-26T17:23:47.175Z"
   },
   {
    "duration": 376,
    "start_time": "2023-10-26T17:23:47.508Z"
   },
   {
    "duration": 377,
    "start_time": "2023-10-26T17:23:47.885Z"
   },
   {
    "duration": 20,
    "start_time": "2023-10-26T17:23:48.263Z"
   },
   {
    "duration": 43,
    "start_time": "2023-10-26T17:23:48.285Z"
   },
   {
    "duration": 28,
    "start_time": "2023-10-26T17:23:48.329Z"
   },
   {
    "duration": 19,
    "start_time": "2023-10-26T17:23:48.359Z"
   },
   {
    "duration": 9,
    "start_time": "2023-10-26T17:23:48.379Z"
   },
   {
    "duration": 32,
    "start_time": "2023-10-26T17:23:48.389Z"
   },
   {
    "duration": 295,
    "start_time": "2023-10-26T17:23:48.423Z"
   },
   {
    "duration": 21,
    "start_time": "2023-10-26T17:23:48.720Z"
   },
   {
    "duration": 291,
    "start_time": "2023-10-26T17:23:48.742Z"
   },
   {
    "duration": 16,
    "start_time": "2023-10-26T17:23:49.034Z"
   },
   {
    "duration": 28,
    "start_time": "2023-10-26T17:23:49.051Z"
   },
   {
    "duration": 31,
    "start_time": "2023-10-26T17:23:49.081Z"
   },
   {
    "duration": 88,
    "start_time": "2023-10-26T17:23:49.113Z"
   },
   {
    "duration": 38,
    "start_time": "2023-10-26T17:23:49.203Z"
   },
   {
    "duration": 45,
    "start_time": "2023-10-26T17:23:49.242Z"
   },
   {
    "duration": 309,
    "start_time": "2023-10-26T17:23:49.289Z"
   },
   {
    "duration": 298,
    "start_time": "2023-10-26T17:23:49.599Z"
   },
   {
    "duration": 19,
    "start_time": "2023-10-26T17:23:49.899Z"
   },
   {
    "duration": 35,
    "start_time": "2023-10-26T17:23:49.920Z"
   },
   {
    "duration": 14,
    "start_time": "2023-10-26T17:23:49.957Z"
   },
   {
    "duration": 31,
    "start_time": "2023-10-26T17:23:49.974Z"
   },
   {
    "duration": 73,
    "start_time": "2023-10-26T17:23:50.007Z"
   },
   {
    "duration": 38,
    "start_time": "2023-10-26T17:23:50.082Z"
   },
   {
    "duration": 23,
    "start_time": "2023-10-26T17:23:50.121Z"
   },
   {
    "duration": 478,
    "start_time": "2023-10-26T17:23:50.146Z"
   },
   {
    "duration": 5,
    "start_time": "2023-10-26T17:23:50.625Z"
   },
   {
    "duration": 118,
    "start_time": "2023-10-26T17:23:50.631Z"
   },
   {
    "duration": 16,
    "start_time": "2023-10-26T17:23:50.751Z"
   },
   {
    "duration": 36,
    "start_time": "2023-10-26T17:23:50.769Z"
   },
   {
    "duration": 511,
    "start_time": "2023-10-26T17:23:50.807Z"
   },
   {
    "duration": 30,
    "start_time": "2023-10-26T17:23:51.324Z"
   },
   {
    "duration": 118,
    "start_time": "2023-10-26T17:23:51.355Z"
   },
   {
    "duration": 75,
    "start_time": "2023-10-26T17:23:51.474Z"
   },
   {
    "duration": 28,
    "start_time": "2023-10-26T17:23:51.550Z"
   },
   {
    "duration": 33,
    "start_time": "2023-10-26T17:23:51.579Z"
   },
   {
    "duration": 150,
    "start_time": "2023-10-26T17:23:51.615Z"
   },
   {
    "duration": 2687,
    "start_time": "2023-10-26T17:23:51.767Z"
   },
   {
    "duration": 1195,
    "start_time": "2023-10-26T17:23:54.456Z"
   },
   {
    "duration": 68,
    "start_time": "2023-10-26T17:23:55.653Z"
   },
   {
    "duration": 25,
    "start_time": "2023-10-26T17:23:55.723Z"
   },
   {
    "duration": 1514,
    "start_time": "2023-10-26T17:23:55.749Z"
   },
   {
    "duration": 51,
    "start_time": "2023-10-26T17:29:38.535Z"
   },
   {
    "duration": 1961,
    "start_time": "2023-10-26T17:29:45.980Z"
   },
   {
    "duration": 40,
    "start_time": "2023-10-26T17:29:47.943Z"
   },
   {
    "duration": 1406,
    "start_time": "2023-10-26T17:29:47.985Z"
   },
   {
    "duration": 149,
    "start_time": "2023-10-26T17:29:49.393Z"
   },
   {
    "duration": 43,
    "start_time": "2023-10-26T17:29:49.544Z"
   },
   {
    "duration": 343,
    "start_time": "2023-10-26T17:29:49.589Z"
   },
   {
    "duration": 155,
    "start_time": "2023-10-26T17:29:49.934Z"
   },
   {
    "duration": 135,
    "start_time": "2023-10-26T17:29:50.091Z"
   },
   {
    "duration": 111,
    "start_time": "2023-10-26T17:29:50.228Z"
   },
   {
    "duration": 679,
    "start_time": "2023-10-26T17:29:50.341Z"
   },
   {
    "duration": 733,
    "start_time": "2023-10-26T17:29:51.022Z"
   },
   {
    "duration": 3,
    "start_time": "2023-10-26T17:29:51.756Z"
   },
   {
    "duration": 118,
    "start_time": "2023-10-26T17:29:51.761Z"
   },
   {
    "duration": 136,
    "start_time": "2023-10-26T17:29:51.882Z"
   },
   {
    "duration": 5,
    "start_time": "2023-10-26T17:29:52.026Z"
   },
   {
    "duration": 195,
    "start_time": "2023-10-26T17:29:52.033Z"
   },
   {
    "duration": 356,
    "start_time": "2023-10-26T17:29:52.229Z"
   },
   {
    "duration": 381,
    "start_time": "2023-10-26T17:29:52.587Z"
   },
   {
    "duration": 430,
    "start_time": "2023-10-26T17:29:52.970Z"
   },
   {
    "duration": 434,
    "start_time": "2023-10-26T17:29:53.402Z"
   },
   {
    "duration": 23,
    "start_time": "2023-10-26T17:29:53.838Z"
   },
   {
    "duration": 53,
    "start_time": "2023-10-26T17:29:53.863Z"
   },
   {
    "duration": 40,
    "start_time": "2023-10-26T17:29:53.920Z"
   },
   {
    "duration": 31,
    "start_time": "2023-10-26T17:29:53.961Z"
   },
   {
    "duration": 8,
    "start_time": "2023-10-26T17:29:53.994Z"
   },
   {
    "duration": 32,
    "start_time": "2023-10-26T17:29:54.003Z"
   },
   {
    "duration": 313,
    "start_time": "2023-10-26T17:29:54.037Z"
   },
   {
    "duration": 27,
    "start_time": "2023-10-26T17:29:54.352Z"
   },
   {
    "duration": 389,
    "start_time": "2023-10-26T17:29:54.382Z"
   },
   {
    "duration": 44,
    "start_time": "2023-10-26T17:29:54.774Z"
   },
   {
    "duration": 26,
    "start_time": "2023-10-26T17:29:54.822Z"
   },
   {
    "duration": 84,
    "start_time": "2023-10-26T17:29:54.850Z"
   },
   {
    "duration": 64,
    "start_time": "2023-10-26T17:29:54.936Z"
   },
   {
    "duration": 90,
    "start_time": "2023-10-26T17:29:55.002Z"
   },
   {
    "duration": 73,
    "start_time": "2023-10-26T17:29:55.094Z"
   },
   {
    "duration": 352,
    "start_time": "2023-10-26T17:29:55.170Z"
   },
   {
    "duration": 330,
    "start_time": "2023-10-26T17:29:55.527Z"
   },
   {
    "duration": 5,
    "start_time": "2023-10-26T17:29:55.859Z"
   },
   {
    "duration": 82,
    "start_time": "2023-10-26T17:29:55.866Z"
   },
   {
    "duration": 30,
    "start_time": "2023-10-26T17:29:55.950Z"
   },
   {
    "duration": 45,
    "start_time": "2023-10-26T17:29:55.986Z"
   },
   {
    "duration": 43,
    "start_time": "2023-10-26T17:29:56.033Z"
   },
   {
    "duration": 50,
    "start_time": "2023-10-26T17:29:56.078Z"
   },
   {
    "duration": 11,
    "start_time": "2023-10-26T17:29:56.130Z"
   },
   {
    "duration": 482,
    "start_time": "2023-10-26T17:29:56.142Z"
   },
   {
    "duration": 6,
    "start_time": "2023-10-26T17:29:56.627Z"
   },
   {
    "duration": 103,
    "start_time": "2023-10-26T17:29:56.635Z"
   },
   {
    "duration": 16,
    "start_time": "2023-10-26T17:29:56.740Z"
   },
   {
    "duration": 80,
    "start_time": "2023-10-26T17:29:56.757Z"
   },
   {
    "duration": 425,
    "start_time": "2023-10-26T17:29:56.839Z"
   },
   {
    "duration": 50,
    "start_time": "2023-10-26T17:29:57.266Z"
   },
   {
    "duration": 76,
    "start_time": "2023-10-26T17:29:57.317Z"
   },
   {
    "duration": 87,
    "start_time": "2023-10-26T17:29:57.395Z"
   },
   {
    "duration": 54,
    "start_time": "2023-10-26T17:29:57.483Z"
   },
   {
    "duration": 17,
    "start_time": "2023-10-26T17:29:57.541Z"
   },
   {
    "duration": 159,
    "start_time": "2023-10-26T17:29:57.559Z"
   },
   {
    "duration": 2952,
    "start_time": "2023-10-26T17:29:57.724Z"
   },
   {
    "duration": 1397,
    "start_time": "2023-10-26T17:30:00.678Z"
   },
   {
    "duration": 70,
    "start_time": "2023-10-26T17:30:02.077Z"
   },
   {
    "duration": 502,
    "start_time": "2023-10-26T17:30:02.149Z"
   },
   {
    "duration": 1887,
    "start_time": "2023-10-26T17:30:02.653Z"
   },
   {
    "duration": 2072,
    "start_time": "2023-10-26T17:31:56.474Z"
   },
   {
    "duration": 55,
    "start_time": "2023-10-26T17:31:58.548Z"
   },
   {
    "duration": 1434,
    "start_time": "2023-10-26T17:31:58.605Z"
   },
   {
    "duration": 114,
    "start_time": "2023-10-26T17:32:00.041Z"
   },
   {
    "duration": 60,
    "start_time": "2023-10-26T17:32:00.156Z"
   },
   {
    "duration": 346,
    "start_time": "2023-10-26T17:32:00.219Z"
   },
   {
    "duration": 124,
    "start_time": "2023-10-26T17:32:00.567Z"
   },
   {
    "duration": 307,
    "start_time": "2023-10-26T17:32:00.692Z"
   },
   {
    "duration": 149,
    "start_time": "2023-10-26T17:32:01.006Z"
   },
   {
    "duration": 740,
    "start_time": "2023-10-26T17:32:01.157Z"
   },
   {
    "duration": 688,
    "start_time": "2023-10-26T17:32:01.898Z"
   },
   {
    "duration": 3,
    "start_time": "2023-10-26T17:32:02.587Z"
   },
   {
    "duration": 112,
    "start_time": "2023-10-26T17:32:02.591Z"
   },
   {
    "duration": 135,
    "start_time": "2023-10-26T17:32:02.705Z"
   },
   {
    "duration": 22,
    "start_time": "2023-10-26T17:32:02.842Z"
   },
   {
    "duration": 196,
    "start_time": "2023-10-26T17:32:02.865Z"
   },
   {
    "duration": 369,
    "start_time": "2023-10-26T17:32:03.063Z"
   },
   {
    "duration": 308,
    "start_time": "2023-10-26T17:32:03.433Z"
   },
   {
    "duration": 399,
    "start_time": "2023-10-26T17:32:03.743Z"
   },
   {
    "duration": 400,
    "start_time": "2023-10-26T17:32:04.144Z"
   },
   {
    "duration": 22,
    "start_time": "2023-10-26T17:32:04.546Z"
   },
   {
    "duration": 20,
    "start_time": "2023-10-26T17:32:04.570Z"
   },
   {
    "duration": 38,
    "start_time": "2023-10-26T17:32:04.608Z"
   },
   {
    "duration": 41,
    "start_time": "2023-10-26T17:32:04.647Z"
   },
   {
    "duration": 32,
    "start_time": "2023-10-26T17:32:04.690Z"
   },
   {
    "duration": 57,
    "start_time": "2023-10-26T17:32:04.724Z"
   },
   {
    "duration": 319,
    "start_time": "2023-10-26T17:32:04.785Z"
   },
   {
    "duration": 30,
    "start_time": "2023-10-26T17:32:05.105Z"
   },
   {
    "duration": 365,
    "start_time": "2023-10-26T17:32:05.137Z"
   },
   {
    "duration": 32,
    "start_time": "2023-10-26T17:32:05.507Z"
   },
   {
    "duration": 36,
    "start_time": "2023-10-26T17:32:05.541Z"
   },
   {
    "duration": 74,
    "start_time": "2023-10-26T17:32:05.578Z"
   },
   {
    "duration": 60,
    "start_time": "2023-10-26T17:32:05.653Z"
   },
   {
    "duration": 16,
    "start_time": "2023-10-26T17:32:05.717Z"
   },
   {
    "duration": 31,
    "start_time": "2023-10-26T17:32:05.735Z"
   },
   {
    "duration": 386,
    "start_time": "2023-10-26T17:32:05.768Z"
   },
   {
    "duration": 359,
    "start_time": "2023-10-26T17:32:06.156Z"
   },
   {
    "duration": 6,
    "start_time": "2023-10-26T17:32:06.517Z"
   },
   {
    "duration": 31,
    "start_time": "2023-10-26T17:32:06.524Z"
   },
   {
    "duration": 17,
    "start_time": "2023-10-26T17:32:06.557Z"
   },
   {
    "duration": 41,
    "start_time": "2023-10-26T17:32:06.575Z"
   },
   {
    "duration": 53,
    "start_time": "2023-10-26T17:32:06.618Z"
   },
   {
    "duration": 29,
    "start_time": "2023-10-26T17:32:06.673Z"
   },
   {
    "duration": 27,
    "start_time": "2023-10-26T17:32:06.704Z"
   },
   {
    "duration": 455,
    "start_time": "2023-10-26T17:32:06.733Z"
   },
   {
    "duration": 5,
    "start_time": "2023-10-26T17:32:07.190Z"
   },
   {
    "duration": 151,
    "start_time": "2023-10-26T17:32:07.197Z"
   },
   {
    "duration": 17,
    "start_time": "2023-10-26T17:32:07.349Z"
   },
   {
    "duration": 52,
    "start_time": "2023-10-26T17:32:07.367Z"
   },
   {
    "duration": 407,
    "start_time": "2023-10-26T17:32:07.425Z"
   },
   {
    "duration": 31,
    "start_time": "2023-10-26T17:32:07.835Z"
   },
   {
    "duration": 97,
    "start_time": "2023-10-26T17:32:07.868Z"
   },
   {
    "duration": 79,
    "start_time": "2023-10-26T17:32:07.967Z"
   },
   {
    "duration": 30,
    "start_time": "2023-10-26T17:32:08.048Z"
   },
   {
    "duration": 42,
    "start_time": "2023-10-26T17:32:08.080Z"
   },
   {
    "duration": 147,
    "start_time": "2023-10-26T17:32:08.125Z"
   },
   {
    "duration": 2916,
    "start_time": "2023-10-26T17:32:08.273Z"
   },
   {
    "duration": 1258,
    "start_time": "2023-10-26T17:32:11.191Z"
   },
   {
    "duration": 77,
    "start_time": "2023-10-26T17:32:12.451Z"
   },
   {
    "duration": 30,
    "start_time": "2023-10-26T17:32:12.532Z"
   },
   {
    "duration": 1415,
    "start_time": "2023-10-26T17:32:12.563Z"
   },
   {
    "duration": 1997,
    "start_time": "2023-10-26T17:39:12.695Z"
   },
   {
    "duration": 43,
    "start_time": "2023-10-26T17:39:14.694Z"
   },
   {
    "duration": 1395,
    "start_time": "2023-10-26T17:39:14.738Z"
   },
   {
    "duration": 126,
    "start_time": "2023-10-26T17:39:16.135Z"
   },
   {
    "duration": 67,
    "start_time": "2023-10-26T17:39:16.264Z"
   },
   {
    "duration": 346,
    "start_time": "2023-10-26T17:39:16.333Z"
   },
   {
    "duration": 144,
    "start_time": "2023-10-26T17:39:16.681Z"
   },
   {
    "duration": 101,
    "start_time": "2023-10-26T17:39:16.827Z"
   },
   {
    "duration": 120,
    "start_time": "2023-10-26T17:39:16.930Z"
   },
   {
    "duration": 609,
    "start_time": "2023-10-26T17:39:17.051Z"
   },
   {
    "duration": 622,
    "start_time": "2023-10-26T17:39:17.661Z"
   },
   {
    "duration": 3,
    "start_time": "2023-10-26T17:39:18.284Z"
   },
   {
    "duration": 88,
    "start_time": "2023-10-26T17:39:18.288Z"
   },
   {
    "duration": 142,
    "start_time": "2023-10-26T17:39:18.379Z"
   },
   {
    "duration": 5,
    "start_time": "2023-10-26T17:39:18.524Z"
   },
   {
    "duration": 159,
    "start_time": "2023-10-26T17:39:18.531Z"
   },
   {
    "duration": 333,
    "start_time": "2023-10-26T17:39:18.691Z"
   },
   {
    "duration": 325,
    "start_time": "2023-10-26T17:39:19.026Z"
   },
   {
    "duration": 457,
    "start_time": "2023-10-26T17:39:19.353Z"
   },
   {
    "duration": 470,
    "start_time": "2023-10-26T17:39:19.814Z"
   },
   {
    "duration": 31,
    "start_time": "2023-10-26T17:39:20.285Z"
   },
   {
    "duration": 45,
    "start_time": "2023-10-26T17:39:20.318Z"
   },
   {
    "duration": 55,
    "start_time": "2023-10-26T17:39:20.365Z"
   },
   {
    "duration": 23,
    "start_time": "2023-10-26T17:39:20.423Z"
   },
   {
    "duration": 13,
    "start_time": "2023-10-26T17:39:20.448Z"
   },
   {
    "duration": 24,
    "start_time": "2023-10-26T17:39:20.462Z"
   },
   {
    "duration": 341,
    "start_time": "2023-10-26T17:39:20.487Z"
   },
   {
    "duration": 23,
    "start_time": "2023-10-26T17:39:20.829Z"
   },
   {
    "duration": 341,
    "start_time": "2023-10-26T17:39:20.854Z"
   },
   {
    "duration": 31,
    "start_time": "2023-10-26T17:39:21.196Z"
   },
   {
    "duration": 21,
    "start_time": "2023-10-26T17:39:21.228Z"
   },
   {
    "duration": 20,
    "start_time": "2023-10-26T17:39:21.251Z"
   },
   {
    "duration": 43,
    "start_time": "2023-10-26T17:39:21.273Z"
   },
   {
    "duration": 7,
    "start_time": "2023-10-26T17:39:21.317Z"
   },
   {
    "duration": 24,
    "start_time": "2023-10-26T17:39:21.325Z"
   },
   {
    "duration": 338,
    "start_time": "2023-10-26T17:39:21.351Z"
   },
   {
    "duration": 334,
    "start_time": "2023-10-26T17:39:21.691Z"
   },
   {
    "duration": 5,
    "start_time": "2023-10-26T17:39:22.027Z"
   },
   {
    "duration": 29,
    "start_time": "2023-10-26T17:39:22.034Z"
   },
   {
    "duration": 15,
    "start_time": "2023-10-26T17:39:22.065Z"
   },
   {
    "duration": 25,
    "start_time": "2023-10-26T17:39:22.107Z"
   },
   {
    "duration": 48,
    "start_time": "2023-10-26T17:39:22.134Z"
   },
   {
    "duration": 57,
    "start_time": "2023-10-26T17:39:22.184Z"
   },
   {
    "duration": 5,
    "start_time": "2023-10-26T17:39:22.243Z"
   },
   {
    "duration": 512,
    "start_time": "2023-10-26T17:39:22.250Z"
   },
   {
    "duration": 5,
    "start_time": "2023-10-26T17:39:22.764Z"
   },
   {
    "duration": 112,
    "start_time": "2023-10-26T17:39:22.771Z"
   },
   {
    "duration": 26,
    "start_time": "2023-10-26T17:39:22.884Z"
   },
   {
    "duration": 54,
    "start_time": "2023-10-26T17:39:22.912Z"
   },
   {
    "duration": 392,
    "start_time": "2023-10-26T17:39:22.967Z"
   },
   {
    "duration": 30,
    "start_time": "2023-10-26T17:39:23.361Z"
   },
   {
    "duration": 82,
    "start_time": "2023-10-26T17:39:23.392Z"
   },
   {
    "duration": 72,
    "start_time": "2023-10-26T17:39:23.476Z"
   },
   {
    "duration": 29,
    "start_time": "2023-10-26T17:39:23.550Z"
   },
   {
    "duration": 45,
    "start_time": "2023-10-26T17:39:23.581Z"
   },
   {
    "duration": 133,
    "start_time": "2023-10-26T17:39:23.628Z"
   },
   {
    "duration": 2721,
    "start_time": "2023-10-26T17:39:23.763Z"
   },
   {
    "duration": 1196,
    "start_time": "2023-10-26T17:39:26.486Z"
   },
   {
    "duration": 59,
    "start_time": "2023-10-26T17:39:27.684Z"
   },
   {
    "duration": 22,
    "start_time": "2023-10-26T17:39:27.745Z"
   },
   {
    "duration": 1271,
    "start_time": "2023-10-26T17:39:27.769Z"
   },
   {
    "duration": 115,
    "start_time": "2023-10-26T17:39:29.042Z"
   },
   {
    "duration": 0,
    "start_time": "2023-10-26T17:39:29.158Z"
   },
   {
    "duration": 5,
    "start_time": "2023-10-26T17:41:37.617Z"
   },
   {
    "duration": 185013,
    "start_time": "2023-10-26T17:41:42.154Z"
   },
   {
    "duration": 1551,
    "start_time": "2023-10-27T13:42:44.147Z"
   },
   {
    "duration": 1396,
    "start_time": "2023-10-27T13:42:58.362Z"
   },
   {
    "duration": 43,
    "start_time": "2023-10-27T13:42:59.760Z"
   },
   {
    "duration": 2266,
    "start_time": "2023-10-27T13:42:59.805Z"
   },
   {
    "duration": 94,
    "start_time": "2023-10-27T13:43:02.123Z"
   },
   {
    "duration": 54,
    "start_time": "2023-10-27T13:43:02.226Z"
   },
   {
    "duration": 327,
    "start_time": "2023-10-27T13:43:02.282Z"
   },
   {
    "duration": 128,
    "start_time": "2023-10-27T13:43:02.611Z"
   },
   {
    "duration": 105,
    "start_time": "2023-10-27T13:43:02.741Z"
   },
   {
    "duration": 139,
    "start_time": "2023-10-27T13:43:02.848Z"
   },
   {
    "duration": 688,
    "start_time": "2023-10-27T13:43:02.989Z"
   },
   {
    "duration": 742,
    "start_time": "2023-10-27T13:43:03.678Z"
   },
   {
    "duration": 3,
    "start_time": "2023-10-27T13:43:04.421Z"
   },
   {
    "duration": 112,
    "start_time": "2023-10-27T13:43:04.425Z"
   },
   {
    "duration": 117,
    "start_time": "2023-10-27T13:43:04.539Z"
   },
   {
    "duration": 5,
    "start_time": "2023-10-27T13:43:04.657Z"
   },
   {
    "duration": 149,
    "start_time": "2023-10-27T13:43:04.664Z"
   },
   {
    "duration": 341,
    "start_time": "2023-10-27T13:43:04.823Z"
   },
   {
    "duration": 314,
    "start_time": "2023-10-27T13:43:05.165Z"
   },
   {
    "duration": 451,
    "start_time": "2023-10-27T13:43:05.481Z"
   },
   {
    "duration": 414,
    "start_time": "2023-10-27T13:43:05.941Z"
   },
   {
    "duration": 19,
    "start_time": "2023-10-27T13:43:06.357Z"
   },
   {
    "duration": 401,
    "start_time": "2023-10-27T13:43:06.377Z"
   },
   {
    "duration": 156,
    "start_time": "2023-10-27T13:43:06.780Z"
   },
   {
    "duration": 305,
    "start_time": "2023-10-27T13:43:06.938Z"
   },
   {
    "duration": 26,
    "start_time": "2023-10-27T13:43:07.246Z"
   },
   {
    "duration": 63,
    "start_time": "2023-10-27T13:43:07.274Z"
   },
   {
    "duration": 316,
    "start_time": "2023-10-27T13:43:07.339Z"
   },
   {
    "duration": 21,
    "start_time": "2023-10-27T13:43:07.658Z"
   },
   {
    "duration": 459,
    "start_time": "2023-10-27T13:43:07.681Z"
   },
   {
    "duration": 18,
    "start_time": "2023-10-27T13:43:08.141Z"
   },
   {
    "duration": 380,
    "start_time": "2023-10-27T13:43:08.160Z"
   },
   {
    "duration": 91,
    "start_time": "2023-10-27T13:43:08.542Z"
   },
   {
    "duration": 63,
    "start_time": "2023-10-27T13:43:08.636Z"
   },
   {
    "duration": 39,
    "start_time": "2023-10-27T13:43:08.701Z"
   },
   {
    "duration": 32,
    "start_time": "2023-10-27T13:43:08.741Z"
   },
   {
    "duration": 377,
    "start_time": "2023-10-27T13:43:08.775Z"
   },
   {
    "duration": 399,
    "start_time": "2023-10-27T13:43:09.154Z"
   },
   {
    "duration": 5,
    "start_time": "2023-10-27T13:43:09.555Z"
   },
   {
    "duration": 42,
    "start_time": "2023-10-27T13:43:09.561Z"
   },
   {
    "duration": 14,
    "start_time": "2023-10-27T13:43:09.605Z"
   },
   {
    "duration": 32,
    "start_time": "2023-10-27T13:43:09.621Z"
   },
   {
    "duration": 66,
    "start_time": "2023-10-27T13:43:09.655Z"
   },
   {
    "duration": 166,
    "start_time": "2023-10-27T13:43:09.723Z"
   },
   {
    "duration": 47,
    "start_time": "2023-10-27T13:43:09.890Z"
   },
   {
    "duration": 505,
    "start_time": "2023-10-27T13:43:09.939Z"
   },
   {
    "duration": 5,
    "start_time": "2023-10-27T13:43:10.446Z"
   },
   {
    "duration": 140,
    "start_time": "2023-10-27T13:43:10.452Z"
   },
   {
    "duration": 25,
    "start_time": "2023-10-27T13:43:10.593Z"
   },
   {
    "duration": 94,
    "start_time": "2023-10-27T13:43:10.619Z"
   },
   {
    "duration": 449,
    "start_time": "2023-10-27T13:43:10.714Z"
   },
   {
    "duration": 30,
    "start_time": "2023-10-27T13:43:11.165Z"
   },
   {
    "duration": 100,
    "start_time": "2023-10-27T13:43:11.197Z"
   },
   {
    "duration": 69,
    "start_time": "2023-10-27T13:43:11.299Z"
   },
   {
    "duration": 29,
    "start_time": "2023-10-27T13:43:11.369Z"
   },
   {
    "duration": 143,
    "start_time": "2023-10-27T13:43:11.400Z"
   },
   {
    "duration": 166,
    "start_time": "2023-10-27T13:43:11.545Z"
   },
   {
    "duration": 6941,
    "start_time": "2023-10-27T13:43:11.713Z"
   },
   {
    "duration": 125,
    "start_time": "2023-10-27T13:43:18.656Z"
   },
   {
    "duration": 0,
    "start_time": "2023-10-27T13:43:18.782Z"
   },
   {
    "duration": 0,
    "start_time": "2023-10-27T13:43:18.784Z"
   },
   {
    "duration": 0,
    "start_time": "2023-10-27T13:43:18.785Z"
   },
   {
    "duration": 0,
    "start_time": "2023-10-27T13:43:18.785Z"
   },
   {
    "duration": 753,
    "start_time": "2023-10-27T13:46:54.114Z"
   },
   {
    "duration": 24,
    "start_time": "2023-10-27T13:47:02.546Z"
   },
   {
    "duration": 1278,
    "start_time": "2023-10-27T13:47:11.775Z"
   },
   {
    "duration": 40,
    "start_time": "2023-10-27T13:47:13.055Z"
   },
   {
    "duration": 1111,
    "start_time": "2023-10-27T13:47:13.097Z"
   },
   {
    "duration": 160,
    "start_time": "2023-10-27T13:47:14.210Z"
   },
   {
    "duration": 61,
    "start_time": "2023-10-27T13:47:14.373Z"
   },
   {
    "duration": 384,
    "start_time": "2023-10-27T13:47:14.436Z"
   },
   {
    "duration": 132,
    "start_time": "2023-10-27T13:47:14.824Z"
   },
   {
    "duration": 191,
    "start_time": "2023-10-27T13:47:14.957Z"
   },
   {
    "duration": 107,
    "start_time": "2023-10-27T13:47:15.150Z"
   },
   {
    "duration": 709,
    "start_time": "2023-10-27T13:47:15.258Z"
   },
   {
    "duration": 740,
    "start_time": "2023-10-27T13:47:15.969Z"
   },
   {
    "duration": 2,
    "start_time": "2023-10-27T13:47:16.711Z"
   },
   {
    "duration": 107,
    "start_time": "2023-10-27T13:47:16.715Z"
   },
   {
    "duration": 192,
    "start_time": "2023-10-27T13:47:16.827Z"
   },
   {
    "duration": 19,
    "start_time": "2023-10-27T13:47:17.020Z"
   },
   {
    "duration": 167,
    "start_time": "2023-10-27T13:47:17.042Z"
   },
   {
    "duration": 423,
    "start_time": "2023-10-27T13:47:17.210Z"
   },
   {
    "duration": 346,
    "start_time": "2023-10-27T13:47:17.636Z"
   },
   {
    "duration": 441,
    "start_time": "2023-10-27T13:47:17.985Z"
   },
   {
    "duration": 453,
    "start_time": "2023-10-27T13:47:18.439Z"
   },
   {
    "duration": 23,
    "start_time": "2023-10-27T13:47:18.894Z"
   },
   {
    "duration": 44,
    "start_time": "2023-10-27T13:47:18.919Z"
   },
   {
    "duration": 24,
    "start_time": "2023-10-27T13:47:18.965Z"
   },
   {
    "duration": 63,
    "start_time": "2023-10-27T13:47:18.991Z"
   },
   {
    "duration": 31,
    "start_time": "2023-10-27T13:47:19.056Z"
   },
   {
    "duration": 22,
    "start_time": "2023-10-27T13:47:19.089Z"
   },
   {
    "duration": 346,
    "start_time": "2023-10-27T13:47:19.113Z"
   },
   {
    "duration": 33,
    "start_time": "2023-10-27T13:47:19.461Z"
   },
   {
    "duration": 358,
    "start_time": "2023-10-27T13:47:19.496Z"
   },
   {
    "duration": 17,
    "start_time": "2023-10-27T13:47:19.856Z"
   },
   {
    "duration": 23,
    "start_time": "2023-10-27T13:47:19.874Z"
   },
   {
    "duration": 50,
    "start_time": "2023-10-27T13:47:19.899Z"
   },
   {
    "duration": 36,
    "start_time": "2023-10-27T13:47:19.951Z"
   },
   {
    "duration": 9,
    "start_time": "2023-10-27T13:47:19.989Z"
   },
   {
    "duration": 19,
    "start_time": "2023-10-27T13:47:19.999Z"
   },
   {
    "duration": 361,
    "start_time": "2023-10-27T13:47:20.020Z"
   },
   {
    "duration": 326,
    "start_time": "2023-10-27T13:47:20.383Z"
   },
   {
    "duration": 18,
    "start_time": "2023-10-27T13:47:20.711Z"
   },
   {
    "duration": 39,
    "start_time": "2023-10-27T13:47:20.731Z"
   },
   {
    "duration": 21,
    "start_time": "2023-10-27T13:47:20.772Z"
   },
   {
    "duration": 50,
    "start_time": "2023-10-27T13:47:20.799Z"
   },
   {
    "duration": 81,
    "start_time": "2023-10-27T13:47:20.851Z"
   },
   {
    "duration": 43,
    "start_time": "2023-10-27T13:47:20.934Z"
   },
   {
    "duration": 21,
    "start_time": "2023-10-27T13:47:20.979Z"
   },
   {
    "duration": 486,
    "start_time": "2023-10-27T13:47:21.002Z"
   },
   {
    "duration": 5,
    "start_time": "2023-10-27T13:47:21.490Z"
   },
   {
    "duration": 306,
    "start_time": "2023-10-27T13:47:21.497Z"
   },
   {
    "duration": 99,
    "start_time": "2023-10-27T13:47:21.805Z"
   },
   {
    "duration": 165,
    "start_time": "2023-10-27T13:47:21.906Z"
   },
   {
    "duration": 614,
    "start_time": "2023-10-27T13:47:22.072Z"
   },
   {
    "duration": 45,
    "start_time": "2023-10-27T13:47:22.688Z"
   },
   {
    "duration": 261,
    "start_time": "2023-10-27T13:47:22.736Z"
   },
   {
    "duration": 354,
    "start_time": "2023-10-27T13:47:22.999Z"
   },
   {
    "duration": 49,
    "start_time": "2023-10-27T13:47:23.356Z"
   },
   {
    "duration": 76,
    "start_time": "2023-10-27T13:47:23.407Z"
   },
   {
    "duration": 303,
    "start_time": "2023-10-27T13:47:23.484Z"
   },
   {
    "duration": 2941,
    "start_time": "2023-10-27T13:47:23.788Z"
   },
   {
    "duration": 2507,
    "start_time": "2023-10-27T13:47:26.733Z"
   },
   {
    "duration": 106,
    "start_time": "2023-10-27T13:47:29.243Z"
   },
   {
    "duration": 85,
    "start_time": "2023-10-27T13:47:29.351Z"
   },
   {
    "duration": 2791,
    "start_time": "2023-10-27T13:47:29.437Z"
   },
   {
    "duration": 194406,
    "start_time": "2023-10-27T13:47:32.230Z"
   },
   {
    "duration": 25000,
    "start_time": "2023-10-27T13:50:46.638Z"
   },
   {
    "duration": 14823,
    "start_time": "2023-10-27T13:59:38.002Z"
   },
   {
    "duration": 495057,
    "start_time": "2023-10-27T14:25:48.690Z"
   },
   {
    "duration": 2,
    "start_time": "2023-10-27T14:34:03.749Z"
   },
   {
    "duration": 59880,
    "start_time": "2023-10-27T14:39:37.173Z"
   },
   {
    "duration": 16833,
    "start_time": "2023-10-27T14:45:47.989Z"
   },
   {
    "duration": 4,
    "start_time": "2023-10-27T14:47:32.853Z"
   },
   {
    "duration": 27,
    "start_time": "2023-10-27T14:47:37.260Z"
   },
   {
    "duration": 14,
    "start_time": "2023-10-27T15:06:04.702Z"
   },
   {
    "duration": 12,
    "start_time": "2023-10-27T15:06:27.869Z"
   },
   {
    "duration": 3,
    "start_time": "2023-10-27T15:06:38.332Z"
   },
   {
    "duration": 13,
    "start_time": "2023-10-27T15:06:43.501Z"
   },
   {
    "duration": 11,
    "start_time": "2023-10-27T15:07:03.488Z"
   },
   {
    "duration": 12,
    "start_time": "2023-10-27T15:07:21.823Z"
   },
   {
    "duration": 3,
    "start_time": "2023-10-27T15:08:49.386Z"
   },
   {
    "duration": 7573,
    "start_time": "2023-10-27T15:08:54.278Z"
   },
   {
    "duration": 11782,
    "start_time": "2023-10-27T15:10:22.563Z"
   },
   {
    "duration": 14559,
    "start_time": "2023-10-27T15:13:03.780Z"
   },
   {
    "duration": 2,
    "start_time": "2023-10-27T15:13:46.366Z"
   },
   {
    "duration": 56,
    "start_time": "2023-10-27T15:16:12.055Z"
   },
   {
    "duration": 24,
    "start_time": "2023-10-27T15:25:07.288Z"
   },
   {
    "duration": 25,
    "start_time": "2023-10-27T15:29:39.029Z"
   },
   {
    "duration": 21,
    "start_time": "2023-10-27T15:29:43.981Z"
   },
   {
    "duration": 20,
    "start_time": "2023-10-27T15:30:48.633Z"
   },
   {
    "duration": 27,
    "start_time": "2023-10-27T16:07:49.647Z"
   },
   {
    "duration": 14354,
    "start_time": "2023-10-27T16:10:33.791Z"
   },
   {
    "duration": 14196,
    "start_time": "2023-10-27T16:11:59.545Z"
   },
   {
    "duration": 4,
    "start_time": "2023-10-27T16:24:36.176Z"
   },
   {
    "duration": 12,
    "start_time": "2023-10-27T16:25:19.009Z"
   },
   {
    "duration": 11,
    "start_time": "2023-10-27T16:25:35.077Z"
   },
   {
    "duration": 121,
    "start_time": "2023-10-27T16:29:42.859Z"
   },
   {
    "duration": 13,
    "start_time": "2023-10-27T16:29:53.313Z"
   },
   {
    "duration": 123,
    "start_time": "2023-10-28T09:33:25.431Z"
   },
   {
    "duration": 129,
    "start_time": "2023-10-28T09:41:50.977Z"
   },
   {
    "duration": 46,
    "start_time": "2023-10-28T10:15:52.577Z"
   },
   {
    "duration": 1688,
    "start_time": "2023-10-28T10:16:00.486Z"
   },
   {
    "duration": 122,
    "start_time": "2023-10-28T10:16:02.176Z"
   },
   {
    "duration": 1409,
    "start_time": "2023-10-28T10:16:02.300Z"
   },
   {
    "duration": 112,
    "start_time": "2023-10-28T10:16:03.711Z"
   },
   {
    "duration": 49,
    "start_time": "2023-10-28T10:16:03.826Z"
   },
   {
    "duration": 326,
    "start_time": "2023-10-28T10:16:03.877Z"
   },
   {
    "duration": 127,
    "start_time": "2023-10-28T10:16:04.204Z"
   },
   {
    "duration": 108,
    "start_time": "2023-10-28T10:16:04.332Z"
   },
   {
    "duration": 116,
    "start_time": "2023-10-28T10:16:04.442Z"
   },
   {
    "duration": 648,
    "start_time": "2023-10-28T10:16:04.561Z"
   },
   {
    "duration": 609,
    "start_time": "2023-10-28T10:16:05.211Z"
   },
   {
    "duration": 3,
    "start_time": "2023-10-28T10:16:05.822Z"
   },
   {
    "duration": 136,
    "start_time": "2023-10-28T10:16:05.826Z"
   },
   {
    "duration": 121,
    "start_time": "2023-10-28T10:16:05.965Z"
   },
   {
    "duration": 14,
    "start_time": "2023-10-28T10:16:06.088Z"
   },
   {
    "duration": 186,
    "start_time": "2023-10-28T10:16:06.104Z"
   },
   {
    "duration": 348,
    "start_time": "2023-10-28T10:16:06.292Z"
   },
   {
    "duration": 389,
    "start_time": "2023-10-28T10:16:06.642Z"
   },
   {
    "duration": 305,
    "start_time": "2023-10-28T10:16:07.032Z"
   },
   {
    "duration": 386,
    "start_time": "2023-10-28T10:16:07.339Z"
   },
   {
    "duration": 24,
    "start_time": "2023-10-28T10:16:07.727Z"
   },
   {
    "duration": 27,
    "start_time": "2023-10-28T10:16:07.753Z"
   },
   {
    "duration": 41,
    "start_time": "2023-10-28T10:16:07.802Z"
   },
   {
    "duration": 26,
    "start_time": "2023-10-28T10:16:07.845Z"
   },
   {
    "duration": 11,
    "start_time": "2023-10-28T10:16:07.873Z"
   },
   {
    "duration": 16,
    "start_time": "2023-10-28T10:16:07.885Z"
   },
   {
    "duration": 296,
    "start_time": "2023-10-28T10:16:07.903Z"
   },
   {
    "duration": 27,
    "start_time": "2023-10-28T10:16:08.200Z"
   },
   {
    "duration": 297,
    "start_time": "2023-10-28T10:16:08.228Z"
   },
   {
    "duration": 20,
    "start_time": "2023-10-28T10:16:08.527Z"
   },
   {
    "duration": 36,
    "start_time": "2023-10-28T10:16:08.548Z"
   },
   {
    "duration": 42,
    "start_time": "2023-10-28T10:16:08.586Z"
   },
   {
    "duration": 42,
    "start_time": "2023-10-28T10:16:08.629Z"
   },
   {
    "duration": 18,
    "start_time": "2023-10-28T10:16:08.672Z"
   },
   {
    "duration": 40,
    "start_time": "2023-10-28T10:16:08.693Z"
   },
   {
    "duration": 292,
    "start_time": "2023-10-28T10:16:08.735Z"
   },
   {
    "duration": 401,
    "start_time": "2023-10-28T10:16:09.029Z"
   },
   {
    "duration": 5,
    "start_time": "2023-10-28T10:16:09.433Z"
   },
   {
    "duration": 35,
    "start_time": "2023-10-28T10:16:09.440Z"
   },
   {
    "duration": 25,
    "start_time": "2023-10-28T10:16:09.477Z"
   },
   {
    "duration": 18,
    "start_time": "2023-10-28T10:16:09.506Z"
   },
   {
    "duration": 47,
    "start_time": "2023-10-28T10:16:09.525Z"
   },
   {
    "duration": 41,
    "start_time": "2023-10-28T10:16:09.574Z"
   },
   {
    "duration": 22,
    "start_time": "2023-10-28T10:16:09.617Z"
   },
   {
    "duration": 332,
    "start_time": "2023-10-28T10:16:09.641Z"
   },
   {
    "duration": 5,
    "start_time": "2023-10-28T10:16:09.975Z"
   },
   {
    "duration": 115,
    "start_time": "2023-10-28T10:16:09.982Z"
   },
   {
    "duration": 18,
    "start_time": "2023-10-28T10:16:10.101Z"
   },
   {
    "duration": 71,
    "start_time": "2023-10-28T10:16:10.120Z"
   },
   {
    "duration": 388,
    "start_time": "2023-10-28T10:16:10.192Z"
   },
   {
    "duration": 35,
    "start_time": "2023-10-28T10:16:10.582Z"
   },
   {
    "duration": 83,
    "start_time": "2023-10-28T10:16:10.619Z"
   },
   {
    "duration": 63,
    "start_time": "2023-10-28T10:16:10.704Z"
   },
   {
    "duration": 49,
    "start_time": "2023-10-28T10:16:10.769Z"
   },
   {
    "duration": 27,
    "start_time": "2023-10-28T10:16:10.820Z"
   },
   {
    "duration": 138,
    "start_time": "2023-10-28T10:16:10.849Z"
   },
   {
    "duration": 7234,
    "start_time": "2023-10-28T10:16:11.001Z"
   },
   {
    "duration": 130,
    "start_time": "2023-10-28T10:16:18.237Z"
   },
   {
    "duration": 0,
    "start_time": "2023-10-28T10:16:18.368Z"
   },
   {
    "duration": 0,
    "start_time": "2023-10-28T10:16:18.370Z"
   },
   {
    "duration": 0,
    "start_time": "2023-10-28T10:16:18.371Z"
   },
   {
    "duration": 0,
    "start_time": "2023-10-28T10:16:18.372Z"
   },
   {
    "duration": 0,
    "start_time": "2023-10-28T10:16:18.373Z"
   },
   {
    "duration": 0,
    "start_time": "2023-10-28T10:16:18.374Z"
   },
   {
    "duration": 0,
    "start_time": "2023-10-28T10:16:18.375Z"
   },
   {
    "duration": 0,
    "start_time": "2023-10-28T10:16:18.377Z"
   },
   {
    "duration": 0,
    "start_time": "2023-10-28T10:16:18.378Z"
   },
   {
    "duration": 0,
    "start_time": "2023-10-28T10:16:18.401Z"
   },
   {
    "duration": 1400,
    "start_time": "2023-10-28T10:17:43.861Z"
   },
   {
    "duration": 113,
    "start_time": "2023-10-28T10:17:45.263Z"
   },
   {
    "duration": 1049,
    "start_time": "2023-10-28T10:17:45.377Z"
   },
   {
    "duration": 113,
    "start_time": "2023-10-28T10:17:46.428Z"
   },
   {
    "duration": 61,
    "start_time": "2023-10-28T10:17:46.544Z"
   },
   {
    "duration": 343,
    "start_time": "2023-10-28T10:17:46.606Z"
   },
   {
    "duration": 117,
    "start_time": "2023-10-28T10:17:46.951Z"
   },
   {
    "duration": 105,
    "start_time": "2023-10-28T10:17:47.070Z"
   },
   {
    "duration": 110,
    "start_time": "2023-10-28T10:17:47.178Z"
   },
   {
    "duration": 577,
    "start_time": "2023-10-28T10:17:47.301Z"
   },
   {
    "duration": 622,
    "start_time": "2023-10-28T10:17:47.880Z"
   },
   {
    "duration": 3,
    "start_time": "2023-10-28T10:17:48.503Z"
   },
   {
    "duration": 115,
    "start_time": "2023-10-28T10:17:48.508Z"
   },
   {
    "duration": 134,
    "start_time": "2023-10-28T10:17:48.627Z"
   },
   {
    "duration": 4,
    "start_time": "2023-10-28T10:17:48.763Z"
   },
   {
    "duration": 145,
    "start_time": "2023-10-28T10:17:48.769Z"
   },
   {
    "duration": 346,
    "start_time": "2023-10-28T10:17:48.915Z"
   },
   {
    "duration": 294,
    "start_time": "2023-10-28T10:17:49.263Z"
   },
   {
    "duration": 401,
    "start_time": "2023-10-28T10:17:49.559Z"
   },
   {
    "duration": 394,
    "start_time": "2023-10-28T10:17:49.962Z"
   },
   {
    "duration": 21,
    "start_time": "2023-10-28T10:17:50.358Z"
   },
   {
    "duration": 34,
    "start_time": "2023-10-28T10:17:50.381Z"
   },
   {
    "duration": 20,
    "start_time": "2023-10-28T10:17:50.417Z"
   },
   {
    "duration": 51,
    "start_time": "2023-10-28T10:17:50.439Z"
   },
   {
    "duration": 7,
    "start_time": "2023-10-28T10:17:50.492Z"
   },
   {
    "duration": 24,
    "start_time": "2023-10-28T10:17:50.501Z"
   },
   {
    "duration": 335,
    "start_time": "2023-10-28T10:17:50.527Z"
   },
   {
    "duration": 23,
    "start_time": "2023-10-28T10:17:50.865Z"
   },
   {
    "duration": 300,
    "start_time": "2023-10-28T10:17:50.900Z"
   },
   {
    "duration": 20,
    "start_time": "2023-10-28T10:17:51.201Z"
   },
   {
    "duration": 38,
    "start_time": "2023-10-28T10:17:51.224Z"
   },
   {
    "duration": 48,
    "start_time": "2023-10-28T10:17:51.263Z"
   },
   {
    "duration": 78,
    "start_time": "2023-10-28T10:17:51.314Z"
   },
   {
    "duration": 11,
    "start_time": "2023-10-28T10:17:51.394Z"
   },
   {
    "duration": 36,
    "start_time": "2023-10-28T10:17:51.407Z"
   },
   {
    "duration": 303,
    "start_time": "2023-10-28T10:17:51.444Z"
   },
   {
    "duration": 407,
    "start_time": "2023-10-28T10:17:51.749Z"
   },
   {
    "duration": 6,
    "start_time": "2023-10-28T10:17:52.157Z"
   },
   {
    "duration": 66,
    "start_time": "2023-10-28T10:17:52.164Z"
   },
   {
    "duration": 18,
    "start_time": "2023-10-28T10:17:52.232Z"
   },
   {
    "duration": 27,
    "start_time": "2023-10-28T10:17:52.255Z"
   },
   {
    "duration": 59,
    "start_time": "2023-10-28T10:17:52.283Z"
   },
   {
    "duration": 45,
    "start_time": "2023-10-28T10:17:52.343Z"
   },
   {
    "duration": 18,
    "start_time": "2023-10-28T10:17:52.390Z"
   },
   {
    "duration": 336,
    "start_time": "2023-10-28T10:17:52.410Z"
   },
   {
    "duration": 6,
    "start_time": "2023-10-28T10:17:52.748Z"
   },
   {
    "duration": 128,
    "start_time": "2023-10-28T10:17:52.755Z"
   },
   {
    "duration": 20,
    "start_time": "2023-10-28T10:17:52.885Z"
   },
   {
    "duration": 51,
    "start_time": "2023-10-28T10:17:52.906Z"
   },
   {
    "duration": 384,
    "start_time": "2023-10-28T10:17:52.958Z"
   },
   {
    "duration": 32,
    "start_time": "2023-10-28T10:17:53.343Z"
   },
   {
    "duration": 85,
    "start_time": "2023-10-28T10:17:53.377Z"
   },
   {
    "duration": 78,
    "start_time": "2023-10-28T10:17:53.464Z"
   },
   {
    "duration": 31,
    "start_time": "2023-10-28T10:17:53.543Z"
   },
   {
    "duration": 32,
    "start_time": "2023-10-28T10:17:53.576Z"
   },
   {
    "duration": 146,
    "start_time": "2023-10-28T10:17:53.610Z"
   },
   {
    "duration": 2876,
    "start_time": "2023-10-28T10:17:53.758Z"
   },
   {
    "duration": 1167,
    "start_time": "2023-10-28T10:17:56.636Z"
   },
   {
    "duration": 387,
    "start_time": "2023-10-28T10:17:57.805Z"
   },
   {
    "duration": 0,
    "start_time": "2023-10-28T10:17:58.193Z"
   },
   {
    "duration": 0,
    "start_time": "2023-10-28T10:17:58.195Z"
   },
   {
    "duration": 1,
    "start_time": "2023-10-28T10:17:58.195Z"
   },
   {
    "duration": 0,
    "start_time": "2023-10-28T10:17:58.197Z"
   },
   {
    "duration": 0,
    "start_time": "2023-10-28T10:17:58.201Z"
   },
   {
    "duration": 0,
    "start_time": "2023-10-28T10:17:58.202Z"
   },
   {
    "duration": 0,
    "start_time": "2023-10-28T10:17:58.203Z"
   },
   {
    "duration": 0,
    "start_time": "2023-10-28T10:17:58.205Z"
   },
   {
    "duration": 0,
    "start_time": "2023-10-28T10:17:58.206Z"
   },
   {
    "duration": 305,
    "start_time": "2023-10-28T10:20:53.831Z"
   },
   {
    "duration": 296,
    "start_time": "2023-10-28T10:27:05.617Z"
   },
   {
    "duration": 295,
    "start_time": "2023-10-28T10:28:55.706Z"
   },
   {
    "duration": 395,
    "start_time": "2023-10-28T10:33:22.924Z"
   },
   {
    "duration": 376,
    "start_time": "2023-10-28T10:35:42.489Z"
   },
   {
    "duration": 351,
    "start_time": "2023-10-28T10:37:52.999Z"
   },
   {
    "duration": 1412,
    "start_time": "2023-10-28T10:39:08.585Z"
   },
   {
    "duration": 39,
    "start_time": "2023-10-28T10:39:10.000Z"
   },
   {
    "duration": 1091,
    "start_time": "2023-10-28T10:39:10.041Z"
   },
   {
    "duration": 156,
    "start_time": "2023-10-28T10:39:11.134Z"
   },
   {
    "duration": 53,
    "start_time": "2023-10-28T10:39:11.292Z"
   },
   {
    "duration": 343,
    "start_time": "2023-10-28T10:39:11.347Z"
   },
   {
    "duration": 138,
    "start_time": "2023-10-28T10:39:11.692Z"
   },
   {
    "duration": 123,
    "start_time": "2023-10-28T10:39:11.832Z"
   },
   {
    "duration": 142,
    "start_time": "2023-10-28T10:39:11.957Z"
   },
   {
    "duration": 627,
    "start_time": "2023-10-28T10:39:12.102Z"
   },
   {
    "duration": 634,
    "start_time": "2023-10-28T10:39:12.731Z"
   },
   {
    "duration": 3,
    "start_time": "2023-10-28T10:39:13.366Z"
   },
   {
    "duration": 103,
    "start_time": "2023-10-28T10:39:13.371Z"
   },
   {
    "duration": 176,
    "start_time": "2023-10-28T10:39:13.479Z"
   },
   {
    "duration": 5,
    "start_time": "2023-10-28T10:39:13.657Z"
   },
   {
    "duration": 164,
    "start_time": "2023-10-28T10:39:13.664Z"
   },
   {
    "duration": 380,
    "start_time": "2023-10-28T10:39:13.830Z"
   },
   {
    "duration": 348,
    "start_time": "2023-10-28T10:39:14.211Z"
   },
   {
    "duration": 467,
    "start_time": "2023-10-28T10:39:14.563Z"
   },
   {
    "duration": 402,
    "start_time": "2023-10-28T10:39:15.033Z"
   },
   {
    "duration": 23,
    "start_time": "2023-10-28T10:39:15.437Z"
   },
   {
    "duration": 32,
    "start_time": "2023-10-28T10:39:15.461Z"
   },
   {
    "duration": 29,
    "start_time": "2023-10-28T10:39:15.495Z"
   },
   {
    "duration": 29,
    "start_time": "2023-10-28T10:39:15.526Z"
   },
   {
    "duration": 8,
    "start_time": "2023-10-28T10:39:15.557Z"
   },
   {
    "duration": 19,
    "start_time": "2023-10-28T10:39:15.567Z"
   },
   {
    "duration": 307,
    "start_time": "2023-10-28T10:39:15.588Z"
   },
   {
    "duration": 31,
    "start_time": "2023-10-28T10:39:15.897Z"
   },
   {
    "duration": 314,
    "start_time": "2023-10-28T10:39:15.930Z"
   },
   {
    "duration": 20,
    "start_time": "2023-10-28T10:39:16.246Z"
   },
   {
    "duration": 34,
    "start_time": "2023-10-28T10:39:16.268Z"
   },
   {
    "duration": 62,
    "start_time": "2023-10-28T10:39:16.304Z"
   },
   {
    "duration": 28,
    "start_time": "2023-10-28T10:39:16.368Z"
   },
   {
    "duration": 13,
    "start_time": "2023-10-28T10:39:16.398Z"
   },
   {
    "duration": 18,
    "start_time": "2023-10-28T10:39:16.413Z"
   },
   {
    "duration": 314,
    "start_time": "2023-10-28T10:39:16.433Z"
   },
   {
    "duration": 412,
    "start_time": "2023-10-28T10:39:16.749Z"
   },
   {
    "duration": 5,
    "start_time": "2023-10-28T10:39:17.163Z"
   },
   {
    "duration": 38,
    "start_time": "2023-10-28T10:39:17.170Z"
   },
   {
    "duration": 18,
    "start_time": "2023-10-28T10:39:17.209Z"
   },
   {
    "duration": 17,
    "start_time": "2023-10-28T10:39:17.231Z"
   },
   {
    "duration": 61,
    "start_time": "2023-10-28T10:39:17.250Z"
   },
   {
    "duration": 33,
    "start_time": "2023-10-28T10:39:17.313Z"
   },
   {
    "duration": 21,
    "start_time": "2023-10-28T10:39:17.347Z"
   },
   {
    "duration": 336,
    "start_time": "2023-10-28T10:39:17.370Z"
   },
   {
    "duration": 5,
    "start_time": "2023-10-28T10:39:17.708Z"
   },
   {
    "duration": 146,
    "start_time": "2023-10-28T10:39:17.715Z"
   },
   {
    "duration": 18,
    "start_time": "2023-10-28T10:39:17.863Z"
   },
   {
    "duration": 50,
    "start_time": "2023-10-28T10:39:17.883Z"
   },
   {
    "duration": 400,
    "start_time": "2023-10-28T10:39:17.935Z"
   },
   {
    "duration": 33,
    "start_time": "2023-10-28T10:39:18.338Z"
   },
   {
    "duration": 94,
    "start_time": "2023-10-28T10:39:18.373Z"
   },
   {
    "duration": 82,
    "start_time": "2023-10-28T10:39:18.469Z"
   },
   {
    "duration": 57,
    "start_time": "2023-10-28T10:39:18.553Z"
   },
   {
    "duration": 71,
    "start_time": "2023-10-28T10:39:18.612Z"
   },
   {
    "duration": 177,
    "start_time": "2023-10-28T10:39:18.685Z"
   },
   {
    "duration": 2811,
    "start_time": "2023-10-28T10:39:18.864Z"
   },
   {
    "duration": 1240,
    "start_time": "2023-10-28T10:39:21.677Z"
   },
   {
    "duration": 125,
    "start_time": "2023-10-28T10:39:22.920Z"
   },
   {
    "duration": 0,
    "start_time": "2023-10-28T10:39:23.048Z"
   },
   {
    "duration": 0,
    "start_time": "2023-10-28T10:39:23.049Z"
   },
   {
    "duration": 0,
    "start_time": "2023-10-28T10:39:23.051Z"
   },
   {
    "duration": 0,
    "start_time": "2023-10-28T10:39:23.052Z"
   },
   {
    "duration": 0,
    "start_time": "2023-10-28T10:39:23.053Z"
   },
   {
    "duration": 0,
    "start_time": "2023-10-28T10:39:23.055Z"
   },
   {
    "duration": 0,
    "start_time": "2023-10-28T10:39:23.055Z"
   },
   {
    "duration": 0,
    "start_time": "2023-10-28T10:39:23.056Z"
   },
   {
    "duration": 0,
    "start_time": "2023-10-28T10:39:23.058Z"
   },
   {
    "duration": 1413,
    "start_time": "2023-10-28T10:54:19.782Z"
   },
   {
    "duration": 40,
    "start_time": "2023-10-28T10:54:21.197Z"
   },
   {
    "duration": 1088,
    "start_time": "2023-10-28T10:54:21.239Z"
   },
   {
    "duration": 115,
    "start_time": "2023-10-28T10:54:22.328Z"
   },
   {
    "duration": 59,
    "start_time": "2023-10-28T10:54:22.445Z"
   },
   {
    "duration": 357,
    "start_time": "2023-10-28T10:54:22.506Z"
   },
   {
    "duration": 118,
    "start_time": "2023-10-28T10:54:22.865Z"
   },
   {
    "duration": 127,
    "start_time": "2023-10-28T10:54:22.985Z"
   },
   {
    "duration": 101,
    "start_time": "2023-10-28T10:54:23.114Z"
   },
   {
    "duration": 636,
    "start_time": "2023-10-28T10:54:23.216Z"
   },
   {
    "duration": 648,
    "start_time": "2023-10-28T10:54:23.853Z"
   },
   {
    "duration": 3,
    "start_time": "2023-10-28T10:54:24.502Z"
   },
   {
    "duration": 110,
    "start_time": "2023-10-28T10:54:24.506Z"
   },
   {
    "duration": 160,
    "start_time": "2023-10-28T10:54:24.620Z"
   },
   {
    "duration": 5,
    "start_time": "2023-10-28T10:54:24.782Z"
   },
   {
    "duration": 157,
    "start_time": "2023-10-28T10:54:24.788Z"
   },
   {
    "duration": 343,
    "start_time": "2023-10-28T10:54:24.946Z"
   },
   {
    "duration": 321,
    "start_time": "2023-10-28T10:54:25.291Z"
   },
   {
    "duration": 414,
    "start_time": "2023-10-28T10:54:25.614Z"
   },
   {
    "duration": 384,
    "start_time": "2023-10-28T10:54:26.030Z"
   },
   {
    "duration": 24,
    "start_time": "2023-10-28T10:54:26.416Z"
   },
   {
    "duration": 21,
    "start_time": "2023-10-28T10:54:26.442Z"
   },
   {
    "duration": 39,
    "start_time": "2023-10-28T10:54:26.465Z"
   },
   {
    "duration": 28,
    "start_time": "2023-10-28T10:54:26.505Z"
   },
   {
    "duration": 15,
    "start_time": "2023-10-28T10:54:26.535Z"
   },
   {
    "duration": 23,
    "start_time": "2023-10-28T10:54:26.551Z"
   },
   {
    "duration": 311,
    "start_time": "2023-10-28T10:54:26.577Z"
   },
   {
    "duration": 28,
    "start_time": "2023-10-28T10:54:26.890Z"
   },
   {
    "duration": 305,
    "start_time": "2023-10-28T10:54:26.919Z"
   },
   {
    "duration": 17,
    "start_time": "2023-10-28T10:54:27.226Z"
   },
   {
    "duration": 79,
    "start_time": "2023-10-28T10:54:27.244Z"
   },
   {
    "duration": 25,
    "start_time": "2023-10-28T10:54:27.325Z"
   },
   {
    "duration": 20,
    "start_time": "2023-10-28T10:54:27.352Z"
   },
   {
    "duration": 12,
    "start_time": "2023-10-28T10:54:27.374Z"
   },
   {
    "duration": 25,
    "start_time": "2023-10-28T10:54:27.388Z"
   },
   {
    "duration": 302,
    "start_time": "2023-10-28T10:54:27.415Z"
   },
   {
    "duration": 410,
    "start_time": "2023-10-28T10:54:27.719Z"
   },
   {
    "duration": 5,
    "start_time": "2023-10-28T10:54:28.131Z"
   },
   {
    "duration": 28,
    "start_time": "2023-10-28T10:54:28.138Z"
   },
   {
    "duration": 35,
    "start_time": "2023-10-28T10:54:28.169Z"
   },
   {
    "duration": 16,
    "start_time": "2023-10-28T10:54:28.208Z"
   },
   {
    "duration": 64,
    "start_time": "2023-10-28T10:54:28.226Z"
   },
   {
    "duration": 28,
    "start_time": "2023-10-28T10:54:28.292Z"
   },
   {
    "duration": 7,
    "start_time": "2023-10-28T10:54:28.321Z"
   },
   {
    "duration": 341,
    "start_time": "2023-10-28T10:54:28.330Z"
   },
   {
    "duration": 6,
    "start_time": "2023-10-28T10:54:28.672Z"
   },
   {
    "duration": 122,
    "start_time": "2023-10-28T10:54:28.680Z"
   },
   {
    "duration": 17,
    "start_time": "2023-10-28T10:54:28.804Z"
   },
   {
    "duration": 62,
    "start_time": "2023-10-28T10:54:28.823Z"
   },
   {
    "duration": 373,
    "start_time": "2023-10-28T10:54:28.887Z"
   },
   {
    "duration": 40,
    "start_time": "2023-10-28T10:54:29.262Z"
   },
   {
    "duration": 65,
    "start_time": "2023-10-28T10:54:29.304Z"
   },
   {
    "duration": 77,
    "start_time": "2023-10-28T10:54:29.371Z"
   },
   {
    "duration": 32,
    "start_time": "2023-10-28T10:54:29.450Z"
   },
   {
    "duration": 15,
    "start_time": "2023-10-28T10:54:29.501Z"
   },
   {
    "duration": 151,
    "start_time": "2023-10-28T10:54:29.518Z"
   },
   {
    "duration": 2848,
    "start_time": "2023-10-28T10:54:29.671Z"
   },
   {
    "duration": 1209,
    "start_time": "2023-10-28T10:54:32.521Z"
   },
   {
    "duration": 365,
    "start_time": "2023-10-28T10:54:33.731Z"
   },
   {
    "duration": 54,
    "start_time": "2023-10-28T10:54:34.098Z"
   },
   {
    "duration": 35,
    "start_time": "2023-10-28T10:54:34.153Z"
   },
   {
    "duration": 1880,
    "start_time": "2023-10-28T10:54:34.190Z"
   },
   {
    "duration": 168,
    "start_time": "2023-10-28T10:54:36.072Z"
   },
   {
    "duration": 0,
    "start_time": "2023-10-28T10:54:36.242Z"
   },
   {
    "duration": 0,
    "start_time": "2023-10-28T10:54:36.244Z"
   },
   {
    "duration": 0,
    "start_time": "2023-10-28T10:54:36.245Z"
   },
   {
    "duration": 0,
    "start_time": "2023-10-28T10:54:36.246Z"
   },
   {
    "duration": 0,
    "start_time": "2023-10-28T10:54:36.248Z"
   },
   {
    "duration": 358,
    "start_time": "2023-10-28T11:14:57.543Z"
   },
   {
    "duration": 28442,
    "start_time": "2023-10-28T11:15:03.548Z"
   },
   {
    "duration": 1358,
    "start_time": "2023-10-28T11:16:21.734Z"
   },
   {
    "duration": 44,
    "start_time": "2023-10-28T11:16:23.094Z"
   },
   {
    "duration": 1142,
    "start_time": "2023-10-28T11:16:23.140Z"
   },
   {
    "duration": 117,
    "start_time": "2023-10-28T11:16:24.284Z"
   },
   {
    "duration": 50,
    "start_time": "2023-10-28T11:16:24.403Z"
   },
   {
    "duration": 382,
    "start_time": "2023-10-28T11:16:24.455Z"
   },
   {
    "duration": 123,
    "start_time": "2023-10-28T11:16:24.839Z"
   },
   {
    "duration": 116,
    "start_time": "2023-10-28T11:16:24.964Z"
   },
   {
    "duration": 122,
    "start_time": "2023-10-28T11:16:25.081Z"
   },
   {
    "duration": 604,
    "start_time": "2023-10-28T11:16:25.204Z"
   },
   {
    "duration": 632,
    "start_time": "2023-10-28T11:16:25.809Z"
   },
   {
    "duration": 3,
    "start_time": "2023-10-28T11:16:26.443Z"
   },
   {
    "duration": 97,
    "start_time": "2023-10-28T11:16:26.447Z"
   },
   {
    "duration": 127,
    "start_time": "2023-10-28T11:16:26.547Z"
   },
   {
    "duration": 4,
    "start_time": "2023-10-28T11:16:26.675Z"
   },
   {
    "duration": 155,
    "start_time": "2023-10-28T11:16:26.681Z"
   },
   {
    "duration": 341,
    "start_time": "2023-10-28T11:16:26.838Z"
   },
   {
    "duration": 329,
    "start_time": "2023-10-28T11:16:27.180Z"
   },
   {
    "duration": 397,
    "start_time": "2023-10-28T11:16:27.510Z"
   },
   {
    "duration": 386,
    "start_time": "2023-10-28T11:16:27.908Z"
   },
   {
    "duration": 26,
    "start_time": "2023-10-28T11:16:28.295Z"
   },
   {
    "duration": 31,
    "start_time": "2023-10-28T11:16:28.323Z"
   },
   {
    "duration": 42,
    "start_time": "2023-10-28T11:16:28.356Z"
   },
   {
    "duration": 37,
    "start_time": "2023-10-28T11:16:28.400Z"
   },
   {
    "duration": 26,
    "start_time": "2023-10-28T11:16:28.439Z"
   },
   {
    "duration": 24,
    "start_time": "2023-10-28T11:16:28.467Z"
   },
   {
    "duration": 332,
    "start_time": "2023-10-28T11:16:28.493Z"
   },
   {
    "duration": 25,
    "start_time": "2023-10-28T11:16:28.827Z"
   },
   {
    "duration": 312,
    "start_time": "2023-10-28T11:16:28.853Z"
   },
   {
    "duration": 20,
    "start_time": "2023-10-28T11:16:29.167Z"
   },
   {
    "duration": 38,
    "start_time": "2023-10-28T11:16:29.188Z"
   },
   {
    "duration": 25,
    "start_time": "2023-10-28T11:16:29.228Z"
   },
   {
    "duration": 59,
    "start_time": "2023-10-28T11:16:29.255Z"
   },
   {
    "duration": 11,
    "start_time": "2023-10-28T11:16:29.316Z"
   },
   {
    "duration": 18,
    "start_time": "2023-10-28T11:16:29.329Z"
   },
   {
    "duration": 326,
    "start_time": "2023-10-28T11:16:29.349Z"
   },
   {
    "duration": 418,
    "start_time": "2023-10-28T11:16:29.677Z"
   },
   {
    "duration": 6,
    "start_time": "2023-10-28T11:16:30.097Z"
   },
   {
    "duration": 45,
    "start_time": "2023-10-28T11:16:30.105Z"
   },
   {
    "duration": 24,
    "start_time": "2023-10-28T11:16:30.152Z"
   },
   {
    "duration": 25,
    "start_time": "2023-10-28T11:16:30.181Z"
   },
   {
    "duration": 62,
    "start_time": "2023-10-28T11:16:30.207Z"
   },
   {
    "duration": 92,
    "start_time": "2023-10-28T11:16:30.270Z"
   },
   {
    "duration": 111,
    "start_time": "2023-10-28T11:16:30.364Z"
   },
   {
    "duration": 484,
    "start_time": "2023-10-28T11:16:30.477Z"
   },
   {
    "duration": 5,
    "start_time": "2023-10-28T11:16:30.963Z"
   },
   {
    "duration": 180,
    "start_time": "2023-10-28T11:16:30.970Z"
   },
   {
    "duration": 21,
    "start_time": "2023-10-28T11:16:31.152Z"
   },
   {
    "duration": 121,
    "start_time": "2023-10-28T11:16:31.175Z"
   },
   {
    "duration": 448,
    "start_time": "2023-10-28T11:16:31.298Z"
   },
   {
    "duration": 33,
    "start_time": "2023-10-28T11:16:31.747Z"
   },
   {
    "duration": 88,
    "start_time": "2023-10-28T11:16:31.781Z"
   },
   {
    "duration": 69,
    "start_time": "2023-10-28T11:16:31.871Z"
   },
   {
    "duration": 32,
    "start_time": "2023-10-28T11:16:31.942Z"
   },
   {
    "duration": 47,
    "start_time": "2023-10-28T11:16:31.975Z"
   },
   {
    "duration": 145,
    "start_time": "2023-10-28T11:16:32.024Z"
   },
   {
    "duration": 2936,
    "start_time": "2023-10-28T11:16:32.171Z"
   },
   {
    "duration": 1211,
    "start_time": "2023-10-28T11:16:35.110Z"
   },
   {
    "duration": 354,
    "start_time": "2023-10-28T11:16:36.323Z"
   },
   {
    "duration": 52,
    "start_time": "2023-10-28T11:16:36.679Z"
   },
   {
    "duration": 185,
    "start_time": "2023-10-28T11:16:36.733Z"
   },
   {
    "duration": 2906,
    "start_time": "2023-10-28T11:16:36.920Z"
   },
   {
    "duration": 30437,
    "start_time": "2023-10-28T11:16:39.828Z"
   },
   {
    "duration": 4,
    "start_time": "2023-10-28T11:17:10.267Z"
   },
   {
    "duration": 18630,
    "start_time": "2023-10-28T11:17:10.273Z"
   },
   {
    "duration": 233,
    "start_time": "2023-10-28T11:17:28.910Z"
   },
   {
    "duration": 0,
    "start_time": "2023-10-28T11:17:29.145Z"
   },
   {
    "duration": 0,
    "start_time": "2023-10-28T11:17:29.147Z"
   },
   {
    "duration": 13,
    "start_time": "2023-10-28T11:23:29.257Z"
   },
   {
    "duration": 7,
    "start_time": "2023-10-28T11:23:34.590Z"
   },
   {
    "duration": 13,
    "start_time": "2023-10-28T11:23:38.487Z"
   },
   {
    "duration": 35,
    "start_time": "2023-10-28T11:28:46.515Z"
   },
   {
    "duration": 36,
    "start_time": "2023-10-28T11:30:19.496Z"
   },
   {
    "duration": 42,
    "start_time": "2023-10-28T11:30:55.777Z"
   },
   {
    "duration": 42,
    "start_time": "2023-10-28T11:31:17.851Z"
   },
   {
    "duration": 34,
    "start_time": "2023-10-28T11:36:14.151Z"
   },
   {
    "duration": 3768,
    "start_time": "2023-10-28T11:36:59.950Z"
   },
   {
    "duration": 12,
    "start_time": "2023-10-28T11:37:27.314Z"
   },
   {
    "duration": 3963,
    "start_time": "2023-10-28T11:37:33.082Z"
   },
   {
    "duration": 13672,
    "start_time": "2023-10-28T11:38:05.974Z"
   },
   {
    "duration": 1391,
    "start_time": "2023-10-28T11:39:12.628Z"
   },
   {
    "duration": 44,
    "start_time": "2023-10-28T11:39:14.023Z"
   },
   {
    "duration": 1344,
    "start_time": "2023-10-28T11:39:14.069Z"
   },
   {
    "duration": 113,
    "start_time": "2023-10-28T11:39:15.415Z"
   },
   {
    "duration": 51,
    "start_time": "2023-10-28T11:39:15.530Z"
   },
   {
    "duration": 356,
    "start_time": "2023-10-28T11:39:15.583Z"
   },
   {
    "duration": 129,
    "start_time": "2023-10-28T11:39:15.940Z"
   },
   {
    "duration": 122,
    "start_time": "2023-10-28T11:39:16.070Z"
   },
   {
    "duration": 111,
    "start_time": "2023-10-28T11:39:16.201Z"
   },
   {
    "duration": 673,
    "start_time": "2023-10-28T11:39:16.315Z"
   },
   {
    "duration": 696,
    "start_time": "2023-10-28T11:39:16.990Z"
   },
   {
    "duration": 3,
    "start_time": "2023-10-28T11:39:17.688Z"
   },
   {
    "duration": 99,
    "start_time": "2023-10-28T11:39:17.692Z"
   },
   {
    "duration": 146,
    "start_time": "2023-10-28T11:39:17.794Z"
   },
   {
    "duration": 4,
    "start_time": "2023-10-28T11:39:17.942Z"
   },
   {
    "duration": 171,
    "start_time": "2023-10-28T11:39:17.948Z"
   },
   {
    "duration": 364,
    "start_time": "2023-10-28T11:39:18.121Z"
   },
   {
    "duration": 360,
    "start_time": "2023-10-28T11:39:18.487Z"
   },
   {
    "duration": 444,
    "start_time": "2023-10-28T11:39:18.849Z"
   },
   {
    "duration": 450,
    "start_time": "2023-10-28T11:39:19.294Z"
   },
   {
    "duration": 21,
    "start_time": "2023-10-28T11:39:19.747Z"
   },
   {
    "duration": 56,
    "start_time": "2023-10-28T11:39:19.770Z"
   },
   {
    "duration": 48,
    "start_time": "2023-10-28T11:39:19.828Z"
   },
   {
    "duration": 53,
    "start_time": "2023-10-28T11:39:19.878Z"
   },
   {
    "duration": 18,
    "start_time": "2023-10-28T11:39:19.933Z"
   },
   {
    "duration": 35,
    "start_time": "2023-10-28T11:39:19.952Z"
   },
   {
    "duration": 352,
    "start_time": "2023-10-28T11:39:19.989Z"
   },
   {
    "duration": 24,
    "start_time": "2023-10-28T11:39:20.343Z"
   },
   {
    "duration": 362,
    "start_time": "2023-10-28T11:39:20.369Z"
   },
   {
    "duration": 20,
    "start_time": "2023-10-28T11:39:20.734Z"
   },
   {
    "duration": 36,
    "start_time": "2023-10-28T11:39:20.756Z"
   },
   {
    "duration": 61,
    "start_time": "2023-10-28T11:39:20.794Z"
   },
   {
    "duration": 62,
    "start_time": "2023-10-28T11:39:20.857Z"
   },
   {
    "duration": 19,
    "start_time": "2023-10-28T11:39:20.921Z"
   },
   {
    "duration": 34,
    "start_time": "2023-10-28T11:39:20.942Z"
   },
   {
    "duration": 355,
    "start_time": "2023-10-28T11:39:20.979Z"
   },
   {
    "duration": 413,
    "start_time": "2023-10-28T11:39:21.336Z"
   },
   {
    "duration": 5,
    "start_time": "2023-10-28T11:39:21.751Z"
   },
   {
    "duration": 43,
    "start_time": "2023-10-28T11:39:21.758Z"
   },
   {
    "duration": 17,
    "start_time": "2023-10-28T11:39:21.803Z"
   },
   {
    "duration": 16,
    "start_time": "2023-10-28T11:39:21.824Z"
   },
   {
    "duration": 36,
    "start_time": "2023-10-28T11:39:21.842Z"
   },
   {
    "duration": 31,
    "start_time": "2023-10-28T11:39:21.901Z"
   },
   {
    "duration": 6,
    "start_time": "2023-10-28T11:39:21.934Z"
   },
   {
    "duration": 359,
    "start_time": "2023-10-28T11:39:21.942Z"
   },
   {
    "duration": 6,
    "start_time": "2023-10-28T11:39:22.303Z"
   },
   {
    "duration": 126,
    "start_time": "2023-10-28T11:39:22.310Z"
   },
   {
    "duration": 29,
    "start_time": "2023-10-28T11:39:22.438Z"
   },
   {
    "duration": 54,
    "start_time": "2023-10-28T11:39:22.469Z"
   },
   {
    "duration": 395,
    "start_time": "2023-10-28T11:39:22.525Z"
   },
   {
    "duration": 32,
    "start_time": "2023-10-28T11:39:22.922Z"
   },
   {
    "duration": 88,
    "start_time": "2023-10-28T11:39:22.956Z"
   },
   {
    "duration": 77,
    "start_time": "2023-10-28T11:39:23.046Z"
   },
   {
    "duration": 32,
    "start_time": "2023-10-28T11:39:23.124Z"
   },
   {
    "duration": 14,
    "start_time": "2023-10-28T11:39:23.159Z"
   },
   {
    "duration": 147,
    "start_time": "2023-10-28T11:39:23.202Z"
   },
   {
    "duration": 2836,
    "start_time": "2023-10-28T11:39:23.351Z"
   },
   {
    "duration": 1213,
    "start_time": "2023-10-28T11:39:26.190Z"
   },
   {
    "duration": 339,
    "start_time": "2023-10-28T11:39:27.405Z"
   },
   {
    "duration": 59,
    "start_time": "2023-10-28T11:39:27.746Z"
   },
   {
    "duration": 29,
    "start_time": "2023-10-28T11:39:27.807Z"
   },
   {
    "duration": 1874,
    "start_time": "2023-10-28T11:39:27.838Z"
   },
   {
    "duration": 29344,
    "start_time": "2023-10-28T11:39:29.714Z"
   },
   {
    "duration": 2,
    "start_time": "2023-10-28T11:39:59.060Z"
   },
   {
    "duration": 15245,
    "start_time": "2023-10-28T11:39:59.064Z"
   },
   {
    "duration": 5691,
    "start_time": "2023-10-28T11:40:14.312Z"
   },
   {
    "duration": 12168,
    "start_time": "2023-10-28T11:40:20.005Z"
   },
   {
    "duration": 14,
    "start_time": "2023-10-28T11:40:32.175Z"
   },
   {
    "duration": 1389,
    "start_time": "2023-10-28T11:48:54.508Z"
   },
   {
    "duration": 65,
    "start_time": "2023-10-28T11:48:55.899Z"
   },
   {
    "duration": 1149,
    "start_time": "2023-10-28T11:48:55.966Z"
   },
   {
    "duration": 114,
    "start_time": "2023-10-28T11:48:57.117Z"
   },
   {
    "duration": 52,
    "start_time": "2023-10-28T11:48:57.233Z"
   },
   {
    "duration": 340,
    "start_time": "2023-10-28T11:48:57.287Z"
   },
   {
    "duration": 125,
    "start_time": "2023-10-28T11:48:57.630Z"
   },
   {
    "duration": 112,
    "start_time": "2023-10-28T11:48:57.756Z"
   },
   {
    "duration": 108,
    "start_time": "2023-10-28T11:48:57.870Z"
   },
   {
    "duration": 642,
    "start_time": "2023-10-28T11:48:57.980Z"
   },
   {
    "duration": 677,
    "start_time": "2023-10-28T11:48:58.624Z"
   },
   {
    "duration": 4,
    "start_time": "2023-10-28T11:48:59.303Z"
   },
   {
    "duration": 102,
    "start_time": "2023-10-28T11:48:59.308Z"
   },
   {
    "duration": 131,
    "start_time": "2023-10-28T11:48:59.415Z"
   },
   {
    "duration": 5,
    "start_time": "2023-10-28T11:48:59.548Z"
   },
   {
    "duration": 172,
    "start_time": "2023-10-28T11:48:59.554Z"
   },
   {
    "duration": 351,
    "start_time": "2023-10-28T11:48:59.728Z"
   },
   {
    "duration": 350,
    "start_time": "2023-10-28T11:49:00.081Z"
   },
   {
    "duration": 425,
    "start_time": "2023-10-28T11:49:00.433Z"
   },
   {
    "duration": 414,
    "start_time": "2023-10-28T11:49:00.860Z"
   },
   {
    "duration": 39,
    "start_time": "2023-10-28T11:49:01.276Z"
   },
   {
    "duration": 24,
    "start_time": "2023-10-28T11:49:01.317Z"
   },
   {
    "duration": 74,
    "start_time": "2023-10-28T11:49:01.343Z"
   },
   {
    "duration": 63,
    "start_time": "2023-10-28T11:49:01.418Z"
   },
   {
    "duration": 141,
    "start_time": "2023-10-28T11:49:01.483Z"
   },
   {
    "duration": 100,
    "start_time": "2023-10-28T11:49:01.625Z"
   },
   {
    "duration": 398,
    "start_time": "2023-10-28T11:49:01.727Z"
   },
   {
    "duration": 24,
    "start_time": "2023-10-28T11:49:02.126Z"
   },
   {
    "duration": 331,
    "start_time": "2023-10-28T11:49:02.152Z"
   },
   {
    "duration": 32,
    "start_time": "2023-10-28T11:49:02.485Z"
   },
   {
    "duration": 27,
    "start_time": "2023-10-28T11:49:02.519Z"
   },
   {
    "duration": 47,
    "start_time": "2023-10-28T11:49:02.547Z"
   },
   {
    "duration": 41,
    "start_time": "2023-10-28T11:49:02.596Z"
   },
   {
    "duration": 24,
    "start_time": "2023-10-28T11:49:02.639Z"
   },
   {
    "duration": 27,
    "start_time": "2023-10-28T11:49:02.665Z"
   },
   {
    "duration": 345,
    "start_time": "2023-10-28T11:49:02.693Z"
   },
   {
    "duration": 439,
    "start_time": "2023-10-28T11:49:03.039Z"
   },
   {
    "duration": 6,
    "start_time": "2023-10-28T11:49:03.480Z"
   },
   {
    "duration": 46,
    "start_time": "2023-10-28T11:49:03.487Z"
   },
   {
    "duration": 16,
    "start_time": "2023-10-28T11:49:03.535Z"
   },
   {
    "duration": 28,
    "start_time": "2023-10-28T11:49:03.555Z"
   },
   {
    "duration": 55,
    "start_time": "2023-10-28T11:49:03.585Z"
   },
   {
    "duration": 31,
    "start_time": "2023-10-28T11:49:03.642Z"
   },
   {
    "duration": 9,
    "start_time": "2023-10-28T11:49:03.674Z"
   },
   {
    "duration": 348,
    "start_time": "2023-10-28T11:49:03.703Z"
   },
   {
    "duration": 6,
    "start_time": "2023-10-28T11:49:04.052Z"
   },
   {
    "duration": 148,
    "start_time": "2023-10-28T11:49:04.059Z"
   },
   {
    "duration": 23,
    "start_time": "2023-10-28T11:49:04.211Z"
   },
   {
    "duration": 46,
    "start_time": "2023-10-28T11:49:04.236Z"
   },
   {
    "duration": 448,
    "start_time": "2023-10-28T11:49:04.284Z"
   },
   {
    "duration": 34,
    "start_time": "2023-10-28T11:49:04.735Z"
   },
   {
    "duration": 107,
    "start_time": "2023-10-28T11:49:04.771Z"
   },
   {
    "duration": 76,
    "start_time": "2023-10-28T11:49:04.880Z"
   },
   {
    "duration": 57,
    "start_time": "2023-10-28T11:49:04.958Z"
   },
   {
    "duration": 14,
    "start_time": "2023-10-28T11:49:05.017Z"
   },
   {
    "duration": 159,
    "start_time": "2023-10-28T11:49:05.033Z"
   },
   {
    "duration": 2924,
    "start_time": "2023-10-28T11:49:05.205Z"
   },
   {
    "duration": 1224,
    "start_time": "2023-10-28T11:49:08.131Z"
   },
   {
    "duration": 743,
    "start_time": "2023-10-28T11:49:09.356Z"
   },
   {
    "duration": 2,
    "start_time": "2023-10-28T11:49:10.114Z"
   },
   {
    "duration": 76,
    "start_time": "2023-10-28T11:49:10.118Z"
   },
   {
    "duration": 44,
    "start_time": "2023-10-28T11:49:10.196Z"
   },
   {
    "duration": 1903,
    "start_time": "2023-10-28T11:49:10.242Z"
   },
   {
    "duration": 140,
    "start_time": "2023-10-28T11:49:12.147Z"
   },
   {
    "duration": 0,
    "start_time": "2023-10-28T11:49:12.290Z"
   },
   {
    "duration": 0,
    "start_time": "2023-10-28T11:49:12.291Z"
   },
   {
    "duration": 0,
    "start_time": "2023-10-28T11:49:12.292Z"
   },
   {
    "duration": 0,
    "start_time": "2023-10-28T11:49:12.293Z"
   },
   {
    "duration": 0,
    "start_time": "2023-10-28T11:49:12.303Z"
   },
   {
    "duration": 31,
    "start_time": "2023-10-28T11:53:16.144Z"
   },
   {
    "duration": 811,
    "start_time": "2023-10-28T11:53:34.370Z"
   },
   {
    "duration": 15,
    "start_time": "2023-10-28T11:54:24.196Z"
   },
   {
    "duration": 150,
    "start_time": "2023-10-28T11:54:57.470Z"
   },
   {
    "duration": 1376,
    "start_time": "2023-10-28T11:56:57.960Z"
   },
   {
    "duration": 41,
    "start_time": "2023-10-28T11:56:59.338Z"
   },
   {
    "duration": 1110,
    "start_time": "2023-10-28T11:56:59.381Z"
   },
   {
    "duration": 117,
    "start_time": "2023-10-28T11:57:00.502Z"
   },
   {
    "duration": 55,
    "start_time": "2023-10-28T11:57:00.620Z"
   },
   {
    "duration": 418,
    "start_time": "2023-10-28T11:57:00.677Z"
   },
   {
    "duration": 121,
    "start_time": "2023-10-28T11:57:01.096Z"
   },
   {
    "duration": 119,
    "start_time": "2023-10-28T11:57:01.219Z"
   },
   {
    "duration": 128,
    "start_time": "2023-10-28T11:57:01.340Z"
   },
   {
    "duration": 650,
    "start_time": "2023-10-28T11:57:01.471Z"
   },
   {
    "duration": 645,
    "start_time": "2023-10-28T11:57:02.123Z"
   },
   {
    "duration": 3,
    "start_time": "2023-10-28T11:57:02.770Z"
   },
   {
    "duration": 100,
    "start_time": "2023-10-28T11:57:02.775Z"
   },
   {
    "duration": 133,
    "start_time": "2023-10-28T11:57:02.877Z"
   },
   {
    "duration": 5,
    "start_time": "2023-10-28T11:57:03.012Z"
   },
   {
    "duration": 169,
    "start_time": "2023-10-28T11:57:03.018Z"
   },
   {
    "duration": 380,
    "start_time": "2023-10-28T11:57:03.188Z"
   },
   {
    "duration": 332,
    "start_time": "2023-10-28T11:57:03.570Z"
   },
   {
    "duration": 426,
    "start_time": "2023-10-28T11:57:03.903Z"
   },
   {
    "duration": 448,
    "start_time": "2023-10-28T11:57:04.332Z"
   },
   {
    "duration": 29,
    "start_time": "2023-10-28T11:57:04.782Z"
   },
   {
    "duration": 26,
    "start_time": "2023-10-28T11:57:04.813Z"
   },
   {
    "duration": 23,
    "start_time": "2023-10-28T11:57:04.841Z"
   },
   {
    "duration": 28,
    "start_time": "2023-10-28T11:57:04.865Z"
   },
   {
    "duration": 23,
    "start_time": "2023-10-28T11:57:04.895Z"
   },
   {
    "duration": 47,
    "start_time": "2023-10-28T11:57:04.919Z"
   },
   {
    "duration": 303,
    "start_time": "2023-10-28T11:57:04.968Z"
   },
   {
    "duration": 31,
    "start_time": "2023-10-28T11:57:05.275Z"
   },
   {
    "duration": 316,
    "start_time": "2023-10-28T11:57:05.308Z"
   },
   {
    "duration": 18,
    "start_time": "2023-10-28T11:57:05.626Z"
   },
   {
    "duration": 48,
    "start_time": "2023-10-28T11:57:05.646Z"
   },
   {
    "duration": 131,
    "start_time": "2023-10-28T11:57:05.696Z"
   },
   {
    "duration": 38,
    "start_time": "2023-10-28T11:57:05.829Z"
   },
   {
    "duration": 51,
    "start_time": "2023-10-28T11:57:05.869Z"
   },
   {
    "duration": 48,
    "start_time": "2023-10-28T11:57:05.922Z"
   },
   {
    "duration": 323,
    "start_time": "2023-10-28T11:57:05.972Z"
   },
   {
    "duration": 427,
    "start_time": "2023-10-28T11:57:06.301Z"
   },
   {
    "duration": 5,
    "start_time": "2023-10-28T11:57:06.730Z"
   },
   {
    "duration": 104,
    "start_time": "2023-10-28T11:57:06.737Z"
   },
   {
    "duration": 20,
    "start_time": "2023-10-28T11:57:06.843Z"
   },
   {
    "duration": 60,
    "start_time": "2023-10-28T11:57:06.865Z"
   },
   {
    "duration": 95,
    "start_time": "2023-10-28T11:57:06.927Z"
   },
   {
    "duration": 38,
    "start_time": "2023-10-28T11:57:07.024Z"
   },
   {
    "duration": 5,
    "start_time": "2023-10-28T11:57:07.064Z"
   },
   {
    "duration": 336,
    "start_time": "2023-10-28T11:57:07.070Z"
   },
   {
    "duration": 6,
    "start_time": "2023-10-28T11:57:07.408Z"
   },
   {
    "duration": 151,
    "start_time": "2023-10-28T11:57:07.415Z"
   },
   {
    "duration": 29,
    "start_time": "2023-10-28T11:57:07.568Z"
   },
   {
    "duration": 51,
    "start_time": "2023-10-28T11:57:07.599Z"
   },
   {
    "duration": 362,
    "start_time": "2023-10-28T11:57:07.651Z"
   },
   {
    "duration": 29,
    "start_time": "2023-10-28T11:57:08.015Z"
   },
   {
    "duration": 143,
    "start_time": "2023-10-28T11:57:08.045Z"
   },
   {
    "duration": 60,
    "start_time": "2023-10-28T11:57:08.190Z"
   },
   {
    "duration": 31,
    "start_time": "2023-10-28T11:57:08.251Z"
   },
   {
    "duration": 14,
    "start_time": "2023-10-28T11:57:08.302Z"
   },
   {
    "duration": 204,
    "start_time": "2023-10-28T11:57:08.318Z"
   },
   {
    "duration": 2780,
    "start_time": "2023-10-28T11:57:08.523Z"
   },
   {
    "duration": 1204,
    "start_time": "2023-10-28T11:57:11.306Z"
   },
   {
    "duration": 1220,
    "start_time": "2023-10-28T11:57:12.512Z"
   },
   {
    "duration": 3,
    "start_time": "2023-10-28T11:57:13.733Z"
   },
   {
    "duration": 104,
    "start_time": "2023-10-28T11:57:13.737Z"
   },
   {
    "duration": 77,
    "start_time": "2023-10-28T11:57:13.842Z"
   },
   {
    "duration": 2473,
    "start_time": "2023-10-28T11:57:13.921Z"
   },
   {
    "duration": 283,
    "start_time": "2023-10-28T11:57:16.396Z"
   },
   {
    "duration": 0,
    "start_time": "2023-10-28T11:57:16.681Z"
   },
   {
    "duration": 0,
    "start_time": "2023-10-28T11:57:16.682Z"
   },
   {
    "duration": 0,
    "start_time": "2023-10-28T11:57:16.683Z"
   },
   {
    "duration": 0,
    "start_time": "2023-10-28T11:57:16.684Z"
   },
   {
    "duration": 0,
    "start_time": "2023-10-28T11:57:16.685Z"
   },
   {
    "duration": 20,
    "start_time": "2023-10-28T11:59:12.195Z"
   },
   {
    "duration": 966,
    "start_time": "2023-10-28T12:01:04.552Z"
   },
   {
    "duration": 14,
    "start_time": "2023-10-28T12:01:08.480Z"
   },
   {
    "duration": 98603,
    "start_time": "2023-10-28T12:01:18.702Z"
   },
   {
    "duration": 1457,
    "start_time": "2023-10-28T12:05:44.984Z"
   },
   {
    "duration": 79,
    "start_time": "2023-10-28T12:05:46.443Z"
   },
   {
    "duration": 1162,
    "start_time": "2023-10-28T12:05:46.524Z"
   },
   {
    "duration": 130,
    "start_time": "2023-10-28T12:05:47.687Z"
   },
   {
    "duration": 54,
    "start_time": "2023-10-28T12:05:47.819Z"
   },
   {
    "duration": 372,
    "start_time": "2023-10-28T12:05:47.875Z"
   },
   {
    "duration": 128,
    "start_time": "2023-10-28T12:05:48.249Z"
   },
   {
    "duration": 134,
    "start_time": "2023-10-28T12:05:48.379Z"
   },
   {
    "duration": 123,
    "start_time": "2023-10-28T12:05:48.515Z"
   },
   {
    "duration": 675,
    "start_time": "2023-10-28T12:05:48.640Z"
   },
   {
    "duration": 714,
    "start_time": "2023-10-28T12:05:49.317Z"
   },
   {
    "duration": 4,
    "start_time": "2023-10-28T12:05:50.033Z"
   },
   {
    "duration": 103,
    "start_time": "2023-10-28T12:05:50.039Z"
   },
   {
    "duration": 140,
    "start_time": "2023-10-28T12:05:50.146Z"
   },
   {
    "duration": 5,
    "start_time": "2023-10-28T12:05:50.288Z"
   },
   {
    "duration": 163,
    "start_time": "2023-10-28T12:05:50.307Z"
   },
   {
    "duration": 380,
    "start_time": "2023-10-28T12:05:50.472Z"
   },
   {
    "duration": 329,
    "start_time": "2023-10-28T12:05:50.853Z"
   },
   {
    "duration": 434,
    "start_time": "2023-10-28T12:05:51.184Z"
   },
   {
    "duration": 419,
    "start_time": "2023-10-28T12:05:51.620Z"
   },
   {
    "duration": 22,
    "start_time": "2023-10-28T12:05:52.040Z"
   },
   {
    "duration": 49,
    "start_time": "2023-10-28T12:05:52.065Z"
   },
   {
    "duration": 31,
    "start_time": "2023-10-28T12:05:52.116Z"
   },
   {
    "duration": 37,
    "start_time": "2023-10-28T12:05:52.149Z"
   },
   {
    "duration": 30,
    "start_time": "2023-10-28T12:05:52.187Z"
   },
   {
    "duration": 17,
    "start_time": "2023-10-28T12:05:52.219Z"
   },
   {
    "duration": 330,
    "start_time": "2023-10-28T12:05:52.238Z"
   },
   {
    "duration": 44,
    "start_time": "2023-10-28T12:05:52.570Z"
   },
   {
    "duration": 323,
    "start_time": "2023-10-28T12:05:52.615Z"
   },
   {
    "duration": 19,
    "start_time": "2023-10-28T12:05:52.939Z"
   },
   {
    "duration": 110,
    "start_time": "2023-10-28T12:05:52.960Z"
   },
   {
    "duration": 50,
    "start_time": "2023-10-28T12:05:53.072Z"
   },
   {
    "duration": 29,
    "start_time": "2023-10-28T12:05:53.123Z"
   },
   {
    "duration": 14,
    "start_time": "2023-10-28T12:05:53.154Z"
   },
   {
    "duration": 39,
    "start_time": "2023-10-28T12:05:53.170Z"
   },
   {
    "duration": 330,
    "start_time": "2023-10-28T12:05:53.211Z"
   },
   {
    "duration": 455,
    "start_time": "2023-10-28T12:05:53.542Z"
   },
   {
    "duration": 16,
    "start_time": "2023-10-28T12:05:53.998Z"
   },
   {
    "duration": 37,
    "start_time": "2023-10-28T12:05:54.015Z"
   },
   {
    "duration": 19,
    "start_time": "2023-10-28T12:05:54.054Z"
   },
   {
    "duration": 25,
    "start_time": "2023-10-28T12:05:54.078Z"
   },
   {
    "duration": 57,
    "start_time": "2023-10-28T12:05:54.105Z"
   },
   {
    "duration": 88,
    "start_time": "2023-10-28T12:05:54.164Z"
   },
   {
    "duration": 6,
    "start_time": "2023-10-28T12:05:54.255Z"
   },
   {
    "duration": 397,
    "start_time": "2023-10-28T12:05:54.263Z"
   },
   {
    "duration": 8,
    "start_time": "2023-10-28T12:05:54.663Z"
   },
   {
    "duration": 175,
    "start_time": "2023-10-28T12:05:54.674Z"
   },
   {
    "duration": 18,
    "start_time": "2023-10-28T12:05:54.851Z"
   },
   {
    "duration": 61,
    "start_time": "2023-10-28T12:05:54.870Z"
   },
   {
    "duration": 427,
    "start_time": "2023-10-28T12:05:54.932Z"
   },
   {
    "duration": 32,
    "start_time": "2023-10-28T12:05:55.360Z"
   },
   {
    "duration": 71,
    "start_time": "2023-10-28T12:05:55.410Z"
   },
   {
    "duration": 75,
    "start_time": "2023-10-28T12:05:55.483Z"
   },
   {
    "duration": 57,
    "start_time": "2023-10-28T12:05:55.560Z"
   },
   {
    "duration": 34,
    "start_time": "2023-10-28T12:05:55.618Z"
   },
   {
    "duration": 158,
    "start_time": "2023-10-28T12:05:55.653Z"
   },
   {
    "duration": 3142,
    "start_time": "2023-10-28T12:05:55.813Z"
   },
   {
    "duration": 1522,
    "start_time": "2023-10-28T12:05:58.957Z"
   },
   {
    "duration": 995,
    "start_time": "2023-10-28T12:06:00.481Z"
   },
   {
    "duration": 22,
    "start_time": "2023-10-28T12:06:01.479Z"
   },
   {
    "duration": 121,
    "start_time": "2023-10-28T12:06:01.507Z"
   },
   {
    "duration": 128,
    "start_time": "2023-10-28T12:06:01.630Z"
   },
   {
    "duration": 154,
    "start_time": "2023-10-28T12:06:01.760Z"
   },
   {
    "duration": 2405,
    "start_time": "2023-10-28T12:06:01.916Z"
   },
   {
    "duration": 101527,
    "start_time": "2023-10-28T12:06:04.323Z"
   },
   {
    "duration": 3,
    "start_time": "2023-10-28T12:07:45.851Z"
   },
   {
    "duration": 31158,
    "start_time": "2023-10-28T12:07:45.855Z"
   },
   {
    "duration": 223,
    "start_time": "2023-10-28T12:08:17.019Z"
   },
   {
    "duration": 0,
    "start_time": "2023-10-28T12:08:17.244Z"
   },
   {
    "duration": 0,
    "start_time": "2023-10-28T12:08:17.245Z"
   },
   {
    "duration": 13944,
    "start_time": "2023-10-28T12:26:47.610Z"
   },
   {
    "duration": 94,
    "start_time": "2023-10-28T12:29:03.300Z"
   },
   {
    "duration": 1455,
    "start_time": "2023-10-28T12:29:38.448Z"
   },
   {
    "duration": 68,
    "start_time": "2023-10-28T12:29:39.905Z"
   },
   {
    "duration": 1106,
    "start_time": "2023-10-28T12:29:39.975Z"
   },
   {
    "duration": 106,
    "start_time": "2023-10-28T12:29:41.083Z"
   },
   {
    "duration": 51,
    "start_time": "2023-10-28T12:29:41.201Z"
   },
   {
    "duration": 340,
    "start_time": "2023-10-28T12:29:41.255Z"
   },
   {
    "duration": 130,
    "start_time": "2023-10-28T12:29:41.600Z"
   },
   {
    "duration": 108,
    "start_time": "2023-10-28T12:29:41.732Z"
   },
   {
    "duration": 115,
    "start_time": "2023-10-28T12:29:41.842Z"
   },
   {
    "duration": 636,
    "start_time": "2023-10-28T12:29:41.961Z"
   },
   {
    "duration": 672,
    "start_time": "2023-10-28T12:29:42.601Z"
   },
   {
    "duration": 3,
    "start_time": "2023-10-28T12:29:43.275Z"
   },
   {
    "duration": 129,
    "start_time": "2023-10-28T12:29:43.280Z"
   },
   {
    "duration": 132,
    "start_time": "2023-10-28T12:29:43.411Z"
   },
   {
    "duration": 5,
    "start_time": "2023-10-28T12:29:43.545Z"
   },
   {
    "duration": 163,
    "start_time": "2023-10-28T12:29:43.551Z"
   },
   {
    "duration": 342,
    "start_time": "2023-10-28T12:29:43.716Z"
   },
   {
    "duration": 338,
    "start_time": "2023-10-28T12:29:44.059Z"
   },
   {
    "duration": 474,
    "start_time": "2023-10-28T12:29:44.400Z"
   },
   {
    "duration": 397,
    "start_time": "2023-10-28T12:29:44.875Z"
   },
   {
    "duration": 27,
    "start_time": "2023-10-28T12:29:45.274Z"
   },
   {
    "duration": 59,
    "start_time": "2023-10-28T12:29:45.303Z"
   },
   {
    "duration": 38,
    "start_time": "2023-10-28T12:29:45.363Z"
   },
   {
    "duration": 27,
    "start_time": "2023-10-28T12:29:45.403Z"
   },
   {
    "duration": 39,
    "start_time": "2023-10-28T12:29:45.431Z"
   },
   {
    "duration": 18,
    "start_time": "2023-10-28T12:29:45.472Z"
   },
   {
    "duration": 336,
    "start_time": "2023-10-28T12:29:45.493Z"
   },
   {
    "duration": 23,
    "start_time": "2023-10-28T12:29:45.833Z"
   },
   {
    "duration": 458,
    "start_time": "2023-10-28T12:29:45.858Z"
   },
   {
    "duration": 19,
    "start_time": "2023-10-28T12:29:46.318Z"
   },
   {
    "duration": 42,
    "start_time": "2023-10-28T12:29:46.339Z"
   },
   {
    "duration": 35,
    "start_time": "2023-10-28T12:29:46.383Z"
   },
   {
    "duration": 46,
    "start_time": "2023-10-28T12:29:46.420Z"
   },
   {
    "duration": 9,
    "start_time": "2023-10-28T12:29:46.468Z"
   },
   {
    "duration": 45,
    "start_time": "2023-10-28T12:29:46.478Z"
   },
   {
    "duration": 315,
    "start_time": "2023-10-28T12:29:46.526Z"
   },
   {
    "duration": 421,
    "start_time": "2023-10-28T12:29:46.843Z"
   },
   {
    "duration": 5,
    "start_time": "2023-10-28T12:29:47.266Z"
   },
   {
    "duration": 66,
    "start_time": "2023-10-28T12:29:47.273Z"
   },
   {
    "duration": 17,
    "start_time": "2023-10-28T12:29:47.341Z"
   },
   {
    "duration": 33,
    "start_time": "2023-10-28T12:29:47.361Z"
   },
   {
    "duration": 45,
    "start_time": "2023-10-28T12:29:47.396Z"
   },
   {
    "duration": 51,
    "start_time": "2023-10-28T12:29:47.442Z"
   },
   {
    "duration": 37,
    "start_time": "2023-10-28T12:29:47.494Z"
   },
   {
    "duration": 337,
    "start_time": "2023-10-28T12:29:47.533Z"
   },
   {
    "duration": 6,
    "start_time": "2023-10-28T12:29:47.872Z"
   },
   {
    "duration": 122,
    "start_time": "2023-10-28T12:29:47.880Z"
   },
   {
    "duration": 18,
    "start_time": "2023-10-28T12:29:48.004Z"
   },
   {
    "duration": 53,
    "start_time": "2023-10-28T12:29:48.024Z"
   },
   {
    "duration": 391,
    "start_time": "2023-10-28T12:29:48.079Z"
   },
   {
    "duration": 45,
    "start_time": "2023-10-28T12:29:48.472Z"
   },
   {
    "duration": 88,
    "start_time": "2023-10-28T12:29:48.519Z"
   },
   {
    "duration": 66,
    "start_time": "2023-10-28T12:29:48.609Z"
   },
   {
    "duration": 53,
    "start_time": "2023-10-28T12:29:48.677Z"
   },
   {
    "duration": 37,
    "start_time": "2023-10-28T12:29:48.732Z"
   },
   {
    "duration": 156,
    "start_time": "2023-10-28T12:29:48.771Z"
   },
   {
    "duration": 2869,
    "start_time": "2023-10-28T12:29:48.929Z"
   },
   {
    "duration": 1422,
    "start_time": "2023-10-28T12:29:51.800Z"
   },
   {
    "duration": 866,
    "start_time": "2023-10-28T12:29:53.224Z"
   },
   {
    "duration": 19,
    "start_time": "2023-10-28T12:29:54.092Z"
   },
   {
    "duration": 56,
    "start_time": "2023-10-28T12:29:54.113Z"
   },
   {
    "duration": 45,
    "start_time": "2023-10-28T12:29:54.171Z"
   },
   {
    "duration": 2569,
    "start_time": "2023-10-28T12:29:54.218Z"
   },
   {
    "duration": 96382,
    "start_time": "2023-10-28T12:29:56.788Z"
   },
   {
    "duration": 3,
    "start_time": "2023-10-28T12:31:33.173Z"
   },
   {
    "duration": 17730,
    "start_time": "2023-10-28T12:31:33.178Z"
   },
   {
    "duration": 5230,
    "start_time": "2023-10-28T12:31:50.910Z"
   },
   {
    "duration": 0,
    "start_time": "2023-10-28T12:31:56.141Z"
   },
   {
    "duration": 0,
    "start_time": "2023-10-28T12:31:56.143Z"
   },
   {
    "duration": 10,
    "start_time": "2023-10-28T12:34:44.389Z"
   },
   {
    "duration": 4956,
    "start_time": "2023-10-28T12:41:56.848Z"
   },
   {
    "duration": 1370,
    "start_time": "2023-10-28T12:42:39.619Z"
   },
   {
    "duration": 53,
    "start_time": "2023-10-28T12:42:40.991Z"
   },
   {
    "duration": 1099,
    "start_time": "2023-10-28T12:42:41.046Z"
   },
   {
    "duration": 163,
    "start_time": "2023-10-28T12:42:42.147Z"
   },
   {
    "duration": 55,
    "start_time": "2023-10-28T12:42:42.313Z"
   },
   {
    "duration": 346,
    "start_time": "2023-10-28T12:42:42.370Z"
   },
   {
    "duration": 115,
    "start_time": "2023-10-28T12:42:42.718Z"
   },
   {
    "duration": 278,
    "start_time": "2023-10-28T12:42:42.834Z"
   },
   {
    "duration": 100,
    "start_time": "2023-10-28T12:42:43.114Z"
   },
   {
    "duration": 617,
    "start_time": "2023-10-28T12:42:43.216Z"
   },
   {
    "duration": 658,
    "start_time": "2023-10-28T12:42:43.835Z"
   },
   {
    "duration": 7,
    "start_time": "2023-10-28T12:42:44.494Z"
   },
   {
    "duration": 136,
    "start_time": "2023-10-28T12:42:44.503Z"
   },
   {
    "duration": 181,
    "start_time": "2023-10-28T12:42:44.642Z"
   },
   {
    "duration": 4,
    "start_time": "2023-10-28T12:42:44.825Z"
   },
   {
    "duration": 166,
    "start_time": "2023-10-28T12:42:44.830Z"
   },
   {
    "duration": 347,
    "start_time": "2023-10-28T12:42:45.001Z"
   },
   {
    "duration": 307,
    "start_time": "2023-10-28T12:42:45.350Z"
   },
   {
    "duration": 406,
    "start_time": "2023-10-28T12:42:45.659Z"
   },
   {
    "duration": 390,
    "start_time": "2023-10-28T12:42:46.067Z"
   },
   {
    "duration": 21,
    "start_time": "2023-10-28T12:42:46.459Z"
   },
   {
    "duration": 63,
    "start_time": "2023-10-28T12:42:46.482Z"
   },
   {
    "duration": 25,
    "start_time": "2023-10-28T12:42:46.547Z"
   },
   {
    "duration": 34,
    "start_time": "2023-10-28T12:42:46.574Z"
   },
   {
    "duration": 11,
    "start_time": "2023-10-28T12:42:46.610Z"
   },
   {
    "duration": 19,
    "start_time": "2023-10-28T12:42:46.622Z"
   },
   {
    "duration": 305,
    "start_time": "2023-10-28T12:42:46.642Z"
   },
   {
    "duration": 23,
    "start_time": "2023-10-28T12:42:46.948Z"
   },
   {
    "duration": 314,
    "start_time": "2023-10-28T12:42:46.972Z"
   },
   {
    "duration": 23,
    "start_time": "2023-10-28T12:42:47.288Z"
   },
   {
    "duration": 20,
    "start_time": "2023-10-28T12:42:47.312Z"
   },
   {
    "duration": 21,
    "start_time": "2023-10-28T12:42:47.333Z"
   },
   {
    "duration": 18,
    "start_time": "2023-10-28T12:42:47.355Z"
   },
   {
    "duration": 27,
    "start_time": "2023-10-28T12:42:47.375Z"
   },
   {
    "duration": 19,
    "start_time": "2023-10-28T12:42:47.404Z"
   },
   {
    "duration": 330,
    "start_time": "2023-10-28T12:42:47.424Z"
   },
   {
    "duration": 402,
    "start_time": "2023-10-28T12:42:47.756Z"
   },
   {
    "duration": 5,
    "start_time": "2023-10-28T12:42:48.160Z"
   },
   {
    "duration": 46,
    "start_time": "2023-10-28T12:42:48.167Z"
   },
   {
    "duration": 16,
    "start_time": "2023-10-28T12:42:48.215Z"
   },
   {
    "duration": 34,
    "start_time": "2023-10-28T12:42:48.235Z"
   },
   {
    "duration": 46,
    "start_time": "2023-10-28T12:42:48.271Z"
   },
   {
    "duration": 29,
    "start_time": "2023-10-28T12:42:48.318Z"
   },
   {
    "duration": 10,
    "start_time": "2023-10-28T12:42:48.349Z"
   },
   {
    "duration": 341,
    "start_time": "2023-10-28T12:42:48.360Z"
   },
   {
    "duration": 8,
    "start_time": "2023-10-28T12:42:48.703Z"
   },
   {
    "duration": 121,
    "start_time": "2023-10-28T12:42:48.714Z"
   },
   {
    "duration": 16,
    "start_time": "2023-10-28T12:42:48.837Z"
   },
   {
    "duration": 51,
    "start_time": "2023-10-28T12:42:48.855Z"
   },
   {
    "duration": 376,
    "start_time": "2023-10-28T12:42:48.907Z"
   },
   {
    "duration": 41,
    "start_time": "2023-10-28T12:42:49.286Z"
   },
   {
    "duration": 86,
    "start_time": "2023-10-28T12:42:49.329Z"
   },
   {
    "duration": 59,
    "start_time": "2023-10-28T12:42:49.417Z"
   },
   {
    "duration": 45,
    "start_time": "2023-10-28T12:42:49.478Z"
   },
   {
    "duration": 18,
    "start_time": "2023-10-28T12:42:49.525Z"
   },
   {
    "duration": 166,
    "start_time": "2023-10-28T12:42:49.545Z"
   },
   {
    "duration": 2791,
    "start_time": "2023-10-28T12:42:49.713Z"
   },
   {
    "duration": 1460,
    "start_time": "2023-10-28T12:42:52.506Z"
   },
   {
    "duration": 915,
    "start_time": "2023-10-28T12:42:53.968Z"
   },
   {
    "duration": 18,
    "start_time": "2023-10-28T12:42:54.885Z"
   },
   {
    "duration": 77,
    "start_time": "2023-10-28T12:42:54.905Z"
   },
   {
    "duration": 35,
    "start_time": "2023-10-28T12:42:54.984Z"
   },
   {
    "duration": 2412,
    "start_time": "2023-10-28T12:42:55.021Z"
   },
   {
    "duration": 96401,
    "start_time": "2023-10-28T12:42:57.435Z"
   },
   {
    "duration": 3,
    "start_time": "2023-10-28T12:44:33.838Z"
   },
   {
    "duration": 18467,
    "start_time": "2023-10-28T12:44:33.843Z"
   },
   {
    "duration": 4812,
    "start_time": "2023-10-28T12:44:52.312Z"
   },
   {
    "duration": 13578,
    "start_time": "2023-10-28T12:44:57.126Z"
   },
   {
    "duration": 0,
    "start_time": "2023-10-28T12:45:10.706Z"
   },
   {
    "duration": 13698,
    "start_time": "2023-10-28T12:51:08.805Z"
   },
   {
    "duration": 90,
    "start_time": "2023-10-28T13:03:50.540Z"
   },
   {
    "duration": 12,
    "start_time": "2023-10-28T13:04:00.462Z"
   },
   {
    "duration": 4,
    "start_time": "2023-10-28T13:09:13.346Z"
   },
   {
    "duration": 13200,
    "start_time": "2023-10-28T13:12:57.310Z"
   }
  ],
  "kernelspec": {
   "display_name": "Python 3 (ipykernel)",
   "language": "python",
   "name": "python3"
  },
  "language_info": {
   "codemirror_mode": {
    "name": "ipython",
    "version": 3
   },
   "file_extension": ".py",
   "mimetype": "text/x-python",
   "name": "python",
   "nbconvert_exporter": "python",
   "pygments_lexer": "ipython3",
   "version": "3.11.7"
  },
  "toc": {
   "base_numbering": 1,
   "nav_menu": {},
   "number_sections": true,
   "sideBar": true,
   "skip_h1_title": true,
   "title_cell": "Table of Contents",
   "title_sidebar": "Contents",
   "toc_cell": false,
   "toc_position": {
    "height": "calc(100% - 180px)",
    "left": "10px",
    "top": "150px",
    "width": "361.391px"
   },
   "toc_section_display": true,
   "toc_window_display": true
  }
 },
 "nbformat": 4,
 "nbformat_minor": 2
}
