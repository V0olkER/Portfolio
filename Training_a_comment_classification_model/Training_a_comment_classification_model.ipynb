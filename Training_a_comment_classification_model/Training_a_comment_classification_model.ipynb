{
 "cells": [
  {
   "cell_type": "markdown",
   "metadata": {},
   "source": [
    "# Обучение модели классификации комментариев"
   ]
  },
  {
   "cell_type": "markdown",
   "metadata": {},
   "source": [
    "Интернет-магазин запускает новый сервис. Теперь пользователи могут редактировать и дополнять описания товаров, как в вики-сообществах. То есть клиенты предлагают свои правки и комментируют изменения других. Магазину нужен инструмент, который будет искать токсичные комментарии и отправлять их на модерацию. \n",
    "\n",
    "ТЗ: Обучите модель классифицировать комментарии на позитивные и негативные. В распоряжении набор данных с разметкой о токсичности правок.\n",
    "\n",
    "**Условие:**\n",
    "Постройте модель со значением метрики качества *F1* не меньше 0.75. \n",
    "\n",
    "\n",
    "**Описание данных**\n",
    "\n",
    "Данные находятся в файле `toxic_comments.csv`. Столбец *text* в нём содержит текст комментария, а *toxic* — целевой признак."
   ]
  },
  {
   "cell_type": "markdown",
   "metadata": {},
   "source": [
    "## Подготовка"
   ]
  },
  {
   "cell_type": "code",
   "execution_count": 1,
   "metadata": {},
   "outputs": [],
   "source": [
    "# база\n",
    "import numpy as np\n",
    "import pandas as pd\n",
    "import matplotlib.pyplot as plt\n",
    "#\n",
    "#лематизация для англоязычного текста\n",
    "#import spacy\n",
    "import nltk\n",
    "from nltk.stem import WordNetLemmatizer\n",
    "from nltk.corpus import wordnet\n",
    "from nltk import pos_tag\n",
    "#регулярные выражения\n",
    "import re\n",
    "# разбивка на выборки\n",
    "from sklearn.model_selection import train_test_split\n",
    "#TF-IDF\n",
    "from sklearn.feature_extraction.text import TfidfVectorizer \n",
    "#Модели\n",
    "from sklearn.linear_model import LogisticRegression\n",
    "from lightgbm import LGBMClassifier\n",
    "from catboost import CatBoostClassifier\n",
    "#Метрика\n",
    "from sklearn.metrics import f1_score\n",
    "#\n",
    "import time\n",
    "from tqdm import tqdm\n",
    "# Grid+Pipeline\n",
    "from sklearn.pipeline import Pipeline\n",
    "from sklearn.pipeline import make_pipeline\n",
    "from sklearn.model_selection import GridSearchCV"
   ]
  },
  {
   "cell_type": "code",
   "execution_count": 2,
   "metadata": {},
   "outputs": [
    {
     "data": {
      "text/html": [
       "<div>\n",
       "<style scoped>\n",
       "    .dataframe tbody tr th:only-of-type {\n",
       "        vertical-align: middle;\n",
       "    }\n",
       "\n",
       "    .dataframe tbody tr th {\n",
       "        vertical-align: top;\n",
       "    }\n",
       "\n",
       "    .dataframe thead th {\n",
       "        text-align: right;\n",
       "    }\n",
       "</style>\n",
       "<table border=\"1\" class=\"dataframe\">\n",
       "  <thead>\n",
       "    <tr style=\"text-align: right;\">\n",
       "      <th></th>\n",
       "      <th>text</th>\n",
       "      <th>toxic</th>\n",
       "    </tr>\n",
       "  </thead>\n",
       "  <tbody>\n",
       "    <tr>\n",
       "      <th>0</th>\n",
       "      <td>Explanation\\nWhy the edits made under my usern...</td>\n",
       "      <td>0</td>\n",
       "    </tr>\n",
       "    <tr>\n",
       "      <th>1</th>\n",
       "      <td>D'aww! He matches this background colour I'm s...</td>\n",
       "      <td>0</td>\n",
       "    </tr>\n",
       "    <tr>\n",
       "      <th>2</th>\n",
       "      <td>Hey man, I'm really not trying to edit war. It...</td>\n",
       "      <td>0</td>\n",
       "    </tr>\n",
       "    <tr>\n",
       "      <th>3</th>\n",
       "      <td>\"\\nMore\\nI can't make any real suggestions on ...</td>\n",
       "      <td>0</td>\n",
       "    </tr>\n",
       "    <tr>\n",
       "      <th>4</th>\n",
       "      <td>You, sir, are my hero. Any chance you remember...</td>\n",
       "      <td>0</td>\n",
       "    </tr>\n",
       "  </tbody>\n",
       "</table>\n",
       "</div>"
      ],
      "text/plain": [
       "                                                text  toxic\n",
       "0  Explanation\\nWhy the edits made under my usern...      0\n",
       "1  D'aww! He matches this background colour I'm s...      0\n",
       "2  Hey man, I'm really not trying to edit war. It...      0\n",
       "3  \"\\nMore\\nI can't make any real suggestions on ...      0\n",
       "4  You, sir, are my hero. Any chance you remember...      0"
      ]
     },
     "metadata": {},
     "output_type": "display_data"
    },
    {
     "name": "stdout",
     "output_type": "stream",
     "text": [
      "<class 'pandas.core.frame.DataFrame'>\n",
      "Int64Index: 159292 entries, 0 to 159450\n",
      "Data columns (total 2 columns):\n",
      " #   Column  Non-Null Count   Dtype \n",
      "---  ------  --------------   ----- \n",
      " 0   text    159292 non-null  object\n",
      " 1   toxic   159292 non-null  int64 \n",
      "dtypes: int64(1), object(1)\n",
      "memory usage: 3.6+ MB\n"
     ]
    },
    {
     "data": {
      "text/plain": [
       "None"
      ]
     },
     "metadata": {},
     "output_type": "display_data"
    },
    {
     "data": {
      "text/html": [
       "<div>\n",
       "<style scoped>\n",
       "    .dataframe tbody tr th:only-of-type {\n",
       "        vertical-align: middle;\n",
       "    }\n",
       "\n",
       "    .dataframe tbody tr th {\n",
       "        vertical-align: top;\n",
       "    }\n",
       "\n",
       "    .dataframe thead th {\n",
       "        text-align: right;\n",
       "    }\n",
       "</style>\n",
       "<table border=\"1\" class=\"dataframe\">\n",
       "  <thead>\n",
       "    <tr style=\"text-align: right;\">\n",
       "      <th></th>\n",
       "      <th>text</th>\n",
       "      <th>toxic</th>\n",
       "    </tr>\n",
       "  </thead>\n",
       "  <tbody>\n",
       "    <tr>\n",
       "      <th>103540</th>\n",
       "      <td>Becouse no one gives a SHIT...</td>\n",
       "      <td>1</td>\n",
       "    </tr>\n",
       "    <tr>\n",
       "      <th>48009</th>\n",
       "      <td>I've started a new page for structured mediati...</td>\n",
       "      <td>0</td>\n",
       "    </tr>\n",
       "    <tr>\n",
       "      <th>65361</th>\n",
       "      <td>I've replaced the pic because the results seem...</td>\n",
       "      <td>0</td>\n",
       "    </tr>\n",
       "    <tr>\n",
       "      <th>81297</th>\n",
       "      <td>REDIRECT Talk:Hickleton and Thurnscoe Halt rai...</td>\n",
       "      <td>0</td>\n",
       "    </tr>\n",
       "    <tr>\n",
       "      <th>112313</th>\n",
       "      <td>it's me. \\n\\ntrust me. why would i pretend to ...</td>\n",
       "      <td>0</td>\n",
       "    </tr>\n",
       "  </tbody>\n",
       "</table>\n",
       "</div>"
      ],
      "text/plain": [
       "                                                     text  toxic\n",
       "103540                     Becouse no one gives a SHIT...      1\n",
       "48009   I've started a new page for structured mediati...      0\n",
       "65361   I've replaced the pic because the results seem...      0\n",
       "81297   REDIRECT Talk:Hickleton and Thurnscoe Halt rai...      0\n",
       "112313  it's me. \\n\\ntrust me. why would i pretend to ...      0"
      ]
     },
     "metadata": {},
     "output_type": "display_data"
    }
   ],
   "source": [
    "try:\n",
    "    data = pd.read_csv(r'C:\\Users\\Admin\\Downloads\\toxic_comments.csv', index_col=0)\n",
    "except:\n",
    "    data = pd.read_csv('/datasets/toxic_comments.csv', index_col=0)\n",
    "\n",
    "display(data.head())\n",
    "display(data.info())\n",
    "display(data.sample(5))"
   ]
  },
  {
   "cell_type": "code",
   "execution_count": 3,
   "metadata": {},
   "outputs": [
    {
     "data": {
      "text/plain": [
       "0    0.898388\n",
       "1    0.101612\n",
       "Name: toxic, dtype: float64"
      ]
     },
     "execution_count": 3,
     "metadata": {},
     "output_type": "execute_result"
    }
   ],
   "source": [
    "data['toxic'].value_counts(normalize=True)"
   ]
  },
  {
   "cell_type": "code",
   "execution_count": 4,
   "metadata": {},
   "outputs": [
    {
     "data": {
      "image/png": "[encoded data removed]"
     },
     "metadata": {},
     "output_type": "display_data"
    }
   ],
   "source": [
    "plt.figure(figsize=(6, 4))\n",
    "data['toxic'].value_counts(normalize=True).plot(kind='bar')\n",
    "plt.xlabel('Класс')\n",
    "plt.ylabel('Доля')\n",
    "plt.title('Баланс классов')\n",
    "plt.xticks([0, 1], ['Non-toxic', 'Toxic'])\n",
    "plt.show()"
   ]
  },
  {
   "cell_type": "markdown",
   "metadata": {},
   "source": [
    "Видим, что предоставленный текс с датасеста на английском языке, воспользуемся  WordNet Lemmatizer.\n"
   ]
  },
  {
   "cell_type": "markdown",
   "metadata": {},
   "source": [
    "**Краткая сводка:** \n",
    "\n",
    "    - В датасете 159292 строки\n",
    "    - Целевой признак в столбце 'toxiс'\n",
    "    - Данные датасета на английском языке.\n",
    "    - Сильный дисбаланс классов. "
   ]
  },
  {
   "cell_type": "code",
   "execution_count": 5,
   "metadata": {},
   "outputs": [],
   "source": [
    "nltk.download('omw-1.4')\n",
    "nltk.download('wordnet')  # загрузка компонентов WordNet\n",
    "nltk.download('averaged_perceptron_tagger')\n",
    "\n",
    "lemmatizer = WordNetLemmatizer()"
   ]
  },
  {
   "cell_type": "code",
   "execution_count": 6,
   "metadata": {},
   "outputs": [],
   "source": [
    "# Функция для определения Pos-тега WordNet\n",
    "def get_wordnet_pos(nltk_tag):\n",
    "    if nltk_tag.startswith('J'):\n",
    "        return wordnet.ADJ\n",
    "    elif nltk_tag.startswith('V'):\n",
    "        return wordnet.VERB\n",
    "    elif nltk_tag.startswith('N'):\n",
    "        return wordnet.NOUN\n",
    "    elif nltk_tag.startswith('R'):\n",
    "        return wordnet.ADV\n",
    "    else:\n",
    "        return None"
   ]
  },
  {
   "cell_type": "code",
   "execution_count": 7,
   "metadata": {
    "scrolled": true
   },
   "outputs": [],
   "source": [
    "# Загрузка Pos-тегов и лемматизация столбца 'text'\n",
    "start_time = time.time()\n",
    "tqdm.pandas()\n",
    "data['clean_text'] = (data['text'].progress_apply\n",
    "                      (lambda x:' '.join([lemmatizer.lemmatize(token, get_wordnet_pos(tag)) \n",
    "                                           for token, tag in pos_tag(x.split()) if get_wordnet_pos(tag) is not None])))\n",
    "end_time = time.time()\n",
    "execution_time = end_time - start_time\n",
    "print(\"Время выполнения кода:\", execution_time, \"секунд\")"
   ]
  },
  {
   "cell_type": "code",
   "execution_count": 8,
   "metadata": {},
   "outputs": [
    {
     "data": {},
     "execution_count": 8,
     "metadata": {},
     "output_type": "execute_result"
    }
   ],
   "source": [
    "data['clean_text'].head(10)"
   ]
  },
  {
   "cell_type": "code",
   "execution_count": 10,
   "metadata": {},
   "outputs": [
    {
     "data": {},
     "execution_count": 10,
     "metadata": {},
     "output_type": "execute_result"
    }
   ],
   "source": [
    "data['clean_text']=data['clean_text'].str.lower()\n",
    "data.head(10)"
   ]
  },
  {
   "cell_type": "code",
   "execution_count": 11,
   "metadata": {},
   "outputs": [],
   "source": [
    "def clear_text(text):\n",
    "    cl_text = re.sub(r'[^a-zA-Z]',' ', text)\n",
    "    cl_text= \" \".join(cl_text.split())\n",
    "    return cl_text"
   ]
  },
  {
   "cell_type": "code",
   "execution_count": 12,
   "metadata": {},
   "outputs": [
    {
     "data": {},
     "execution_count": 12,
     "metadata": {},
     "output_type": "execute_result"
    }
   ],
   "source": [
    "data['clean_text'] = data['clean_text'].apply(clear_text)\n",
    "data.head()"
   ]
  },
  {
   "cell_type": "markdown",
   "metadata": {},
   "source": [
    "Текст лемматизировали, привели к нижнему регистру, убрали лишние символы, и всю эту красоту положили в новую колонку clean_text."
   ]
  },
  {
   "cell_type": "markdown",
   "metadata": {},
   "source": [
    "## Обучение"
   ]
  },
  {
   "cell_type": "code",
   "execution_count": 13,
   "metadata": {},
   "outputs": [],
   "source": [
    "#Разбиваем на выборки\n",
    "features = data['clean_text']\n",
    "target = data['toxic']"
   ]
  },
  {
   "cell_type": "code",
   "execution_count": 14,
   "metadata": {},
   "outputs": [
    {
     "data": {},
     "execution_count": 14,
     "metadata": {},
     "output_type": "execute_result"
    }
   ],
   "source": [
    "features.shape"
   ]
  },
  {
   "cell_type": "code",
   "execution_count": 15,
   "metadata": {},
   "outputs": [
    {
     "data": {},
     "execution_count": 15,
     "metadata": {},
     "output_type": "execute_result"
    }
   ],
   "source": [
    "target.shape"
   ]
  },
  {
   "cell_type": "code",
   "execution_count": 16,
   "metadata": {},
   "outputs": [],
   "source": [
    "\n",
    "x_train, x_test, y_train, y_test = train_test_split(features, target, test_size=0.3, random_state=12345, stratify=target)"
   ]
  },
  {
   "cell_type": "code",
   "execution_count": 17,
   "metadata": {},
   "outputs": [
    {
     "data": {},
     "metadata": {},
     "output_type": "display_data"
    },
    {
     "data": {},
     "metadata": {},
     "output_type": "display_data"
    }
   ],
   "source": [
    "display(x_train.shape)\n",
    "display(x_test.shape)"
   ]
  },
  {
   "cell_type": "code",
   "execution_count": 20,
   "metadata": {
    "scrolled": true
   },
   "outputs": [],
   "source": [
    "\n",
    "\n",
    "pipeline = Pipeline([\n",
    "    ('tfidf', TfidfVectorizer(stop_words='english', ngram_range=(1, 2))),\n",
    "    ('logreg', LogisticRegression(class_weight='balanced', random_state=12345))\n",
    "])\n",
    "\n",
    "# GridSearchCV\n",
    "parameters = {\n",
    "     'logreg__max_iter': [500]\n",
    "\n",
    "}\n",
    "\n",
    "grid_search = GridSearchCV(pipeline, parameters, cv=3, scoring='f1')\n",
    "grid_search.fit(x_train, y_train)\n",
    "param_log = grid_search.best_params_\n",
    "f1_log = grid_search.best_score_\n",
    "\n",
    "\n",
    "print('Лучшие параметры:',param_log)\n",
    "print('F1', f1_log)\n"
   ]
  },
  {
   "cell_type": "code",
   "execution_count": 22,
   "metadata": {
    "scrolled": true
   },
   "outputs": [],
   "source": [
    "pipeline = Pipeline([\n",
    "    ('tfidf', TfidfVectorizer(stop_words='english', ngram_range=(1, 2))),\n",
    "    ('lgbm', LGBMClassifier(class_weight='balanced', random_state=12345)),\n",
    "])\n",
    "\n",
    "parameters = { \n",
    "    'lgbm__n_estimators': [1000], \n",
    "    'lgbm__max_depth': [8,16],\n",
    "    'lgbm__num_leaves': [8,16]\n",
    "}\n",
    "\n",
    "grid_search = GridSearchCV(pipeline, parameters, cv=5, scoring='f1' )\n",
    "grid_search.fit(x_train, y_train)\n",
    "\n",
    "best_model_lgbm = grid_search.best_estimator_\n",
    "best_params_lgbm = grid_search.best_params_\n",
    "best_f1_lgbm = grid_search.best_score_\n",
    "\n",
    "\n",
    "print('Лучшая модель:', best_model_lgbm)\n",
    "print('F1:', best_f1_lgbm)\n",
    "print('Лучшие параметры:', best_params_lgbm)\n"
   ]
  },
  {
   "cell_type": "code",
   "execution_count": 27,
   "metadata": {},
   "outputs": [],
   "source": [
    "\n",
    "pipeline = make_pipeline(\n",
    "    TfidfVectorizer(stop_words='english', ngram_range=(1, 2)),\n",
    "    CatBoostClassifier(class_weights=[0.1, 0.9], verbose=5, random_state=12345)\n",
    ")\n",
    "parameters = {\n",
    "    'catboostclassifier__iterations': [10,20],\n",
    "    'catboostclassifier__depth': [6,10]\n",
    "}    \n",
    "grid_search = GridSearchCV(pipeline, parameters, cv=3, scoring='f1')\n",
    "grid_search.fit(x_train, y_train)\n",
    "\n",
    "best_model_cat = grid_search.best_estimator_\n",
    "best_params_cat = grid_search.best_params_\n",
    "best_f1_cat = grid_search.best_score_\n",
    "\n",
    "\n",
    "print('Лучшая модель:', best_model_cat)\n",
    "print('F1:', best_f1_cat)\n",
    "print('Лучшие параметры:', best_params_cat)"
   ]
  },
  {
   "cell_type": "code",
   "execution_count": 30,
   "metadata": {},
   "outputs": [
    {
     "data": {},
     "execution_count": 30,
     "metadata": {},
     "output_type": "execute_result"
    }
   ],
   "source": [
    "# Выбор лучшей на основе валидации\n",
    "table = {'Модели':\n",
    "    ['Логистическая регрессия', 'LGBM', 'CatBoost'],\n",
    "         'Параметры': [param_log, best_params_lgbm, best_params_cat ],\n",
    "         'RMSE valid':[f1_log, best_f1_lgbm, best_f1_cat]\n",
    "         \n",
    "}\n",
    "\n",
    "table = pd.DataFrame(table)\n",
    "table.head()"
   ]
  },
  {
   "cell_type": "markdown",
   "metadata": {},
   "source": [
    "Лучшая модель по метрике F1 - LGBM, ее и возьем на тестирование. "
   ]
  },
  {
   "cell_type": "code",
   "execution_count": 32,
   "metadata": {},
   "outputs": [],
   "source": [
    "\n",
    "# LGBM тест\n",
    "pipeline = Pipeline([ #тут я понял, как здорово различать переменные, а не перезаписывать их, вместо обращение делается дублирование\n",
    "    ('tfidf', TfidfVectorizer(stop_words='english', ngram_range=(1, 2))),\n",
    "    ('lgbm', LGBMClassifier(class_weight='balanced'), random_state=12345),\n",
    "])\n",
    "parameters = { # обучается целую вечность, я бы рад ставить больше, но ждать будем неделями\n",
    "    'lgbm__n_estimators': [1000], \n",
    "    'lgbm__max_depth': [16],\n",
    "    'lgbm__num_leaves': [16]\n",
    "}\n",
    "\n",
    "grid_search = GridSearchCV(pipeline, parameters, cv=5)\n",
    "grid_search.fit(x_train, y_train)\n",
    "\n",
    "y_pred = grid_search.predict(x_test)\n",
    "print('F1:',f1_score(y_test, y_pred))\n"
   ]
  },
  {
   "cell_type": "markdown",
   "metadata": {},
   "source": [
    "Отлично! Метрика F1 на тестовых данных оказалось оптимальной для заказчика (0.75)"
   ]
  },
  {
   "cell_type": "markdown",
   "metadata": {},
   "source": [
    "## Выводы"
   ]
  },
  {
   "cell_type": "markdown",
   "metadata": {},
   "source": [
    "- Загрузили и изучили данные:\n",
    "\n",
    "    - Датасет на 159,292 строки. \n",
    "    - Целевой признак в столбце 'toxiс'\n",
    "    - Данные датасета на английском языке.\n",
    "- Подготовили функцию для определения Pos-тегов\n",
    "- Подгрузили POS-теги и лемматизировали столбец 'text', преобразованые данные добавили в новый столбец датасета 'clean_text'\n",
    "- Привели обработанный текст к нижнему регистру\n",
    "- Почистили текста от лишних символов\n",
    "- Разбили датасет на 3 набора данных: обучающий, валидационный и тестовый\n",
    "- Произвели TF-IDF векторизацию выборок\n",
    "- Обучили модели логистической классификачии, LGBM и CatBoost\n",
    "- Получили метрику F1 на предсказании валидационных данных\n",
    "- Сделали таблицу сравнения метрик F1, для выбора лучшей модели и проверки ее на тестовых данных. \n",
    "- Лучшая модель по метрике F1 LGBM\n",
    "- На тестовых данных LGBM показала метрику F1 - 0.755"
   ]
  }
 ],
 "metadata": {
  "ExecuteTimeLog": [
   {
    "duration": 1601,
    "start_time": "2023-11-09T13:43:56.520Z"
   },
   {
    "duration": 11707,
    "start_time": "2023-11-09T13:57:21.216Z"
   },
   {
    "duration": 199,
    "start_time": "2023-11-09T14:05:55.618Z"
   },
   {
    "duration": 5805,
    "start_time": "2023-11-09T14:07:31.215Z"
   },
   {
    "duration": 599,
    "start_time": "2023-11-09T14:08:20.116Z"
   },
   {
    "duration": 4,
    "start_time": "2023-11-09T14:27:18.502Z"
   },
   {
    "duration": 674,
    "start_time": "2023-11-09T14:29:00.996Z"
   },
   {
    "duration": 3,
    "start_time": "2023-11-09T14:29:52.993Z"
   },
   {
    "duration": 367,
    "start_time": "2023-11-09T14:29:59.468Z"
   },
   {
    "duration": 1283,
    "start_time": "2023-11-09T14:31:39.556Z"
   },
   {
    "duration": 2535,
    "start_time": "2023-11-09T14:31:40.841Z"
   },
   {
    "duration": 159,
    "start_time": "2023-11-09T14:31:43.377Z"
   },
   {
    "duration": 4,
    "start_time": "2023-11-09T14:31:43.538Z"
   },
   {
    "duration": 501,
    "start_time": "2023-11-09T14:31:43.544Z"
   },
   {
    "duration": 1352,
    "start_time": "2023-11-09T14:32:49.275Z"
   },
   {
    "duration": 1000,
    "start_time": "2023-11-09T14:32:50.629Z"
   },
   {
    "duration": 394,
    "start_time": "2023-11-09T14:32:51.633Z"
   },
   {
    "duration": 4,
    "start_time": "2023-11-09T14:32:52.029Z"
   },
   {
    "duration": 894,
    "start_time": "2023-11-09T14:32:52.034Z"
   },
   {
    "duration": 29,
    "start_time": "2023-11-09T14:33:20.872Z"
   },
   {
    "duration": 4,
    "start_time": "2023-11-09T14:33:26.021Z"
   },
   {
    "duration": 371,
    "start_time": "2023-11-09T14:33:28.356Z"
   },
   {
    "duration": 1353,
    "start_time": "2023-11-09T14:33:43.746Z"
   },
   {
    "duration": 1001,
    "start_time": "2023-11-09T14:33:45.102Z"
   },
   {
    "duration": 151,
    "start_time": "2023-11-09T14:33:46.115Z"
   },
   {
    "duration": 3,
    "start_time": "2023-11-09T14:33:46.268Z"
   },
   {
    "duration": 598,
    "start_time": "2023-11-09T14:33:46.273Z"
   },
   {
    "duration": 3,
    "start_time": "2023-11-09T14:51:24.045Z"
   },
   {
    "duration": 1796,
    "start_time": "2023-11-09T14:51:28.190Z"
   },
   {
    "duration": 3,
    "start_time": "2023-11-09T14:53:31.270Z"
   },
   {
    "duration": 481640,
    "start_time": "2023-11-09T14:53:32.468Z"
   },
   {
    "duration": 6,
    "start_time": "2023-11-09T15:05:08.670Z"
   },
   {
    "duration": 252,
    "start_time": "2023-11-09T15:08:36.061Z"
   },
   {
    "duration": 20,
    "start_time": "2023-11-09T15:09:14.200Z"
   },
   {
    "duration": 318,
    "start_time": "2023-11-09T15:11:19.093Z"
   },
   {
    "duration": 226,
    "start_time": "2023-11-09T15:12:09.480Z"
   },
   {
    "duration": 4,
    "start_time": "2023-11-09T15:12:46.405Z"
   },
   {
    "duration": 265,
    "start_time": "2023-11-09T15:20:00.517Z"
   },
   {
    "duration": 3,
    "start_time": "2023-11-09T15:29:26.150Z"
   },
   {
    "duration": 20,
    "start_time": "2023-11-09T15:31:54.361Z"
   },
   {
    "duration": 1598,
    "start_time": "2023-11-09T15:33:30.745Z"
   },
   {
    "duration": 77,
    "start_time": "2023-11-09T15:34:08.538Z"
   },
   {
    "duration": 9,
    "start_time": "2023-11-09T15:34:19.176Z"
   },
   {
    "duration": 3203,
    "start_time": "2023-11-09T15:36:38.099Z"
   },
   {
    "duration": 3,
    "start_time": "2023-11-09T15:46:47.738Z"
   },
   {
    "duration": 3,
    "start_time": "2023-11-09T15:49:39.078Z"
   },
   {
    "duration": 85,
    "start_time": "2023-11-09T16:01:24.849Z"
   },
   {
    "duration": 3,
    "start_time": "2023-11-09T16:01:33.812Z"
   },
   {
    "duration": 95,
    "start_time": "2023-11-09T16:01:38.348Z"
   },
   {
    "duration": 71,
    "start_time": "2023-11-09T16:01:46.567Z"
   },
   {
    "duration": 3,
    "start_time": "2023-11-09T16:04:29.877Z"
   },
   {
    "duration": 4,
    "start_time": "2023-11-09T16:04:31.251Z"
   },
   {
    "duration": 105,
    "start_time": "2023-11-09T16:05:08.231Z"
   },
   {
    "duration": 75,
    "start_time": "2023-11-09T16:05:13.482Z"
   },
   {
    "duration": 40,
    "start_time": "2023-11-09T16:05:27.564Z"
   },
   {
    "duration": 65,
    "start_time": "2023-11-09T16:08:00.980Z"
   },
   {
    "duration": 11,
    "start_time": "2023-11-09T16:08:35.907Z"
   },
   {
    "duration": 6,
    "start_time": "2023-11-09T16:08:44.601Z"
   },
   {
    "duration": 8,
    "start_time": "2023-11-09T16:09:00.340Z"
   },
   {
    "duration": 75,
    "start_time": "2023-11-09T16:09:33.941Z"
   },
   {
    "duration": 83,
    "start_time": "2023-11-09T16:45:12.524Z"
   },
   {
    "duration": 7,
    "start_time": "2023-11-09T16:45:16.629Z"
   },
   {
    "duration": 7,
    "start_time": "2023-11-09T16:45:40.266Z"
   },
   {
    "duration": 7,
    "start_time": "2023-11-09T16:46:21.501Z"
   },
   {
    "duration": 4,
    "start_time": "2023-11-09T16:55:36.211Z"
   },
   {
    "duration": 4527,
    "start_time": "2023-11-09T17:02:26.407Z"
   },
   {
    "duration": 4196,
    "start_time": "2023-11-09T17:23:58.373Z"
   },
   {
    "duration": 1305,
    "start_time": "2023-11-09T17:27:52.943Z"
   },
   {
    "duration": 1100,
    "start_time": "2023-11-09T17:27:54.250Z"
   },
   {
    "duration": 237,
    "start_time": "2023-11-09T17:27:55.352Z"
   },
   {
    "duration": 3,
    "start_time": "2023-11-09T17:27:55.591Z"
   },
   {
    "duration": 477114,
    "start_time": "2023-11-09T17:27:55.597Z"
   },
   {
    "duration": 6,
    "start_time": "2023-11-09T17:35:52.712Z"
   },
   {
    "duration": 303,
    "start_time": "2023-11-09T17:35:52.720Z"
   },
   {
    "duration": 3,
    "start_time": "2023-11-09T17:35:53.024Z"
   },
   {
    "duration": 2988,
    "start_time": "2023-11-09T17:35:53.028Z"
   },
   {
    "duration": 3,
    "start_time": "2023-11-09T17:35:56.017Z"
   },
   {
    "duration": 11,
    "start_time": "2023-11-09T17:35:56.022Z"
   },
   {
    "duration": 12,
    "start_time": "2023-11-09T17:35:56.035Z"
   },
   {
    "duration": 79,
    "start_time": "2023-11-09T17:35:56.048Z"
   },
   {
    "duration": 7,
    "start_time": "2023-11-09T17:35:56.130Z"
   },
   {
    "duration": 4247,
    "start_time": "2023-11-09T17:35:56.139Z"
   },
   {
    "duration": 5,
    "start_time": "2023-11-09T17:41:48.201Z"
   },
   {
    "duration": 7,
    "start_time": "2023-11-09T17:49:58.731Z"
   },
   {
    "duration": 5957,
    "start_time": "2023-11-09T17:50:57.517Z"
   },
   {
    "duration": 5978,
    "start_time": "2023-11-09T17:51:29.012Z"
   },
   {
    "duration": 6345,
    "start_time": "2023-11-09T17:52:33.437Z"
   },
   {
    "duration": 5827,
    "start_time": "2023-11-09T17:52:51.994Z"
   },
   {
    "duration": 154,
    "start_time": "2023-11-09T18:00:50.776Z"
   },
   {
    "duration": 45602,
    "start_time": "2023-11-09T18:08:19.117Z"
   },
   {
    "duration": 50074,
    "start_time": "2023-11-09T18:10:05.768Z"
   },
   {
    "duration": 92,
    "start_time": "2023-11-09T18:14:37.680Z"
   },
   {
    "duration": 52354,
    "start_time": "2023-11-09T18:14:42.471Z"
   },
   {
    "duration": 16,
    "start_time": "2023-11-09T18:18:19.530Z"
   },
   {
    "duration": 10,
    "start_time": "2023-11-09T18:18:34.281Z"
   },
   {
    "duration": 4,
    "start_time": "2023-11-09T18:19:10.947Z"
   },
   {
    "duration": 554127,
    "start_time": "2023-11-09T18:21:52.417Z"
   },
   {
    "duration": 6,
    "start_time": "2023-11-09T18:41:41.668Z"
   },
   {
    "duration": 1574,
    "start_time": "2023-11-09T19:28:27.672Z"
   },
   {
    "duration": 1043,
    "start_time": "2023-11-09T19:28:29.247Z"
   },
   {
    "duration": 173,
    "start_time": "2023-11-09T19:28:30.292Z"
   },
   {
    "duration": 4,
    "start_time": "2023-11-09T19:28:30.467Z"
   },
   {
    "duration": 2020,
    "start_time": "2023-11-09T19:32:34.631Z"
   },
   {
    "duration": 1055,
    "start_time": "2023-11-09T19:32:36.653Z"
   },
   {
    "duration": 243,
    "start_time": "2023-11-09T19:32:37.715Z"
   },
   {
    "duration": 4,
    "start_time": "2023-11-09T19:32:37.960Z"
   },
   {
    "duration": 1458,
    "start_time": "2023-11-09T19:49:19.286Z"
   },
   {
    "duration": 1032,
    "start_time": "2023-11-09T19:49:20.746Z"
   },
   {
    "duration": 152,
    "start_time": "2023-11-09T19:49:21.780Z"
   },
   {
    "duration": 4,
    "start_time": "2023-11-09T19:49:21.934Z"
   },
   {
    "duration": 517365,
    "start_time": "2023-11-09T19:49:21.940Z"
   },
   {
    "duration": 12,
    "start_time": "2023-11-09T19:57:59.307Z"
   },
   {
    "duration": 316,
    "start_time": "2023-11-09T19:57:59.322Z"
   },
   {
    "duration": 3,
    "start_time": "2023-11-09T19:57:59.640Z"
   },
   {
    "duration": 3504,
    "start_time": "2023-11-09T19:57:59.644Z"
   },
   {
    "duration": 3,
    "start_time": "2023-11-09T19:58:03.150Z"
   },
   {
    "duration": 22,
    "start_time": "2023-11-09T19:58:03.155Z"
   },
   {
    "duration": 11,
    "start_time": "2023-11-09T19:58:03.179Z"
   },
   {
    "duration": 83,
    "start_time": "2023-11-09T19:58:03.192Z"
   },
   {
    "duration": 8,
    "start_time": "2023-11-09T19:58:03.277Z"
   },
   {
    "duration": 6424,
    "start_time": "2023-11-09T19:58:03.287Z"
   },
   {
    "duration": 55015,
    "start_time": "2023-11-09T19:58:09.713Z"
   },
   {
    "duration": 559995,
    "start_time": "2023-11-09T19:59:04.730Z"
   },
   {
    "duration": 140213,
    "start_time": "2023-11-09T20:08:24.726Z"
   },
   {
    "duration": 9,
    "start_time": "2023-11-09T20:10:44.941Z"
   },
   {
    "duration": 231374,
    "start_time": "2023-11-09T20:21:58.729Z"
   },
   {
    "duration": 99,
    "start_time": "2023-11-09T20:26:34.667Z"
   },
   {
    "duration": 7,
    "start_time": "2023-11-09T20:26:35.563Z"
   },
   {
    "duration": 5750,
    "start_time": "2023-11-09T20:26:39.976Z"
   },
   {
    "duration": 44521,
    "start_time": "2023-11-09T20:26:49.108Z"
   },
   {
    "duration": 6087,
    "start_time": "2023-11-09T20:31:59.949Z"
   },
   {
    "duration": 49896,
    "start_time": "2023-11-09T20:32:09.052Z"
   },
   {
    "duration": 83,
    "start_time": "2023-11-09T20:33:19.340Z"
   },
   {
    "duration": 8,
    "start_time": "2023-11-09T20:33:20.775Z"
   },
   {
    "duration": 90,
    "start_time": "2023-11-09T20:33:26.886Z"
   },
   {
    "duration": 9,
    "start_time": "2023-11-09T20:33:28.224Z"
   },
   {
    "duration": 5778,
    "start_time": "2023-11-09T20:33:29.740Z"
   },
   {
    "duration": 56460,
    "start_time": "2023-11-09T20:33:41.767Z"
   },
   {
    "duration": 56527,
    "start_time": "2023-11-09T20:36:06.988Z"
   },
   {
    "duration": 6310,
    "start_time": "2023-11-09T21:35:18.873Z"
   },
   {
    "duration": 1186,
    "start_time": "2023-11-09T21:35:25.185Z"
   },
   {
    "duration": 3,
    "start_time": "2023-11-09T21:35:26.373Z"
   },
   {
    "duration": 11,
    "start_time": "2023-11-09T21:35:26.377Z"
   },
   {
    "duration": 3,
    "start_time": "2023-11-09T21:35:26.390Z"
   },
   {
    "duration": 4656,
    "start_time": "2023-11-09T21:42:10.536Z"
   },
   {
    "duration": 1107,
    "start_time": "2023-11-09T21:42:15.194Z"
   },
   {
    "duration": 12,
    "start_time": "2023-11-09T21:42:16.303Z"
   },
   {
    "duration": 7,
    "start_time": "2023-11-09T21:42:16.323Z"
   },
   {
    "duration": 11,
    "start_time": "2023-11-09T21:42:16.335Z"
   },
   {
    "duration": 871462,
    "start_time": "2023-11-09T21:42:16.348Z"
   },
   {
    "duration": 0,
    "start_time": "2023-11-09T21:56:47.813Z"
   },
   {
    "duration": 0,
    "start_time": "2023-11-09T21:56:47.824Z"
   },
   {
    "duration": 0,
    "start_time": "2023-11-09T21:56:47.828Z"
   },
   {
    "duration": 0,
    "start_time": "2023-11-09T21:56:47.832Z"
   },
   {
    "duration": 0,
    "start_time": "2023-11-09T21:56:47.836Z"
   },
   {
    "duration": 0,
    "start_time": "2023-11-09T21:56:47.840Z"
   },
   {
    "duration": 0,
    "start_time": "2023-11-09T21:56:47.842Z"
   },
   {
    "duration": 0,
    "start_time": "2023-11-09T21:56:47.847Z"
   },
   {
    "duration": 0,
    "start_time": "2023-11-09T21:56:47.848Z"
   },
   {
    "duration": 0,
    "start_time": "2023-11-09T21:56:47.850Z"
   },
   {
    "duration": 0,
    "start_time": "2023-11-09T21:56:47.852Z"
   },
   {
    "duration": 0,
    "start_time": "2023-11-09T21:56:47.854Z"
   },
   {
    "duration": 0,
    "start_time": "2023-11-09T21:56:47.855Z"
   },
   {
    "duration": 0,
    "start_time": "2023-11-09T21:56:47.856Z"
   },
   {
    "duration": 0,
    "start_time": "2023-11-09T21:56:47.858Z"
   },
   {
    "duration": 6565,
    "start_time": "2023-11-09T21:59:41.233Z"
   },
   {
    "duration": 1143,
    "start_time": "2023-11-09T21:59:47.800Z"
   },
   {
    "duration": 176,
    "start_time": "2023-11-09T21:59:48.948Z"
   },
   {
    "duration": 5,
    "start_time": "2023-11-09T21:59:49.130Z"
   },
   {
    "duration": 621806,
    "start_time": "2023-11-09T21:59:49.137Z"
   },
   {
    "duration": 8,
    "start_time": "2023-11-09T22:10:10.945Z"
   },
   {
    "duration": 22,
    "start_time": "2023-11-09T22:10:10.955Z"
   },
   {
    "duration": 319,
    "start_time": "2023-11-09T22:10:10.979Z"
   },
   {
    "duration": 18,
    "start_time": "2023-11-09T22:10:11.300Z"
   },
   {
    "duration": 3774,
    "start_time": "2023-11-09T22:10:11.322Z"
   },
   {
    "duration": 3,
    "start_time": "2023-11-09T22:10:15.098Z"
   },
   {
    "duration": 39,
    "start_time": "2023-11-09T22:10:15.102Z"
   },
   {
    "duration": 17,
    "start_time": "2023-11-09T22:10:15.144Z"
   },
   {
    "duration": 116,
    "start_time": "2023-11-09T22:10:15.163Z"
   },
   {
    "duration": 6,
    "start_time": "2023-11-09T22:10:15.281Z"
   },
   {
    "duration": 7169,
    "start_time": "2023-11-09T22:10:15.289Z"
   },
   {
    "duration": 62083,
    "start_time": "2023-11-09T22:10:22.460Z"
   },
   {
    "duration": 91897,
    "start_time": "2023-11-09T22:11:24.545Z"
   },
   {
    "duration": 78272,
    "start_time": "2023-11-09T22:12:56.445Z"
   },
   {
    "duration": 15,
    "start_time": "2023-11-09T22:14:14.719Z"
   },
   {
    "duration": 3,
    "start_time": "2023-11-09T22:14:14.739Z"
   },
   {
    "duration": 33731,
    "start_time": "2023-11-09T22:15:29.602Z"
   },
   {
    "duration": 58966,
    "start_time": "2023-11-09T22:16:12.864Z"
   },
   {
    "duration": 50801,
    "start_time": "2023-11-09T22:24:32.320Z"
   },
   {
    "duration": 122,
    "start_time": "2023-11-09T22:29:43.640Z"
   },
   {
    "duration": 8,
    "start_time": "2023-11-09T22:29:44.350Z"
   },
   {
    "duration": 7513,
    "start_time": "2023-11-09T22:29:45.614Z"
   },
   {
    "duration": 48188,
    "start_time": "2023-11-09T22:29:53.132Z"
   },
   {
    "duration": 49249,
    "start_time": "2023-11-09T22:32:35.575Z"
   },
   {
    "duration": 151,
    "start_time": "2023-11-09T22:34:21.408Z"
   },
   {
    "duration": 42,
    "start_time": "2023-11-09T22:34:28.914Z"
   },
   {
    "duration": 94,
    "start_time": "2023-11-09T22:34:36.430Z"
   },
   {
    "duration": 7345,
    "start_time": "2023-11-09T22:34:38.130Z"
   },
   {
    "duration": 38278,
    "start_time": "2023-11-09T22:34:47.286Z"
   },
   {
    "duration": 37914,
    "start_time": "2023-11-09T22:36:03.937Z"
   },
   {
    "duration": 81,
    "start_time": "2023-11-09T22:36:59.858Z"
   },
   {
    "duration": 115,
    "start_time": "2023-11-09T22:37:10.667Z"
   },
   {
    "duration": 7311,
    "start_time": "2023-11-09T22:37:13.772Z"
   },
   {
    "duration": 47666,
    "start_time": "2023-11-09T22:37:21.085Z"
   },
   {
    "duration": 46379,
    "start_time": "2023-11-09T22:40:04.856Z"
   },
   {
    "duration": 49019,
    "start_time": "2023-11-09T22:41:51.602Z"
   },
   {
    "duration": 46896,
    "start_time": "2023-11-09T22:43:07.724Z"
   },
   {
    "duration": 50261,
    "start_time": "2023-11-09T22:44:08.675Z"
   },
   {
    "duration": 47492,
    "start_time": "2023-11-09T22:45:09.227Z"
   },
   {
    "duration": 42946,
    "start_time": "2023-11-09T22:46:12.373Z"
   },
   {
    "duration": 142,
    "start_time": "2023-11-09T22:47:40.293Z"
   },
   {
    "duration": 101,
    "start_time": "2023-11-09T22:47:51.761Z"
   },
   {
    "duration": 106,
    "start_time": "2023-11-09T22:48:05.026Z"
   },
   {
    "duration": 7441,
    "start_time": "2023-11-09T22:48:08.345Z"
   },
   {
    "duration": 38239,
    "start_time": "2023-11-09T22:48:15.788Z"
   },
   {
    "duration": 35984,
    "start_time": "2023-11-09T22:49:20.559Z"
   },
   {
    "duration": 287579,
    "start_time": "2023-11-09T22:50:19.695Z"
   },
   {
    "duration": 93186,
    "start_time": "2023-11-09T22:55:07.277Z"
   },
   {
    "duration": 10,
    "start_time": "2023-11-09T22:56:40.465Z"
   },
   {
    "duration": 35689,
    "start_time": "2023-11-09T22:56:40.477Z"
   },
   {
    "duration": 5056,
    "start_time": "2023-11-10T06:58:26.387Z"
   },
   {
    "duration": 2595,
    "start_time": "2023-11-10T06:58:34.787Z"
   },
   {
    "duration": 102,
    "start_time": "2023-11-10T06:59:52.386Z"
   },
   {
    "duration": 10,
    "start_time": "2023-11-10T07:01:44.835Z"
   },
   {
    "duration": 135,
    "start_time": "2023-11-10T07:04:04.207Z"
   },
   {
    "duration": 1174,
    "start_time": "2023-11-10T07:04:45.444Z"
   },
   {
    "duration": 12,
    "start_time": "2023-11-10T07:05:03.576Z"
   },
   {
    "duration": 16,
    "start_time": "2023-11-10T07:06:06.949Z"
   },
   {
    "duration": 1008,
    "start_time": "2023-11-10T07:06:20.517Z"
   },
   {
    "duration": 115,
    "start_time": "2023-11-10T07:06:47.721Z"
   },
   {
    "duration": 687,
    "start_time": "2023-11-10T07:10:04.134Z"
   },
   {
    "duration": 5,
    "start_time": "2023-11-10T07:10:08.206Z"
   },
   {
    "duration": 366,
    "start_time": "2023-11-10T07:14:52.625Z"
   },
   {
    "duration": 96,
    "start_time": "2023-11-10T07:16:02.158Z"
   },
   {
    "duration": 5706,
    "start_time": "2023-11-10T07:16:17.482Z"
   },
   {
    "duration": 4820,
    "start_time": "2023-11-10T07:16:42.610Z"
   },
   {
    "duration": 1060,
    "start_time": "2023-11-10T07:16:47.433Z"
   },
   {
    "duration": 148,
    "start_time": "2023-11-10T07:16:49.914Z"
   },
   {
    "duration": 156,
    "start_time": "2023-11-10T07:16:53.214Z"
   },
   {
    "duration": 3,
    "start_time": "2023-11-10T07:16:54.397Z"
   },
   {
    "duration": 879454,
    "start_time": "2023-11-10T07:17:02.502Z"
   },
   {
    "duration": 2128,
    "start_time": "2023-11-10T07:57:53.752Z"
   },
   {
    "duration": 1085,
    "start_time": "2023-11-10T07:58:00.787Z"
   },
   {
    "duration": 165,
    "start_time": "2023-11-10T07:58:09.550Z"
   },
   {
    "duration": 125,
    "start_time": "2023-11-10T08:00:02.481Z"
   },
   {
    "duration": 171,
    "start_time": "2023-11-10T08:01:00.398Z"
   },
   {
    "duration": 4,
    "start_time": "2023-11-10T08:01:03.529Z"
   },
   {
    "duration": 572623,
    "start_time": "2023-11-10T08:01:05.726Z"
   },
   {
    "duration": 4,
    "start_time": "2023-11-10T08:15:43.208Z"
   },
   {
    "duration": 3,
    "start_time": "2023-11-10T08:15:47.508Z"
   },
   {
    "duration": 7,
    "start_time": "2023-11-10T08:15:50.978Z"
   },
   {
    "duration": 290,
    "start_time": "2023-11-10T08:15:54.414Z"
   },
   {
    "duration": 3,
    "start_time": "2023-11-10T08:15:58.856Z"
   },
   {
    "duration": 3273,
    "start_time": "2023-11-10T08:16:01.421Z"
   },
   {
    "duration": 88,
    "start_time": "2023-11-10T08:18:04.812Z"
   },
   {
    "duration": 145,
    "start_time": "2023-11-10T08:18:12.475Z"
   },
   {
    "duration": 4,
    "start_time": "2023-11-10T08:18:18.423Z"
   },
   {
    "duration": 4,
    "start_time": "2023-11-10T08:18:19.748Z"
   },
   {
    "duration": 4,
    "start_time": "2023-11-10T08:18:20.281Z"
   },
   {
    "duration": 72,
    "start_time": "2023-11-10T08:18:20.895Z"
   },
   {
    "duration": 108,
    "start_time": "2023-11-10T08:18:58.290Z"
   },
   {
    "duration": 8,
    "start_time": "2023-11-10T08:19:06.977Z"
   },
   {
    "duration": 6997,
    "start_time": "2023-11-10T08:27:58.697Z"
   },
   {
    "duration": 90,
    "start_time": "2023-11-10T08:40:39.259Z"
   },
   {
    "duration": 91,
    "start_time": "2023-11-10T11:13:26.298Z"
   },
   {
    "duration": 91,
    "start_time": "2023-11-10T11:13:42.811Z"
   },
   {
    "duration": 8,
    "start_time": "2023-11-10T11:13:45.946Z"
   },
   {
    "duration": 6,
    "start_time": "2023-11-10T11:15:10.219Z"
   },
   {
    "duration": 8232,
    "start_time": "2023-11-10T11:32:26.798Z"
   },
   {
    "duration": 17,
    "start_time": "2023-11-10T11:44:33.456Z"
   },
   {
    "duration": 22293,
    "start_time": "2023-11-10T11:47:10.998Z"
   },
   {
    "duration": 1,
    "start_time": "2023-11-10T11:58:36.373Z"
   },
   {
    "duration": 7,
    "start_time": "2023-11-10T12:02:49.738Z"
   },
   {
    "duration": 15,
    "start_time": "2023-11-10T12:04:19.646Z"
   },
   {
    "duration": 5,
    "start_time": "2023-11-10T12:08:41.187Z"
   },
   {
    "duration": 2,
    "start_time": "2023-11-10T12:08:50.714Z"
   },
   {
    "duration": 15,
    "start_time": "2023-11-10T12:09:24.758Z"
   },
   {
    "duration": 3,
    "start_time": "2023-11-10T12:11:20.337Z"
   },
   {
    "duration": 16,
    "start_time": "2023-11-10T12:11:32.532Z"
   },
   {
    "duration": 14,
    "start_time": "2023-11-10T12:11:57.733Z"
   },
   {
    "duration": 349919,
    "start_time": "2023-11-10T12:13:04.749Z"
   },
   {
    "duration": 286153,
    "start_time": "2023-11-10T12:19:35.429Z"
   },
   {
    "duration": 639376,
    "start_time": "2023-11-10T12:24:58.051Z"
   },
   {
    "duration": 250,
    "start_time": "2023-11-10T12:44:37.947Z"
   },
   {
    "duration": 14,
    "start_time": "2023-11-10T12:47:57.687Z"
   },
   {
    "duration": 3,
    "start_time": "2023-11-10T12:50:26.036Z"
   },
   {
    "duration": 19,
    "start_time": "2023-11-10T12:54:18.838Z"
   },
   {
    "duration": 292,
    "start_time": "2023-11-10T12:55:23.398Z"
   },
   {
    "duration": 77,
    "start_time": "2023-11-10T12:58:52.926Z"
   },
   {
    "duration": 43,
    "start_time": "2023-11-10T12:59:11.126Z"
   },
   {
    "duration": 161440,
    "start_time": "2023-11-10T13:05:07.400Z"
   },
   {
    "duration": 715104,
    "start_time": "2023-11-10T13:07:53.582Z"
   },
   {
    "duration": 1795,
    "start_time": "2023-11-10T13:25:31.921Z"
   },
   {
    "duration": 1895,
    "start_time": "2023-11-10T13:57:13.598Z"
   },
   {
    "duration": 1100,
    "start_time": "2023-11-10T13:57:15.495Z"
   },
   {
    "duration": 9,
    "start_time": "2023-11-10T13:57:16.596Z"
   },
   {
    "duration": 164,
    "start_time": "2023-11-10T13:57:16.607Z"
   },
   {
    "duration": 149,
    "start_time": "2023-11-10T13:57:16.772Z"
   },
   {
    "duration": 4,
    "start_time": "2023-11-10T13:57:16.923Z"
   },
   {
    "duration": 543709,
    "start_time": "2023-11-10T13:57:16.928Z"
   },
   {
    "duration": 2,
    "start_time": "2023-11-10T14:06:20.647Z"
   },
   {
    "duration": 24,
    "start_time": "2023-11-10T14:06:20.651Z"
   },
   {
    "duration": 25,
    "start_time": "2023-11-10T14:06:20.678Z"
   },
   {
    "duration": 294,
    "start_time": "2023-11-10T14:06:20.706Z"
   },
   {
    "duration": 4,
    "start_time": "2023-11-10T14:06:21.002Z"
   },
   {
    "duration": 3048,
    "start_time": "2023-11-10T14:06:21.007Z"
   },
   {
    "duration": 3,
    "start_time": "2023-11-10T14:06:24.056Z"
   },
   {
    "duration": 9,
    "start_time": "2023-11-10T14:06:24.061Z"
   },
   {
    "duration": 5,
    "start_time": "2023-11-10T14:06:24.072Z"
   },
   {
    "duration": 86,
    "start_time": "2023-11-10T14:06:24.079Z"
   },
   {
    "duration": 4,
    "start_time": "2023-11-10T14:06:24.167Z"
   },
   {
    "duration": 3,
    "start_time": "2023-11-10T14:06:24.173Z"
   },
   {
    "duration": 6,
    "start_time": "2023-11-10T14:06:24.178Z"
   },
   {
    "duration": 625857,
    "start_time": "2023-11-10T14:06:24.185Z"
   },
   {
    "duration": 2,
    "start_time": "2023-11-10T14:16:50.048Z"
   },
   {
    "duration": 933139,
    "start_time": "2023-11-10T14:16:50.053Z"
   },
   {
    "duration": 1,
    "start_time": "2023-11-10T14:32:23.194Z"
   },
   {
    "duration": 0,
    "start_time": "2023-11-10T14:32:23.196Z"
   },
   {
    "duration": 0,
    "start_time": "2023-11-10T14:32:23.197Z"
   },
   {
    "duration": 0,
    "start_time": "2023-11-10T14:32:23.198Z"
   },
   {
    "duration": 356964,
    "start_time": "2023-11-10T14:32:27.889Z"
   },
   {
    "duration": 5002,
    "start_time": "2023-11-10T14:39:41.175Z"
   },
   {
    "duration": 5815,
    "start_time": "2023-11-10T14:39:46.248Z"
   },
   {
    "duration": 83,
    "start_time": "2023-11-10T14:39:52.066Z"
   },
   {
    "duration": 615,
    "start_time": "2023-11-10T14:39:52.151Z"
   },
   {
    "duration": 479,
    "start_time": "2023-11-10T14:39:52.768Z"
   },
   {
    "duration": 5,
    "start_time": "2023-11-10T14:39:53.250Z"
   },
   {
    "duration": 583944,
    "start_time": "2023-11-10T14:39:53.257Z"
   },
   {
    "duration": 2,
    "start_time": "2023-11-10T14:49:37.203Z"
   },
   {
    "duration": 5,
    "start_time": "2023-11-10T14:49:37.207Z"
   },
   {
    "duration": 11,
    "start_time": "2023-11-10T14:49:37.213Z"
   },
   {
    "duration": 292,
    "start_time": "2023-11-10T14:49:37.226Z"
   },
   {
    "duration": 6,
    "start_time": "2023-11-10T14:49:37.520Z"
   },
   {
    "duration": 3129,
    "start_time": "2023-11-10T14:49:37.528Z"
   },
   {
    "duration": 3,
    "start_time": "2023-11-10T14:49:40.660Z"
   },
   {
    "duration": 12,
    "start_time": "2023-11-10T14:49:40.664Z"
   },
   {
    "duration": 5,
    "start_time": "2023-11-10T14:49:40.678Z"
   },
   {
    "duration": 77,
    "start_time": "2023-11-10T14:49:40.684Z"
   },
   {
    "duration": 5,
    "start_time": "2023-11-10T14:49:40.763Z"
   },
   {
    "duration": 25,
    "start_time": "2023-11-10T14:49:40.770Z"
   },
   {
    "duration": 7,
    "start_time": "2023-11-10T14:49:40.797Z"
   },
   {
    "duration": 635962,
    "start_time": "2023-11-10T14:49:40.805Z"
   },
   {
    "duration": 2,
    "start_time": "2023-11-10T15:00:16.768Z"
   },
   {
    "duration": 59367,
    "start_time": "2023-11-10T15:00:16.772Z"
   },
   {
    "duration": 0,
    "start_time": "2023-11-10T15:01:16.141Z"
   },
   {
    "duration": 0,
    "start_time": "2023-11-10T15:01:16.142Z"
   },
   {
    "duration": 0,
    "start_time": "2023-11-10T15:01:16.144Z"
   },
   {
    "duration": 0,
    "start_time": "2023-11-10T15:01:16.147Z"
   },
   {
    "duration": 1940,
    "start_time": "2023-11-12T12:33:42.601Z"
   },
   {
    "duration": 3405,
    "start_time": "2023-11-12T12:33:44.543Z"
   },
   {
    "duration": 8,
    "start_time": "2023-11-12T12:33:47.950Z"
   },
   {
    "duration": 141,
    "start_time": "2023-11-12T12:33:47.960Z"
   },
   {
    "duration": 642,
    "start_time": "2023-11-12T12:33:48.103Z"
   },
   {
    "duration": 4,
    "start_time": "2023-11-12T12:33:48.747Z"
   },
   {
    "duration": 540163,
    "start_time": "2023-11-12T12:33:48.752Z"
   },
   {
    "duration": 4,
    "start_time": "2023-11-12T12:42:48.917Z"
   },
   {
    "duration": 20,
    "start_time": "2023-11-12T12:42:48.923Z"
   },
   {
    "duration": 8,
    "start_time": "2023-11-12T12:42:48.947Z"
   },
   {
    "duration": 300,
    "start_time": "2023-11-12T12:42:48.956Z"
   },
   {
    "duration": 6,
    "start_time": "2023-11-12T12:42:49.258Z"
   },
   {
    "duration": 3266,
    "start_time": "2023-11-12T12:42:49.266Z"
   },
   {
    "duration": 3,
    "start_time": "2023-11-12T12:42:52.536Z"
   },
   {
    "duration": 25,
    "start_time": "2023-11-12T12:42:52.541Z"
   },
   {
    "duration": 31,
    "start_time": "2023-11-12T12:42:52.571Z"
   },
   {
    "duration": 95,
    "start_time": "2023-11-12T12:42:52.604Z"
   },
   {
    "duration": 5,
    "start_time": "2023-11-12T12:42:52.701Z"
   },
   {
    "duration": 4,
    "start_time": "2023-11-12T12:42:52.708Z"
   },
   {
    "duration": 5,
    "start_time": "2023-11-12T12:42:52.713Z"
   },
   {
    "duration": 74,
    "start_time": "2023-11-13T10:34:29.125Z"
   },
   {
    "duration": 1614,
    "start_time": "2023-11-27T20:18:05.661Z"
   },
   {
    "duration": 3375,
    "start_time": "2023-11-27T20:18:09.091Z"
   },
   {
    "duration": 8,
    "start_time": "2023-11-27T20:18:17.404Z"
   }
  ],
  "kernelspec": {
   "display_name": "Python 3 (ipykernel)",
   "language": "python",
   "name": "python3"
  },
  "language_info": {
   "codemirror_mode": {
    "name": "ipython",
    "version": 3
   },
   "file_extension": ".py",
   "mimetype": "text/x-python",
   "name": "python",
   "nbconvert_exporter": "python",
   "pygments_lexer": "ipython3",
   "version": "3.9.5"
  },
  "toc": {
   "base_numbering": 1,
   "nav_menu": {},
   "number_sections": true,
   "sideBar": true,
   "skip_h1_title": true,
   "title_cell": "Содержание",
   "title_sidebar": "Contents",
   "toc_cell": true,
   "toc_position": {
    "height": "calc(100% - 180px)",
    "left": "10px",
    "top": "150px",
    "width": "302.391px"
   },
   "toc_section_display": true,
   "toc_window_display": true
  }
 },
 "nbformat": 4,
 "nbformat_minor": 2
}
