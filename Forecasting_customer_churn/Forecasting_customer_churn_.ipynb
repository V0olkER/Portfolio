{
 "cells": [
  {
   "cell_type": "markdown",
   "id": "682a0e73",
   "metadata": {},
   "source": [
    "**Содержание**<a id='toc0_'></a>    \n",
    "- [**Проект: Телекоммуникации. Прогнозирование оттока клиентов с помощью машинного обучения.**](#toc1_)    \n",
    "  - [Библиотеки](#toc1_1_)    \n",
    "  - [Загрузка и изучение датасетов.](#toc1_2_)    \n",
    "        - [Загрузка](#toc1_2_1_1_1_)    \n",
    "        - [О датасете contract](#toc1_2_1_1_2_)    \n",
    "        - [О датасете personal](#toc1_2_1_1_3_)    \n",
    "        - [О датасете internet](#toc1_2_1_1_4_)    \n",
    "        - [О датасете phone](#toc1_2_1_1_5_)    \n",
    "  - [Объединение данных](#toc1_3_)    \n",
    "  - [Работа с пропусками](#toc1_4_)    \n",
    "  - [Преобразование данных и создание признаков.](#toc1_5_)    \n",
    "  - [Анализ](#toc1_6_)    \n",
    "  - [Подготовка данных](#toc1_7_)    \n",
    "  - [LGBM](#toc1_8_)    \n",
    "  - [CatBoost](#toc1_9_)    \n",
    "  - [Тестирование](#toc1_10_)    \n",
    "  - [Важность признаков и матрица ошибок](#toc1_11_)    \n",
    "  - [Вывод](#toc1_12_)    \n",
    "\n",
    "<!-- vscode-jupyter-toc-config\n",
    "\tnumbering=false\n",
    "\tanchor=true\n",
    "\tflat=false\n",
    "\tminLevel=1\n",
    "\tmaxLevel=6\n",
    "\t/vscode-jupyter-toc-config -->\n",
    "<!-- THIS CELL WILL BE REPLACED ON TOC UPDATE. DO NOT WRITE YOUR TEXT IN THIS CELL -->\n"
   ]
  },
  {
   "cell_type": "markdown",
   "id": "fd0b82b5",
   "metadata": {},
   "source": [
    "# <a id='toc1_'></a>[**Проект: Телекоммуникации. Прогнозирование оттока клиентов с помощью машинного обучения.**](#toc0_)"
   ]
  },
  {
   "cell_type": "markdown",
   "id": "e95b15a4",
   "metadata": {},
   "source": [
    "**ТЗ:**  Оператор связи хочет бороться с оттоком клиентов. Для этого его сотрудники начнут предлагать промокоды и специальные условия всем, кто планирует отказаться от услуг связи. Чтобы заранее находить таких пользователей, компании нужна модель, которая будет предсказывать, разорвёт ли абонент договор. Команда оператора собрала персональные данные о некоторых клиентах, информацию об их тарифах и услугах. Задача — обучить на этих данных модель для прогноза оттока клиентов."
   ]
  },
  {
   "cell_type": "markdown",
   "id": "4f9393b9",
   "metadata": {},
   "source": [
    "**Описание услуг**\n",
    "\n",
    "Оператор предоставляет два основных типа услуг:\n",
    "\n",
    "- Стационарную телефонную связь. Телефон можно подключить к нескольким линиям одновременно.\n",
    "- Интернет. Подключение может быть двух типов: через телефонную линию (DSL, от англ. digital subscriber line — «цифровая абонентская линия») или оптоволоконный кабель (Fiber optic).\n",
    "\n",
    "Также доступны такие услуги:\n",
    "\n",
    "- Интернет-безопасность: антивирус (DeviceProtection) и блокировка небезопасных сайтов (OnlineSecurity);\n",
    "- Выделенная линия технической поддержки (TechSupport);\n",
    "- Облачное хранилище файлов для резервного копирования данных (OnlineBackup);\n",
    "- Стриминговое телевидение (StreamingTV) и каталог фильмов (StreamingMovies).\n",
    "\n",
    "*Клиенты могут платить за услуги каждый месяц или заключить договор на 1–2 года. Возможно оплатить счёт разными способами, а также получить электронный чек.*\n",
    "\n",
    "**Описание данных**\n",
    "\n",
    "*Данные состоят из нескольких файлов, полученных из разных источников:*\n",
    "\n",
    "- contract_new.csv — информация о договоре;\n",
    "- personal_new.csv — персональные данные клиента;\n",
    "- internet_new.csv — информация об интернет-услугах;\n",
    "- phone_new.csv — информация об услугах телефонии.\n",
    "\n",
    "**Метрика** - ROC AUC >= 0.85"
   ]
  },
  {
   "cell_type": "markdown",
   "id": "452b572a",
   "metadata": {},
   "source": [
    "## <a id='toc1_1_'></a>[Библиотеки](#toc0_)"
   ]
  },
  {
   "cell_type": "code",
   "execution_count": 1,
   "id": "907ad450",
   "metadata": {},
   "outputs": [],
   "source": [
    "import pandas as pd\n",
    "import numpy as np\n",
    "import matplotlib.pyplot as plt\n",
    "import seaborn as sns\n",
    "from sklearn.model_selection import train_test_split\n",
    "from lightgbm import LGBMClassifier\n",
    "from catboost import CatBoostClassifier\n",
    "from sklearn.metrics import roc_auc_score\n",
    "from sklearn.model_selection import GridSearchCV\n",
    "from sklearn.ensemble import RandomForestClassifier\n",
    "from sklearn.metrics import confusion_matrix\n",
    "\n",
    "RANDOM_STATE = 201123"
   ]
  },
  {
   "cell_type": "markdown",
   "id": "7f2328eb",
   "metadata": {},
   "source": [
    "## <a id='toc1_2_'></a>[Загрузка и изучение датасетов.](#toc0_)"
   ]
  },
  {
   "cell_type": "markdown",
   "id": "7de457d1",
   "metadata": {},
   "source": [
    "##### <a id='toc1_2_1_1_1_'></a>[Загрузка](#toc0_)"
   ]
  },
  {
   "cell_type": "code",
   "execution_count": 2,
   "id": "c65060ac",
   "metadata": {},
   "outputs": [],
   "source": [
    "try:\n",
    "    contract = pd.read_csv(r'C:\\Users\\Admin\\Downloads\\contract_new.csv')\n",
    "    personal = pd.read_csv(r'C:\\Users\\Admin\\Downloads\\personal_new.csv')\n",
    "    internet = pd.read_csv(r'C:\\Users\\Admin\\Downloads\\internet_new.csv')\n",
    "    phone = pd.read_csv(r'C:\\Users\\Admin\\Downloads\\phone_new.csv')\n",
    "except:\n",
    "    contract = pd.read_csv('/datasets/contract_new.csv')\n",
    "    personal = pd.read_csv('/datasets/personal_new.csv')\n",
    "    internet = pd.read_csv('/datasets/internet_new.csv')\n",
    "    phone = pd.read_csv('/datasets/phone_new.csv')"
   ]
  },
  {
   "cell_type": "markdown",
   "id": "013eaffc",
   "metadata": {},
   "source": [
    "##### <a id='toc1_2_1_1_2_'></a>[О датасете contract](#toc0_)"
   ]
  },
  {
   "cell_type": "code",
   "execution_count": 3,
   "id": "f89a9e0e",
   "metadata": {},
   "outputs": [
    {
     "name": "stdout",
     "output_type": "stream",
     "text": [
      "Датасет - информация о договоре (contract)\n",
      "\n",
      "<class 'pandas.core.frame.DataFrame'>\n",
      "RangeIndex: 7043 entries, 0 to 7042\n",
      "Data columns (total 8 columns):\n",
      " #   Column            Non-Null Count  Dtype  \n",
      "---  ------            --------------  -----  \n",
      " 0   customerID        7043 non-null   object \n",
      " 1   BeginDate         7043 non-null   object \n",
      " 2   EndDate           7043 non-null   object \n",
      " 3   Type              7043 non-null   object \n",
      " 4   PaperlessBilling  7043 non-null   object \n",
      " 5   PaymentMethod     7043 non-null   object \n",
      " 6   MonthlyCharges    7043 non-null   float64\n",
      " 7   TotalCharges      7043 non-null   object \n",
      "dtypes: float64(1), object(7)\n",
      "memory usage: 440.3+ KB\n",
      "None\n",
      "\n",
      "Отображение первых 10 строк датасета\n",
      "\n"
     ]
    },
    {
     "data": {
      "text/html": [
       "<div>\n",
       "<style scoped>\n",
       "    .dataframe tbody tr th:only-of-type {\n",
       "        vertical-align: middle;\n",
       "    }\n",
       "\n",
       "    .dataframe tbody tr th {\n",
       "        vertical-align: top;\n",
       "    }\n",
       "\n",
       "    .dataframe thead th {\n",
       "        text-align: right;\n",
       "    }\n",
       "</style>\n",
       "<table border=\"1\" class=\"dataframe\">\n",
       "  <thead>\n",
       "    <tr style=\"text-align: right;\">\n",
       "      <th></th>\n",
       "      <th>customerID</th>\n",
       "      <th>BeginDate</th>\n",
       "      <th>EndDate</th>\n",
       "      <th>Type</th>\n",
       "      <th>PaperlessBilling</th>\n",
       "      <th>PaymentMethod</th>\n",
       "      <th>MonthlyCharges</th>\n",
       "      <th>TotalCharges</th>\n",
       "    </tr>\n",
       "  </thead>\n",
       "  <tbody>\n",
       "    <tr>\n",
       "      <th>0</th>\n",
       "      <td>7590-VHVEG</td>\n",
       "      <td>2020-01-01</td>\n",
       "      <td>No</td>\n",
       "      <td>Month-to-month</td>\n",
       "      <td>Yes</td>\n",
       "      <td>Electronic check</td>\n",
       "      <td>29.85</td>\n",
       "      <td>31.04</td>\n",
       "    </tr>\n",
       "    <tr>\n",
       "      <th>1</th>\n",
       "      <td>5575-GNVDE</td>\n",
       "      <td>2017-04-01</td>\n",
       "      <td>No</td>\n",
       "      <td>One year</td>\n",
       "      <td>No</td>\n",
       "      <td>Mailed check</td>\n",
       "      <td>56.95</td>\n",
       "      <td>2071.84</td>\n",
       "    </tr>\n",
       "    <tr>\n",
       "      <th>2</th>\n",
       "      <td>3668-QPYBK</td>\n",
       "      <td>2019-10-01</td>\n",
       "      <td>No</td>\n",
       "      <td>Month-to-month</td>\n",
       "      <td>Yes</td>\n",
       "      <td>Mailed check</td>\n",
       "      <td>53.85</td>\n",
       "      <td>226.17</td>\n",
       "    </tr>\n",
       "    <tr>\n",
       "      <th>3</th>\n",
       "      <td>7795-CFOCW</td>\n",
       "      <td>2016-05-01</td>\n",
       "      <td>No</td>\n",
       "      <td>One year</td>\n",
       "      <td>No</td>\n",
       "      <td>Bank transfer (automatic)</td>\n",
       "      <td>42.30</td>\n",
       "      <td>1960.6</td>\n",
       "    </tr>\n",
       "    <tr>\n",
       "      <th>4</th>\n",
       "      <td>9237-HQITU</td>\n",
       "      <td>2019-09-01</td>\n",
       "      <td>No</td>\n",
       "      <td>Month-to-month</td>\n",
       "      <td>Yes</td>\n",
       "      <td>Electronic check</td>\n",
       "      <td>70.70</td>\n",
       "      <td>353.5</td>\n",
       "    </tr>\n",
       "    <tr>\n",
       "      <th>5</th>\n",
       "      <td>9305-CDSKC</td>\n",
       "      <td>2019-03-01</td>\n",
       "      <td>No</td>\n",
       "      <td>Month-to-month</td>\n",
       "      <td>Yes</td>\n",
       "      <td>Electronic check</td>\n",
       "      <td>99.65</td>\n",
       "      <td>1150.96</td>\n",
       "    </tr>\n",
       "    <tr>\n",
       "      <th>6</th>\n",
       "      <td>1452-KIOVK</td>\n",
       "      <td>2018-04-01</td>\n",
       "      <td>No</td>\n",
       "      <td>Month-to-month</td>\n",
       "      <td>Yes</td>\n",
       "      <td>Credit card (automatic)</td>\n",
       "      <td>89.10</td>\n",
       "      <td>2058.21</td>\n",
       "    </tr>\n",
       "    <tr>\n",
       "      <th>7</th>\n",
       "      <td>6713-OKOMC</td>\n",
       "      <td>2019-04-01</td>\n",
       "      <td>No</td>\n",
       "      <td>Month-to-month</td>\n",
       "      <td>No</td>\n",
       "      <td>Mailed check</td>\n",
       "      <td>29.75</td>\n",
       "      <td>300.48</td>\n",
       "    </tr>\n",
       "    <tr>\n",
       "      <th>8</th>\n",
       "      <td>7892-POOKP</td>\n",
       "      <td>2017-07-01</td>\n",
       "      <td>No</td>\n",
       "      <td>Month-to-month</td>\n",
       "      <td>Yes</td>\n",
       "      <td>Electronic check</td>\n",
       "      <td>104.80</td>\n",
       "      <td>3573.68</td>\n",
       "    </tr>\n",
       "    <tr>\n",
       "      <th>9</th>\n",
       "      <td>6388-TABGU</td>\n",
       "      <td>2014-12-01</td>\n",
       "      <td>2017-05-01</td>\n",
       "      <td>One year</td>\n",
       "      <td>No</td>\n",
       "      <td>Bank transfer (automatic)</td>\n",
       "      <td>56.15</td>\n",
       "      <td>1628.35</td>\n",
       "    </tr>\n",
       "  </tbody>\n",
       "</table>\n",
       "</div>"
      ],
      "text/plain": [
       "   customerID   BeginDate     EndDate            Type PaperlessBilling  \\\n",
       "0  7590-VHVEG  2020-01-01          No  Month-to-month              Yes   \n",
       "1  5575-GNVDE  2017-04-01          No        One year               No   \n",
       "2  3668-QPYBK  2019-10-01          No  Month-to-month              Yes   \n",
       "3  7795-CFOCW  2016-05-01          No        One year               No   \n",
       "4  9237-HQITU  2019-09-01          No  Month-to-month              Yes   \n",
       "5  9305-CDSKC  2019-03-01          No  Month-to-month              Yes   \n",
       "6  1452-KIOVK  2018-04-01          No  Month-to-month              Yes   \n",
       "7  6713-OKOMC  2019-04-01          No  Month-to-month               No   \n",
       "8  7892-POOKP  2017-07-01          No  Month-to-month              Yes   \n",
       "9  6388-TABGU  2014-12-01  2017-05-01        One year               No   \n",
       "\n",
       "               PaymentMethod  MonthlyCharges TotalCharges  \n",
       "0           Electronic check           29.85        31.04  \n",
       "1               Mailed check           56.95      2071.84  \n",
       "2               Mailed check           53.85       226.17  \n",
       "3  Bank transfer (automatic)           42.30       1960.6  \n",
       "4           Electronic check           70.70        353.5  \n",
       "5           Electronic check           99.65      1150.96  \n",
       "6    Credit card (automatic)           89.10      2058.21  \n",
       "7               Mailed check           29.75       300.48  \n",
       "8           Electronic check          104.80      3573.68  \n",
       "9  Bank transfer (automatic)           56.15      1628.35  "
      ]
     },
     "metadata": {},
     "output_type": "display_data"
    },
    {
     "name": "stdout",
     "output_type": "stream",
     "text": [
      "\n",
      "Пропуски: \n",
      " customerID          0\n",
      "BeginDate           0\n",
      "EndDate             0\n",
      "Type                0\n",
      "PaperlessBilling    0\n",
      "PaymentMethod       0\n",
      "MonthlyCharges      0\n",
      "TotalCharges        0\n",
      "dtype: int64\n",
      "\n",
      "Дубликаты: \n",
      " 0\n"
     ]
    }
   ],
   "source": [
    "print('Датасет - информация о договоре (contract)\\n')\n",
    "print(contract.info())\n",
    "print()\n",
    "print('Отображение первых 10 строк датасета\\n')\n",
    "display(contract.head(10))\n",
    "print()\n",
    "print('Пропуски: \\n', contract.isna().sum())\n",
    "print()\n",
    "print('Дубликаты: \\n', contract.duplicated().sum())"
   ]
  },
  {
   "cell_type": "markdown",
   "id": "04736989",
   "metadata": {},
   "source": [
    "**Сводка по датасету contract:**\n",
    "    \n",
    "    -7043 строки и 8  столбцов:\n",
    "        -customerID — идентификатор абонента;\n",
    "        - BeginDate — дата начала действия договора;\n",
    "        - EndDate — дата окончания действия договора;\n",
    "        - Type — тип оплаты: раз в год-два или ежемесячно;\n",
    "        - PaperlessBilling — электронный расчётный лист;\n",
    "        - PaymentMethod — тип платежа;\n",
    "        - MonthlyCharges — расходы за месяц;\n",
    "        - TotalCharges — общие расходы абонента\n",
    "      \n",
    "- Пропуски и дубликаты отсутсвуют. "
   ]
  },
  {
   "cell_type": "markdown",
   "id": "f9221c11",
   "metadata": {},
   "source": [
    "##### <a id='toc1_2_1_1_3_'></a>[О датасете personal](#toc0_)"
   ]
  },
  {
   "cell_type": "code",
   "execution_count": 4,
   "id": "b2ef11da",
   "metadata": {},
   "outputs": [
    {
     "data": {},
     "metadata": {},
     "output_type": "display_data"
    }
   ],
   "source": [
    "print('Датасет - персональные данные клиента (personal)\\n')\n",
    "print(personal.info())\n",
    "print()\n",
    "print('Отображение первых 10 строк датасета\\n')\n",
    "display(personal.head(10))\n",
    "print()\n",
    "print('Пропуски: \\n', personal.isna().sum())\n",
    "print()\n",
    "print('Дубликаты: \\n', personal.duplicated().sum())"
   ]
  },
  {
   "cell_type": "markdown",
   "id": "3762e67e",
   "metadata": {},
   "source": [
    "**Сводка по датасету personal:**\n",
    "\n",
    "    - 7043 строки и 5 столбцов:\n",
    "        \n",
    "        - customerID — идентификатор пользователя;\n",
    "        - gender — пол;\n",
    "        - SeniorCitizen — является ли абонент пенсионером;\n",
    "        - Partner — есть ли у абонента супруг или супруга;\n",
    "        - Dependents — есть ли у абонента дети.\n",
    "- Пропуски и дубликаты отсутствуют. "
   ]
  },
  {
   "cell_type": "markdown",
   "id": "c67a42f0",
   "metadata": {},
   "source": [
    "##### <a id='toc1_2_1_1_4_'></a>[О датасете internet](#toc0_)"
   ]
  },
  {
   "cell_type": "code",
   "execution_count": 5,
   "id": "5f55eca3",
   "metadata": {},
   "outputs": [
    {
     "data": {},
     "metadata": {},
     "output_type": "display_data"
    }
   ],
   "source": [
    "print('Датасет - информация об интернет-услугах (internet)\\n')\n",
    "print(internet.info())\n",
    "print()\n",
    "print('Отображение первых 10 строк датасета\\n')\n",
    "display(internet.head(10))\n",
    "print()\n",
    "print('Пропуски: \\n', internet.isna().sum())\n",
    "print()\n",
    "print('Дубликаты: \\n', internet.duplicated().sum())"
   ]
  },
  {
   "cell_type": "markdown",
   "id": "02a5f78d",
   "metadata": {},
   "source": [
    "**Сводка по датасету internet:**\n",
    "\n",
    "    - 5517 строк и 8 столбцов:\n",
    "        \n",
    "        - customerID — идентификатор пользователя;\n",
    "        - InternetService — тип подключения;\n",
    "        - OnlineSecurity — блокировка опасных сайтов;\n",
    "        - OnlineBackup — облачное хранилище файлов для резервного копирования данных;\n",
    "        - DeviceProtection — антивирус;\n",
    "        - TechSupport — выделенная линия технической поддержки;\n",
    "        - StreamingTV — стриминговое телевидение;\n",
    "        - StreamingMovies — каталог фильмов.\n",
    "- Пропуски и дубликаты отсутствуют. "
   ]
  },
  {
   "cell_type": "markdown",
   "id": "cfd2b45b",
   "metadata": {},
   "source": [
    "##### <a id='toc1_2_1_1_5_'></a>[О датасете phone](#toc0_)"
   ]
  },
  {
   "cell_type": "code",
   "execution_count": 6,
   "id": "438430b1",
   "metadata": {},
   "outputs": [
    {
     "data": {},
     "metadata": {},
     "output_type": "display_data"
    }
   ],
   "source": [
    "print('Датасет - информация об услугах телефонии (phone)\\n')\n",
    "print(phone.info())\n",
    "print()\n",
    "print('Отображение первых 10 строк датасета\\n')\n",
    "display(phone.head(10))\n",
    "print()\n",
    "print('Пропуски: \\n', phone.isna().sum())\n",
    "print()\n",
    "print('Дубликаты: \\n', phone.duplicated().sum())"
   ]
  },
  {
   "cell_type": "markdown",
   "id": "2d4c1ef6",
   "metadata": {},
   "source": [
    "**Сводка по датасету phone:**\n",
    "\n",
    "    - 6361 строка и 2 столбца:\n",
    "        \n",
    "        - customerID — идентификатор пользователя;\n",
    "        - MultipleLines — подключение телефона к нескольким линиям одновременно.\n",
    "- Пропуски и дубликаты отсутствуют. "
   ]
  },
  {
   "cell_type": "markdown",
   "id": "69a0a006",
   "metadata": {},
   "source": [
    "**Краткий итог по изучению полученных данных:**\n",
    "\n",
    "    - В датасетах отстуствуют дубликаты и пропуски. \n",
    "    - Имеют разную размерность. \n",
    "    - Некоторые столбцы требуют преобразования в подходящий формат. \n",
    "    - Во всех датасетах есть общий столбец customerID - по которому в дальнейшем будет произведено объеденение данных. "
   ]
  },
  {
   "cell_type": "markdown",
   "id": "6e454600",
   "metadata": {},
   "source": [
    "## <a id='toc1_3_'></a>[Объединение данных](#toc0_)"
   ]
  },
  {
   "cell_type": "code",
   "execution_count": 8,
   "id": "61a91c01",
   "metadata": {},
   "outputs": [
    {
     "data": {},
     "metadata": {},
     "output_type": "display_data"
    }
   ],
   "source": [
    "data = (\n",
    "    contract.merge(personal, on = 'customerID', how='inner')\n",
    "    .merge(internet, on = 'customerID', how='outer')\n",
    "    .merge(phone, on = 'customerID', how='outer')\n",
    ")\n",
    "display(data.head(10))\n",
    "data.info()\n",
    "print('Дубликаты:', data.duplicated().sum())"
   ]
  },
  {
   "cell_type": "markdown",
   "id": "197bd60c",
   "metadata": {},
   "source": [
    "- Произвели объединение датасетов в один с помощью метода megre() по столбцу customerID. \n",
    "- Количество строк не изменилось.\n",
    "- После объединения появились пропуски у тех клиентов, которые не пользуются интернетом или телефоном. Дубликатов нет. "
   ]
  },
  {
   "cell_type": "markdown",
   "id": "b00c3b87",
   "metadata": {},
   "source": [
    "## <a id='toc1_4_'></a>[Работа с пропусками](#toc0_)"
   ]
  },
  {
   "cell_type": "code",
   "execution_count": 9,
   "id": "a105ca3b",
   "metadata": {},
   "outputs": [
    {
     "data": {},
     "execution_count": 9,
     "metadata": {},
     "output_type": "execute_result"
    }
   ],
   "source": [
    "data.isna().sum()"
   ]
  },
  {
   "cell_type": "code",
   "execution_count": 10,
   "id": "a6f04ae2",
   "metadata": {},
   "outputs": [],
   "source": [
    "data['MultipleLines'] = data['MultipleLines'].fillna('PH')\n",
    "internet = (['InternetService', 'OnlineSecurity', 'OnlineBackup', \n",
    "             'DeviceProtection', 'TechSupport' ,'StreamingTV', 'StreamingMovies'])\n",
    "data[internet]= data[internet].fillna('WEB') #так короче чем internet \n",
    "data.info()"
   ]
  },
  {
   "cell_type": "markdown",
   "id": "f83a361d",
   "metadata": {},
   "source": [
    "- Замена пропусков в столбце MultipleLines - на PH (PHONE) - только телефония\n",
    "- Замена пропусков с интернет подключением на WEB - только интернет услуги. "
   ]
  },
  {
   "cell_type": "markdown",
   "id": "5422f649",
   "metadata": {},
   "source": [
    "## <a id='toc1_5_'></a>[Преобразование данных и создание признаков.](#toc0_)"
   ]
  },
  {
   "cell_type": "markdown",
   "id": "ca5f2809",
   "metadata": {},
   "source": [
    "Так как у нас стоит задача прогноз оттока клиентов, мы возьем для формирования признака столбец с датой окончания договора. \n",
    "\n",
    "Сформируем признак следующим образом:\n",
    "\n",
    "- если в строк столбца указанно значение \"NO\" - поставим 1, так как это действующий клиент. \n",
    "- если в строке столбца нет значения \"NO\" - ставим 0, т.к. клиент прикратил пользоваться услугами. "
   ]
  },
  {
   "cell_type": "code",
   "execution_count": 11,
   "id": "42da7a05",
   "metadata": {},
   "outputs": [
    {
     "data": {},
     "metadata": {},
     "output_type": "display_data"
    }
   ],
   "source": [
    "data.loc[data['EndDate'] == 'No', 'target'] = 1\n",
    "data.loc[data['EndDate'] != 'No', 'target'] = 0\n",
    "# check\n",
    "display(data.head(10))\n",
    "data.info()"
   ]
  },
  {
   "cell_type": "code",
   "execution_count": 12,
   "id": "ea4b8ac2",
   "metadata": {},
   "outputs": [],
   "source": [
    "data.loc[data['EndDate'] == 'No', 'EndDate'] ='2020-02-01'"
   ]
  },
  {
   "cell_type": "markdown",
   "id": "2cb5d302",
   "metadata": {},
   "source": [
    "Заменили в столбце с датами окончаниями договора, на дату выгрузки данных, указанных в условии задачи. \n",
    "\n",
    "Теперь займемся перевода столбцов в подходящий для них тип данных. "
   ]
  },
  {
   "cell_type": "code",
   "execution_count": 13,
   "id": "04c3b82c",
   "metadata": {},
   "outputs": [],
   "source": [
    "data['target'] = data['target'].astype('int')\n",
    "data['EndDate'] = pd.to_datetime(data['EndDate'], format='%Y-%m-%d')\n",
    "data['BeginDate'] = pd.to_datetime(data['BeginDate'], format='%Y-%m-%d')\n",
    "data['TotalCharges'] = pd.to_numeric(data['TotalCharges'], errors='coerce')\n",
    "data.info()\n",
    "\n"
   ]
  },
  {
   "cell_type": "code",
   "execution_count": 14,
   "id": "818e1f78",
   "metadata": {},
   "outputs": [
    {
     "data": {},
     "execution_count": 14,
     "metadata": {},
     "output_type": "execute_result"
    }
   ],
   "source": [
    "data['TotalCharges'].isna().sum()"
   ]
  },
  {
   "cell_type": "code",
   "execution_count": 15,
   "id": "560217ea",
   "metadata": {},
   "outputs": [],
   "source": [
    "data.dropna(axis=0, inplace=True)\n",
    "data.info()"
   ]
  },
  {
   "cell_type": "code",
   "execution_count": 16,
   "id": "fbfe64b4",
   "metadata": {},
   "outputs": [
    {
     "data": {},
     "execution_count": 16,
     "metadata": {},
     "output_type": "execute_result"
    }
   ],
   "source": [
    "data['TotalCharges'].head()"
   ]
  },
  {
   "cell_type": "markdown",
   "id": "20530ec1",
   "metadata": {},
   "source": [
    "Краткая сводка:\n",
    "\n",
    "    Выделили целевой признак в столбец target\n",
    "    Сделали преобразование данных в нужный формат. Даты привели к датам, целевой признак привели к численному формату. \n",
    "    Преобразовали столбец TotalCharges методом to_numeric в численный формат. Numeric выбран потому что, там не просто целые числа, к тому же там были пропуски. \n",
    "    О пропусках: в столбце TotalCharges - 11 пропусков, так как это не критичное количество данных, решено было их удалить. "
   ]
  },
  {
   "cell_type": "markdown",
   "id": "a3973438",
   "metadata": {},
   "source": [
    "Добавим признак, который будет отображать кол-во дней пользования сервисом. "
   ]
  },
  {
   "cell_type": "code",
   "execution_count": 17,
   "id": "d670b08f",
   "metadata": {},
   "outputs": [
    {
     "data": {},
     "execution_count": 17,
     "metadata": {},
     "output_type": "execute_result"
    }
   ],
   "source": [
    "data['count_day']=(data['EndDate'] - data['BeginDate']).dt.days\n",
    "data.head()"
   ]
  },
  {
   "cell_type": "markdown",
   "id": "87c5700f",
   "metadata": {},
   "source": [
    "Больше столбцы с датами нам не понадобятся, уберем их с датасета. Также уберем customerID. "
   ]
  },
  {
   "cell_type": "code",
   "execution_count": 18,
   "id": "78f2cbb2",
   "metadata": {},
   "outputs": [],
   "source": [
    "data.drop(['EndDate','BeginDate', 'customerID'], axis=1, inplace =True)\n",
    "data.info()"
   ]
  },
  {
   "cell_type": "code",
   "execution_count": 19,
   "id": "0697ff27",
   "metadata": {},
   "outputs": [
    {
     "data": {},
     "execution_count": 19,
     "metadata": {},
     "output_type": "execute_result"
    }
   ],
   "source": [
    "data.duplicated().sum()"
   ]
  },
  {
   "cell_type": "code",
   "execution_count": 20,
   "id": "85c0b388",
   "metadata": {},
   "outputs": [],
   "source": [
    "data = data.drop_duplicates()"
   ]
  },
  {
   "cell_type": "markdown",
   "id": "90854eed",
   "metadata": {},
   "source": [
    "После удаления лишних столбцов - образовались дублирующие строки, мы их удалили. "
   ]
  },
  {
   "cell_type": "markdown",
   "id": "777cd5e4",
   "metadata": {},
   "source": [
    "## <a id='toc1_6_'></a>[Анализ](#toc0_)"
   ]
  },
  {
   "cell_type": "code",
   "execution_count": 21,
   "id": "c24f9e79",
   "metadata": {},
   "outputs": [
    {
     "data": {
      "image/png": "[encoded data removed]"
     },
     "metadata": {},
     "output_type": "display_data"
    },
    {
     "data": {},
     "execution_count": 21,
     "metadata": {},
     "output_type": "execute_result"
    }
   ],
   "source": [
    "# Посмотрим на дисбаланс классов\n",
    "plt.figure(figsize=(6, 4))\n",
    "data['target'].value_counts(normalize=True).plot(kind='barh')\n",
    "plt.xlabel('Доля')\n",
    "plt.ylabel('Класс')\n",
    "plt.title('Баланс классов')\n",
    "plt.yticks([0, 1], ['Действующий', 'Прекращен'])\n",
    "plt.show()\n",
    "data['target'].value_counts(normalize=True)"
   ]
  },
  {
   "cell_type": "markdown",
   "id": "c51db084",
   "metadata": {},
   "source": [
    "Мы видим сильный дисбаланс классов, но по условию ТЗ, наша метрика AUC-ROC - которая устойчива к дисбалансу, поэтому можно оставить данные в таком виде. "
   ]
  },
  {
   "cell_type": "code",
   "execution_count": 22,
   "id": "d8e5708f",
   "metadata": {},
   "outputs": [
    {
     "data": {
      "image/png": "[encoded data removed]"
     },
     "metadata": {},
     "output_type": "display_data"
    }
   ],
   "source": [
    "# Посмотрим расходы за месяц\n",
    "data['MonthlyCharges'].hist(bins=50, figsize=(15,5))\n",
    "plt.title('Расходы за месяц')\n",
    "plt.xlabel('Сумма расходов за месяц')\n",
    "plt.ylabel('Количество значений');"
   ]
  },
  {
   "cell_type": "markdown",
   "id": "d26892a9",
   "metadata": {},
   "source": [
    "На гистограмме отчетливо виден всплекс рассходов на отметке 20. Вероятно, большая часть клиентов использует только базовый пакет предоставления услуг. "
   ]
  },
  {
   "cell_type": "code",
   "execution_count": 23,
   "id": "deec9345",
   "metadata": {},
   "outputs": [
    {
     "data": {
      "image/png": "[encoded data removed]"
     },
     "metadata": {},
     "output_type": "display_data"
    }
   ],
   "source": [
    "# Посмотрим общие расходы \n",
    "data['TotalCharges'].hist(bins=50, figsize=(15,5))\n",
    "plt.title('Общие расходы абонента')\n",
    "plt.xlabel('Сумма расходов')\n",
    "plt.ylabel('Количество значений');"
   ]
  },
  {
   "cell_type": "markdown",
   "id": "30f68bc7",
   "metadata": {},
   "source": [
    "Все логично и подкрепляется гистограммой выше. Что большинство пользователей используют базовые тарифы оплаты. Чем больше расходов ложиться на клиента, тем меньше таких контрактов заключается. \n",
    "\n",
    "а) Не каждый может себе позволить максимальный тариф\n",
    "\n",
    "б) Не требуются продвинутые опции\n",
    "\n",
    "в) Включает и \"а\" и \"б\" пункты вместе"
   ]
  },
  {
   "cell_type": "code",
   "execution_count": 24,
   "id": "aace71fd",
   "metadata": {},
   "outputs": [
    {
     "data": {},
     "execution_count": 24,
     "metadata": {},
     "output_type": "execute_result"
    }
   ],
   "source": [
    "# Выведем все категориальные признаки\n",
    "categorical_columns = data.select_dtypes(include=['object']).columns.tolist()\n",
    "categorical_columns"
   ]
  },
  {
   "cell_type": "code",
   "execution_count": 25,
   "id": "7723eceb",
   "metadata": {},
   "outputs": [
    {
     "data": {},
     "execution_count": 25,
     "metadata": {},
     "output_type": "execute_result"
    }
   ],
   "source": [
    "categorical_columns = categorical_columns + ['SeniorCitizen'] # один чуть не потеряли\n",
    "categorical_columns"
   ]
  },
  {
   "cell_type": "markdown",
   "id": "7ff8a864",
   "metadata": {},
   "source": [
    "Отлично, все признаки в сборе, теперь подготовим функцию для отрисовки распределения по каждому признаку. "
   ]
  },
  {
   "cell_type": "code",
   "execution_count": 26,
   "id": "2634b865",
   "metadata": {},
   "outputs": [],
   "source": [
    "def check_category (data, categorical_columns):\n",
    "    fig, ax = plt.subplots(figsize=(12, 5))\n",
    "    sns.countplot(x=categorical_columns, hue='target', data=data, palette=\"pastel\")\n",
    "    ax.set_title('Распределение по ' + categorical_columns)\n",
    "    plt.ylabel('Количество');"
   ]
  },
  {
   "cell_type": "code",
   "execution_count": 27,
   "id": "7f176790",
   "metadata": {},
   "outputs": [
    {
     "data": {
      "image/png": "[encoded data removed]"
     },
     "metadata": {},
     "output_type": "display_data"
    },
    {
     "data": {
      "image/png": "[encoded data removed]"
     },
     "metadata": {},
     "output_type": "display_data"
    },
    {
     "data": {
      "image/png": "[encoded data removed]"
     },
     "metadata": {},
     "output_type": "display_data"
    },
    {
     "data": {
      "image/png": "[encoded data removed]"
     },
     "metadata": {},
     "output_type": "display_data"
    },
    {
     "data": {
      "image/png": "[encoded data removed]"
     },
     "metadata": {},
     "output_type": "display_data"
    },
    {
     "data": {
      "image/png": "[encoded data removed]"
     },
     "metadata": {},
     "output_type": "display_data"
    },
    {
     "data": {
      "image/png": "[encoded data removed]"
     },
     "metadata": {},
     "output_type": "display_data"
    },
    {
     "data": {
      "image/png": "[encoded data removed]"
     },
     "metadata": {},
     "output_type": "display_data"
    },
    {
     "data": {
      "image/png": "[encoded data removed]"
     },
     "metadata": {},
     "output_type": "display_data"
    },
    {
     "data": {
      "image/png": "[encoded data removed]"
     },
     "metadata": {},
     "output_type": "display_data"
    },
    {
     "data": {
      "image/png": "[encoded data removed]"
     },
     "metadata": {},
     "output_type": "display_data"
    },
    {
     "data": {
      "image/png": "[encoded data removed]"
     },
     "metadata": {},
     "output_type": "display_data"
    },
    {
     "data": {
      "image/png": "[encoded data removed]"
     },
     "metadata": {},
     "output_type": "display_data"
    },
    {
     "data": {
      "image/png": "[encoded data removed]"
     },
     "metadata": {},
     "output_type": "display_data"
    },
    {
     "data": {
      "image/png": "[encoded data removed]"
     },
     "metadata": {},
     "output_type": "display_data"
    }
   ],
   "source": [
    "for i in categorical_columns:\n",
    "    check_category(data, i)"
   ]
  },
  {
   "cell_type": "markdown",
   "id": "5d46336c",
   "metadata": {},
   "source": [
    "Краткая сводка по гистограммам:\n",
    "    \n",
    "    - Большинство клиентов предпочитают способ оплаты Month-to_month (ежемесячная оплата). Отток почти одинаков при любом типе оплаты. \n",
    "    - Электронные оплаты популярнее\n",
    "    - Самый популярный тип платежа - Electronic check\n",
    "    - Распледеление по полу одинаковое\n",
    "    - Людей не состоявших в браке чуть больше. Примечательно, что люди состоящие в браке, чаще прекращают договор об оказание услуг.  \n",
    "    - Абонентов, у которых нет детей, значительно больше. \n",
    "    - Тип подключения оптоволокна - лидирует, однако у него и больший отток клиентов, но это может быть связано с тем, что в принципе больше клиентов выбирают волокно, нежели DSL подключение. \n",
    "    - Блокировку опасных сайтов не особо активно подключают. Опять же тут можно провести связь с пользователями, у которых есть дети, а как мы увидели выше на графике, то таких пользователей значительно меньше. \n",
    "    - Облачное хранилище тоже не так популярно. Тут можно выделить пару причин - доп, услуга = доп. деньги, клиенту попросту не нужно реззервное хранилище\n",
    "    - Удивительно, но большинство пользователей не приобретают антивирус (хотя в нашей стране - это не удивительно). Возможно, клиент не понимает важность данного ПО, либо пользуется бесплатным антивирусом. \n",
    "    - Выделенная линия тех.поддержки также не совсем популярна среди абонентов. \n",
    "    - Стриминнговое телевидение почти догнала абонентов, которые его не используют. Тут также виден отток чуть бульше, у обладателей стрим.ТВ. \n",
    "    - Аналогичную ситуацию как и со стрим. ТВ можно увидеть в опции подключения каталога фильмов. \n",
    "    - Большая часть клиентов функцию подключение телефона к нескольким линиям одновременно - не приобретают. Однако у категории людей, которая использует данную опцию, отток чуть больше. \n",
    "    - Пенсионеров значительно меньше. "
   ]
  },
  {
   "cell_type": "markdown",
   "id": "b72b6ff2",
   "metadata": {},
   "source": [
    "## <a id='toc1_7_'></a>[Подготовка данных](#toc0_)"
   ]
  },
  {
   "cell_type": "code",
   "execution_count": 28,
   "id": "caf7c4cf",
   "metadata": {},
   "outputs": [],
   "source": [
    "categorical_features = ['Type', 'PaperlessBilling', 'PaymentMethod', 'gender',\n",
    "                        'Partner', 'Dependents', 'InternetService', 'OnlineSecurity',\n",
    "                        'OnlineBackup', 'DeviceProtection', 'TechSupport',\n",
    "                        'StreamingTV', 'StreamingMovies', 'MultipleLines']\n",
    "\n",
    "# Конвертация категориальных столбцов в тип 'category'\n",
    "for feature in categorical_features:\n",
    "    data[feature] = data[feature].astype('category')"
   ]
  },
  {
   "cell_type": "code",
   "execution_count": 29,
   "id": "36aed84a",
   "metadata": {},
   "outputs": [],
   "source": [
    "data.info()"
   ]
  },
  {
   "cell_type": "code",
   "execution_count": 30,
   "id": "1df98a15",
   "metadata": {},
   "outputs": [],
   "source": [
    "features = data.drop('target', axis=1)\n",
    "target = data['target']"
   ]
  },
  {
   "cell_type": "code",
   "execution_count": 31,
   "id": "d09138bb",
   "metadata": {},
   "outputs": [],
   "source": [
    "x_train, x_test, y_train, y_test = train_test_split(features, target, test_size=0.25, random_state=RANDOM_STATE, stratify=target)"
   ]
  },
  {
   "cell_type": "code",
   "execution_count": 32,
   "id": "5aa2b976",
   "metadata": {},
   "outputs": [
    {
     "data": {},
     "metadata": {},
     "output_type": "display_data"
    },
    {
     "data": {},
     "metadata": {},
     "output_type": "display_data"
    }
   ],
   "source": [
    "display(x_train.shape)\n",
    "display(x_test.shape)"
   ]
  },
  {
   "cell_type": "markdown",
   "id": "f931c12c",
   "metadata": {},
   "source": [
    "## <a id='toc1_8_'></a>[LGBM](#toc0_)"
   ]
  },
  {
   "cell_type": "code",
   "execution_count": 33,
   "id": "4fb5409e",
   "metadata": {},
   "outputs": [],
   "source": [
    "model_lgbm = LGBMClassifier(class_weight='balanced', random_state=RANDOM_STATE )\n",
    "\n",
    "parameters = { \n",
    "    'n_estimators': [1000], \n",
    "    'max_depth': [8,16],\n",
    "    'num_leaves': [8,16]}\n",
    "\n",
    "\n",
    "grid_search_lgbm = GridSearchCV(model_lgbm, parameters, cv=5, scoring='roc_auc' )\n",
    "grid_search_lgbm.fit(x_train, y_train)\n",
    "\n",
    "best_model_lgbm = grid_search_lgbm.best_estimator_\n",
    "best_params_lgbm = grid_search_lgbm.best_params_\n",
    "best_roc_lgbm = grid_search_lgbm.best_score_\n",
    "importance = best_model_lgbm.feature_importances_\n",
    "\n",
    "\n",
    "print('Лучшая модель:', best_model_lgbm)\n",
    "print('roc_auc:', best_roc_lgbm)\n",
    "print('Лучшие параметры:', best_params_lgbm)"
   ]
  },
  {
   "cell_type": "markdown",
   "id": "068726a2",
   "metadata": {},
   "source": [
    "## <a id='toc1_9_'></a>[CatBoost](#toc0_)"
   ]
  },
  {
   "cell_type": "code",
   "execution_count": 34,
   "id": "dac4b42c",
   "metadata": {},
   "outputs": [],
   "source": [
    "categorical_features = (['Type', \n",
    "                         'PaperlessBilling', \n",
    "                         'PaymentMethod', \n",
    "                         'gender', \n",
    "                         'Partner', \n",
    "                         'Dependents', \n",
    "                         'InternetService', \n",
    "                         'OnlineSecurity', \n",
    "                         'OnlineBackup', \n",
    "                         'DeviceProtection', \n",
    "                         'TechSupport', \n",
    "                         'StreamingTV', \n",
    "                         'StreamingMovies', \n",
    "                         'MultipleLines'])"
   ]
  },
  {
   "cell_type": "code",
   "execution_count": 35,
   "id": "c0f244dc",
   "metadata": {},
   "outputs": [],
   "source": [
    "model_cat = CatBoostClassifier(auto_class_weights='Balanced', verbose=50, random_state=RANDOM_STATE, cat_features=categorical_features)\n",
    "\n",
    "parameters = {\n",
    "    'iterations': [100,200],\n",
    "    'depth': [6,10]\n",
    "}    \n",
    "grid_search_cat = GridSearchCV(model_cat, parameters, cv=5, scoring='roc_auc')\n",
    "grid_search_cat.fit(x_train, y_train)\n",
    "\n",
    "best_model_cat = grid_search_cat.best_estimator_\n",
    "best_params_cat = grid_search_cat.best_params_\n",
    "best_roc_cat = grid_search_cat.best_score_\n",
    "\n",
    "\n",
    "print('Лучшая модель:', best_model_cat)\n",
    "print('roc_auc:', best_roc_cat)\n",
    "print('Лучшие параметры:', best_params_cat)"
   ]
  },
  {
   "cell_type": "code",
   "execution_count": 36,
   "id": "ee3f10cc",
   "metadata": {},
   "outputs": [
    {
     "data": {},
     "execution_count": 36,
     "metadata": {},
     "output_type": "execute_result"
    }
   ],
   "source": [
    "# Выбор лучшей на основе валидации\n",
    "table = {'Модели':\n",
    "    ['LGBM', 'CatBoost'],\n",
    "         'Параметры': [best_params_lgbm, best_params_cat ],\n",
    "         'roc_auc valid':[best_roc_lgbm, best_roc_cat]\n",
    "         \n",
    "}\n",
    "\n",
    "table = pd.DataFrame(table)\n",
    "table.head()"
   ]
  },
  {
   "cell_type": "markdown",
   "id": "5c64eb90",
   "metadata": {},
   "source": [
    "Лучше и быстрее показала себя модель LGBM, ее и возьмем для проверки на тестовых данных. "
   ]
  },
  {
   "cell_type": "markdown",
   "id": "ebc4eacd",
   "metadata": {},
   "source": [
    "## <a id='toc1_10_'></a>[Тестирование](#toc0_)"
   ]
  },
  {
   "cell_type": "code",
   "execution_count": 37,
   "id": "2c940299",
   "metadata": {},
   "outputs": [],
   "source": [
    "predictions = best_model_lgbm.predict(x_test)\n",
    "predictions_proba = best_model_lgbm.predict_proba(x_test)[:, 1]  \n",
    "roc_auc = roc_auc_score(y_test, predictions_proba)\n",
    "\n",
    "print('ROC AUC на тестовых данных:', roc_auc)"
   ]
  },
  {
   "cell_type": "markdown",
   "id": "9a30b511",
   "metadata": {},
   "source": [
    "Необходимая метрика достигнута!"
   ]
  },
  {
   "cell_type": "markdown",
   "id": "10bd7c9c",
   "metadata": {},
   "source": [
    "## <a id='toc1_11_'></a>[Важность признаков и матрица ошибок](#toc0_)"
   ]
  },
  {
   "cell_type": "code",
   "execution_count": 38,
   "id": "059c576d",
   "metadata": {},
   "outputs": [
    {
     "data": {
      "image/png": "[encoded data removed]"
     },
     "metadata": {},
     "output_type": "display_data"
    }
   ],
   "source": [
    "importance = best_model_lgbm.feature_importances_\n",
    "\n",
    "sorted_idx = np.argsort(importance)[::-1]\n",
    "labels = x_train.columns[sorted_idx]\n",
    "plt.figure(figsize=(10, 6))\n",
    "plt.barh(range(len(importance)), importance[sorted_idx], color='skyblue')\n",
    "plt.yticks(range(len(importance)), labels) \n",
    "plt.xlabel('Важность')\n",
    "plt.ylabel('Признаки')\n",
    "plt.title('Важность признаков модели')\n",
    "plt.gca().invert_yaxis()  \n"
   ]
  },
  {
   "cell_type": "markdown",
   "id": "4eee5fae",
   "metadata": {},
   "source": [
    "- Наибольшую значимость, с очень большим разрывом от второго места, получил признак count_day (кол-во дней пользование сервисом). \n",
    "- На втором месте расположился признак MonthlyCharges (ежемесячные траты). Данный признак также имеет вес на принятие решений но уже значительно меньше. \n",
    "- Тройку финалистов закрывает признак TotalCharges (общие расходы абонента). \n",
    "\n",
    "Эти 3 признака значительно выделяются от остальных. "
   ]
  },
  {
   "cell_type": "code",
   "execution_count": 39,
   "id": "13d00080",
   "metadata": {
    "scrolled": true
   },
   "outputs": [
    {
     "data": {
      "image/png": "[encoded data removed]"
     },
     "metadata": {},
     "output_type": "display_data"
    }
   ],
   "source": [
    "y_pred = best_model_lgbm.predict(x_test)\n",
    "cm = confusion_matrix(y_test, y_pred)\n",
    "\n",
    "\n",
    "plt.figure(figsize=(8, 6))\n",
    "sns.heatmap(cm, annot=True, fmt=\"d\")\n",
    "plt.title(\"Матрица ошибок\")\n",
    "plt.ylabel('Истинные класс')\n",
    "plt.xlabel('Прогнозируемый класс')\n",
    "plt.show()"
   ]
  },
  {
   "cell_type": "code",
   "execution_count": 40,
   "id": "aceaa257",
   "metadata": {},
   "outputs": [
    {
     "data": {},
     "execution_count": 40,
     "metadata": {},
     "output_type": "execute_result"
    }
   ],
   "source": [
    "y_test.value_counts()"
   ]
  },
  {
   "cell_type": "markdown",
   "id": "651addd6",
   "metadata": {},
   "source": [
    "График матрицы ошибок показывает, что модель правильно классифицировала 1374 примера как положительные (True Positive) и 198 примеров как отрицательные (True Negative). Однако, модель также ошибочно классифицировала 108 примеров как положительные (False Positive) и 77 примеров как отрицательные (False Negative).\n",
    "\n",
    "Процент ошибки на первом классе равен 7.28%\n",
    "Процент ошибки на нулевом классе равен 28%\n",
    "\n",
    "Можно сделать вывод, что модель ошибалась достаточно мало. Но лучше ее использовать для прогнозирования тех клиентов, кто не собирается прекращать договор. \n",
    "\n",
    "Таким образом получиться \"отсеять\" довольных клиентов и не тратить на них дополнительные силы и ресуры компании по удержанию  их (абонентов)  в пользователях. "
   ]
  },
  {
   "cell_type": "markdown",
   "id": "06bdd301",
   "metadata": {},
   "source": [
    "## <a id='toc1_12_'></a>[Вывод](#toc0_)"
   ]
  },
  {
   "cell_type": "markdown",
   "id": "abb00800",
   "metadata": {},
   "source": [
    "В ходе работы выполнили следующие этапы:\n",
    "\n",
    "    - Загрузили и изучили датасеты. \n",
    "    При изучении пришли к выводу: \n",
    "        - В датасетах отстуствуют дубликаты и пропуски. \n",
    "        - Имеют разную размерность. \n",
    "        - Некоторые столбцы требуют преобразования в подходящий формат. \n",
    "        - Во всех датасетах есть общий столбец customerID - по которому в дальнейшем будет произведено объеденение данных. \n",
    "     - Произвели объединение датасетов в один с помощью метода megre() по столбцу customerID.\n",
    "     - Количество строк не изменилось (7043).\n",
    "     - После объединения появились пропуски у тех клиентов, которые не пользуются интернетом или телефоном. Дубликатов нет.\n",
    "     - Заменили пропуски в столбце MultipleLines - на PH (PHONE) - только телефония\n",
    "     - Заменили пропуски с интернет подключением на WEB - только интернет услуги.\n",
    "     - Сформировали категориальный признак на основе столбца с датами окончания договоров клиентов. Где - 1 означает, что договор еще действует, а 0 - означаент что договор расторгнут. \n",
    "     - Вынесли категориальный признак в отдельный столбец 'target'.\n",
    "     - Произвели в столбце EndDate замену данных, с 'NO', на дату выгрузки данных. \n",
    "     - Приобразовали типы данных:\n",
    "             - Столбец target - int\n",
    "             - Столбцы EndDate и BeginDate - в datetime\n",
    "             - Столбец TotalCharges - в численный формат методом to_numeric\n",
    "             \n",
    "      - После преобразования столбца TotalCharges - были обнаружены и удалены 11 пропусков. Решение об удалении было принято на основе очень маленького количества строк с пропусками, которые не искозят исследования. \n",
    "      - Добавили новый признак 'count_day' в объединенный датасет который отображает количество дней пользования сервисом. \n",
    "      - Отбросили от дальнейшего исследования столбцы 'EndDate','BeginDate', 'customerID' - так как они больше не нужны для исследования.\n",
    "      - После удаления столбцов, было обнаружено и удалено 4 дубликата. Малое количество данных - не повлияет на результат исследования. \n",
    "      - Изучили дисбаланс классов, он оказался весьма существенным (1 - 0.843341 \\\\ 0 - 0.156659). Наша метрика для исследования ROC AUC, которая устойчива к дисбалансу классов. Поэтому дополнительных действий по балансировке классов не проводилось (не считая попытки равномерно разделить данные на выборки и балансировка во время обучения моделей). \n",
    "      - Построили гистограмму расходов клиентов за месяц и пришли к выводу, что большая часть клиентов предпочитает использовать базовый тарифный план. \n",
    "      - Построили гистограмму общих расходов абонента, на которой увидили, что чем дороже \"пакет\" услуг, тем меньше их количество. Что дополнительно подкрепляет предыдущую гистограмму фактом, что большая часть клиентов использует базовые тарифы.\n",
    "      - Выдели категориальные признаки: \n",
    "      \n",
    "      'Type', \n",
    "      'PaperlessBilling', \n",
    "      'PaymentMethod', \n",
    "      'gender', \n",
    "      'Partner', \n",
    "      'Dependents', \n",
    "      'InternetService', \n",
    "      'OnlineSecurity', \n",
    "      'OnlineBackup', \n",
    "      'DeviceProtection', \n",
    "      'TechSupport', \n",
    "      'StreamingTV', \n",
    "      'StreamingMovies', \n",
    "      'MultipleLines'\n",
    "      \n",
    "      - Подготовили функцию для отрисовки графиков категориальных признаков и изучили графики. \n",
    "          \n",
    "             Краткая сводка по гистограммам:\n",
    "    \n",
    "         - Большинство клиентов предпочитают способ оплаты Month-to_month (ежемесячная оплата). Отток почти одинаков при любом типе оплаты. \n",
    "         - Электронные оплаты популярнее\n",
    "         - Самый популярный тип платежа - Electronic check\n",
    "         - Распледеление по полу одинаковое\n",
    "         - Людей не состоявших в браке чуть больше. Примечательно, что люди состоящие в браке, чаще прекращают договор об оказание услуг.  \n",
    "         - Абонентов, у которых нет детей, значительно больше. \n",
    "         - Тип подключения оптоволокна - лидирует, однако у него и больший отток клиентов, но это может быть связано с тем, что в принципе больше клиентов выбирают волокно, нежели DSL подключение. \n",
    "         - Блокировку опасных сайтов не особо активно подключают. Опять же тут можно провести связь с пользователями, у которых есть дети, а как мы увидели выше на графике, то таких пользователей значительно меньше. \n",
    "         - Облачное хранилище тоже не так популярно. Тут можно выделить пару причин - доп, услуга = доп. деньги, клиенту попросту не нужно реззервное хранилище\n",
    "         - Удивительно, но большинство пользователей не приобретают антивирус (хотя в нашей стране - это не удивительно). Возможно, клиент не понимает важность данного ПО, либо пользуется бесплатным антивирусом. \n",
    "         - Выделенная линия тех.поддержки также не совсем популярна среди абонентов. \n",
    "         - Стриминнговое телевидение почти догнала абонентов, которые его не используют. Тут также виден отток чуть бульше, у обладателей стрим.ТВ. \n",
    "         - Аналогичную ситуацию как и со стрим. ТВ можно увидеть в опции подключения каталога фильмов. \n",
    "         - Большая часть клиентов функцию подключение телефона к нескольким линиям одновременно - не приобретают. Однако у категории людей, которая использует данную опцию, отток чуть больше. \n",
    "         - Пенсионеров значительно меньше.  \n",
    "    \n",
    "\n",
    "- Затем приступили к подготовке данных для модели:\n",
    "\n",
    "*На этом этапе были пропущены кодирование признаков так как у моделей есть встроенное кодирование*. \n",
    "\n",
    "        - Перевели категориальный признаки в тип category для LGBM\n",
    "        - разделили датасет на обучающую и тестовую выборки, в масштабе 0.75 - train, 0.25 - test, использовали метод stratify для целевого признака target. Для равномерного распределения. \n",
    "        - Размерность обучающей \\ тестовой выборки: (5271, 18) \\ (1757, 18)\n",
    "        - Обучили модель LGBM используя GridSearchCV с перебором параметров : \n",
    "        'n_estimators': [1000],\n",
    "        'max_depth': [8,16],\n",
    "        'num_leaves': [8,16]\n",
    "        И кросс-валидацией cv=5\n",
    " \n",
    "- Лучшие Параметры модели на кросс-валидации: LGBMClassifier(class_weight='balanced', max_depth=8, n_estimators=1000, num_leaves=8, random_state=201123)\n",
    "    \n",
    "    Данная модель показала ROC_AUC на валидации 0.8896\n",
    "    \n",
    "- Также была обучена модель CatBoost с помощью GridSearchCV, автобалансировкой классов, verbose=50, random_state=201123\n",
    "\n",
    "Перебор параметров при поиске лучшей модели:\n",
    "\n",
    "    'iterations': [100,200],\n",
    "    'depth': [6,10]\n",
    "    \n",
    "Лучшие Параметры модели на кросс-валидации: {'depth': 6, 'iterations': 200}. \n",
    "    \n",
    "     Данная модель показала ROC_AUC на валидации roc_auc: 0.8464\n",
    "     \n",
    "Так как при обучение и проверки моделей на кросс - валидации лучшую метрику показала модель LGBM - ее мы и взяли для проверки на тестовой выборке. \n",
    "\n",
    "Данные метрики лучше модели LGBM c параметрами class_weight='balanced', max_depth=8, n_estimators=1000, num_leaves=8, random_state=201123, ровняются 0.9079, что соответствует требованиям заказчика.\n",
    "\n",
    "- Построили график важности признаков, на нем мы увидели следующее:\n",
    "        \n",
    "        - Наибольшую значимость, с очень большим разрывом от второго места, получил признак count_day (кол-во дней пользование сервисом).\n",
    "        - На втором месте расположился признак MonthlyCharges (ежемесячные траты). Данный признак также имеет вес на принятие решений но уже значительно меньше.\n",
    "        - Тройку финалистов закрывает признак TotalCharges (общие расходы абонента).\n",
    "        \n",
    "        Эти 3 признака значительно выделяются от остальных.\n",
    "    \n",
    "    \n",
    "Построили матрицу ошибок. \n",
    "\n",
    "    - По построенному графику можно сделать следующий вывод:\n",
    "    График матрицы ошибок показывает, что модель правильно классифицировала 1374 примера как положительные (True Positive) и 198 примеров как отрицательные (True Negative). Однако, модель также ошибочно классифицировала 108 примеров как положительные (False Positive) и 77 примеров как отрицательные (False Negative).\n",
    "\n",
    " - Процент ошибки на первом классе равен 7.28%\n",
    " - Процент ошибки на нулевом классе равен 28%\n",
    "\n",
    "Можно сделать вывод, что модель ошибалась достаточно мало. Но лучше ее использовать для прогнозирования тех клиентов, кто не собирается прекращать договор. \n",
    "\n",
    "Таким образом получиться \"отсеять\" довольных клиентов и не тратить на них дополнительные силы и ресуры компании по удержанию  их (абонентов)  в пользователях. "
   ]
  },
  {
   "cell_type": "code",
   "execution_count": null,
   "id": "17b96bec",
   "metadata": {},
   "outputs": [],
   "source": []
  }
 ],
 "metadata": {
  "ExecuteTimeLog": [
   {
    "duration": 937,
    "start_time": "2023-11-23T17:30:51.159Z"
   },
   {
    "duration": 351,
    "start_time": "2023-11-23T17:39:22.982Z"
   },
   {
    "duration": 4,
    "start_time": "2023-11-23T17:42:07.626Z"
   },
   {
    "duration": 10,
    "start_time": "2023-11-23T17:43:20.776Z"
   },
   {
    "duration": 16,
    "start_time": "2023-11-23T17:43:55.849Z"
   },
   {
    "duration": 13,
    "start_time": "2023-11-23T17:47:51.584Z"
   },
   {
    "duration": 25,
    "start_time": "2023-11-23T17:51:14.483Z"
   },
   {
    "duration": 199,
    "start_time": "2023-11-23T17:51:34.279Z"
   },
   {
    "duration": 24,
    "start_time": "2023-11-23T17:51:45.726Z"
   },
   {
    "duration": 38,
    "start_time": "2023-11-23T17:54:26.307Z"
   },
   {
    "duration": 27,
    "start_time": "2023-11-23T17:54:42.351Z"
   },
   {
    "duration": 36,
    "start_time": "2023-11-23T18:30:10.812Z"
   },
   {
    "duration": 33,
    "start_time": "2023-11-23T18:30:22.896Z"
   },
   {
    "duration": 25,
    "start_time": "2023-11-23T18:31:25.275Z"
   },
   {
    "duration": 32,
    "start_time": "2023-11-23T18:34:05.913Z"
   },
   {
    "duration": 23,
    "start_time": "2023-11-23T18:35:22.027Z"
   },
   {
    "duration": 96,
    "start_time": "2023-11-23T18:42:48.738Z"
   },
   {
    "duration": 3,
    "start_time": "2023-11-23T18:54:32.236Z"
   },
   {
    "duration": 848,
    "start_time": "2023-11-24T14:17:48.972Z"
   },
   {
    "duration": 411,
    "start_time": "2023-11-24T14:17:49.822Z"
   },
   {
    "duration": 43,
    "start_time": "2023-11-24T14:17:50.235Z"
   },
   {
    "duration": 26,
    "start_time": "2023-11-24T14:17:50.280Z"
   },
   {
    "duration": 47,
    "start_time": "2023-11-24T14:17:50.308Z"
   },
   {
    "duration": 21,
    "start_time": "2023-11-24T14:17:50.357Z"
   },
   {
    "duration": 80,
    "start_time": "2023-11-24T16:18:32.408Z"
   },
   {
    "duration": 41,
    "start_time": "2023-11-24T16:19:00.183Z"
   },
   {
    "duration": 53,
    "start_time": "2023-11-24T16:19:43.575Z"
   },
   {
    "duration": 66,
    "start_time": "2023-11-24T16:23:27.713Z"
   },
   {
    "duration": 4,
    "start_time": "2023-11-24T16:50:31.677Z"
   },
   {
    "duration": 13,
    "start_time": "2023-11-24T16:50:34.805Z"
   },
   {
    "duration": 5,
    "start_time": "2023-11-24T16:58:34.337Z"
   },
   {
    "duration": 26,
    "start_time": "2023-11-24T17:00:52.572Z"
   },
   {
    "duration": 41,
    "start_time": "2023-11-24T17:01:18.292Z"
   },
   {
    "duration": 42,
    "start_time": "2023-11-24T17:06:06.796Z"
   },
   {
    "duration": 24,
    "start_time": "2023-11-24T17:11:01.243Z"
   },
   {
    "duration": 4,
    "start_time": "2023-11-24T17:49:14.649Z"
   },
   {
    "duration": 8,
    "start_time": "2023-11-24T18:05:10.071Z"
   },
   {
    "duration": 38,
    "start_time": "2023-11-24T18:05:52.202Z"
   },
   {
    "duration": 818,
    "start_time": "2023-11-27T13:56:14.121Z"
   },
   {
    "duration": 399,
    "start_time": "2023-11-27T13:56:14.941Z"
   },
   {
    "duration": 42,
    "start_time": "2023-11-27T13:56:15.341Z"
   },
   {
    "duration": 28,
    "start_time": "2023-11-27T13:56:15.385Z"
   },
   {
    "duration": 36,
    "start_time": "2023-11-27T13:56:15.415Z"
   },
   {
    "duration": 22,
    "start_time": "2023-11-27T13:56:15.453Z"
   },
   {
    "duration": 69,
    "start_time": "2023-11-27T13:56:15.500Z"
   },
   {
    "duration": 31,
    "start_time": "2023-11-27T13:56:15.570Z"
   },
   {
    "duration": 25,
    "start_time": "2023-11-27T13:56:15.602Z"
   },
   {
    "duration": 40,
    "start_time": "2023-11-27T13:56:15.629Z"
   },
   {
    "duration": 4,
    "start_time": "2023-11-27T13:56:15.671Z"
   },
   {
    "duration": 4,
    "start_time": "2023-11-27T13:56:15.700Z"
   },
   {
    "duration": 834,
    "start_time": "2023-11-27T14:17:38.037Z"
   },
   {
    "duration": 522,
    "start_time": "2023-11-27T14:20:40.497Z"
   },
   {
    "duration": 4,
    "start_time": "2023-11-27T14:21:02.344Z"
   },
   {
    "duration": 706,
    "start_time": "2023-11-27T14:21:03.220Z"
   },
   {
    "duration": 660,
    "start_time": "2023-11-27T14:21:17.566Z"
   },
   {
    "duration": 135,
    "start_time": "2023-11-27T14:21:18.227Z"
   },
   {
    "duration": 39,
    "start_time": "2023-11-27T14:21:18.364Z"
   },
   {
    "duration": 160,
    "start_time": "2023-11-27T14:21:18.405Z"
   },
   {
    "duration": 32,
    "start_time": "2023-11-27T14:21:18.568Z"
   },
   {
    "duration": 30,
    "start_time": "2023-11-27T14:21:18.601Z"
   },
   {
    "duration": 96,
    "start_time": "2023-11-27T14:21:18.633Z"
   },
   {
    "duration": 12,
    "start_time": "2023-11-27T14:21:18.731Z"
   },
   {
    "duration": 61,
    "start_time": "2023-11-27T14:21:18.745Z"
   },
   {
    "duration": 68,
    "start_time": "2023-11-27T14:21:18.807Z"
   },
   {
    "duration": 4,
    "start_time": "2023-11-27T14:21:18.877Z"
   },
   {
    "duration": 44,
    "start_time": "2023-11-27T14:21:18.883Z"
   },
   {
    "duration": 5,
    "start_time": "2023-11-27T14:28:02.488Z"
   },
   {
    "duration": 27,
    "start_time": "2023-11-27T14:28:07.474Z"
   },
   {
    "duration": 23,
    "start_time": "2023-11-27T14:28:14.401Z"
   },
   {
    "duration": 33,
    "start_time": "2023-11-27T14:30:28.039Z"
   },
   {
    "duration": 5,
    "start_time": "2023-11-27T14:36:37.024Z"
   },
   {
    "duration": 76,
    "start_time": "2023-11-27T14:57:31.568Z"
   },
   {
    "duration": 5,
    "start_time": "2023-11-27T14:57:41.273Z"
   },
   {
    "duration": 24,
    "start_time": "2023-11-27T14:58:30.803Z"
   },
   {
    "duration": 6,
    "start_time": "2023-11-27T15:56:21.834Z"
   },
   {
    "duration": 18,
    "start_time": "2023-11-27T15:56:29.950Z"
   },
   {
    "duration": 633,
    "start_time": "2023-11-27T15:56:43.842Z"
   },
   {
    "duration": 143,
    "start_time": "2023-11-27T15:56:44.476Z"
   },
   {
    "duration": 43,
    "start_time": "2023-11-27T15:56:44.621Z"
   },
   {
    "duration": 35,
    "start_time": "2023-11-27T15:56:44.666Z"
   },
   {
    "duration": 40,
    "start_time": "2023-11-27T15:56:44.703Z"
   },
   {
    "duration": 22,
    "start_time": "2023-11-27T15:56:44.745Z"
   },
   {
    "duration": 113,
    "start_time": "2023-11-27T15:56:44.768Z"
   },
   {
    "duration": 12,
    "start_time": "2023-11-27T15:56:44.883Z"
   },
   {
    "duration": 27,
    "start_time": "2023-11-27T15:56:44.897Z"
   },
   {
    "duration": 40,
    "start_time": "2023-11-27T15:56:44.926Z"
   },
   {
    "duration": 4,
    "start_time": "2023-11-27T15:56:44.968Z"
   },
   {
    "duration": 49,
    "start_time": "2023-11-27T15:56:44.974Z"
   },
   {
    "duration": 5,
    "start_time": "2023-11-27T15:56:45.024Z"
   },
   {
    "duration": 49,
    "start_time": "2023-11-27T15:56:45.031Z"
   },
   {
    "duration": 15,
    "start_time": "2023-11-27T15:56:45.081Z"
   },
   {
    "duration": 64,
    "start_time": "2023-11-27T15:56:45.097Z"
   },
   {
    "duration": 17,
    "start_time": "2023-11-27T15:56:45.162Z"
   },
   {
    "duration": 14,
    "start_time": "2023-11-27T16:08:28.528Z"
   },
   {
    "duration": 33,
    "start_time": "2023-11-27T16:09:27.051Z"
   },
   {
    "duration": 14,
    "start_time": "2023-11-27T16:09:55.480Z"
   },
   {
    "duration": 7,
    "start_time": "2023-11-27T16:11:42.990Z"
   },
   {
    "duration": 651,
    "start_time": "2023-11-27T16:22:36.713Z"
   },
   {
    "duration": 141,
    "start_time": "2023-11-27T16:22:37.365Z"
   },
   {
    "duration": 40,
    "start_time": "2023-11-27T16:22:37.508Z"
   },
   {
    "duration": 27,
    "start_time": "2023-11-27T16:22:37.549Z"
   },
   {
    "duration": 62,
    "start_time": "2023-11-27T16:22:37.578Z"
   },
   {
    "duration": 22,
    "start_time": "2023-11-27T16:22:37.642Z"
   },
   {
    "duration": 98,
    "start_time": "2023-11-27T16:22:37.665Z"
   },
   {
    "duration": 14,
    "start_time": "2023-11-27T16:22:37.765Z"
   },
   {
    "duration": 47,
    "start_time": "2023-11-27T16:22:37.780Z"
   },
   {
    "duration": 107,
    "start_time": "2023-11-27T16:22:37.829Z"
   },
   {
    "duration": 44,
    "start_time": "2023-11-27T16:22:37.938Z"
   },
   {
    "duration": 50,
    "start_time": "2023-11-27T16:22:37.984Z"
   },
   {
    "duration": 5,
    "start_time": "2023-11-27T16:22:38.036Z"
   },
   {
    "duration": 29,
    "start_time": "2023-11-27T16:22:38.045Z"
   },
   {
    "duration": 84,
    "start_time": "2023-11-27T16:22:38.076Z"
   },
   {
    "duration": 147,
    "start_time": "2023-11-27T16:22:38.163Z"
   },
   {
    "duration": 89,
    "start_time": "2023-11-27T16:22:38.312Z"
   },
   {
    "duration": 20,
    "start_time": "2023-11-27T16:22:38.403Z"
   },
   {
    "duration": 31,
    "start_time": "2023-11-27T16:22:38.425Z"
   },
   {
    "duration": 41,
    "start_time": "2023-11-27T16:22:38.458Z"
   },
   {
    "duration": 149,
    "start_time": "2023-11-27T16:25:23.516Z"
   },
   {
    "duration": 98,
    "start_time": "2023-11-27T16:26:24.530Z"
   },
   {
    "duration": 120,
    "start_time": "2023-11-27T16:27:07.430Z"
   },
   {
    "duration": 133,
    "start_time": "2023-11-27T16:27:42.083Z"
   },
   {
    "duration": 361,
    "start_time": "2023-11-27T16:31:28.608Z"
   },
   {
    "duration": 234,
    "start_time": "2023-11-27T16:35:41.790Z"
   },
   {
    "duration": 199,
    "start_time": "2023-11-27T16:35:52.165Z"
   },
   {
    "duration": 70,
    "start_time": "2023-11-27T16:38:23.753Z"
   },
   {
    "duration": 199,
    "start_time": "2023-11-27T16:44:38.180Z"
   },
   {
    "duration": 205,
    "start_time": "2023-11-27T16:46:02.095Z"
   },
   {
    "duration": 647,
    "start_time": "2023-11-27T16:54:25.794Z"
   },
   {
    "duration": 130,
    "start_time": "2023-11-27T16:54:26.443Z"
   },
   {
    "duration": 40,
    "start_time": "2023-11-27T16:54:26.575Z"
   },
   {
    "duration": 27,
    "start_time": "2023-11-27T16:54:26.617Z"
   },
   {
    "duration": 55,
    "start_time": "2023-11-27T16:54:26.646Z"
   },
   {
    "duration": 21,
    "start_time": "2023-11-27T16:54:26.702Z"
   },
   {
    "duration": 94,
    "start_time": "2023-11-27T16:54:26.725Z"
   },
   {
    "duration": 13,
    "start_time": "2023-11-27T16:54:26.820Z"
   },
   {
    "duration": 58,
    "start_time": "2023-11-27T16:54:26.835Z"
   },
   {
    "duration": 38,
    "start_time": "2023-11-27T16:54:26.895Z"
   },
   {
    "duration": 4,
    "start_time": "2023-11-27T16:54:26.934Z"
   },
   {
    "duration": 49,
    "start_time": "2023-11-27T16:54:26.940Z"
   },
   {
    "duration": 8,
    "start_time": "2023-11-27T16:54:26.991Z"
   },
   {
    "duration": 26,
    "start_time": "2023-11-27T16:54:27.000Z"
   },
   {
    "duration": 6,
    "start_time": "2023-11-27T16:54:27.028Z"
   },
   {
    "duration": 26,
    "start_time": "2023-11-27T16:54:27.035Z"
   },
   {
    "duration": 16,
    "start_time": "2023-11-27T16:54:27.063Z"
   },
   {
    "duration": 31,
    "start_time": "2023-11-27T16:54:27.080Z"
   },
   {
    "duration": 14,
    "start_time": "2023-11-27T16:54:27.113Z"
   },
   {
    "duration": 168,
    "start_time": "2023-11-27T16:54:27.128Z"
   },
   {
    "duration": 209,
    "start_time": "2023-11-27T16:54:27.300Z"
   },
   {
    "duration": 218,
    "start_time": "2023-11-27T16:54:27.510Z"
   },
   {
    "duration": 6,
    "start_time": "2023-11-27T16:57:45.986Z"
   },
   {
    "duration": 19,
    "start_time": "2023-11-27T16:58:13.653Z"
   },
   {
    "duration": 6,
    "start_time": "2023-11-27T16:59:48.520Z"
   },
   {
    "duration": 4,
    "start_time": "2023-11-27T17:07:31.775Z"
   },
   {
    "duration": 4,
    "start_time": "2023-11-27T17:12:33.819Z"
   },
   {
    "duration": 78,
    "start_time": "2023-11-27T17:14:07.995Z"
   },
   {
    "duration": 4,
    "start_time": "2023-11-27T17:14:31.847Z"
   },
   {
    "duration": 1916,
    "start_time": "2023-11-27T17:14:32.326Z"
   },
   {
    "duration": 6,
    "start_time": "2023-11-27T17:31:08.872Z"
   },
   {
    "duration": 119,
    "start_time": "2023-11-27T17:32:43.721Z"
   },
   {
    "duration": 110,
    "start_time": "2023-11-27T17:33:16.464Z"
   },
   {
    "duration": 5,
    "start_time": "2023-11-27T17:33:17.753Z"
   },
   {
    "duration": 132,
    "start_time": "2023-11-27T17:33:19.979Z"
   },
   {
    "duration": 8,
    "start_time": "2023-11-27T17:33:31.905Z"
   },
   {
    "duration": 2,
    "start_time": "2023-11-27T17:33:54.209Z"
   },
   {
    "duration": 123,
    "start_time": "2023-11-27T17:33:54.814Z"
   },
   {
    "duration": 8,
    "start_time": "2023-11-27T17:38:26.683Z"
   },
   {
    "duration": 3,
    "start_time": "2023-11-27T17:38:31.134Z"
   },
   {
    "duration": 120,
    "start_time": "2023-11-27T17:38:38.267Z"
   },
   {
    "duration": 5,
    "start_time": "2023-11-27T17:41:20.895Z"
   },
   {
    "duration": 2,
    "start_time": "2023-11-27T17:41:24.379Z"
   },
   {
    "duration": 114,
    "start_time": "2023-11-27T17:41:26.671Z"
   },
   {
    "duration": 572,
    "start_time": "2023-11-27T17:48:08.555Z"
   },
   {
    "duration": 4,
    "start_time": "2023-11-27T17:48:35.969Z"
   },
   {
    "duration": 52,
    "start_time": "2023-11-27T17:49:41.486Z"
   },
   {
    "duration": 4,
    "start_time": "2023-11-27T17:50:03.847Z"
   },
   {
    "duration": 2,
    "start_time": "2023-11-27T17:51:56.042Z"
   },
   {
    "duration": 2202,
    "start_time": "2023-11-27T17:51:56.420Z"
   },
   {
    "duration": 156,
    "start_time": "2023-11-27T17:52:11.474Z"
   },
   {
    "duration": 4,
    "start_time": "2023-11-27T17:54:52.588Z"
   },
   {
    "duration": 2280,
    "start_time": "2023-11-27T17:55:03.073Z"
   },
   {
    "duration": 126,
    "start_time": "2023-11-27T17:55:20.023Z"
   },
   {
    "duration": 3,
    "start_time": "2023-11-27T17:55:43.356Z"
   },
   {
    "duration": 171,
    "start_time": "2023-11-27T17:55:43.920Z"
   },
   {
    "duration": 3,
    "start_time": "2023-11-27T17:55:55.608Z"
   },
   {
    "duration": 2386,
    "start_time": "2023-11-27T17:55:55.950Z"
   },
   {
    "duration": 2,
    "start_time": "2023-11-27T17:57:51.651Z"
   },
   {
    "duration": 122,
    "start_time": "2023-11-27T17:58:10.347Z"
   },
   {
    "duration": 3,
    "start_time": "2023-11-27T18:18:34.564Z"
   },
   {
    "duration": 2436,
    "start_time": "2023-11-27T18:18:34.984Z"
   },
   {
    "duration": 4,
    "start_time": "2023-11-27T18:31:04.519Z"
   },
   {
    "duration": 9,
    "start_time": "2023-11-27T18:32:20.775Z"
   },
   {
    "duration": 281,
    "start_time": "2023-11-27T18:32:46.728Z"
   },
   {
    "duration": 9,
    "start_time": "2023-11-27T18:32:51.154Z"
   },
   {
    "duration": 4,
    "start_time": "2023-11-27T18:33:51.366Z"
   },
   {
    "duration": 5,
    "start_time": "2023-11-27T18:39:34.639Z"
   },
   {
    "duration": 20,
    "start_time": "2023-11-27T18:39:47.351Z"
   },
   {
    "duration": 10,
    "start_time": "2023-11-27T18:42:56.827Z"
   },
   {
    "duration": 44,
    "start_time": "2023-11-27T18:44:19.639Z"
   },
   {
    "duration": 14,
    "start_time": "2023-11-27T18:44:25.887Z"
   },
   {
    "duration": 3,
    "start_time": "2023-11-27T18:44:59.274Z"
   },
   {
    "duration": 10,
    "start_time": "2023-11-27T18:45:04.201Z"
   },
   {
    "duration": 137,
    "start_time": "2023-11-27T18:45:29.063Z"
   },
   {
    "duration": 162,
    "start_time": "2023-11-27T19:00:17.518Z"
   },
   {
    "duration": 252,
    "start_time": "2023-11-27T19:00:29.192Z"
   },
   {
    "duration": 9,
    "start_time": "2023-11-27T19:01:24.937Z"
   },
   {
    "duration": 132,
    "start_time": "2023-11-27T19:04:44.240Z"
   },
   {
    "duration": 136,
    "start_time": "2023-11-27T19:05:01.593Z"
   },
   {
    "duration": 143,
    "start_time": "2023-11-27T19:29:15.911Z"
   },
   {
    "duration": 134,
    "start_time": "2023-11-27T19:35:46.688Z"
   },
   {
    "duration": 8,
    "start_time": "2023-11-27T19:37:06.920Z"
   },
   {
    "duration": 63,
    "start_time": "2023-11-27T19:37:10.325Z"
   },
   {
    "duration": 1591,
    "start_time": "2023-11-27T19:38:07.062Z"
   },
   {
    "duration": 21,
    "start_time": "2023-11-27T20:05:52.165Z"
   },
   {
    "duration": 22,
    "start_time": "2023-11-27T20:06:05.241Z"
   },
   {
    "duration": 4,
    "start_time": "2023-11-27T20:06:11.268Z"
   },
   {
    "duration": 10,
    "start_time": "2023-11-27T20:06:12.477Z"
   },
   {
    "duration": 5,
    "start_time": "2023-11-27T20:06:14.200Z"
   },
   {
    "duration": 92,
    "start_time": "2023-11-27T20:06:17.887Z"
   },
   {
    "duration": 5,
    "start_time": "2023-11-27T20:06:40.823Z"
   },
   {
    "duration": 27590,
    "start_time": "2023-11-27T20:06:49.919Z"
   },
   {
    "duration": 114355,
    "start_time": "2023-11-27T20:11:04.563Z"
   },
   {
    "duration": 14,
    "start_time": "2023-11-27T20:21:20.216Z"
   },
   {
    "duration": 2216,
    "start_time": "2023-11-27T20:21:33.159Z"
   },
   {
    "duration": 3693,
    "start_time": "2023-11-27T20:24:27.391Z"
   },
   {
    "duration": 3740,
    "start_time": "2023-11-27T20:25:26.673Z"
   },
   {
    "duration": 3,
    "start_time": "2023-11-27T20:28:33.051Z"
   },
   {
    "duration": 8442,
    "start_time": "2023-11-27T20:29:24.167Z"
   },
   {
    "duration": 78478,
    "start_time": "2023-11-27T20:33:58.470Z"
   },
   {
    "duration": 13853,
    "start_time": "2023-11-27T20:44:52.786Z"
   },
   {
    "duration": 20790,
    "start_time": "2023-11-27T20:47:21.897Z"
   },
   {
    "duration": 10,
    "start_time": "2023-11-27T20:49:24.798Z"
   },
   {
    "duration": 76147,
    "start_time": "2023-11-27T20:50:27.599Z"
   },
   {
    "duration": 10,
    "start_time": "2023-11-27T20:51:57.898Z"
   },
   {
    "duration": 10,
    "start_time": "2023-11-27T20:52:28.179Z"
   },
   {
    "duration": 1446,
    "start_time": "2023-11-27T20:53:58.960Z"
   },
   {
    "duration": 131,
    "start_time": "2023-11-27T20:54:00.408Z"
   },
   {
    "duration": 38,
    "start_time": "2023-11-27T20:54:00.541Z"
   },
   {
    "duration": 26,
    "start_time": "2023-11-27T20:54:00.581Z"
   },
   {
    "duration": 38,
    "start_time": "2023-11-27T20:54:00.609Z"
   },
   {
    "duration": 68,
    "start_time": "2023-11-27T20:54:00.649Z"
   },
   {
    "duration": 116,
    "start_time": "2023-11-27T20:54:00.719Z"
   },
   {
    "duration": 13,
    "start_time": "2023-11-27T20:54:00.836Z"
   },
   {
    "duration": 32,
    "start_time": "2023-11-27T20:54:00.851Z"
   },
   {
    "duration": 51,
    "start_time": "2023-11-27T20:54:00.885Z"
   },
   {
    "duration": 14,
    "start_time": "2023-11-27T20:54:00.938Z"
   },
   {
    "duration": 40,
    "start_time": "2023-11-27T20:54:00.954Z"
   },
   {
    "duration": 5,
    "start_time": "2023-11-27T20:54:00.995Z"
   },
   {
    "duration": 40,
    "start_time": "2023-11-27T20:54:01.003Z"
   },
   {
    "duration": 7,
    "start_time": "2023-11-27T20:54:01.045Z"
   },
   {
    "duration": 47,
    "start_time": "2023-11-27T20:54:01.053Z"
   },
   {
    "duration": 18,
    "start_time": "2023-11-27T20:54:01.101Z"
   },
   {
    "duration": 36,
    "start_time": "2023-11-27T20:54:01.121Z"
   },
   {
    "duration": 15,
    "start_time": "2023-11-27T20:54:01.159Z"
   },
   {
    "duration": 155,
    "start_time": "2023-11-27T20:54:01.176Z"
   },
   {
    "duration": 216,
    "start_time": "2023-11-27T20:54:01.333Z"
   },
   {
    "duration": 204,
    "start_time": "2023-11-27T20:54:01.551Z"
   },
   {
    "duration": 7,
    "start_time": "2023-11-27T20:54:01.757Z"
   },
   {
    "duration": 85,
    "start_time": "2023-11-27T20:54:01.765Z"
   },
   {
    "duration": 61,
    "start_time": "2023-11-27T20:54:01.852Z"
   },
   {
    "duration": 2412,
    "start_time": "2023-11-27T20:54:01.914Z"
   },
   {
    "duration": 20,
    "start_time": "2023-11-27T20:54:04.327Z"
   },
   {
    "duration": 21,
    "start_time": "2023-11-27T20:54:04.349Z"
   },
   {
    "duration": 3,
    "start_time": "2023-11-27T20:54:04.372Z"
   },
   {
    "duration": 28,
    "start_time": "2023-11-27T20:54:04.376Z"
   },
   {
    "duration": 4,
    "start_time": "2023-11-27T20:54:04.406Z"
   },
   {
    "duration": 140688,
    "start_time": "2023-11-27T20:54:04.412Z"
   },
   {
    "duration": 3,
    "start_time": "2023-11-27T20:56:25.102Z"
   },
   {
    "duration": 75822,
    "start_time": "2023-11-27T20:56:25.107Z"
   },
   {
    "duration": 10,
    "start_time": "2023-11-27T20:57:40.930Z"
   },
   {
    "duration": 253,
    "start_time": "2023-11-27T21:02:49.956Z"
   },
   {
    "duration": 303,
    "start_time": "2023-11-27T21:04:27.801Z"
   },
   {
    "duration": 203,
    "start_time": "2023-11-27T21:33:36.655Z"
   },
   {
    "duration": 195,
    "start_time": "2023-11-27T21:34:10.945Z"
   },
   {
    "duration": 163,
    "start_time": "2023-11-27T21:34:52.911Z"
   },
   {
    "duration": 385,
    "start_time": "2023-11-27T21:34:59.656Z"
   },
   {
    "duration": 9,
    "start_time": "2023-11-27T21:40:45.855Z"
   },
   {
    "duration": 109,
    "start_time": "2023-11-27T21:43:25.879Z"
   },
   {
    "duration": 6,
    "start_time": "2023-11-27T21:43:55.910Z"
   },
   {
    "duration": 455,
    "start_time": "2023-11-27T21:51:14.123Z"
   },
   {
    "duration": 1924,
    "start_time": "2023-11-27T21:51:57.368Z"
   },
   {
    "duration": 1813,
    "start_time": "2023-11-27T21:52:20.336Z"
   },
   {
    "duration": 1851,
    "start_time": "2023-11-28T17:59:30.637Z"
   },
   {
    "duration": 122,
    "start_time": "2023-11-28T18:01:37.340Z"
   },
   {
    "duration": 29,
    "start_time": "2023-11-28T18:01:38.521Z"
   },
   {
    "duration": 70,
    "start_time": "2023-11-29T16:23:28.830Z"
   },
   {
    "duration": 1592,
    "start_time": "2023-11-29T16:29:52.984Z"
   },
   {
    "duration": 390,
    "start_time": "2023-11-29T16:29:54.578Z"
   },
   {
    "duration": 34,
    "start_time": "2023-11-29T16:29:54.970Z"
   },
   {
    "duration": 24,
    "start_time": "2023-11-29T16:29:55.005Z"
   },
   {
    "duration": 43,
    "start_time": "2023-11-29T16:29:55.032Z"
   },
   {
    "duration": 40,
    "start_time": "2023-11-29T16:29:55.076Z"
   },
   {
    "duration": 103,
    "start_time": "2023-11-29T16:29:55.117Z"
   },
   {
    "duration": 73,
    "start_time": "2023-11-29T16:29:55.222Z"
   },
   {
    "duration": 11,
    "start_time": "2023-11-29T16:29:55.297Z"
   },
   {
    "duration": 42,
    "start_time": "2023-11-29T16:29:55.309Z"
   },
   {
    "duration": 36,
    "start_time": "2023-11-29T16:29:55.353Z"
   },
   {
    "duration": 9,
    "start_time": "2023-11-29T16:29:55.391Z"
   },
   {
    "duration": 39,
    "start_time": "2023-11-29T16:29:55.401Z"
   },
   {
    "duration": 4,
    "start_time": "2023-11-29T16:29:55.442Z"
   },
   {
    "duration": 42,
    "start_time": "2023-11-29T16:29:55.448Z"
   },
   {
    "duration": 4,
    "start_time": "2023-11-29T16:29:55.492Z"
   },
   {
    "duration": 31,
    "start_time": "2023-11-29T16:29:55.498Z"
   },
   {
    "duration": 15,
    "start_time": "2023-11-29T16:29:55.530Z"
   },
   {
    "duration": 16,
    "start_time": "2023-11-29T16:29:55.546Z"
   },
   {
    "duration": 11,
    "start_time": "2023-11-29T16:29:55.564Z"
   },
   {
    "duration": 138,
    "start_time": "2023-11-29T16:29:55.576Z"
   },
   {
    "duration": 197,
    "start_time": "2023-11-29T16:29:55.716Z"
   },
   {
    "duration": 254,
    "start_time": "2023-11-29T16:29:55.914Z"
   },
   {
    "duration": 6,
    "start_time": "2023-11-29T16:29:56.170Z"
   },
   {
    "duration": 33,
    "start_time": "2023-11-29T16:29:56.177Z"
   },
   {
    "duration": 14,
    "start_time": "2023-11-29T16:29:56.212Z"
   },
   {
    "duration": 2874,
    "start_time": "2023-11-29T16:29:56.228Z"
   },
   {
    "duration": 19,
    "start_time": "2023-11-29T16:29:59.103Z"
   },
   {
    "duration": 32,
    "start_time": "2023-11-29T16:29:59.124Z"
   },
   {
    "duration": 4,
    "start_time": "2023-11-29T16:29:59.158Z"
   },
   {
    "duration": 175,
    "start_time": "2023-11-29T16:29:59.163Z"
   },
   {
    "duration": 0,
    "start_time": "2023-11-29T16:29:59.339Z"
   },
   {
    "duration": 0,
    "start_time": "2023-11-29T16:29:59.340Z"
   },
   {
    "duration": 0,
    "start_time": "2023-11-29T16:29:59.341Z"
   },
   {
    "duration": 0,
    "start_time": "2023-11-29T16:29:59.343Z"
   },
   {
    "duration": 0,
    "start_time": "2023-11-29T16:29:59.344Z"
   },
   {
    "duration": 0,
    "start_time": "2023-11-29T16:29:59.345Z"
   },
   {
    "duration": 68,
    "start_time": "2023-11-29T16:31:00.627Z"
   },
   {
    "duration": 60,
    "start_time": "2023-11-29T16:33:03.018Z"
   },
   {
    "duration": 1438,
    "start_time": "2023-11-29T16:33:30.442Z"
   },
   {
    "duration": 132,
    "start_time": "2023-11-29T16:33:31.882Z"
   },
   {
    "duration": 43,
    "start_time": "2023-11-29T16:33:32.016Z"
   },
   {
    "duration": 28,
    "start_time": "2023-11-29T16:33:32.061Z"
   },
   {
    "duration": 29,
    "start_time": "2023-11-29T16:33:32.090Z"
   },
   {
    "duration": 41,
    "start_time": "2023-11-29T16:33:32.121Z"
   },
   {
    "duration": 108,
    "start_time": "2023-11-29T16:33:32.164Z"
   },
   {
    "duration": 84,
    "start_time": "2023-11-29T16:33:32.274Z"
   },
   {
    "duration": 12,
    "start_time": "2023-11-29T16:33:32.359Z"
   },
   {
    "duration": 46,
    "start_time": "2023-11-29T16:33:32.373Z"
   },
   {
    "duration": 40,
    "start_time": "2023-11-29T16:33:32.420Z"
   },
   {
    "duration": 4,
    "start_time": "2023-11-29T16:33:32.462Z"
   },
   {
    "duration": 56,
    "start_time": "2023-11-29T16:33:32.467Z"
   },
   {
    "duration": 35,
    "start_time": "2023-11-29T16:33:32.524Z"
   },
   {
    "duration": 57,
    "start_time": "2023-11-29T16:33:32.561Z"
   },
   {
    "duration": 22,
    "start_time": "2023-11-29T16:33:32.619Z"
   },
   {
    "duration": 44,
    "start_time": "2023-11-29T16:33:32.642Z"
   },
   {
    "duration": 15,
    "start_time": "2023-11-29T16:33:32.687Z"
   },
   {
    "duration": 26,
    "start_time": "2023-11-29T16:33:32.703Z"
   },
   {
    "duration": 40,
    "start_time": "2023-11-29T16:33:32.731Z"
   },
   {
    "duration": 151,
    "start_time": "2023-11-29T16:33:32.773Z"
   },
   {
    "duration": 191,
    "start_time": "2023-11-29T16:33:32.926Z"
   },
   {
    "duration": 253,
    "start_time": "2023-11-29T16:33:33.118Z"
   },
   {
    "duration": 6,
    "start_time": "2023-11-29T16:33:33.373Z"
   },
   {
    "duration": 12,
    "start_time": "2023-11-29T16:33:33.380Z"
   },
   {
    "duration": 18,
    "start_time": "2023-11-29T16:33:33.393Z"
   },
   {
    "duration": 2228,
    "start_time": "2023-11-29T16:33:33.412Z"
   },
   {
    "duration": 25,
    "start_time": "2023-11-29T16:33:35.644Z"
   },
   {
    "duration": 23,
    "start_time": "2023-11-29T16:33:35.670Z"
   },
   {
    "duration": 4,
    "start_time": "2023-11-29T16:33:35.695Z"
   },
   {
    "duration": 133,
    "start_time": "2023-11-29T16:33:35.700Z"
   },
   {
    "duration": 0,
    "start_time": "2023-11-29T16:33:35.835Z"
   },
   {
    "duration": 0,
    "start_time": "2023-11-29T16:33:35.836Z"
   },
   {
    "duration": 0,
    "start_time": "2023-11-29T16:33:35.838Z"
   },
   {
    "duration": 0,
    "start_time": "2023-11-29T16:33:35.840Z"
   },
   {
    "duration": 0,
    "start_time": "2023-11-29T16:33:35.841Z"
   },
   {
    "duration": 0,
    "start_time": "2023-11-29T16:33:35.855Z"
   },
   {
    "duration": 80,
    "start_time": "2023-11-29T16:36:01.376Z"
   },
   {
    "duration": 1377,
    "start_time": "2023-11-29T16:44:39.776Z"
   },
   {
    "duration": 148,
    "start_time": "2023-11-29T16:44:41.155Z"
   },
   {
    "duration": 43,
    "start_time": "2023-11-29T16:44:41.305Z"
   },
   {
    "duration": 25,
    "start_time": "2023-11-29T16:44:41.350Z"
   },
   {
    "duration": 29,
    "start_time": "2023-11-29T16:44:41.377Z"
   },
   {
    "duration": 19,
    "start_time": "2023-11-29T16:44:41.407Z"
   },
   {
    "duration": 28,
    "start_time": "2023-11-29T16:44:41.428Z"
   },
   {
    "duration": 69,
    "start_time": "2023-11-29T16:44:41.458Z"
   },
   {
    "duration": 32,
    "start_time": "2023-11-29T16:44:41.529Z"
   },
   {
    "duration": 29,
    "start_time": "2023-11-29T16:44:41.563Z"
   },
   {
    "duration": 41,
    "start_time": "2023-11-29T16:44:41.593Z"
   },
   {
    "duration": 5,
    "start_time": "2023-11-29T16:44:41.655Z"
   },
   {
    "duration": 25,
    "start_time": "2023-11-29T16:44:41.661Z"
   },
   {
    "duration": 4,
    "start_time": "2023-11-29T16:44:41.689Z"
   },
   {
    "duration": 24,
    "start_time": "2023-11-29T16:44:41.694Z"
   },
   {
    "duration": 4,
    "start_time": "2023-11-29T16:44:41.719Z"
   },
   {
    "duration": 49,
    "start_time": "2023-11-29T16:44:41.725Z"
   },
   {
    "duration": 16,
    "start_time": "2023-11-29T16:44:41.775Z"
   },
   {
    "duration": 12,
    "start_time": "2023-11-29T16:44:41.792Z"
   },
   {
    "duration": 11,
    "start_time": "2023-11-29T16:44:41.805Z"
   },
   {
    "duration": 162,
    "start_time": "2023-11-29T16:44:41.817Z"
   },
   {
    "duration": 216,
    "start_time": "2023-11-29T16:44:41.980Z"
   },
   {
    "duration": 263,
    "start_time": "2023-11-29T16:44:42.197Z"
   },
   {
    "duration": 7,
    "start_time": "2023-11-29T16:44:42.462Z"
   },
   {
    "duration": 8,
    "start_time": "2023-11-29T16:44:42.470Z"
   },
   {
    "duration": 3,
    "start_time": "2023-11-29T16:44:42.480Z"
   },
   {
    "duration": 2227,
    "start_time": "2023-11-29T16:44:42.485Z"
   },
   {
    "duration": 19,
    "start_time": "2023-11-29T16:44:44.713Z"
   },
   {
    "duration": 35,
    "start_time": "2023-11-29T16:44:44.733Z"
   },
   {
    "duration": 4,
    "start_time": "2023-11-29T16:44:44.769Z"
   },
   {
    "duration": 10,
    "start_time": "2023-11-29T16:44:44.774Z"
   },
   {
    "duration": 4,
    "start_time": "2023-11-29T16:44:44.785Z"
   },
   {
    "duration": 1587,
    "start_time": "2023-11-29T17:15:58.644Z"
   },
   {
    "duration": 139,
    "start_time": "2023-11-29T17:16:00.233Z"
   },
   {
    "duration": 43,
    "start_time": "2023-11-29T17:16:00.373Z"
   },
   {
    "duration": 63,
    "start_time": "2023-11-29T17:16:00.418Z"
   },
   {
    "duration": 44,
    "start_time": "2023-11-29T17:16:00.483Z"
   },
   {
    "duration": 28,
    "start_time": "2023-11-29T17:16:00.528Z"
   },
   {
    "duration": 3,
    "start_time": "2023-11-29T17:16:00.557Z"
   },
   {
    "duration": 108,
    "start_time": "2023-11-29T17:16:00.562Z"
   },
   {
    "duration": 11,
    "start_time": "2023-11-29T17:16:00.671Z"
   },
   {
    "duration": 21,
    "start_time": "2023-11-29T17:16:00.684Z"
   },
   {
    "duration": 52,
    "start_time": "2023-11-29T17:16:00.707Z"
   },
   {
    "duration": 5,
    "start_time": "2023-11-29T17:16:00.761Z"
   },
   {
    "duration": 34,
    "start_time": "2023-11-29T17:16:00.767Z"
   },
   {
    "duration": 4,
    "start_time": "2023-11-29T17:16:00.805Z"
   },
   {
    "duration": 27,
    "start_time": "2023-11-29T17:16:00.811Z"
   },
   {
    "duration": 19,
    "start_time": "2023-11-29T17:16:00.840Z"
   },
   {
    "duration": 30,
    "start_time": "2023-11-29T17:16:00.860Z"
   },
   {
    "duration": 17,
    "start_time": "2023-11-29T17:16:00.892Z"
   },
   {
    "duration": 13,
    "start_time": "2023-11-29T17:16:00.911Z"
   },
   {
    "duration": 34,
    "start_time": "2023-11-29T17:16:00.926Z"
   },
   {
    "duration": 141,
    "start_time": "2023-11-29T17:16:00.962Z"
   },
   {
    "duration": 220,
    "start_time": "2023-11-29T17:16:01.105Z"
   },
   {
    "duration": 289,
    "start_time": "2023-11-29T17:16:01.327Z"
   },
   {
    "duration": 7,
    "start_time": "2023-11-29T17:16:01.617Z"
   },
   {
    "duration": 29,
    "start_time": "2023-11-29T17:16:01.625Z"
   },
   {
    "duration": 19,
    "start_time": "2023-11-29T17:16:01.655Z"
   },
   {
    "duration": 2237,
    "start_time": "2023-11-29T17:16:01.676Z"
   },
   {
    "duration": 20,
    "start_time": "2023-11-29T17:16:03.914Z"
   },
   {
    "duration": 32,
    "start_time": "2023-11-29T17:16:03.935Z"
   },
   {
    "duration": 4,
    "start_time": "2023-11-29T17:16:03.968Z"
   },
   {
    "duration": 12,
    "start_time": "2023-11-29T17:16:03.973Z"
   },
   {
    "duration": 4,
    "start_time": "2023-11-29T17:16:03.987Z"
   },
   {
    "duration": 58,
    "start_time": "2023-11-29T19:45:37.379Z"
   },
   {
    "duration": 2258,
    "start_time": "2023-11-30T18:02:41.620Z"
   },
   {
    "duration": 341,
    "start_time": "2023-11-30T18:02:53.080Z"
   },
   {
    "duration": 35,
    "start_time": "2023-11-30T18:02:53.896Z"
   }
  ],
  "kernelspec": {
   "display_name": "Python 3 (ipykernel)",
   "language": "python",
   "name": "python3"
  },
  "language_info": {
   "codemirror_mode": {
    "name": "ipython",
    "version": 3
   },
   "file_extension": ".py",
   "mimetype": "text/x-python",
   "name": "python",
   "nbconvert_exporter": "python",
   "pygments_lexer": "ipython3",
   "version": "3.11.7"
  },
  "toc": {
   "base_numbering": 1,
   "nav_menu": {},
   "number_sections": true,
   "sideBar": true,
   "skip_h1_title": true,
   "title_cell": "Table of Contents",
   "title_sidebar": "Contents",
   "toc_cell": false,
   "toc_position": {
    "height": "calc(100% - 180px)",
    "left": "10px",
    "top": "150px",
    "width": "361.391px"
   },
   "toc_section_display": true,
   "toc_window_display": true
  }
 },
 "nbformat": 4,
 "nbformat_minor": 5
}
