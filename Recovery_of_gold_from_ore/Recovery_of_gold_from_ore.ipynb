{
 "cells": [
  {
   "cell_type": "markdown",
   "metadata": {},
   "source": [
    "# Восстановление золота из руды"
   ]
  },
  {
   "cell_type": "markdown",
   "metadata": {
    "toc": true
   },
   "source": [
    "<h1>Содержание<span class=\"tocSkip\"></span></h1>\n",
    "<div class=\"toc\"><ul class=\"toc-item\"><li><span><a href=\"#Подготовка-данных--\" data-toc-modified-id=\"Подготовка-данных---1\"><span class=\"toc-item-num\">1&nbsp;&nbsp;</span>Подготовка данных  <a name=\"подготовка\" rel=\"nofollow\"></a></a></span><ul class=\"toc-item\"><li><span><a href=\"#Пропуски\" data-toc-modified-id=\"Пропуски-1.1\"><span class=\"toc-item-num\">1.1&nbsp;&nbsp;</span>Пропуски</a></span></li><li><span><a href=\"#Дубликаты\" data-toc-modified-id=\"Дубликаты-1.2\"><span class=\"toc-item-num\">1.2&nbsp;&nbsp;</span>Дубликаты</a></span></li><li><span><a href=\"#Проверка,-что-эффективность-обогащения-рассчитана-правильно.-Вычислияем-её-на-обучающей-выборке-для-признака-rougher.output.recovery.-Находим-MAE-между-нашими-расчётами-и-значением-признака-\" data-toc-modified-id=\"Проверка,-что-эффективность-обогащения-рассчитана-правильно.-Вычислияем-её-на-обучающей-выборке-для-признака-rougher.output.recovery.-Находим-MAE-между-нашими-расчётами-и-значением-признака--1.3\"><span class=\"toc-item-num\">1.3&nbsp;&nbsp;</span>Проверка, что эффективность обогащения рассчитана правильно. Вычислияем её на обучающей выборке для признака rougher.output.recovery. Находим MAE между нашими расчётами и значением признака <a name=\"расчет\" rel=\"nofollow\"></a></a></span></li><li><span><a href=\"#Отсутвие-признаков-в-тестовом-датасете\" data-toc-modified-id=\"Отсутвие-признаков-в-тестовом-датасете-1.4\"><span class=\"toc-item-num\">1.4&nbsp;&nbsp;</span>Отсутвие признаков в тестовом датасете</a></span></li></ul></li><li><span><a href=\"#Анализ-данных\" data-toc-modified-id=\"Анализ-данных-2\"><span class=\"toc-item-num\">2&nbsp;&nbsp;</span>Анализ данных</a></span><ul class=\"toc-item\"><li><span><a href=\"#Функция-для-визуализации-концентрации-металлов\" data-toc-modified-id=\"Функция-для-визуализации-концентрации-металлов-2.1\"><span class=\"toc-item-num\">2.1&nbsp;&nbsp;</span>Функция для визуализации концентрации металлов</a></span></li><li><span><a href=\"#AU\" data-toc-modified-id=\"AU-2.2\"><span class=\"toc-item-num\">2.2&nbsp;&nbsp;</span>AU</a></span></li><li><span><a href=\"#AG\" data-toc-modified-id=\"AG-2.3\"><span class=\"toc-item-num\">2.3&nbsp;&nbsp;</span>AG</a></span></li><li><span><a href=\"#PB\" data-toc-modified-id=\"PB-2.4\"><span class=\"toc-item-num\">2.4&nbsp;&nbsp;</span>PB</a></span></li><li><span><a href=\"#Сравним-распределения-размеров-гранул-исходного-сырья-на-обучающей-и-тестовой-выборках\" data-toc-modified-id=\"Сравним-распределения-размеров-гранул-исходного-сырья-на-обучающей-и-тестовой-выборках-2.5\"><span class=\"toc-item-num\">2.5&nbsp;&nbsp;</span>Сравним распределения размеров гранул исходного сырья на обучающей и тестовой выборках</a></span></li><li><span><a href=\"#Исследуем-суммарную-концентрацию-металлов-на-разных-стадиях:-в-сырье,-в-черновом-концентрате,-в-концентрате-после-первой-очистки-и-в-финальном-концентрате.\" data-toc-modified-id=\"Исследуем-суммарную-концентрацию-металлов-на-разных-стадиях:-в-сырье,-в-черновом-концентрате,-в-концентрате-после-первой-очистки-и-в-финальном-концентрате.-2.6\"><span class=\"toc-item-num\">2.6&nbsp;&nbsp;</span>Исследуем суммарную концентрацию металлов на разных стадиях: в сырье, в черновом концентрате, в концентрате после первой очистки и в финальном концентрате.</a></span></li></ul></li><li><span><a href=\"#Модель\" data-toc-modified-id=\"Модель-3\"><span class=\"toc-item-num\">3&nbsp;&nbsp;</span>Модель</a></span><ul class=\"toc-item\"><li><span><a href=\"#Функция-вычисления-sMAPE\" data-toc-modified-id=\"Функция-вычисления-sMAPE-3.1\"><span class=\"toc-item-num\">3.1&nbsp;&nbsp;</span>Функция вычисления sMAPE</a></span></li><li><span><a href=\"#Функция-вычисления-итоговой-sMAPE\" data-toc-modified-id=\"Функция-вычисления-итоговой-sMAPE-3.2\"><span class=\"toc-item-num\">3.2&nbsp;&nbsp;</span>Функция вычисления итоговой sMAPE</a></span></li><li><span><a href=\"#Обучите-разные-модели-и-оцените-их-качество-кросс-валидацией.-Выберите-лучшую-модель-и-проверьте-её-на-тестовой-выборке.-Опишите-выводы.\" data-toc-modified-id=\"Обучите-разные-модели-и-оцените-их-качество-кросс-валидацией.-Выберите-лучшую-модель-и-проверьте-её-на-тестовой-выборке.-Опишите-выводы.-3.3\"><span class=\"toc-item-num\">3.3&nbsp;&nbsp;</span>Обучите разные модели и оцените их качество кросс-валидацией. Выберите лучшую модель и проверьте её на тестовой выборке. Опишите выводы.</a></span></li><li><span><a href=\"#Константая-модель-для-сравнения-показателей\" data-toc-modified-id=\"Константая-модель-для-сравнения-показателей-3.4\"><span class=\"toc-item-num\">3.4&nbsp;&nbsp;</span>Константая модель для сравнения показателей</a></span></li></ul></li><li><span><a href=\"#Вывод\" data-toc-modified-id=\"Вывод-4\"><span class=\"toc-item-num\">4&nbsp;&nbsp;</span>Вывод</a></span></li></ul></div>"
   ]
  },
  {
   "cell_type": "markdown",
   "metadata": {
    "tags": []
   },
   "source": [
    "# Задача <a name=\"Задача\"></a>\n",
    "Подготовить прототип модели машинного обучения. Компания разрабатывает решения для эффективной работы промышленных предприятий.\n",
    "\n",
    "Модель должна предсказать коэффициент восстановления золота из золотосодержащей руды. Предоставленны данные с параметрами добычи и очистки. \n",
    "\n",
    "Модель поможет оптимизировать производство, чтобы не запускать предприятие с убыточными характеристиками.\n",
    "\n",
    "Доп. информация:\n",
    "\n",
    "Данные находятся в трёх файлах.\n",
    "\n",
    "Данные индексируются датой и временем получения информации. Соседние по времени параметры часто похожи.\n",
    "В распоряжении сырые данные: их просто выгрузили из хранилища. \n",
    "Некоторые параметры недоступны, потому что замеряются и/или рассчитываются значительно позже. Из-за этого в тестовой выборке отсутствуют некоторые признаки, которые могут быть в обучающей. Также в тестовом наборе нет целевых признаков.\n",
    "Исходный датасет содержит обучающую и тестовую выборки со всеми признаками.\n",
    "\n",
    "Необходимо:\n",
    "\n",
    "1. Подготовить данные;\n",
    "2. Провести исследовательский анализ данных;\n",
    "3. Построить и обучить модель.\n",
    "\n"
   ]
  },
  {
   "cell_type": "markdown",
   "metadata": {},
   "source": [
    "## Подготовка данных  <a name=\"подготовка\"></a>"
   ]
  },
  {
   "cell_type": "code",
   "execution_count": 40,
   "metadata": {},
   "outputs": [],
   "source": [
    "# импорт библиотек\n",
    "import pandas as pd\n",
    "import numpy as np\n",
    "from IPython.core.display import display, HTML\n",
    "from sklearn.metrics import mean_absolute_error\n",
    "import matplotlib.pyplot as plt\n",
    "import seaborn as sns\n",
    "from sklearn.metrics import make_scorer\n",
    "from sklearn.model_selection import train_test_split\n",
    "from sklearn.preprocessing import StandardScaler\n",
    "from sklearn.model_selection import cross_val_score, cross_val_score\n",
    "from sklearn.linear_model import LinearRegression\n",
    "from sklearn.ensemble import RandomForestRegressor\n",
    "from sklearn.model_selection import GridSearchCV\n",
    "from sklearn.dummy import DummyRegressor\n"
   ]
  },
  {
   "cell_type": "code",
   "execution_count": 2,
   "metadata": {},
   "outputs": [
    {
     "data": {
      "text/html": [
       "<style>.container { width:75% !important; }</style>"
      ],
      "text/plain": [
       "<IPython.core.display.HTML object>"
      ]
     },
     "metadata": {},
     "output_type": "display_data"
    }
   ],
   "source": [
    "display(HTML(\"<style>.container { width:75% !important; }</style>\")) # больше не делаю, экран не такой большой как хотелось бы"
   ]
  },
  {
   "cell_type": "code",
   "execution_count": 3,
   "metadata": {},
   "outputs": [],
   "source": [
    "random_state= 12345"
   ]
  },
  {
   "cell_type": "code",
   "execution_count": 4,
   "metadata": {},
   "outputs": [
    {
     "name": "stdout",
     "output_type": "stream",
     "text": [
      "Информация о датасете:\n",
      "<class 'pandas.core.frame.DataFrame'>\n",
      "Index: 14579 entries, 2016-01-15 00:00:00 to 2017-12-09 13:59:59\n",
      "Data columns (total 86 columns):\n",
      " #   Column                                              Non-Null Count  Dtype  \n",
      "---  ------                                              --------------  -----  \n",
      " 0   rougher.input.feed_au                               14579 non-null  float64\n",
      " 1   rougher.input.feed_ag                               14579 non-null  float64\n",
      " 2   rougher.input.feed_pb                               14507 non-null  float64\n",
      " 3   rougher.input.feed_sol                              14502 non-null  float64\n",
      " 4   rougher.input.feed_rate                             14572 non-null  float64\n",
      " 5   rougher.input.feed_size                             14478 non-null  float64\n",
      " 6   rougher.input.floatbank10_sulfate                   14548 non-null  float64\n",
      " 7   rougher.input.floatbank10_xanthate                  14572 non-null  float64\n",
      " 8   rougher.state.floatbank10_a_air                     14579 non-null  float64\n",
      " 9   rougher.state.floatbank10_a_level                   14579 non-null  float64\n",
      " 10  rougher.state.floatbank10_b_air                     14579 non-null  float64\n",
      " 11  rougher.state.floatbank10_b_level                   14579 non-null  float64\n",
      " 12  rougher.state.floatbank10_c_air                     14579 non-null  float64\n",
      " 13  rougher.state.floatbank10_c_level                   14579 non-null  float64\n",
      " 14  rougher.state.floatbank10_d_air                     14579 non-null  float64\n",
      " 15  rougher.state.floatbank10_d_level                   14579 non-null  float64\n",
      " 16  rougher.state.floatbank10_e_air                     14150 non-null  float64\n",
      " 17  rougher.state.floatbank10_e_level                   14579 non-null  float64\n",
      " 18  rougher.state.floatbank10_f_air                     14579 non-null  float64\n",
      " 19  rougher.state.floatbank10_f_level                   14579 non-null  float64\n",
      " 20  rougher.input.floatbank11_sulfate                   14543 non-null  float64\n",
      " 21  rougher.input.floatbank11_xanthate                  14172 non-null  float64\n",
      " 22  rougher.calculation.sulfate_to_au_concentrate       14578 non-null  float64\n",
      " 23  rougher.calculation.floatbank10_sulfate_to_au_feed  14578 non-null  float64\n",
      " 24  rougher.calculation.floatbank11_sulfate_to_au_feed  14578 non-null  float64\n",
      " 25  rougher.calculation.au_pb_ratio                     14579 non-null  float64\n",
      " 26  rougher.output.concentrate_au                       14579 non-null  float64\n",
      " 27  rougher.output.concentrate_ag                       14579 non-null  float64\n",
      " 28  rougher.output.concentrate_pb                       14579 non-null  float64\n",
      " 29  rougher.output.concentrate_sol                      14561 non-null  float64\n",
      " 30  rougher.output.recovery                             14579 non-null  float64\n",
      " 31  rougher.output.tail_au                              14579 non-null  float64\n",
      " 32  rougher.output.tail_ag                              14578 non-null  float64\n",
      " 33  rougher.output.tail_pb                              14579 non-null  float64\n",
      " 34  rougher.output.tail_sol                             14579 non-null  float64\n",
      " 35  primary_cleaner.input.sulfate                       14556 non-null  float64\n",
      " 36  primary_cleaner.input.depressant                    14551 non-null  float64\n",
      " 37  primary_cleaner.input.feed_size                     14579 non-null  float64\n",
      " 38  primary_cleaner.input.xanthate                      14518 non-null  float64\n",
      " 39  primary_cleaner.state.floatbank8_a_air              14576 non-null  float64\n",
      " 40  primary_cleaner.state.floatbank8_a_level            14579 non-null  float64\n",
      " 41  primary_cleaner.state.floatbank8_b_air              14576 non-null  float64\n",
      " 42  primary_cleaner.state.floatbank8_b_level            14579 non-null  float64\n",
      " 43  primary_cleaner.state.floatbank8_c_air              14579 non-null  float64\n",
      " 44  primary_cleaner.state.floatbank8_c_level            14579 non-null  float64\n",
      " 45  primary_cleaner.state.floatbank8_d_air              14578 non-null  float64\n",
      " 46  primary_cleaner.state.floatbank8_d_level            14579 non-null  float64\n",
      " 47  primary_cleaner.output.concentrate_au               14579 non-null  float64\n",
      " 48  primary_cleaner.output.concentrate_ag               14579 non-null  float64\n",
      " 49  primary_cleaner.output.concentrate_pb               14491 non-null  float64\n",
      " 50  primary_cleaner.output.concentrate_sol              14314 non-null  float64\n",
      " 51  primary_cleaner.output.tail_au                      14579 non-null  float64\n",
      " 52  primary_cleaner.output.tail_ag                      14575 non-null  float64\n",
      " 53  primary_cleaner.output.tail_pb                      14573 non-null  float64\n",
      " 54  primary_cleaner.output.tail_sol                     14534 non-null  float64\n",
      " 55  secondary_cleaner.state.floatbank2_a_air            14485 non-null  float64\n",
      " 56  secondary_cleaner.state.floatbank2_a_level          14579 non-null  float64\n",
      " 57  secondary_cleaner.state.floatbank2_b_air            14557 non-null  float64\n",
      " 58  secondary_cleaner.state.floatbank2_b_level          14579 non-null  float64\n",
      " 59  secondary_cleaner.state.floatbank3_a_air            14567 non-null  float64\n",
      " 60  secondary_cleaner.state.floatbank3_a_level          14579 non-null  float64\n",
      " 61  secondary_cleaner.state.floatbank3_b_air            14579 non-null  float64\n",
      " 62  secondary_cleaner.state.floatbank3_b_level          14579 non-null  float64\n",
      " 63  secondary_cleaner.state.floatbank4_a_air            14574 non-null  float64\n",
      " 64  secondary_cleaner.state.floatbank4_a_level          14579 non-null  float64\n",
      " 65  secondary_cleaner.state.floatbank4_b_air            14579 non-null  float64\n",
      " 66  secondary_cleaner.state.floatbank4_b_level          14579 non-null  float64\n",
      " 67  secondary_cleaner.state.floatbank5_a_air            14579 non-null  float64\n",
      " 68  secondary_cleaner.state.floatbank5_a_level          14579 non-null  float64\n",
      " 69  secondary_cleaner.state.floatbank5_b_air            14579 non-null  float64\n",
      " 70  secondary_cleaner.state.floatbank5_b_level          14579 non-null  float64\n",
      " 71  secondary_cleaner.state.floatbank6_a_air            14578 non-null  float64\n",
      " 72  secondary_cleaner.state.floatbank6_a_level          14579 non-null  float64\n",
      " 73  secondary_cleaner.output.tail_au                    14579 non-null  float64\n",
      " 74  secondary_cleaner.output.tail_ag                    14578 non-null  float64\n",
      " 75  secondary_cleaner.output.tail_pb                    14575 non-null  float64\n",
      " 76  secondary_cleaner.output.tail_sol                   13659 non-null  float64\n",
      " 77  final.output.concentrate_au                         14579 non-null  float64\n",
      " 78  final.output.concentrate_ag                         14578 non-null  float64\n",
      " 79  final.output.concentrate_pb                         14578 non-null  float64\n",
      " 80  final.output.concentrate_sol                        14387 non-null  float64\n",
      " 81  final.output.recovery                               14579 non-null  float64\n",
      " 82  final.output.tail_au                                14579 non-null  float64\n",
      " 83  final.output.tail_ag                                14578 non-null  float64\n",
      " 84  final.output.tail_pb                                14504 non-null  float64\n",
      " 85  final.output.tail_sol                               14574 non-null  float64\n",
      "dtypes: float64(86)\n",
      "memory usage: 9.7+ MB\n"
     ]
    },
    {
     "data": {
      "text/plain": [
       "None"
      ]
     },
     "metadata": {},
     "output_type": "display_data"
    },
    {
     "name": "stdout",
     "output_type": "stream",
     "text": [
      "Первые 5 строк датасета:\n"
     ]
    },
    {
     "data": {
      "text/html": [
       "<div>\n",
       "<style scoped>\n",
       "    .dataframe tbody tr th:only-of-type {\n",
       "        vertical-align: middle;\n",
       "    }\n",
       "\n",
       "    .dataframe tbody tr th {\n",
       "        vertical-align: top;\n",
       "    }\n",
       "\n",
       "    .dataframe thead th {\n",
       "        text-align: right;\n",
       "    }\n",
       "</style>\n",
       "<table border=\"1\" class=\"dataframe\">\n",
       "  <thead>\n",
       "    <tr style=\"text-align: right;\">\n",
       "      <th></th>\n",
       "      <th>rougher.input.feed_au</th>\n",
       "      <th>rougher.input.feed_ag</th>\n",
       "      <th>rougher.input.feed_pb</th>\n",
       "      <th>rougher.input.feed_sol</th>\n",
       "      <th>rougher.input.feed_rate</th>\n",
       "      <th>rougher.input.feed_size</th>\n",
       "      <th>rougher.input.floatbank10_sulfate</th>\n",
       "      <th>rougher.input.floatbank10_xanthate</th>\n",
       "      <th>rougher.state.floatbank10_a_air</th>\n",
       "      <th>rougher.state.floatbank10_a_level</th>\n",
       "      <th>...</th>\n",
       "      <th>secondary_cleaner.output.tail_sol</th>\n",
       "      <th>final.output.concentrate_au</th>\n",
       "      <th>final.output.concentrate_ag</th>\n",
       "      <th>final.output.concentrate_pb</th>\n",
       "      <th>final.output.concentrate_sol</th>\n",
       "      <th>final.output.recovery</th>\n",
       "      <th>final.output.tail_au</th>\n",
       "      <th>final.output.tail_ag</th>\n",
       "      <th>final.output.tail_pb</th>\n",
       "      <th>final.output.tail_sol</th>\n",
       "    </tr>\n",
       "    <tr>\n",
       "      <th>date</th>\n",
       "      <th></th>\n",
       "      <th></th>\n",
       "      <th></th>\n",
       "      <th></th>\n",
       "      <th></th>\n",
       "      <th></th>\n",
       "      <th></th>\n",
       "      <th></th>\n",
       "      <th></th>\n",
       "      <th></th>\n",
       "      <th></th>\n",
       "      <th></th>\n",
       "      <th></th>\n",
       "      <th></th>\n",
       "      <th></th>\n",
       "      <th></th>\n",
       "      <th></th>\n",
       "      <th></th>\n",
       "      <th></th>\n",
       "      <th></th>\n",
       "      <th></th>\n",
       "    </tr>\n",
       "  </thead>\n",
       "  <tbody>\n",
       "    <tr>\n",
       "      <th>2016-01-15 00:00:00</th>\n",
       "      <td>6.486150</td>\n",
       "      <td>6.100378</td>\n",
       "      <td>2.284912</td>\n",
       "      <td>36.808594</td>\n",
       "      <td>523.546326</td>\n",
       "      <td>55.486599</td>\n",
       "      <td>11.986616</td>\n",
       "      <td>6.007990</td>\n",
       "      <td>999.706909</td>\n",
       "      <td>-404.066986</td>\n",
       "      <td>...</td>\n",
       "      <td>8.764648</td>\n",
       "      <td>42.192020</td>\n",
       "      <td>6.055403</td>\n",
       "      <td>9.889648</td>\n",
       "      <td>5.507324</td>\n",
       "      <td>70.541216</td>\n",
       "      <td>2.143149</td>\n",
       "      <td>10.411962</td>\n",
       "      <td>0.895447</td>\n",
       "      <td>16.904297</td>\n",
       "    </tr>\n",
       "    <tr>\n",
       "      <th>2016-01-15 01:00:00</th>\n",
       "      <td>6.478583</td>\n",
       "      <td>6.161113</td>\n",
       "      <td>2.266033</td>\n",
       "      <td>35.753385</td>\n",
       "      <td>525.290581</td>\n",
       "      <td>57.278666</td>\n",
       "      <td>11.971193</td>\n",
       "      <td>6.005766</td>\n",
       "      <td>1000.286398</td>\n",
       "      <td>-400.065196</td>\n",
       "      <td>...</td>\n",
       "      <td>9.001494</td>\n",
       "      <td>42.701629</td>\n",
       "      <td>6.029369</td>\n",
       "      <td>9.968944</td>\n",
       "      <td>5.257781</td>\n",
       "      <td>69.266198</td>\n",
       "      <td>2.224930</td>\n",
       "      <td>10.462676</td>\n",
       "      <td>0.927452</td>\n",
       "      <td>16.634514</td>\n",
       "    </tr>\n",
       "    <tr>\n",
       "      <th>2016-01-15 02:00:00</th>\n",
       "      <td>6.362222</td>\n",
       "      <td>6.116455</td>\n",
       "      <td>2.159622</td>\n",
       "      <td>35.971630</td>\n",
       "      <td>530.026610</td>\n",
       "      <td>57.510649</td>\n",
       "      <td>11.920603</td>\n",
       "      <td>6.197377</td>\n",
       "      <td>999.719565</td>\n",
       "      <td>-400.074028</td>\n",
       "      <td>...</td>\n",
       "      <td>8.842896</td>\n",
       "      <td>42.657501</td>\n",
       "      <td>6.055926</td>\n",
       "      <td>10.213995</td>\n",
       "      <td>5.383759</td>\n",
       "      <td>68.116445</td>\n",
       "      <td>2.257889</td>\n",
       "      <td>10.507046</td>\n",
       "      <td>0.953716</td>\n",
       "      <td>16.208849</td>\n",
       "    </tr>\n",
       "    <tr>\n",
       "      <th>2016-01-15 03:00:00</th>\n",
       "      <td>6.118189</td>\n",
       "      <td>6.043309</td>\n",
       "      <td>2.037807</td>\n",
       "      <td>36.862241</td>\n",
       "      <td>542.590390</td>\n",
       "      <td>57.792734</td>\n",
       "      <td>11.630094</td>\n",
       "      <td>6.203177</td>\n",
       "      <td>999.814770</td>\n",
       "      <td>-400.200179</td>\n",
       "      <td>...</td>\n",
       "      <td>9.122857</td>\n",
       "      <td>42.689819</td>\n",
       "      <td>6.047977</td>\n",
       "      <td>9.977019</td>\n",
       "      <td>4.858634</td>\n",
       "      <td>68.347543</td>\n",
       "      <td>2.146849</td>\n",
       "      <td>10.422762</td>\n",
       "      <td>0.883763</td>\n",
       "      <td>16.532835</td>\n",
       "    </tr>\n",
       "    <tr>\n",
       "      <th>2016-01-15 04:00:00</th>\n",
       "      <td>5.663707</td>\n",
       "      <td>6.060915</td>\n",
       "      <td>1.786875</td>\n",
       "      <td>34.347666</td>\n",
       "      <td>540.531893</td>\n",
       "      <td>56.047189</td>\n",
       "      <td>10.957755</td>\n",
       "      <td>6.198826</td>\n",
       "      <td>999.678690</td>\n",
       "      <td>-399.752729</td>\n",
       "      <td>...</td>\n",
       "      <td>8.871028</td>\n",
       "      <td>42.774141</td>\n",
       "      <td>6.148599</td>\n",
       "      <td>10.142511</td>\n",
       "      <td>4.939416</td>\n",
       "      <td>66.927016</td>\n",
       "      <td>2.055292</td>\n",
       "      <td>10.360302</td>\n",
       "      <td>0.792826</td>\n",
       "      <td>16.525686</td>\n",
       "    </tr>\n",
       "  </tbody>\n",
       "</table>\n",
       "<p>5 rows × 86 columns</p>\n",
       "</div>"
      ],
      "text/plain": [
       "                     rougher.input.feed_au  rougher.input.feed_ag  \\\n",
       "date                                                                \n",
       "2016-01-15 00:00:00               6.486150               6.100378   \n",
       "2016-01-15 01:00:00               6.478583               6.161113   \n",
       "2016-01-15 02:00:00               6.362222               6.116455   \n",
       "2016-01-15 03:00:00               6.118189               6.043309   \n",
       "2016-01-15 04:00:00               5.663707               6.060915   \n",
       "\n",
       "                     rougher.input.feed_pb  rougher.input.feed_sol  \\\n",
       "date                                                                 \n",
       "2016-01-15 00:00:00               2.284912               36.808594   \n",
       "2016-01-15 01:00:00               2.266033               35.753385   \n",
       "2016-01-15 02:00:00               2.159622               35.971630   \n",
       "2016-01-15 03:00:00               2.037807               36.862241   \n",
       "2016-01-15 04:00:00               1.786875               34.347666   \n",
       "\n",
       "                     rougher.input.feed_rate  rougher.input.feed_size  \\\n",
       "date                                                                    \n",
       "2016-01-15 00:00:00               523.546326                55.486599   \n",
       "2016-01-15 01:00:00               525.290581                57.278666   \n",
       "2016-01-15 02:00:00               530.026610                57.510649   \n",
       "2016-01-15 03:00:00               542.590390                57.792734   \n",
       "2016-01-15 04:00:00               540.531893                56.047189   \n",
       "\n",
       "                     rougher.input.floatbank10_sulfate  \\\n",
       "date                                                     \n",
       "2016-01-15 00:00:00                          11.986616   \n",
       "2016-01-15 01:00:00                          11.971193   \n",
       "2016-01-15 02:00:00                          11.920603   \n",
       "2016-01-15 03:00:00                          11.630094   \n",
       "2016-01-15 04:00:00                          10.957755   \n",
       "\n",
       "                     rougher.input.floatbank10_xanthate  \\\n",
       "date                                                      \n",
       "2016-01-15 00:00:00                            6.007990   \n",
       "2016-01-15 01:00:00                            6.005766   \n",
       "2016-01-15 02:00:00                            6.197377   \n",
       "2016-01-15 03:00:00                            6.203177   \n",
       "2016-01-15 04:00:00                            6.198826   \n",
       "\n",
       "                     rougher.state.floatbank10_a_air  \\\n",
       "date                                                   \n",
       "2016-01-15 00:00:00                       999.706909   \n",
       "2016-01-15 01:00:00                      1000.286398   \n",
       "2016-01-15 02:00:00                       999.719565   \n",
       "2016-01-15 03:00:00                       999.814770   \n",
       "2016-01-15 04:00:00                       999.678690   \n",
       "\n",
       "                     rougher.state.floatbank10_a_level  ...  \\\n",
       "date                                                    ...   \n",
       "2016-01-15 00:00:00                        -404.066986  ...   \n",
       "2016-01-15 01:00:00                        -400.065196  ...   \n",
       "2016-01-15 02:00:00                        -400.074028  ...   \n",
       "2016-01-15 03:00:00                        -400.200179  ...   \n",
       "2016-01-15 04:00:00                        -399.752729  ...   \n",
       "\n",
       "                     secondary_cleaner.output.tail_sol  \\\n",
       "date                                                     \n",
       "2016-01-15 00:00:00                           8.764648   \n",
       "2016-01-15 01:00:00                           9.001494   \n",
       "2016-01-15 02:00:00                           8.842896   \n",
       "2016-01-15 03:00:00                           9.122857   \n",
       "2016-01-15 04:00:00                           8.871028   \n",
       "\n",
       "                     final.output.concentrate_au  final.output.concentrate_ag  \\\n",
       "date                                                                            \n",
       "2016-01-15 00:00:00                    42.192020                     6.055403   \n",
       "2016-01-15 01:00:00                    42.701629                     6.029369   \n",
       "2016-01-15 02:00:00                    42.657501                     6.055926   \n",
       "2016-01-15 03:00:00                    42.689819                     6.047977   \n",
       "2016-01-15 04:00:00                    42.774141                     6.148599   \n",
       "\n",
       "                     final.output.concentrate_pb  \\\n",
       "date                                               \n",
       "2016-01-15 00:00:00                     9.889648   \n",
       "2016-01-15 01:00:00                     9.968944   \n",
       "2016-01-15 02:00:00                    10.213995   \n",
       "2016-01-15 03:00:00                     9.977019   \n",
       "2016-01-15 04:00:00                    10.142511   \n",
       "\n",
       "                     final.output.concentrate_sol  final.output.recovery  \\\n",
       "date                                                                       \n",
       "2016-01-15 00:00:00                      5.507324              70.541216   \n",
       "2016-01-15 01:00:00                      5.257781              69.266198   \n",
       "2016-01-15 02:00:00                      5.383759              68.116445   \n",
       "2016-01-15 03:00:00                      4.858634              68.347543   \n",
       "2016-01-15 04:00:00                      4.939416              66.927016   \n",
       "\n",
       "                     final.output.tail_au  final.output.tail_ag  \\\n",
       "date                                                              \n",
       "2016-01-15 00:00:00              2.143149             10.411962   \n",
       "2016-01-15 01:00:00              2.224930             10.462676   \n",
       "2016-01-15 02:00:00              2.257889             10.507046   \n",
       "2016-01-15 03:00:00              2.146849             10.422762   \n",
       "2016-01-15 04:00:00              2.055292             10.360302   \n",
       "\n",
       "                     final.output.tail_pb  final.output.tail_sol  \n",
       "date                                                              \n",
       "2016-01-15 00:00:00              0.895447              16.904297  \n",
       "2016-01-15 01:00:00              0.927452              16.634514  \n",
       "2016-01-15 02:00:00              0.953716              16.208849  \n",
       "2016-01-15 03:00:00              0.883763              16.532835  \n",
       "2016-01-15 04:00:00              0.792826              16.525686  \n",
       "\n",
       "[5 rows x 86 columns]"
      ]
     },
     "metadata": {},
     "output_type": "display_data"
    }
   ],
   "source": [
    "data_train= pd.read_csv('/datasets/gold_industry_train.csv')\n",
    "data_train = data_train.set_index('date')\n",
    "print('Информация о датасете:')\n",
    "display(data_train.info())\n",
    "print('Первые 5 строк датасета:')\n",
    "display(data_train.head())"
   ]
  },
  {
   "cell_type": "code",
   "execution_count": 5,
   "metadata": {
    "scrolled": true
   },
   "outputs": [
    {
     "name": "stdout",
     "output_type": "stream",
     "text": [
      "Информация о датасете:\n",
      "<class 'pandas.core.frame.DataFrame'>\n",
      "Index: 4860 entries, 2017-12-09 14:59:59 to 2018-08-18 10:59:59\n",
      "Data columns (total 52 columns):\n",
      " #   Column                                      Non-Null Count  Dtype  \n",
      "---  ------                                      --------------  -----  \n",
      " 0   rougher.input.feed_au                       4860 non-null   float64\n",
      " 1   rougher.input.feed_ag                       4860 non-null   float64\n",
      " 2   rougher.input.feed_pb                       4832 non-null   float64\n",
      " 3   rougher.input.feed_sol                      4838 non-null   float64\n",
      " 4   rougher.input.feed_rate                     4856 non-null   float64\n",
      " 5   rougher.input.feed_size                     4816 non-null   float64\n",
      " 6   rougher.input.floatbank10_sulfate           4857 non-null   float64\n",
      " 7   rougher.input.floatbank10_xanthate          4859 non-null   float64\n",
      " 8   rougher.state.floatbank10_a_air             4859 non-null   float64\n",
      " 9   rougher.state.floatbank10_a_level           4859 non-null   float64\n",
      " 10  rougher.state.floatbank10_b_air             4859 non-null   float64\n",
      " 11  rougher.state.floatbank10_b_level           4859 non-null   float64\n",
      " 12  rougher.state.floatbank10_c_air             4859 non-null   float64\n",
      " 13  rougher.state.floatbank10_c_level           4859 non-null   float64\n",
      " 14  rougher.state.floatbank10_d_air             4860 non-null   float64\n",
      " 15  rougher.state.floatbank10_d_level           4860 non-null   float64\n",
      " 16  rougher.state.floatbank10_e_air             4853 non-null   float64\n",
      " 17  rougher.state.floatbank10_e_level           4860 non-null   float64\n",
      " 18  rougher.state.floatbank10_f_air             4860 non-null   float64\n",
      " 19  rougher.state.floatbank10_f_level           4860 non-null   float64\n",
      " 20  rougher.input.floatbank11_sulfate           4852 non-null   float64\n",
      " 21  rougher.input.floatbank11_xanthate          4814 non-null   float64\n",
      " 22  primary_cleaner.input.sulfate               4859 non-null   float64\n",
      " 23  primary_cleaner.input.depressant            4851 non-null   float64\n",
      " 24  primary_cleaner.input.feed_size             4860 non-null   float64\n",
      " 25  primary_cleaner.input.xanthate              4817 non-null   float64\n",
      " 26  primary_cleaner.state.floatbank8_a_air      4859 non-null   float64\n",
      " 27  primary_cleaner.state.floatbank8_a_level    4859 non-null   float64\n",
      " 28  primary_cleaner.state.floatbank8_b_air      4859 non-null   float64\n",
      " 29  primary_cleaner.state.floatbank8_b_level    4859 non-null   float64\n",
      " 30  primary_cleaner.state.floatbank8_c_air      4858 non-null   float64\n",
      " 31  primary_cleaner.state.floatbank8_c_level    4859 non-null   float64\n",
      " 32  primary_cleaner.state.floatbank8_d_air      4858 non-null   float64\n",
      " 33  primary_cleaner.state.floatbank8_d_level    4859 non-null   float64\n",
      " 34  secondary_cleaner.state.floatbank2_a_air    4734 non-null   float64\n",
      " 35  secondary_cleaner.state.floatbank2_a_level  4859 non-null   float64\n",
      " 36  secondary_cleaner.state.floatbank2_b_air    4859 non-null   float64\n",
      " 37  secondary_cleaner.state.floatbank2_b_level  4859 non-null   float64\n",
      " 38  secondary_cleaner.state.floatbank3_a_air    4859 non-null   float64\n",
      " 39  secondary_cleaner.state.floatbank3_a_level  4859 non-null   float64\n",
      " 40  secondary_cleaner.state.floatbank3_b_air    4859 non-null   float64\n",
      " 41  secondary_cleaner.state.floatbank3_b_level  4859 non-null   float64\n",
      " 42  secondary_cleaner.state.floatbank4_a_air    4859 non-null   float64\n",
      " 43  secondary_cleaner.state.floatbank4_a_level  4859 non-null   float64\n",
      " 44  secondary_cleaner.state.floatbank4_b_air    4859 non-null   float64\n",
      " 45  secondary_cleaner.state.floatbank4_b_level  4859 non-null   float64\n",
      " 46  secondary_cleaner.state.floatbank5_a_air    4859 non-null   float64\n",
      " 47  secondary_cleaner.state.floatbank5_a_level  4859 non-null   float64\n",
      " 48  secondary_cleaner.state.floatbank5_b_air    4859 non-null   float64\n",
      " 49  secondary_cleaner.state.floatbank5_b_level  4859 non-null   float64\n",
      " 50  secondary_cleaner.state.floatbank6_a_air    4859 non-null   float64\n",
      " 51  secondary_cleaner.state.floatbank6_a_level  4859 non-null   float64\n",
      "dtypes: float64(52)\n",
      "memory usage: 2.0+ MB\n"
     ]
    },
    {
     "data": {
      "text/plain": [
       "None"
      ]
     },
     "metadata": {},
     "output_type": "display_data"
    },
    {
     "name": "stdout",
     "output_type": "stream",
     "text": [
      "Первые 5 строк датасета:\n"
     ]
    },
    {
     "data": {
      "text/html": [
       "<div>\n",
       "<style scoped>\n",
       "    .dataframe tbody tr th:only-of-type {\n",
       "        vertical-align: middle;\n",
       "    }\n",
       "\n",
       "    .dataframe tbody tr th {\n",
       "        vertical-align: top;\n",
       "    }\n",
       "\n",
       "    .dataframe thead th {\n",
       "        text-align: right;\n",
       "    }\n",
       "</style>\n",
       "<table border=\"1\" class=\"dataframe\">\n",
       "  <thead>\n",
       "    <tr style=\"text-align: right;\">\n",
       "      <th></th>\n",
       "      <th>rougher.input.feed_au</th>\n",
       "      <th>rougher.input.feed_ag</th>\n",
       "      <th>rougher.input.feed_pb</th>\n",
       "      <th>rougher.input.feed_sol</th>\n",
       "      <th>rougher.input.feed_rate</th>\n",
       "      <th>rougher.input.feed_size</th>\n",
       "      <th>rougher.input.floatbank10_sulfate</th>\n",
       "      <th>rougher.input.floatbank10_xanthate</th>\n",
       "      <th>rougher.state.floatbank10_a_air</th>\n",
       "      <th>rougher.state.floatbank10_a_level</th>\n",
       "      <th>...</th>\n",
       "      <th>secondary_cleaner.state.floatbank4_a_air</th>\n",
       "      <th>secondary_cleaner.state.floatbank4_a_level</th>\n",
       "      <th>secondary_cleaner.state.floatbank4_b_air</th>\n",
       "      <th>secondary_cleaner.state.floatbank4_b_level</th>\n",
       "      <th>secondary_cleaner.state.floatbank5_a_air</th>\n",
       "      <th>secondary_cleaner.state.floatbank5_a_level</th>\n",
       "      <th>secondary_cleaner.state.floatbank5_b_air</th>\n",
       "      <th>secondary_cleaner.state.floatbank5_b_level</th>\n",
       "      <th>secondary_cleaner.state.floatbank6_a_air</th>\n",
       "      <th>secondary_cleaner.state.floatbank6_a_level</th>\n",
       "    </tr>\n",
       "    <tr>\n",
       "      <th>date</th>\n",
       "      <th></th>\n",
       "      <th></th>\n",
       "      <th></th>\n",
       "      <th></th>\n",
       "      <th></th>\n",
       "      <th></th>\n",
       "      <th></th>\n",
       "      <th></th>\n",
       "      <th></th>\n",
       "      <th></th>\n",
       "      <th></th>\n",
       "      <th></th>\n",
       "      <th></th>\n",
       "      <th></th>\n",
       "      <th></th>\n",
       "      <th></th>\n",
       "      <th></th>\n",
       "      <th></th>\n",
       "      <th></th>\n",
       "      <th></th>\n",
       "      <th></th>\n",
       "    </tr>\n",
       "  </thead>\n",
       "  <tbody>\n",
       "    <tr>\n",
       "      <th>2017-12-09 14:59:59</th>\n",
       "      <td>4.365491</td>\n",
       "      <td>6.158718</td>\n",
       "      <td>3.875727</td>\n",
       "      <td>39.135119</td>\n",
       "      <td>555.820208</td>\n",
       "      <td>94.544358</td>\n",
       "      <td>6.146982</td>\n",
       "      <td>9.308612</td>\n",
       "      <td>1196.238112</td>\n",
       "      <td>-299.862743</td>\n",
       "      <td>...</td>\n",
       "      <td>23.018622</td>\n",
       "      <td>-500.492702</td>\n",
       "      <td>20.020205</td>\n",
       "      <td>-500.220296</td>\n",
       "      <td>17.963512</td>\n",
       "      <td>-499.939490</td>\n",
       "      <td>12.990306</td>\n",
       "      <td>-500.080993</td>\n",
       "      <td>19.990336</td>\n",
       "      <td>-499.191575</td>\n",
       "    </tr>\n",
       "    <tr>\n",
       "      <th>2017-12-09 15:59:59</th>\n",
       "      <td>4.362781</td>\n",
       "      <td>6.048130</td>\n",
       "      <td>3.902537</td>\n",
       "      <td>39.713906</td>\n",
       "      <td>544.731687</td>\n",
       "      <td>123.742430</td>\n",
       "      <td>6.210119</td>\n",
       "      <td>9.297709</td>\n",
       "      <td>1201.904177</td>\n",
       "      <td>-299.907308</td>\n",
       "      <td>...</td>\n",
       "      <td>23.024963</td>\n",
       "      <td>-501.153409</td>\n",
       "      <td>20.054122</td>\n",
       "      <td>-500.314711</td>\n",
       "      <td>17.979515</td>\n",
       "      <td>-499.272871</td>\n",
       "      <td>12.992404</td>\n",
       "      <td>-499.976268</td>\n",
       "      <td>20.013986</td>\n",
       "      <td>-500.625471</td>\n",
       "    </tr>\n",
       "    <tr>\n",
       "      <th>2017-12-09 16:59:59</th>\n",
       "      <td>5.081681</td>\n",
       "      <td>6.082745</td>\n",
       "      <td>4.564078</td>\n",
       "      <td>37.208683</td>\n",
       "      <td>558.155110</td>\n",
       "      <td>82.610855</td>\n",
       "      <td>7.363824</td>\n",
       "      <td>9.003562</td>\n",
       "      <td>1200.826926</td>\n",
       "      <td>-300.124116</td>\n",
       "      <td>...</td>\n",
       "      <td>22.993827</td>\n",
       "      <td>-501.559663</td>\n",
       "      <td>20.029144</td>\n",
       "      <td>-500.000662</td>\n",
       "      <td>18.012723</td>\n",
       "      <td>-500.024764</td>\n",
       "      <td>13.016445</td>\n",
       "      <td>-500.058432</td>\n",
       "      <td>19.973767</td>\n",
       "      <td>-501.394155</td>\n",
       "    </tr>\n",
       "    <tr>\n",
       "      <th>2017-12-09 17:59:59</th>\n",
       "      <td>5.145949</td>\n",
       "      <td>6.084374</td>\n",
       "      <td>4.768124</td>\n",
       "      <td>36.808874</td>\n",
       "      <td>539.713765</td>\n",
       "      <td>77.984784</td>\n",
       "      <td>6.927072</td>\n",
       "      <td>8.955597</td>\n",
       "      <td>1199.292489</td>\n",
       "      <td>-299.778385</td>\n",
       "      <td>...</td>\n",
       "      <td>23.032807</td>\n",
       "      <td>-501.287889</td>\n",
       "      <td>19.977466</td>\n",
       "      <td>-500.159903</td>\n",
       "      <td>17.980463</td>\n",
       "      <td>-500.504602</td>\n",
       "      <td>12.949071</td>\n",
       "      <td>-500.009937</td>\n",
       "      <td>20.010332</td>\n",
       "      <td>-508.337973</td>\n",
       "    </tr>\n",
       "    <tr>\n",
       "      <th>2017-12-09 18:59:59</th>\n",
       "      <td>5.735249</td>\n",
       "      <td>6.165220</td>\n",
       "      <td>4.512346</td>\n",
       "      <td>37.810642</td>\n",
       "      <td>558.713584</td>\n",
       "      <td>86.434874</td>\n",
       "      <td>7.823471</td>\n",
       "      <td>7.490356</td>\n",
       "      <td>1198.005449</td>\n",
       "      <td>-300.283401</td>\n",
       "      <td>...</td>\n",
       "      <td>23.001911</td>\n",
       "      <td>-499.947838</td>\n",
       "      <td>20.023735</td>\n",
       "      <td>-499.713680</td>\n",
       "      <td>17.990955</td>\n",
       "      <td>-500.334769</td>\n",
       "      <td>13.007523</td>\n",
       "      <td>-499.968459</td>\n",
       "      <td>19.995999</td>\n",
       "      <td>-499.788805</td>\n",
       "    </tr>\n",
       "  </tbody>\n",
       "</table>\n",
       "<p>5 rows × 52 columns</p>\n",
       "</div>"
      ],
      "text/plain": [
       "                     rougher.input.feed_au  rougher.input.feed_ag  \\\n",
       "date                                                                \n",
       "2017-12-09 14:59:59               4.365491               6.158718   \n",
       "2017-12-09 15:59:59               4.362781               6.048130   \n",
       "2017-12-09 16:59:59               5.081681               6.082745   \n",
       "2017-12-09 17:59:59               5.145949               6.084374   \n",
       "2017-12-09 18:59:59               5.735249               6.165220   \n",
       "\n",
       "                     rougher.input.feed_pb  rougher.input.feed_sol  \\\n",
       "date                                                                 \n",
       "2017-12-09 14:59:59               3.875727               39.135119   \n",
       "2017-12-09 15:59:59               3.902537               39.713906   \n",
       "2017-12-09 16:59:59               4.564078               37.208683   \n",
       "2017-12-09 17:59:59               4.768124               36.808874   \n",
       "2017-12-09 18:59:59               4.512346               37.810642   \n",
       "\n",
       "                     rougher.input.feed_rate  rougher.input.feed_size  \\\n",
       "date                                                                    \n",
       "2017-12-09 14:59:59               555.820208                94.544358   \n",
       "2017-12-09 15:59:59               544.731687               123.742430   \n",
       "2017-12-09 16:59:59               558.155110                82.610855   \n",
       "2017-12-09 17:59:59               539.713765                77.984784   \n",
       "2017-12-09 18:59:59               558.713584                86.434874   \n",
       "\n",
       "                     rougher.input.floatbank10_sulfate  \\\n",
       "date                                                     \n",
       "2017-12-09 14:59:59                           6.146982   \n",
       "2017-12-09 15:59:59                           6.210119   \n",
       "2017-12-09 16:59:59                           7.363824   \n",
       "2017-12-09 17:59:59                           6.927072   \n",
       "2017-12-09 18:59:59                           7.823471   \n",
       "\n",
       "                     rougher.input.floatbank10_xanthate  \\\n",
       "date                                                      \n",
       "2017-12-09 14:59:59                            9.308612   \n",
       "2017-12-09 15:59:59                            9.297709   \n",
       "2017-12-09 16:59:59                            9.003562   \n",
       "2017-12-09 17:59:59                            8.955597   \n",
       "2017-12-09 18:59:59                            7.490356   \n",
       "\n",
       "                     rougher.state.floatbank10_a_air  \\\n",
       "date                                                   \n",
       "2017-12-09 14:59:59                      1196.238112   \n",
       "2017-12-09 15:59:59                      1201.904177   \n",
       "2017-12-09 16:59:59                      1200.826926   \n",
       "2017-12-09 17:59:59                      1199.292489   \n",
       "2017-12-09 18:59:59                      1198.005449   \n",
       "\n",
       "                     rougher.state.floatbank10_a_level  ...  \\\n",
       "date                                                    ...   \n",
       "2017-12-09 14:59:59                        -299.862743  ...   \n",
       "2017-12-09 15:59:59                        -299.907308  ...   \n",
       "2017-12-09 16:59:59                        -300.124116  ...   \n",
       "2017-12-09 17:59:59                        -299.778385  ...   \n",
       "2017-12-09 18:59:59                        -300.283401  ...   \n",
       "\n",
       "                     secondary_cleaner.state.floatbank4_a_air  \\\n",
       "date                                                            \n",
       "2017-12-09 14:59:59                                 23.018622   \n",
       "2017-12-09 15:59:59                                 23.024963   \n",
       "2017-12-09 16:59:59                                 22.993827   \n",
       "2017-12-09 17:59:59                                 23.032807   \n",
       "2017-12-09 18:59:59                                 23.001911   \n",
       "\n",
       "                     secondary_cleaner.state.floatbank4_a_level  \\\n",
       "date                                                              \n",
       "2017-12-09 14:59:59                                 -500.492702   \n",
       "2017-12-09 15:59:59                                 -501.153409   \n",
       "2017-12-09 16:59:59                                 -501.559663   \n",
       "2017-12-09 17:59:59                                 -501.287889   \n",
       "2017-12-09 18:59:59                                 -499.947838   \n",
       "\n",
       "                     secondary_cleaner.state.floatbank4_b_air  \\\n",
       "date                                                            \n",
       "2017-12-09 14:59:59                                 20.020205   \n",
       "2017-12-09 15:59:59                                 20.054122   \n",
       "2017-12-09 16:59:59                                 20.029144   \n",
       "2017-12-09 17:59:59                                 19.977466   \n",
       "2017-12-09 18:59:59                                 20.023735   \n",
       "\n",
       "                     secondary_cleaner.state.floatbank4_b_level  \\\n",
       "date                                                              \n",
       "2017-12-09 14:59:59                                 -500.220296   \n",
       "2017-12-09 15:59:59                                 -500.314711   \n",
       "2017-12-09 16:59:59                                 -500.000662   \n",
       "2017-12-09 17:59:59                                 -500.159903   \n",
       "2017-12-09 18:59:59                                 -499.713680   \n",
       "\n",
       "                     secondary_cleaner.state.floatbank5_a_air  \\\n",
       "date                                                            \n",
       "2017-12-09 14:59:59                                 17.963512   \n",
       "2017-12-09 15:59:59                                 17.979515   \n",
       "2017-12-09 16:59:59                                 18.012723   \n",
       "2017-12-09 17:59:59                                 17.980463   \n",
       "2017-12-09 18:59:59                                 17.990955   \n",
       "\n",
       "                     secondary_cleaner.state.floatbank5_a_level  \\\n",
       "date                                                              \n",
       "2017-12-09 14:59:59                                 -499.939490   \n",
       "2017-12-09 15:59:59                                 -499.272871   \n",
       "2017-12-09 16:59:59                                 -500.024764   \n",
       "2017-12-09 17:59:59                                 -500.504602   \n",
       "2017-12-09 18:59:59                                 -500.334769   \n",
       "\n",
       "                     secondary_cleaner.state.floatbank5_b_air  \\\n",
       "date                                                            \n",
       "2017-12-09 14:59:59                                 12.990306   \n",
       "2017-12-09 15:59:59                                 12.992404   \n",
       "2017-12-09 16:59:59                                 13.016445   \n",
       "2017-12-09 17:59:59                                 12.949071   \n",
       "2017-12-09 18:59:59                                 13.007523   \n",
       "\n",
       "                     secondary_cleaner.state.floatbank5_b_level  \\\n",
       "date                                                              \n",
       "2017-12-09 14:59:59                                 -500.080993   \n",
       "2017-12-09 15:59:59                                 -499.976268   \n",
       "2017-12-09 16:59:59                                 -500.058432   \n",
       "2017-12-09 17:59:59                                 -500.009937   \n",
       "2017-12-09 18:59:59                                 -499.968459   \n",
       "\n",
       "                     secondary_cleaner.state.floatbank6_a_air  \\\n",
       "date                                                            \n",
       "2017-12-09 14:59:59                                 19.990336   \n",
       "2017-12-09 15:59:59                                 20.013986   \n",
       "2017-12-09 16:59:59                                 19.973767   \n",
       "2017-12-09 17:59:59                                 20.010332   \n",
       "2017-12-09 18:59:59                                 19.995999   \n",
       "\n",
       "                     secondary_cleaner.state.floatbank6_a_level  \n",
       "date                                                             \n",
       "2017-12-09 14:59:59                                 -499.191575  \n",
       "2017-12-09 15:59:59                                 -500.625471  \n",
       "2017-12-09 16:59:59                                 -501.394155  \n",
       "2017-12-09 17:59:59                                 -508.337973  \n",
       "2017-12-09 18:59:59                                 -499.788805  \n",
       "\n",
       "[5 rows x 52 columns]"
      ]
     },
     "metadata": {},
     "output_type": "display_data"
    }
   ],
   "source": [
    "data_test = pd.read_csv('/datasets/gold_industry_test.csv')\n",
    "data_test = data_test.set_index('date')\n",
    "print('Информация о датасете:')\n",
    "display(data_test.info())\n",
    "print('Первые 5 строк датасета:')\n",
    "display(data_test.head())"
   ]
  },
  {
   "cell_type": "code",
   "execution_count": 6,
   "metadata": {},
   "outputs": [
    {
     "name": "stdout",
     "output_type": "stream",
     "text": [
      "Информация о датасете:\n",
      "<class 'pandas.core.frame.DataFrame'>\n",
      "Index: 19439 entries, 2016-01-15 00:00:00 to 2018-08-18 10:59:59\n",
      "Data columns (total 86 columns):\n",
      " #   Column                                              Non-Null Count  Dtype  \n",
      "---  ------                                              --------------  -----  \n",
      " 0   rougher.input.feed_au                               19439 non-null  float64\n",
      " 1   rougher.input.feed_ag                               19439 non-null  float64\n",
      " 2   rougher.input.feed_pb                               19339 non-null  float64\n",
      " 3   rougher.input.feed_sol                              19340 non-null  float64\n",
      " 4   rougher.input.feed_rate                             19428 non-null  float64\n",
      " 5   rougher.input.feed_size                             19294 non-null  float64\n",
      " 6   rougher.input.floatbank10_sulfate                   19405 non-null  float64\n",
      " 7   rougher.input.floatbank10_xanthate                  19431 non-null  float64\n",
      " 8   rougher.state.floatbank10_a_air                     19438 non-null  float64\n",
      " 9   rougher.state.floatbank10_a_level                   19438 non-null  float64\n",
      " 10  rougher.state.floatbank10_b_air                     19438 non-null  float64\n",
      " 11  rougher.state.floatbank10_b_level                   19438 non-null  float64\n",
      " 12  rougher.state.floatbank10_c_air                     19438 non-null  float64\n",
      " 13  rougher.state.floatbank10_c_level                   19438 non-null  float64\n",
      " 14  rougher.state.floatbank10_d_air                     19439 non-null  float64\n",
      " 15  rougher.state.floatbank10_d_level                   19439 non-null  float64\n",
      " 16  rougher.state.floatbank10_e_air                     19003 non-null  float64\n",
      " 17  rougher.state.floatbank10_e_level                   19439 non-null  float64\n",
      " 18  rougher.state.floatbank10_f_air                     19439 non-null  float64\n",
      " 19  rougher.state.floatbank10_f_level                   19439 non-null  float64\n",
      " 20  rougher.input.floatbank11_sulfate                   19395 non-null  float64\n",
      " 21  rougher.input.floatbank11_xanthate                  18986 non-null  float64\n",
      " 22  rougher.calculation.sulfate_to_au_concentrate       19437 non-null  float64\n",
      " 23  rougher.calculation.floatbank10_sulfate_to_au_feed  19437 non-null  float64\n",
      " 24  rougher.calculation.floatbank11_sulfate_to_au_feed  19437 non-null  float64\n",
      " 25  rougher.calculation.au_pb_ratio                     19439 non-null  float64\n",
      " 26  rougher.output.concentrate_au                       19439 non-null  float64\n",
      " 27  rougher.output.concentrate_ag                       19439 non-null  float64\n",
      " 28  rougher.output.concentrate_pb                       19439 non-null  float64\n",
      " 29  rougher.output.concentrate_sol                      19416 non-null  float64\n",
      " 30  rougher.output.recovery                             19439 non-null  float64\n",
      " 31  rougher.output.tail_au                              19439 non-null  float64\n",
      " 32  rougher.output.tail_ag                              19438 non-null  float64\n",
      " 33  rougher.output.tail_pb                              19439 non-null  float64\n",
      " 34  rougher.output.tail_sol                             19439 non-null  float64\n",
      " 35  primary_cleaner.input.sulfate                       19415 non-null  float64\n",
      " 36  primary_cleaner.input.depressant                    19402 non-null  float64\n",
      " 37  primary_cleaner.input.feed_size                     19439 non-null  float64\n",
      " 38  primary_cleaner.input.xanthate                      19335 non-null  float64\n",
      " 39  primary_cleaner.state.floatbank8_a_air              19435 non-null  float64\n",
      " 40  primary_cleaner.state.floatbank8_a_level            19438 non-null  float64\n",
      " 41  primary_cleaner.state.floatbank8_b_air              19435 non-null  float64\n",
      " 42  primary_cleaner.state.floatbank8_b_level            19438 non-null  float64\n",
      " 43  primary_cleaner.state.floatbank8_c_air              19437 non-null  float64\n",
      " 44  primary_cleaner.state.floatbank8_c_level            19438 non-null  float64\n",
      " 45  primary_cleaner.state.floatbank8_d_air              19436 non-null  float64\n",
      " 46  primary_cleaner.state.floatbank8_d_level            19438 non-null  float64\n",
      " 47  primary_cleaner.output.concentrate_au               19439 non-null  float64\n",
      " 48  primary_cleaner.output.concentrate_ag               19439 non-null  float64\n",
      " 49  primary_cleaner.output.concentrate_pb               19323 non-null  float64\n",
      " 50  primary_cleaner.output.concentrate_sol              19069 non-null  float64\n",
      " 51  primary_cleaner.output.tail_au                      19439 non-null  float64\n",
      " 52  primary_cleaner.output.tail_ag                      19435 non-null  float64\n",
      " 53  primary_cleaner.output.tail_pb                      19418 non-null  float64\n",
      " 54  primary_cleaner.output.tail_sol                     19377 non-null  float64\n",
      " 55  secondary_cleaner.state.floatbank2_a_air            19219 non-null  float64\n",
      " 56  secondary_cleaner.state.floatbank2_a_level          19438 non-null  float64\n",
      " 57  secondary_cleaner.state.floatbank2_b_air            19416 non-null  float64\n",
      " 58  secondary_cleaner.state.floatbank2_b_level          19438 non-null  float64\n",
      " 59  secondary_cleaner.state.floatbank3_a_air            19426 non-null  float64\n",
      " 60  secondary_cleaner.state.floatbank3_a_level          19438 non-null  float64\n",
      " 61  secondary_cleaner.state.floatbank3_b_air            19438 non-null  float64\n",
      " 62  secondary_cleaner.state.floatbank3_b_level          19438 non-null  float64\n",
      " 63  secondary_cleaner.state.floatbank4_a_air            19433 non-null  float64\n",
      " 64  secondary_cleaner.state.floatbank4_a_level          19438 non-null  float64\n",
      " 65  secondary_cleaner.state.floatbank4_b_air            19438 non-null  float64\n",
      " 66  secondary_cleaner.state.floatbank4_b_level          19438 non-null  float64\n",
      " 67  secondary_cleaner.state.floatbank5_a_air            19438 non-null  float64\n",
      " 68  secondary_cleaner.state.floatbank5_a_level          19438 non-null  float64\n",
      " 69  secondary_cleaner.state.floatbank5_b_air            19438 non-null  float64\n",
      " 70  secondary_cleaner.state.floatbank5_b_level          19438 non-null  float64\n",
      " 71  secondary_cleaner.state.floatbank6_a_air            19437 non-null  float64\n",
      " 72  secondary_cleaner.state.floatbank6_a_level          19438 non-null  float64\n",
      " 73  secondary_cleaner.output.tail_au                    19439 non-null  float64\n",
      " 74  secondary_cleaner.output.tail_ag                    19437 non-null  float64\n",
      " 75  secondary_cleaner.output.tail_pb                    19427 non-null  float64\n",
      " 76  secondary_cleaner.output.tail_sol                   17691 non-null  float64\n",
      " 77  final.output.concentrate_au                         19439 non-null  float64\n",
      " 78  final.output.concentrate_ag                         19438 non-null  float64\n",
      " 79  final.output.concentrate_pb                         19438 non-null  float64\n",
      " 80  final.output.concentrate_sol                        19228 non-null  float64\n",
      " 81  final.output.recovery                               19439 non-null  float64\n",
      " 82  final.output.tail_au                                19439 non-null  float64\n",
      " 83  final.output.tail_ag                                19438 non-null  float64\n",
      " 84  final.output.tail_pb                                19338 non-null  float64\n",
      " 85  final.output.tail_sol                               19433 non-null  float64\n",
      "dtypes: float64(86)\n",
      "memory usage: 12.9+ MB\n"
     ]
    },
    {
     "data": {
      "text/plain": [
       "None"
      ]
     },
     "metadata": {},
     "output_type": "display_data"
    },
    {
     "name": "stdout",
     "output_type": "stream",
     "text": [
      "Первые 5 строк датасета:\n"
     ]
    },
    {
     "data": {
      "text/html": [
       "<div>\n",
       "<style scoped>\n",
       "    .dataframe tbody tr th:only-of-type {\n",
       "        vertical-align: middle;\n",
       "    }\n",
       "\n",
       "    .dataframe tbody tr th {\n",
       "        vertical-align: top;\n",
       "    }\n",
       "\n",
       "    .dataframe thead th {\n",
       "        text-align: right;\n",
       "    }\n",
       "</style>\n",
       "<table border=\"1\" class=\"dataframe\">\n",
       "  <thead>\n",
       "    <tr style=\"text-align: right;\">\n",
       "      <th></th>\n",
       "      <th>rougher.input.feed_au</th>\n",
       "      <th>rougher.input.feed_ag</th>\n",
       "      <th>rougher.input.feed_pb</th>\n",
       "      <th>rougher.input.feed_sol</th>\n",
       "      <th>rougher.input.feed_rate</th>\n",
       "      <th>rougher.input.feed_size</th>\n",
       "      <th>rougher.input.floatbank10_sulfate</th>\n",
       "      <th>rougher.input.floatbank10_xanthate</th>\n",
       "      <th>rougher.state.floatbank10_a_air</th>\n",
       "      <th>rougher.state.floatbank10_a_level</th>\n",
       "      <th>...</th>\n",
       "      <th>secondary_cleaner.output.tail_sol</th>\n",
       "      <th>final.output.concentrate_au</th>\n",
       "      <th>final.output.concentrate_ag</th>\n",
       "      <th>final.output.concentrate_pb</th>\n",
       "      <th>final.output.concentrate_sol</th>\n",
       "      <th>final.output.recovery</th>\n",
       "      <th>final.output.tail_au</th>\n",
       "      <th>final.output.tail_ag</th>\n",
       "      <th>final.output.tail_pb</th>\n",
       "      <th>final.output.tail_sol</th>\n",
       "    </tr>\n",
       "    <tr>\n",
       "      <th>date</th>\n",
       "      <th></th>\n",
       "      <th></th>\n",
       "      <th></th>\n",
       "      <th></th>\n",
       "      <th></th>\n",
       "      <th></th>\n",
       "      <th></th>\n",
       "      <th></th>\n",
       "      <th></th>\n",
       "      <th></th>\n",
       "      <th></th>\n",
       "      <th></th>\n",
       "      <th></th>\n",
       "      <th></th>\n",
       "      <th></th>\n",
       "      <th></th>\n",
       "      <th></th>\n",
       "      <th></th>\n",
       "      <th></th>\n",
       "      <th></th>\n",
       "      <th></th>\n",
       "    </tr>\n",
       "  </thead>\n",
       "  <tbody>\n",
       "    <tr>\n",
       "      <th>2016-01-15 00:00:00</th>\n",
       "      <td>6.486150</td>\n",
       "      <td>6.100378</td>\n",
       "      <td>2.284912</td>\n",
       "      <td>36.808594</td>\n",
       "      <td>523.546326</td>\n",
       "      <td>55.486599</td>\n",
       "      <td>11.986616</td>\n",
       "      <td>6.007990</td>\n",
       "      <td>999.706909</td>\n",
       "      <td>-404.066986</td>\n",
       "      <td>...</td>\n",
       "      <td>8.764648</td>\n",
       "      <td>42.192020</td>\n",
       "      <td>6.055403</td>\n",
       "      <td>9.889648</td>\n",
       "      <td>5.507324</td>\n",
       "      <td>70.541216</td>\n",
       "      <td>2.143149</td>\n",
       "      <td>10.411962</td>\n",
       "      <td>0.895447</td>\n",
       "      <td>16.904297</td>\n",
       "    </tr>\n",
       "    <tr>\n",
       "      <th>2016-01-15 01:00:00</th>\n",
       "      <td>6.478583</td>\n",
       "      <td>6.161113</td>\n",
       "      <td>2.266033</td>\n",
       "      <td>35.753385</td>\n",
       "      <td>525.290581</td>\n",
       "      <td>57.278666</td>\n",
       "      <td>11.971193</td>\n",
       "      <td>6.005766</td>\n",
       "      <td>1000.286398</td>\n",
       "      <td>-400.065196</td>\n",
       "      <td>...</td>\n",
       "      <td>9.001494</td>\n",
       "      <td>42.701629</td>\n",
       "      <td>6.029369</td>\n",
       "      <td>9.968944</td>\n",
       "      <td>5.257781</td>\n",
       "      <td>69.266198</td>\n",
       "      <td>2.224930</td>\n",
       "      <td>10.462676</td>\n",
       "      <td>0.927452</td>\n",
       "      <td>16.634514</td>\n",
       "    </tr>\n",
       "    <tr>\n",
       "      <th>2016-01-15 02:00:00</th>\n",
       "      <td>6.362222</td>\n",
       "      <td>6.116455</td>\n",
       "      <td>2.159622</td>\n",
       "      <td>35.971630</td>\n",
       "      <td>530.026610</td>\n",
       "      <td>57.510649</td>\n",
       "      <td>11.920603</td>\n",
       "      <td>6.197377</td>\n",
       "      <td>999.719565</td>\n",
       "      <td>-400.074028</td>\n",
       "      <td>...</td>\n",
       "      <td>8.842896</td>\n",
       "      <td>42.657501</td>\n",
       "      <td>6.055926</td>\n",
       "      <td>10.213995</td>\n",
       "      <td>5.383759</td>\n",
       "      <td>68.116445</td>\n",
       "      <td>2.257889</td>\n",
       "      <td>10.507046</td>\n",
       "      <td>0.953716</td>\n",
       "      <td>16.208849</td>\n",
       "    </tr>\n",
       "    <tr>\n",
       "      <th>2016-01-15 03:00:00</th>\n",
       "      <td>6.118189</td>\n",
       "      <td>6.043309</td>\n",
       "      <td>2.037807</td>\n",
       "      <td>36.862241</td>\n",
       "      <td>542.590390</td>\n",
       "      <td>57.792734</td>\n",
       "      <td>11.630094</td>\n",
       "      <td>6.203177</td>\n",
       "      <td>999.814770</td>\n",
       "      <td>-400.200179</td>\n",
       "      <td>...</td>\n",
       "      <td>9.122857</td>\n",
       "      <td>42.689819</td>\n",
       "      <td>6.047977</td>\n",
       "      <td>9.977019</td>\n",
       "      <td>4.858634</td>\n",
       "      <td>68.347543</td>\n",
       "      <td>2.146849</td>\n",
       "      <td>10.422762</td>\n",
       "      <td>0.883763</td>\n",
       "      <td>16.532835</td>\n",
       "    </tr>\n",
       "    <tr>\n",
       "      <th>2016-01-15 04:00:00</th>\n",
       "      <td>5.663707</td>\n",
       "      <td>6.060915</td>\n",
       "      <td>1.786875</td>\n",
       "      <td>34.347666</td>\n",
       "      <td>540.531893</td>\n",
       "      <td>56.047189</td>\n",
       "      <td>10.957755</td>\n",
       "      <td>6.198826</td>\n",
       "      <td>999.678690</td>\n",
       "      <td>-399.752729</td>\n",
       "      <td>...</td>\n",
       "      <td>8.871028</td>\n",
       "      <td>42.774141</td>\n",
       "      <td>6.148599</td>\n",
       "      <td>10.142511</td>\n",
       "      <td>4.939416</td>\n",
       "      <td>66.927016</td>\n",
       "      <td>2.055292</td>\n",
       "      <td>10.360302</td>\n",
       "      <td>0.792826</td>\n",
       "      <td>16.525686</td>\n",
       "    </tr>\n",
       "  </tbody>\n",
       "</table>\n",
       "<p>5 rows × 86 columns</p>\n",
       "</div>"
      ],
      "text/plain": [
       "                     rougher.input.feed_au  rougher.input.feed_ag  \\\n",
       "date                                                                \n",
       "2016-01-15 00:00:00               6.486150               6.100378   \n",
       "2016-01-15 01:00:00               6.478583               6.161113   \n",
       "2016-01-15 02:00:00               6.362222               6.116455   \n",
       "2016-01-15 03:00:00               6.118189               6.043309   \n",
       "2016-01-15 04:00:00               5.663707               6.060915   \n",
       "\n",
       "                     rougher.input.feed_pb  rougher.input.feed_sol  \\\n",
       "date                                                                 \n",
       "2016-01-15 00:00:00               2.284912               36.808594   \n",
       "2016-01-15 01:00:00               2.266033               35.753385   \n",
       "2016-01-15 02:00:00               2.159622               35.971630   \n",
       "2016-01-15 03:00:00               2.037807               36.862241   \n",
       "2016-01-15 04:00:00               1.786875               34.347666   \n",
       "\n",
       "                     rougher.input.feed_rate  rougher.input.feed_size  \\\n",
       "date                                                                    \n",
       "2016-01-15 00:00:00               523.546326                55.486599   \n",
       "2016-01-15 01:00:00               525.290581                57.278666   \n",
       "2016-01-15 02:00:00               530.026610                57.510649   \n",
       "2016-01-15 03:00:00               542.590390                57.792734   \n",
       "2016-01-15 04:00:00               540.531893                56.047189   \n",
       "\n",
       "                     rougher.input.floatbank10_sulfate  \\\n",
       "date                                                     \n",
       "2016-01-15 00:00:00                          11.986616   \n",
       "2016-01-15 01:00:00                          11.971193   \n",
       "2016-01-15 02:00:00                          11.920603   \n",
       "2016-01-15 03:00:00                          11.630094   \n",
       "2016-01-15 04:00:00                          10.957755   \n",
       "\n",
       "                     rougher.input.floatbank10_xanthate  \\\n",
       "date                                                      \n",
       "2016-01-15 00:00:00                            6.007990   \n",
       "2016-01-15 01:00:00                            6.005766   \n",
       "2016-01-15 02:00:00                            6.197377   \n",
       "2016-01-15 03:00:00                            6.203177   \n",
       "2016-01-15 04:00:00                            6.198826   \n",
       "\n",
       "                     rougher.state.floatbank10_a_air  \\\n",
       "date                                                   \n",
       "2016-01-15 00:00:00                       999.706909   \n",
       "2016-01-15 01:00:00                      1000.286398   \n",
       "2016-01-15 02:00:00                       999.719565   \n",
       "2016-01-15 03:00:00                       999.814770   \n",
       "2016-01-15 04:00:00                       999.678690   \n",
       "\n",
       "                     rougher.state.floatbank10_a_level  ...  \\\n",
       "date                                                    ...   \n",
       "2016-01-15 00:00:00                        -404.066986  ...   \n",
       "2016-01-15 01:00:00                        -400.065196  ...   \n",
       "2016-01-15 02:00:00                        -400.074028  ...   \n",
       "2016-01-15 03:00:00                        -400.200179  ...   \n",
       "2016-01-15 04:00:00                        -399.752729  ...   \n",
       "\n",
       "                     secondary_cleaner.output.tail_sol  \\\n",
       "date                                                     \n",
       "2016-01-15 00:00:00                           8.764648   \n",
       "2016-01-15 01:00:00                           9.001494   \n",
       "2016-01-15 02:00:00                           8.842896   \n",
       "2016-01-15 03:00:00                           9.122857   \n",
       "2016-01-15 04:00:00                           8.871028   \n",
       "\n",
       "                     final.output.concentrate_au  final.output.concentrate_ag  \\\n",
       "date                                                                            \n",
       "2016-01-15 00:00:00                    42.192020                     6.055403   \n",
       "2016-01-15 01:00:00                    42.701629                     6.029369   \n",
       "2016-01-15 02:00:00                    42.657501                     6.055926   \n",
       "2016-01-15 03:00:00                    42.689819                     6.047977   \n",
       "2016-01-15 04:00:00                    42.774141                     6.148599   \n",
       "\n",
       "                     final.output.concentrate_pb  \\\n",
       "date                                               \n",
       "2016-01-15 00:00:00                     9.889648   \n",
       "2016-01-15 01:00:00                     9.968944   \n",
       "2016-01-15 02:00:00                    10.213995   \n",
       "2016-01-15 03:00:00                     9.977019   \n",
       "2016-01-15 04:00:00                    10.142511   \n",
       "\n",
       "                     final.output.concentrate_sol  final.output.recovery  \\\n",
       "date                                                                       \n",
       "2016-01-15 00:00:00                      5.507324              70.541216   \n",
       "2016-01-15 01:00:00                      5.257781              69.266198   \n",
       "2016-01-15 02:00:00                      5.383759              68.116445   \n",
       "2016-01-15 03:00:00                      4.858634              68.347543   \n",
       "2016-01-15 04:00:00                      4.939416              66.927016   \n",
       "\n",
       "                     final.output.tail_au  final.output.tail_ag  \\\n",
       "date                                                              \n",
       "2016-01-15 00:00:00              2.143149             10.411962   \n",
       "2016-01-15 01:00:00              2.224930             10.462676   \n",
       "2016-01-15 02:00:00              2.257889             10.507046   \n",
       "2016-01-15 03:00:00              2.146849             10.422762   \n",
       "2016-01-15 04:00:00              2.055292             10.360302   \n",
       "\n",
       "                     final.output.tail_pb  final.output.tail_sol  \n",
       "date                                                              \n",
       "2016-01-15 00:00:00              0.895447              16.904297  \n",
       "2016-01-15 01:00:00              0.927452              16.634514  \n",
       "2016-01-15 02:00:00              0.953716              16.208849  \n",
       "2016-01-15 03:00:00              0.883763              16.532835  \n",
       "2016-01-15 04:00:00              0.792826              16.525686  \n",
       "\n",
       "[5 rows x 86 columns]"
      ]
     },
     "metadata": {},
     "output_type": "display_data"
    }
   ],
   "source": [
    "data_full = pd.read_csv('/datasets/gold_industry_full.csv')\n",
    "data_full = data_full.set_index('date')\n",
    "print('Информация о датасете:')\n",
    "display(data_full.info())\n",
    "print('Первые 5 строк датасета:')\n",
    "display(data_full.head())"
   ]
  },
  {
   "cell_type": "markdown",
   "metadata": {},
   "source": [
    "В условии задачи сказано, что данные индексируются датой и временем получения информации (признак date), по этому столбцу и продеинкировали датасеты"
   ]
  },
  {
   "cell_type": "markdown",
   "metadata": {},
   "source": [
    "**<center> Описание данных </center>** <a name=\"описание\"></a>\n",
    "\n",
    "**Технологический процесс:**\n",
    "- Rougher feed — исходное сырье\n",
    "- Rougher additions (или reagent additions) — флотационные реагенты: Xanthate, Sulphate, Depressant\n",
    "- Xanthate — ксантогенат (промотер, или активатор флотации);\n",
    "- Sulphate — сульфат (на данном производстве сульфид натрия);\n",
    "- Depressant — депрессант (силикат натрия).\n",
    "- Rougher process (англ. «грубый процесс») — флотация\n",
    "- Rougher tails — отвальные хвосты\n",
    "- Float banks — флотационная установка\n",
    "- Cleaner process — очистка\n",
    "- Rougher Au — черновой концентрат золота\n",
    "- Final Au — финальный концентрат золота\n",
    "    \n",
    "**Параметры этапов:**\n",
    "- air amount — объём воздуха\n",
    "- fluid levels — уровень жидкости\n",
    "- feed size — размер гранул сырья\n",
    "- feed rate — скорость подачи\n",
    "- Наименование признаков\n",
    "\n",
    "**Возможные значения для блока [этап]:**\n",
    "- rougher — флотация\n",
    "- primary_cleaner — первичная очистка\n",
    "- secondary_cleaner — вторичная очистка\n",
    "- final — финальные характеристики\n",
    "\n",
    "**Возможные значения для блока [тип_параметра]:**\n",
    "- input — параметры сырья\n",
    "- output — параметры продукта\n",
    "- state — параметры, характеризующие текущее состояние этапа\n",
    "- calculation — расчётные характеристики"
   ]
  },
  {
   "cell_type": "markdown",
   "metadata": {},
   "source": [
    "### Пропуски"
   ]
  },
  {
   "cell_type": "code",
   "execution_count": 7,
   "metadata": {},
   "outputs": [
    {
     "name": "stdout",
     "output_type": "stream",
     "text": [
      "Количество пропусков в датасете data_train: rougher.input.feed_au       0\n",
      "rougher.input.feed_ag       0\n",
      "rougher.input.feed_pb      72\n",
      "rougher.input.feed_sol     77\n",
      "rougher.input.feed_rate     7\n",
      "                           ..\n",
      "final.output.recovery       0\n",
      "final.output.tail_au        0\n",
      "final.output.tail_ag        1\n",
      "final.output.tail_pb       75\n",
      "final.output.tail_sol       5\n",
      "Length: 86, dtype: int64\n",
      "\n",
      "-------------------\n",
      "Сумма пропусков в датасете data_train: 3050\n",
      "==================\n",
      "Количество пропусков в датасете data_test: rougher.input.feed_au                           0\n",
      "rougher.input.feed_ag                           0\n",
      "rougher.input.feed_pb                          28\n",
      "rougher.input.feed_sol                         22\n",
      "rougher.input.feed_rate                         4\n",
      "rougher.input.feed_size                        44\n",
      "rougher.input.floatbank10_sulfate               3\n",
      "rougher.input.floatbank10_xanthate              1\n",
      "rougher.state.floatbank10_a_air                 1\n",
      "rougher.state.floatbank10_a_level               1\n",
      "rougher.state.floatbank10_b_air                 1\n",
      "rougher.state.floatbank10_b_level               1\n",
      "rougher.state.floatbank10_c_air                 1\n",
      "rougher.state.floatbank10_c_level               1\n",
      "rougher.state.floatbank10_d_air                 0\n",
      "rougher.state.floatbank10_d_level               0\n",
      "rougher.state.floatbank10_e_air                 7\n",
      "rougher.state.floatbank10_e_level               0\n",
      "rougher.state.floatbank10_f_air                 0\n",
      "rougher.state.floatbank10_f_level               0\n",
      "rougher.input.floatbank11_sulfate               8\n",
      "rougher.input.floatbank11_xanthate             46\n",
      "primary_cleaner.input.sulfate                   1\n",
      "primary_cleaner.input.depressant                9\n",
      "primary_cleaner.input.feed_size                 0\n",
      "primary_cleaner.input.xanthate                 43\n",
      "primary_cleaner.state.floatbank8_a_air          1\n",
      "primary_cleaner.state.floatbank8_a_level        1\n",
      "primary_cleaner.state.floatbank8_b_air          1\n",
      "primary_cleaner.state.floatbank8_b_level        1\n",
      "primary_cleaner.state.floatbank8_c_air          2\n",
      "primary_cleaner.state.floatbank8_c_level        1\n",
      "primary_cleaner.state.floatbank8_d_air          2\n",
      "primary_cleaner.state.floatbank8_d_level        1\n",
      "secondary_cleaner.state.floatbank2_a_air      126\n",
      "secondary_cleaner.state.floatbank2_a_level      1\n",
      "secondary_cleaner.state.floatbank2_b_air        1\n",
      "secondary_cleaner.state.floatbank2_b_level      1\n",
      "secondary_cleaner.state.floatbank3_a_air        1\n",
      "secondary_cleaner.state.floatbank3_a_level      1\n",
      "secondary_cleaner.state.floatbank3_b_air        1\n",
      "secondary_cleaner.state.floatbank3_b_level      1\n",
      "secondary_cleaner.state.floatbank4_a_air        1\n",
      "secondary_cleaner.state.floatbank4_a_level      1\n",
      "secondary_cleaner.state.floatbank4_b_air        1\n",
      "secondary_cleaner.state.floatbank4_b_level      1\n",
      "secondary_cleaner.state.floatbank5_a_air        1\n",
      "secondary_cleaner.state.floatbank5_a_level      1\n",
      "secondary_cleaner.state.floatbank5_b_air        1\n",
      "secondary_cleaner.state.floatbank5_b_level      1\n",
      "secondary_cleaner.state.floatbank6_a_air        1\n",
      "secondary_cleaner.state.floatbank6_a_level      1\n",
      "dtype: int64\n",
      "\n",
      "-------------------\n",
      "Сумма пропусков в датасете data_test: 375\n",
      "==================\n",
      "Количество пропусков в датасете data_full: rougher.input.feed_au        0\n",
      "rougher.input.feed_ag        0\n",
      "rougher.input.feed_pb      100\n",
      "rougher.input.feed_sol      99\n",
      "rougher.input.feed_rate     11\n",
      "                          ... \n",
      "final.output.recovery        0\n",
      "final.output.tail_au         0\n",
      "final.output.tail_ag         1\n",
      "final.output.tail_pb       101\n",
      "final.output.tail_sol        6\n",
      "Length: 86, dtype: int64\n",
      "\n",
      "-------------------\n",
      "Сумма пропусков в датасете data_full: 4481\n",
      "==================\n"
     ]
    }
   ],
   "source": [
    "check = ['data_train','data_test','data_full']\n",
    "for data_n in check:\n",
    "    data_check = globals()[data_n]  # получаем датасет по его имени\n",
    "    data_miss = data_check.isnull().sum()  # считаем количество пропусков в датасете\n",
    "    total_miss = data_miss.sum()\n",
    "    print(f\"Количество пропусков в датасете {data_n}: {data_miss}\")\n",
    "    print()\n",
    "    print('-------------------')\n",
    "    print(f\"Сумма пропусков в датасете {data_n}: {total_miss}\")\n",
    "    print('==================')"
   ]
  },
  {
   "cell_type": "markdown",
   "metadata": {},
   "source": [
    "В датасетах имеются пропуски. \n",
    "    \n",
    "    - train = 3050\n",
    "    - test = 375\n",
    "    - full = 4481\n",
    "    \n",
    "Заполним их предыдущими значениями .fillna(method='bfill'), так как тут последовательные процессы."
   ]
  },
  {
   "cell_type": "code",
   "execution_count": 8,
   "metadata": {},
   "outputs": [],
   "source": [
    "for data_n in check:\n",
    "    data_check = globals()[data_n]\n",
    "    data_fill = data_check.fillna(method='bfill')\n",
    "    globals()[data_n] = data_fill"
   ]
  },
  {
   "cell_type": "code",
   "execution_count": 9,
   "metadata": {},
   "outputs": [
    {
     "name": "stdout",
     "output_type": "stream",
     "text": [
      "Количество пропусков в датасете data_train: rougher.input.feed_au      0\n",
      "rougher.input.feed_ag      0\n",
      "rougher.input.feed_pb      0\n",
      "rougher.input.feed_sol     0\n",
      "rougher.input.feed_rate    0\n",
      "                          ..\n",
      "final.output.recovery      0\n",
      "final.output.tail_au       0\n",
      "final.output.tail_ag       0\n",
      "final.output.tail_pb       0\n",
      "final.output.tail_sol      0\n",
      "Length: 86, dtype: int64\n",
      "\n",
      "-------------------\n",
      "Сумма пропусков в датасете data_train: 0\n",
      "==================\n",
      "Количество пропусков в датасете data_test: rougher.input.feed_au                         0\n",
      "rougher.input.feed_ag                         0\n",
      "rougher.input.feed_pb                         0\n",
      "rougher.input.feed_sol                        0\n",
      "rougher.input.feed_rate                       0\n",
      "rougher.input.feed_size                       0\n",
      "rougher.input.floatbank10_sulfate             0\n",
      "rougher.input.floatbank10_xanthate            0\n",
      "rougher.state.floatbank10_a_air               0\n",
      "rougher.state.floatbank10_a_level             0\n",
      "rougher.state.floatbank10_b_air               0\n",
      "rougher.state.floatbank10_b_level             0\n",
      "rougher.state.floatbank10_c_air               0\n",
      "rougher.state.floatbank10_c_level             0\n",
      "rougher.state.floatbank10_d_air               0\n",
      "rougher.state.floatbank10_d_level             0\n",
      "rougher.state.floatbank10_e_air               0\n",
      "rougher.state.floatbank10_e_level             0\n",
      "rougher.state.floatbank10_f_air               0\n",
      "rougher.state.floatbank10_f_level             0\n",
      "rougher.input.floatbank11_sulfate             0\n",
      "rougher.input.floatbank11_xanthate            0\n",
      "primary_cleaner.input.sulfate                 0\n",
      "primary_cleaner.input.depressant              0\n",
      "primary_cleaner.input.feed_size               0\n",
      "primary_cleaner.input.xanthate                0\n",
      "primary_cleaner.state.floatbank8_a_air        0\n",
      "primary_cleaner.state.floatbank8_a_level      0\n",
      "primary_cleaner.state.floatbank8_b_air        0\n",
      "primary_cleaner.state.floatbank8_b_level      0\n",
      "primary_cleaner.state.floatbank8_c_air        0\n",
      "primary_cleaner.state.floatbank8_c_level      0\n",
      "primary_cleaner.state.floatbank8_d_air        0\n",
      "primary_cleaner.state.floatbank8_d_level      0\n",
      "secondary_cleaner.state.floatbank2_a_air      0\n",
      "secondary_cleaner.state.floatbank2_a_level    0\n",
      "secondary_cleaner.state.floatbank2_b_air      0\n",
      "secondary_cleaner.state.floatbank2_b_level    0\n",
      "secondary_cleaner.state.floatbank3_a_air      0\n",
      "secondary_cleaner.state.floatbank3_a_level    0\n",
      "secondary_cleaner.state.floatbank3_b_air      0\n",
      "secondary_cleaner.state.floatbank3_b_level    0\n",
      "secondary_cleaner.state.floatbank4_a_air      0\n",
      "secondary_cleaner.state.floatbank4_a_level    0\n",
      "secondary_cleaner.state.floatbank4_b_air      0\n",
      "secondary_cleaner.state.floatbank4_b_level    0\n",
      "secondary_cleaner.state.floatbank5_a_air      0\n",
      "secondary_cleaner.state.floatbank5_a_level    0\n",
      "secondary_cleaner.state.floatbank5_b_air      0\n",
      "secondary_cleaner.state.floatbank5_b_level    0\n",
      "secondary_cleaner.state.floatbank6_a_air      0\n",
      "secondary_cleaner.state.floatbank6_a_level    0\n",
      "dtype: int64\n",
      "\n",
      "-------------------\n",
      "Сумма пропусков в датасете data_test: 0\n",
      "==================\n",
      "Количество пропусков в датасете data_full: rougher.input.feed_au      0\n",
      "rougher.input.feed_ag      0\n",
      "rougher.input.feed_pb      0\n",
      "rougher.input.feed_sol     0\n",
      "rougher.input.feed_rate    0\n",
      "                          ..\n",
      "final.output.recovery      0\n",
      "final.output.tail_au       0\n",
      "final.output.tail_ag       0\n",
      "final.output.tail_pb       0\n",
      "final.output.tail_sol      0\n",
      "Length: 86, dtype: int64\n",
      "\n",
      "-------------------\n",
      "Сумма пропусков в датасете data_full: 0\n",
      "==================\n"
     ]
    }
   ],
   "source": [
    "# Проверяем повторно наличие пропусков после заполнения.\n",
    "for data_n in check:\n",
    "    data_check = globals()[data_n]  # получаем датасет по его имени\n",
    "    data_miss = data_check.isnull().sum()  # считаем количество пропусков в датасете\n",
    "    total_miss = data_miss.sum()\n",
    "    print(f\"Количество пропусков в датасете {data_n}: {data_miss}\")\n",
    "    print()\n",
    "    print('-------------------')\n",
    "    print(f\"Сумма пропусков в датасете {data_n}: {total_miss}\")\n",
    "    print('==================')"
   ]
  },
  {
   "cell_type": "markdown",
   "metadata": {},
   "source": [
    "Пропуски ликвидированы. "
   ]
  },
  {
   "cell_type": "markdown",
   "metadata": {},
   "source": [
    "### Дубликаты"
   ]
  },
  {
   "cell_type": "code",
   "execution_count": 10,
   "metadata": {},
   "outputs": [
    {
     "name": "stdout",
     "output_type": "stream",
     "text": [
      "Количество дублей data_train: 0 \n",
      "Количество дублей data_test: 0 \n",
      "Количество дублей data_full: 0 \n"
     ]
    }
   ],
   "source": [
    "# Цикл for для проверки каждого столбца каждого датасета\n",
    "for data_n in check:  # Перебираем каждый датасет\n",
    "    data_check = globals()[data_n]\n",
    "    duplicates = data_check.duplicated().sum()\n",
    "    print(f'Количество дублей {data_n}: {duplicates} ')\n",
    "    "
   ]
  },
  {
   "cell_type": "markdown",
   "metadata": {},
   "source": [
    "Явных дубликатов в датасетах не обнаружено. "
   ]
  },
  {
   "cell_type": "markdown",
   "metadata": {},
   "source": [
    "### Проверка, что эффективность обогащения рассчитана правильно. Вычислияем её на обучающей выборке для признака rougher.output.recovery. Находим MAE между нашими расчётами и значением признака <a name=\"расчет\"></a>"
   ]
  },
  {
   "attachments": {
    "Screenshot_2.png": {
     "image/png": "[encoded data removed]"
    }
   },
   "cell_type": "markdown",
   "metadata": {},
   "source": [
    "![Screenshot_2.png](attachment:Screenshot_2.png)"
   ]
  },
  {
   "cell_type": "code",
   "execution_count": 11,
   "metadata": {},
   "outputs": [],
   "source": [
    "#напишем функцию для рассчета\n",
    "def calculate(C, F, T, Recovery):\n",
    "    rezult=(C * (F - T)) / (F * (C - T)) * 100\n",
    "    return mean_absolute_error(Recovery, rezult)"
   ]
  },
  {
   "cell_type": "code",
   "execution_count": 12,
   "metadata": {},
   "outputs": [
    {
     "name": "stdout",
     "output_type": "stream",
     "text": [
      "MAE rougher.output.recovery между имеющимся и рассчетным составляет: 9.871121473701021e-15\n"
     ]
    }
   ],
   "source": [
    "mae = calculate(data_full['rougher.output.concentrate_au'], \n",
    "    data_full['rougher.input.feed_au'], \n",
    "    data_full['rougher.output.tail_au'],\n",
    "    data_full['rougher.output.recovery'])\n",
    "print(f'MAE rougher.output.recovery между имеющимся и рассчетным составляет: {mae}')"
   ]
  },
  {
   "cell_type": "markdown",
   "metadata": {},
   "source": [
    "Полученное значение стремится к нулю, следовательно эффективность обогащения рассчитана корректно. "
   ]
  },
  {
   "cell_type": "markdown",
   "metadata": {},
   "source": [
    "### Отсутвие признаков в тестовом датасете"
   ]
  },
  {
   "cell_type": "markdown",
   "metadata": {},
   "source": [
    "В условиях задачи говорится о том, что не все признаки попали в тестовый датасет. Давайте посмотрим на разницу. "
   ]
  },
  {
   "cell_type": "code",
   "execution_count": 13,
   "metadata": {},
   "outputs": [
    {
     "data": {
      "text/plain": [
       "(14579, 86)"
      ]
     },
     "metadata": {},
     "output_type": "display_data"
    },
    {
     "data": {
      "text/plain": [
       "(4860, 52)"
      ]
     },
     "metadata": {},
     "output_type": "display_data"
    },
    {
     "data": {
      "text/plain": [
       "(19439, 86)"
      ]
     },
     "metadata": {},
     "output_type": "display_data"
    }
   ],
   "source": [
    "display(data_train.shape)\n",
    "display(data_test.shape)\n",
    "display(data_full.shape)"
   ]
  },
  {
   "cell_type": "code",
   "execution_count": 14,
   "metadata": {},
   "outputs": [
    {
     "data": {
      "text/plain": [
       "{'final.output.concentrate_ag',\n",
       " 'final.output.concentrate_au',\n",
       " 'final.output.concentrate_pb',\n",
       " 'final.output.concentrate_sol',\n",
       " 'final.output.recovery',\n",
       " 'final.output.tail_ag',\n",
       " 'final.output.tail_au',\n",
       " 'final.output.tail_pb',\n",
       " 'final.output.tail_sol',\n",
       " 'primary_cleaner.output.concentrate_ag',\n",
       " 'primary_cleaner.output.concentrate_au',\n",
       " 'primary_cleaner.output.concentrate_pb',\n",
       " 'primary_cleaner.output.concentrate_sol',\n",
       " 'primary_cleaner.output.tail_ag',\n",
       " 'primary_cleaner.output.tail_au',\n",
       " 'primary_cleaner.output.tail_pb',\n",
       " 'primary_cleaner.output.tail_sol',\n",
       " 'rougher.calculation.au_pb_ratio',\n",
       " 'rougher.calculation.floatbank10_sulfate_to_au_feed',\n",
       " 'rougher.calculation.floatbank11_sulfate_to_au_feed',\n",
       " 'rougher.calculation.sulfate_to_au_concentrate',\n",
       " 'rougher.output.concentrate_ag',\n",
       " 'rougher.output.concentrate_au',\n",
       " 'rougher.output.concentrate_pb',\n",
       " 'rougher.output.concentrate_sol',\n",
       " 'rougher.output.recovery',\n",
       " 'rougher.output.tail_ag',\n",
       " 'rougher.output.tail_au',\n",
       " 'rougher.output.tail_pb',\n",
       " 'rougher.output.tail_sol',\n",
       " 'secondary_cleaner.output.tail_ag',\n",
       " 'secondary_cleaner.output.tail_au',\n",
       " 'secondary_cleaner.output.tail_pb',\n",
       " 'secondary_cleaner.output.tail_sol'}"
      ]
     },
     "execution_count": 14,
     "metadata": {},
     "output_type": "execute_result"
    }
   ],
   "source": [
    "colums_test = set(data_train.columns) - set(data_test.columns)\n",
    "colums_test"
   ]
  },
  {
   "cell_type": "markdown",
   "metadata": {},
   "source": [
    "В тестовую выборку не попали признаки с параметром output  и calculation. В тестовой выборке оставлены те признаки, на которых моделей ранее должна обучаться. "
   ]
  },
  {
   "cell_type": "markdown",
   "metadata": {},
   "source": [
    "## Анализ данных"
   ]
  },
  {
   "cell_type": "markdown",
   "metadata": {},
   "source": [
    "### Функция для визуализации концентрации металлов"
   ]
  },
  {
   "cell_type": "code",
   "execution_count": 15,
   "metadata": {},
   "outputs": [],
   "source": [
    "def concentration(data, metal):\n",
    "    # Определение имён столбцов для различных этапов обработки\n",
    "    steps = [\n",
    "        'rougher.input.feed_',\n",
    "        'rougher.output.concentrate_',\n",
    "        'primary_cleaner.output.concentrate_',\n",
    "        'final.output.concentrate_'\n",
    "    ]\n",
    "    # Создание списка столбцов с концентрацией металла на каждом этапе\n",
    "    metal_steps = [f'{step}{metal}' for step in steps]\n",
    "    # Настройка размера фигуры\n",
    "    plt.figure(figsize=(11, 6))\n",
    "    # Визуализация гистограммы концентрации металла на каждом этапе\n",
    "    for step in metal_steps:\n",
    "        if step in data.columns:\n",
    "            concentration = data[step]\n",
    "            plt.hist(concentration, bins=30, alpha=0.5)\n",
    "    # Настройка подписи оси X\n",
    "    plt.xlabel('Концентрация')\n",
    "    # Настройка подписи оси Y\n",
    "    plt.ylabel('Кол-во')\n",
    "    # Настройка заголовка\n",
    "    plt.title(f'{metal}: изменение концентрации')\n",
    "    # Настройка легенды\n",
    "    plt.legend([f'{step}{metal}' for step in steps])\n",
    "    # Отображение фигуры\n",
    "    plt.show()"
   ]
  },
  {
   "cell_type": "markdown",
   "metadata": {},
   "source": [
    "### AU"
   ]
  },
  {
   "cell_type": "code",
   "execution_count": 16,
   "metadata": {},
   "outputs": [
    {
     "data": {
      "image/png": "[encoded data removed]",
      "text/plain": [
       "<Figure size 792x432 with 1 Axes>"
      ]
     },
     "metadata": {
      "needs_background": "light"
     },
     "output_type": "display_data"
    }
   ],
   "source": [
    "concentration(data_train, 'au')"
   ]
  },
  {
   "cell_type": "markdown",
   "metadata": {},
   "source": [
    "Из гистограммы мы можем наблюдать, что на каждом шаге концетрация золота повышается. Также стоит отменить что есть нулевые или околонулевые концентрации. "
   ]
  },
  {
   "cell_type": "code",
   "execution_count": 17,
   "metadata": {},
   "outputs": [
    {
     "data": {
      "image/png": "[encoded data removed]",
      "text/plain": [
       "<Figure size 792x432 with 1 Axes>"
      ]
     },
     "metadata": {
      "needs_background": "light"
     },
     "output_type": "display_data"
    }
   ],
   "source": [
    "concentration(data_test, 'au')"
   ]
  },
  {
   "cell_type": "markdown",
   "metadata": {},
   "source": [
    "В тестовой выборке имеется только 1 стадия наблюдения. "
   ]
  },
  {
   "cell_type": "markdown",
   "metadata": {},
   "source": [
    "### AG"
   ]
  },
  {
   "cell_type": "code",
   "execution_count": 18,
   "metadata": {},
   "outputs": [
    {
     "data": {
      "image/png": "[encoded data removed]",
      "text/plain": [
       "<Figure size 792x432 with 1 Axes>"
      ]
     },
     "metadata": {
      "needs_background": "light"
     },
     "output_type": "display_data"
    }
   ],
   "source": [
    "concentration(data_train, 'ag')"
   ]
  },
  {
   "cell_type": "code",
   "execution_count": 19,
   "metadata": {},
   "outputs": [
    {
     "data": {
      "image/png": "[encoded data removed]",
      "text/plain": [
       "<Figure size 792x432 with 1 Axes>"
      ]
     },
     "metadata": {
      "needs_background": "light"
     },
     "output_type": "display_data"
    }
   ],
   "source": [
    "concentration(data_test, 'ag')"
   ]
  },
  {
   "cell_type": "markdown",
   "metadata": {},
   "source": [
    "В тренеровочной выборке мы видим, как концентрациия сначала повышается, а затем идет на спад. В тренировочной же выборке мы также имеем наблюдения только 1 стадии. "
   ]
  },
  {
   "cell_type": "markdown",
   "metadata": {},
   "source": [
    "### PB"
   ]
  },
  {
   "cell_type": "code",
   "execution_count": 20,
   "metadata": {},
   "outputs": [
    {
     "data": {
      "image/png": "[encoded data removed]",
      "text/plain": [
       "<Figure size 792x432 with 1 Axes>"
      ]
     },
     "metadata": {
      "needs_background": "light"
     },
     "output_type": "display_data"
    },
    {
     "data": {
      "text/plain": [
       "None"
      ]
     },
     "metadata": {},
     "output_type": "display_data"
    },
    {
     "data": {
      "image/png": "[encoded data removed]",
      "text/plain": [
       "<Figure size 792x432 with 1 Axes>"
      ]
     },
     "metadata": {
      "needs_background": "light"
     },
     "output_type": "display_data"
    },
    {
     "data": {
      "text/plain": [
       "None"
      ]
     },
     "metadata": {},
     "output_type": "display_data"
    }
   ],
   "source": [
    "display(concentration(data_train, 'pb'))\n",
    "display(concentration(data_test, 'pb'))"
   ]
  },
  {
   "cell_type": "markdown",
   "metadata": {},
   "source": [
    "В тренировочной выборке концетрация растет в первых 3х этапах. В тестовой выборке все также имеются наблюдения только по 1 этапу. "
   ]
  },
  {
   "cell_type": "markdown",
   "metadata": {},
   "source": [
    "Избавимся от нулевых значений в датасетах, чтобы они не влияили на качество нашей модели. "
   ]
  },
  {
   "cell_type": "code",
   "execution_count": 21,
   "metadata": {},
   "outputs": [],
   "source": [
    "list = ['rougher.input.feed_au',\n",
    "        'rougher.input.feed_ag',\n",
    "        'rougher.input.feed_pb',\n",
    "        'rougher.output.concentrate_au',\n",
    "        'rougher.output.concentrate_ag',\n",
    "        'rougher.output.concentrate_pb',\n",
    "        'primary_cleaner.output.concentrate_au',\n",
    "        'primary_cleaner.output.concentrate_ag',\n",
    "        'primary_cleaner.output.concentrate_pb',\n",
    "        'final.output.concentrate_au',\n",
    "        'final.output.concentrate_ag',\n",
    "        'final.output.concentrate_pb',\n",
    "       ]\n",
    "for col in list:\n",
    "    data_train = data_train[data_train[col] >= 1].reset_index(drop=True)"
   ]
  },
  {
   "cell_type": "markdown",
   "metadata": {},
   "source": [
    "###  Сравним распределения размеров гранул исходного сырья на обучающей и тестовой выборках"
   ]
  },
  {
   "cell_type": "code",
   "execution_count": 22,
   "metadata": {},
   "outputs": [
    {
     "data": {
      "image/png": "[encoded data removed]",
      "text/plain": [
       "<Figure size 1440x504 with 1 Axes>"
      ]
     },
     "metadata": {
      "needs_background": "light"
     },
     "output_type": "display_data"
    }
   ],
   "source": [
    "plt.figure(figsize=(20,7))\n",
    "sns.histplot(data=data_train['rougher.input.feed_size'], bins=150, label='Обучающая', kde=True)\n",
    "sns.histplot(data=data_test['rougher.input.feed_size'], bins=150, label='Тестовая', kde=True)\n",
    "plt.title('Плотность распределения размеров гранул в выборке')\n",
    "plt.legend()\n",
    "plt.show()"
   ]
  },
  {
   "cell_type": "markdown",
   "metadata": {},
   "source": [
    "Гистограммы плотности распределения размеров гранул в выборках схожи, можно сделать вывод,  что распределения не сильно отличаются друг от друга, оценка модели будет правильной."
   ]
  },
  {
   "cell_type": "markdown",
   "metadata": {},
   "source": [
    "### Исследуем суммарную концентрацию металлов на разных стадиях: в сырье, в черновом концентрате, в концентрате после первой очистки и в финальном концентрате."
   ]
  },
  {
   "cell_type": "code",
   "execution_count": 23,
   "metadata": {},
   "outputs": [],
   "source": [
    "metal = ['au', 'ag', 'pb']"
   ]
  },
  {
   "cell_type": "code",
   "execution_count": 24,
   "metadata": {},
   "outputs": [],
   "source": [
    "def sum_concentration_percent(data, metals):\n",
    "    data_copy = data.copy()  # Создание копии датасета\n",
    "    stages = [\n",
    "        \"rougher.input.feed_\",\n",
    "        \"rougher.output.concentrate_\",\n",
    "        \"primary_cleaner.output.concentrate_\",\n",
    "        \"final.output.concentrate_\",\n",
    "    ]\n",
    "\n",
    "    stage_names = [\"Сырьё\", \"Флотация\", \"Первичная очистка\", \"Вторичная очистка\"]\n",
    "\n",
    "    for stage, stage_name in zip(stages, stage_names):\n",
    "        total_concentration = None\n",
    "        for metal in metals:\n",
    "            con = f\"{stage}{metal}\"\n",
    "            if total_concentration is None:\n",
    "                total_concentration = data_copy[con]  \n",
    "            else:\n",
    "                total_concentration += data_copy[con]  \n",
    "\n",
    "        data_copy[f\"{stage_name}_total_concentration\"] = total_concentration  \n",
    "\n",
    "    denominators = [\n",
    "        data_copy[f\"{stage_name}_total_concentration\"].sum() for stage_name in stage_names  \n",
    "    ]\n",
    "    total_sum = sum(denominators)\n",
    "\n",
    "    all_columns = [f\"{stage_name}_total_concentration\" for stage_name in stage_names]\n",
    "    data_melted = pd.melt(\n",
    "        data_copy,  \n",
    "        value_vars=all_columns,\n",
    "        var_name=\"Этап обработки\",\n",
    "        value_name=\"Суммарная концентрация\",\n",
    "    )\n",
    "\n",
    "    data_melted[\"Процент\"] = data_melted.apply(\n",
    "        lambda row: row[\"Суммарная концентрация\"] * 100 / total_sum, axis=1\n",
    "    )\n",
    "\n",
    "    plt.figure(figsize=(12, 8))\n",
    "    sns.histplot(\n",
    "        data=data_melted,\n",
    "        x=\"Процент\",\n",
    "        hue=\"Этап обработки\",\n",
    "        bins=30,\n",
    "        kde=True,\n",
    "        common_norm=False,\n",
    "    )\n",
    "    plt.title(\"Суммарная концентрация металлов на разных этапах производства в процентах\")\n",
    "    plt.show()\n",
    "\n",
    "    for stage_name, denominator in zip(stage_names, denominators):\n",
    "        print(\n",
    "            f\"Суммарная концентрация металлов на этапе {stage_name} составляет {denominator / total_sum:.1%}\"\n",
    "        )\n",
    "\n",
    "    return data_melted"
   ]
  },
  {
   "cell_type": "code",
   "execution_count": 25,
   "metadata": {},
   "outputs": [
    {
     "data": {
      "image/png": "[encoded data removed]",
      "text/plain": [
       "<Figure size 864x576 with 1 Axes>"
      ]
     },
     "metadata": {
      "needs_background": "light"
     },
     "output_type": "display_data"
    },
    {
     "name": "stdout",
     "output_type": "stream",
     "text": [
      "Суммарная концентрация металлов на этапе Сырьё составляет 12.2%\n",
      "Суммарная концентрация металлов на этапе Флотация составляет 23.5%\n",
      "Суммарная концентрация металлов на этапе Первичная очистка составляет 29.7%\n",
      "Суммарная концентрация металлов на этапе Вторичная очистка составляет 34.7%\n"
     ]
    },
    {
     "data": {
      "text/html": [
       "<div>\n",
       "<style scoped>\n",
       "    .dataframe tbody tr th:only-of-type {\n",
       "        vertical-align: middle;\n",
       "    }\n",
       "\n",
       "    .dataframe tbody tr th {\n",
       "        vertical-align: top;\n",
       "    }\n",
       "\n",
       "    .dataframe thead th {\n",
       "        text-align: right;\n",
       "    }\n",
       "</style>\n",
       "<table border=\"1\" class=\"dataframe\">\n",
       "  <thead>\n",
       "    <tr style=\"text-align: right;\">\n",
       "      <th></th>\n",
       "      <th>Этап обработки</th>\n",
       "      <th>Суммарная концентрация</th>\n",
       "      <th>Процент</th>\n",
       "    </tr>\n",
       "  </thead>\n",
       "  <tbody>\n",
       "    <tr>\n",
       "      <th>0</th>\n",
       "      <td>Сырьё_total_concentration</td>\n",
       "      <td>14.871440</td>\n",
       "      <td>0.000629</td>\n",
       "    </tr>\n",
       "    <tr>\n",
       "      <th>1</th>\n",
       "      <td>Сырьё_total_concentration</td>\n",
       "      <td>14.905729</td>\n",
       "      <td>0.000631</td>\n",
       "    </tr>\n",
       "    <tr>\n",
       "      <th>2</th>\n",
       "      <td>Сырьё_total_concentration</td>\n",
       "      <td>14.638299</td>\n",
       "      <td>0.000619</td>\n",
       "    </tr>\n",
       "    <tr>\n",
       "      <th>3</th>\n",
       "      <td>Сырьё_total_concentration</td>\n",
       "      <td>14.199305</td>\n",
       "      <td>0.000601</td>\n",
       "    </tr>\n",
       "    <tr>\n",
       "      <th>4</th>\n",
       "      <td>Сырьё_total_concentration</td>\n",
       "      <td>13.511497</td>\n",
       "      <td>0.000572</td>\n",
       "    </tr>\n",
       "    <tr>\n",
       "      <th>...</th>\n",
       "      <td>...</td>\n",
       "      <td>...</td>\n",
       "      <td>...</td>\n",
       "    </tr>\n",
       "    <tr>\n",
       "      <th>55003</th>\n",
       "      <td>Вторичная очистка_total_concentration</td>\n",
       "      <td>61.546553</td>\n",
       "      <td>0.002605</td>\n",
       "    </tr>\n",
       "    <tr>\n",
       "      <th>55004</th>\n",
       "      <td>Вторичная очистка_total_concentration</td>\n",
       "      <td>61.575144</td>\n",
       "      <td>0.002606</td>\n",
       "    </tr>\n",
       "    <tr>\n",
       "      <th>55005</th>\n",
       "      <td>Вторичная очистка_total_concentration</td>\n",
       "      <td>61.295107</td>\n",
       "      <td>0.002594</td>\n",
       "    </tr>\n",
       "    <tr>\n",
       "      <th>55006</th>\n",
       "      <td>Вторичная очистка_total_concentration</td>\n",
       "      <td>61.412113</td>\n",
       "      <td>0.002599</td>\n",
       "    </tr>\n",
       "    <tr>\n",
       "      <th>55007</th>\n",
       "      <td>Вторичная очистка_total_concentration</td>\n",
       "      <td>61.340054</td>\n",
       "      <td>0.002596</td>\n",
       "    </tr>\n",
       "  </tbody>\n",
       "</table>\n",
       "<p>55008 rows × 3 columns</p>\n",
       "</div>"
      ],
      "text/plain": [
       "                              Этап обработки  Суммарная концентрация   Процент\n",
       "0                  Сырьё_total_concentration               14.871440  0.000629\n",
       "1                  Сырьё_total_concentration               14.905729  0.000631\n",
       "2                  Сырьё_total_concentration               14.638299  0.000619\n",
       "3                  Сырьё_total_concentration               14.199305  0.000601\n",
       "4                  Сырьё_total_concentration               13.511497  0.000572\n",
       "...                                      ...                     ...       ...\n",
       "55003  Вторичная очистка_total_concentration               61.546553  0.002605\n",
       "55004  Вторичная очистка_total_concentration               61.575144  0.002606\n",
       "55005  Вторичная очистка_total_concentration               61.295107  0.002594\n",
       "55006  Вторичная очистка_total_concentration               61.412113  0.002599\n",
       "55007  Вторичная очистка_total_concentration               61.340054  0.002596\n",
       "\n",
       "[55008 rows x 3 columns]"
      ]
     },
     "execution_count": 25,
     "metadata": {},
     "output_type": "execute_result"
    }
   ],
   "source": [
    "sum_concentration_percent(data_train, metal)"
   ]
  },
  {
   "cell_type": "markdown",
   "metadata": {},
   "source": [
    "## Модель"
   ]
  },
  {
   "cell_type": "markdown",
   "metadata": {},
   "source": [
    "### Функция вычисления sMAPE"
   ]
  },
  {
   "cell_type": "code",
   "execution_count": 26,
   "metadata": {},
   "outputs": [],
   "source": [
    "def sMAPE(y, y_pred):\n",
    "    y, y_pred = np.array(y), np.array(y_pred)\n",
    "    return np.mean(np.abs(y - y_pred) / ((np.abs(y) + np.abs(y_pred)) / 2)) * 100"
   ]
  },
  {
   "cell_type": "markdown",
   "metadata": {},
   "source": [
    "### Функция вычисления итоговой sMAPE"
   ]
  },
  {
   "cell_type": "code",
   "execution_count": 27,
   "metadata": {},
   "outputs": [],
   "source": [
    "def sMAPE_sum(sMAPE_rough, sMAPE_final, weights=(0.25, 0.75)):\n",
    "    return sum(sMAPE * weight for sMAPE, weight in zip([sMAPE_rough, sMAPE_final], weights))"
   ]
  },
  {
   "cell_type": "markdown",
   "metadata": {},
   "source": [
    "###  Обучите разные модели и оцените их качество кросс-валидацией. Выберите лучшую модель и проверьте её на тестовой выборке. Опишите выводы."
   ]
  },
  {
   "cell_type": "markdown",
   "metadata": {},
   "source": [
    "В исследовании будут учавстовать модели линейной регрессии и случайного леса. "
   ]
  },
  {
   "cell_type": "code",
   "execution_count": 28,
   "metadata": {},
   "outputs": [],
   "source": [
    "# Добавим в тестовую выборку целевые признаки.\n",
    "data_test = data_test.merge(data_full[['rougher.output.recovery', 'final.output.recovery']], 'left', 'date')\n",
    "\n",
    "# Оставим в тренеровочном датасете только признаки, присутствующие в тестовом\n",
    "data_train = data_train[data_test.columns]"
   ]
  },
  {
   "cell_type": "code",
   "execution_count": 29,
   "metadata": {},
   "outputs": [],
   "source": [
    "# Выделяем признаки и целевой признак\n",
    "X_train = data_train.drop(['rougher.output.recovery', 'final.output.recovery'], axis=1)\n",
    "y_train = data_train[['rougher.output.recovery', 'final.output.recovery']]\n",
    "\n",
    "X_test = data_test.drop(['rougher.output.recovery', 'final.output.recovery'], axis=1)\n",
    "y_test = data_test[['rougher.output.recovery', 'final.output.recovery']]\n",
    "\n",
    "# Получаем отдельные целевые признаки для обучающей выборки\n",
    "y1_train = y_train['rougher.output.recovery']\n",
    "y2_train = y_train['final.output.recovery']\n",
    "\n",
    "# Также определяем отдельные целевые признаки для тестовой выборки\n",
    "y1_test = y_test['rougher.output.recovery']\n",
    "y2_test = y_test['final.output.recovery']"
   ]
  },
  {
   "cell_type": "code",
   "execution_count": 30,
   "metadata": {},
   "outputs": [],
   "source": [
    "# Создали свою метрику на основе smape\n",
    "score_smape = make_scorer(sMAPE, greater_is_better=False)"
   ]
  },
  {
   "cell_type": "code",
   "execution_count": 31,
   "metadata": {},
   "outputs": [],
   "source": [
    "# Мастабируем признаки для линейной регрессии\n",
    "scaler = StandardScaler()\n",
    "# Обучаем scaler на обучающих данных\n",
    "X_train_scaled = scaler.fit_transform(X_train)"
   ]
  },
  {
   "cell_type": "code",
   "execution_count": 32,
   "metadata": {},
   "outputs": [
    {
     "name": "stdout",
     "output_type": "stream",
     "text": [
      "sMaPE_1 на кросс-валидации = 7.073229813615365\n",
      "sMaPE_2 на кросс-валидации = 9.39976246748129\n",
      "Финальная sMAPE для валидации: 8.818129304014809\n"
     ]
    }
   ],
   "source": [
    "# линейнея регрессия \n",
    "model =  LinearRegression()\n",
    "scores = cross_val_score(model, X_train_scaled, y1_train, scoring=score_smape, cv=5) \n",
    "scores_2 = cross_val_score(model, X_train_scaled, y2_train, scoring=score_smape, cv=5)\n",
    "\n",
    "#  Считаем среднее sMAPE \n",
    "smape_mean_1 = abs(scores.mean())\n",
    "smape_mean_2 = abs(scores_2.mean())\n",
    "print(f'sMaPE_1 на кросс-валидации = {smape_mean_1}')\n",
    "print(f'sMaPE_2 на кросс-валидации = {smape_mean_2}')\n",
    "\n",
    "final_smape = sMAPE_sum(smape_mean_1, smape_mean_2)\n",
    "print('Финальная sMAPE для валидации:', final_smape)"
   ]
  },
  {
   "cell_type": "code",
   "execution_count": 37,
   "metadata": {},
   "outputs": [
    {
     "name": "stdout",
     "output_type": "stream",
     "text": [
      "Лучшие параметры для первого целевого признака: {'max_depth': 5, 'n_estimators': 40}\n",
      "Лучшие параметры для второго целевого признака: {'max_depth': 2, 'n_estimators': 20}\n",
      "sMaPE_1 на кросс-валидации (Случайный лес) = 6.327975003047489\n",
      "sMaPE_2 на кросс-валидации (Случайный лес) = 8.559578996894995\n",
      "Финальное sMAPE на кросс-валидации (Случайный лес) = 8.001677998433118\n"
     ]
    }
   ],
   "source": [
    "# Случайный лес\n",
    "# Задаем параметры модели\n",
    "param_grid = {\n",
    "    'n_estimators': [10, 20, 30, 40, 50],\n",
    "    'max_depth': range(1, 11)\n",
    "}\n",
    "\n",
    "# Создаем модель случайного леса\n",
    "rf_model = RandomForestRegressor(random_state=random_state)\n",
    "\n",
    "# Настраиваем GridSearchCV\n",
    "grid_search = GridSearchCV(rf_model, param_grid, scoring=score_smape, cv=5, n_jobs=-1)\n",
    "# Обучение и кросс-валидация для первого целевого признака\n",
    "grid_search.fit(X_train_scaled, y1_train)\n",
    "best_params_1 = grid_search.best_params_\n",
    "print(f'Лучшие параметры для первого целевого признака: {best_params_1}')\n",
    "\n",
    "# Создаем новую модель с оптимальными параметрами для первого целевого признака\n",
    "best_rf_model_1 = RandomForestRegressor(**best_params_1)\n",
    "scores_rf_1 = cross_val_score(best_rf_model_1, X_train_scaled, y1_train, scoring=score_smape, cv=5)\n",
    "\n",
    "# Обучение и кросс-валидация для второго целевого признака\n",
    "grid_search.fit(X_train_scaled, y2_train)\n",
    "best_params_2 = grid_search.best_params_\n",
    "print(f'Лучшие параметры для второго целевого признака: {best_params_2}')\n",
    "\n",
    "# Создаем новую модель с оптимальными параметрами для второго целевого признака\n",
    "best_rf_model_2 = RandomForestRegressor(**best_params_2)\n",
    "scores_rf_2 = cross_val_score(best_rf_model_2, X_train_scaled, y2_train, scoring=score_smape, cv=5)\n",
    "\n",
    "# Считаем среднее sMAPE\n",
    "smape_rf_mean_1 = abs(scores_rf_1.mean())\n",
    "smape_rf_mean_2 = abs(scores_rf_2.mean())\n",
    "print(f'sMaPE_1 на кросс-валидации (Случайный лес) = {smape_rf_mean_1}')\n",
    "print(f'sMaPE_2 на кросс-валидации (Случайный лес) = {smape_rf_mean_2}')\n",
    "\n",
    "final_smape_rf = sMAPE_sum(smape_rf_mean_1, smape_rf_mean_2)\n",
    "print(f'Финальное sMAPE на кросс-валидации (Случайный лес) = {final_smape_rf}')"
   ]
  },
  {
   "cell_type": "markdown",
   "metadata": {},
   "source": [
    "Случайный лес показывает лучше результаты."
   ]
  },
  {
   "cell_type": "code",
   "execution_count": 38,
   "metadata": {},
   "outputs": [
    {
     "name": "stdout",
     "output_type": "stream",
     "text": [
      "sMape для rougher.output.recovery :3.8445303360968923\n",
      "sMape для final.output.recovery :8.535783017774888\n",
      "Финальная sMAPE для тестовой выборки (Случайный лес): 7.362969847355388\n"
     ]
    }
   ],
   "source": [
    "# Обучаем модель на X_train_scaled и y1_train, y2_train, используя лучшие параметры\n",
    "best_rf_model_1.fit(X_train_scaled, y1_train)\n",
    "best_rf_model_2.fit(X_train_scaled, y2_train)\n",
    "\n",
    "# Делаем предсказания для тестовой выборки\n",
    "y1_test_pred_rf = best_rf_model_1.predict(X_test_scaled)\n",
    "y2_test_pred_rf = best_rf_model_2.predict(X_test_scaled)\n",
    "\n",
    "# Вычисляем sMAPE на тестовой выборке для случайного леса\n",
    "smape_rougher_test_rf = sMAPE(y_test['rougher.output.recovery'], y1_test_pred_rf)\n",
    "smape_final_test_rf = sMAPE(y_test['final.output.recovery'], y2_test_pred_rf)\n",
    "print(f'sMape для rougher.output.recovery :{smape_rougher_test_rf}')\n",
    "print(f'sMape для final.output.recovery :{smape_final_test_rf}')\n",
    "final_smape_test_rf = sMAPE_sum(smape_rougher_test_rf, smape_final_test_rf)\n",
    "print('Финальная sMAPE для тестовой выборки (Случайный лес):', final_smape_test_rf)"
   ]
  },
  {
   "cell_type": "markdown",
   "metadata": {},
   "source": [
    "### Константая модель для сравнения показателей"
   ]
  },
  {
   "cell_type": "code",
   "execution_count": 41,
   "metadata": {},
   "outputs": [
    {
     "name": "stdout",
     "output_type": "stream",
     "text": [
      "sMaPE_1 на кросс-валидации (DummyRegressor) = 7.283459863889999\n",
      "sMaPE_2 на кросс-валидации (DummyRegressor) = 9.793195207865196\n",
      "Финальное sMAPE на кросс-валидации (DummyRegressor) = 9.165761371871398\n"
     ]
    }
   ],
   "source": [
    "# Создаем модель DummyRegressor\n",
    "dummy_model_1 = DummyRegressor(strategy='mean')\n",
    "dummy_model_2 = DummyRegressor(strategy='mean')\n",
    "\n",
    "# Обучение модели на данных\n",
    "dummy_model_1.fit(X_train_scaled, y1_train)\n",
    "dummy_model_2.fit(X_train_scaled, y2_train)\n",
    "\n",
    "# Считаем sMAPE для каждого целевого признака\n",
    "scores_dummy_1 = cross_val_score(dummy_model_1, X_train_scaled, y1_train, scoring=score_smape, cv=5)\n",
    "scores_dummy_2 = cross_val_score(dummy_model_2, X_train_scaled, y2_train, scoring=score_smape, cv=5)\n",
    "\n",
    "smape_dummy_mean_1 = abs(scores_dummy_1.mean())\n",
    "smape_dummy_mean_2 = abs(scores_dummy_2.mean())\n",
    "\n",
    "print(f'sMaPE_1 на кросс-валидации (DummyRegressor) = {smape_dummy_mean_1}')\n",
    "print(f'sMaPE_2 на кросс-валидации (DummyRegressor) = {smape_dummy_mean_2}')\n",
    "\n",
    "# Считаем финальное sMAPE для константной модели\n",
    "final_smape_dummy = sMAPE_sum(smape_dummy_mean_1, smape_dummy_mean_2)\n",
    "\n",
    "print(f'Финальное sMAPE на кросс-валидации (DummyRegressor) = {final_smape_dummy}')"
   ]
  },
  {
   "cell_type": "markdown",
   "metadata": {},
   "source": [
    "Модель случайного леса показывает лучшие результаты по сравнению с константной моделью на тестовой выборке. sMAPE для случайного леса составляет 7.362969847355388, в то время как для константной модели - 9.165761371871398. Мы видим, что случайный лес дает консистентно более точные результаты в прогнозировании оценок эффективности обогащения. Это означает, что с использованием этой модели мы можем получить лучшую оценку результата процесса обогащения."
   ]
  },
  {
   "cell_type": "markdown",
   "metadata": {},
   "source": [
    "## Вывод"
   ]
  },
  {
   "cell_type": "markdown",
   "metadata": {},
   "source": [
    "Тезисно пробежимся по проекту:\n",
    "- Загрузили датасеты и изучили их, попутно проиндексировали датасеты по столбцу 'date'\n",
    "- Проверели датасеты на пропуски, пропуски удалять не стали, заменили их предыдущими значениями, так как в текущих данных последовательные процессы. \n",
    "- Проверили датасеты на дубликаты - не обнаружили\n",
    "- Написали функцию для расчета  эффективности обогащения \n",
    "- Вычислили MAE rougher.output.recovery - оно стремится к нулю, поэтому можно сказать что эффективности обогащения рассчитана правильно. \n",
    "- Выявили отстуствующие признаки в тестовом датасете\n",
    "- Написали функцию для визуализации концетрации металлов\n",
    "- При изучении гистограмм выявили нулевые значения, решили убрать их, чтобы они не искажали показатели модели\n",
    "- Сравнили распределения размеров гранул исходного сырья на обучающей и тестовой выборках, изучив гистограмму можно придти к выводу, что распределения не сильно различаются и оценка моделей будет правильной. \n",
    "- Исследовали суммарную концетрацию металлов на каждом этапе, построили гистограмму для визуализации, а также текстовую сноску в процентном соотношении по каждому шагу. \n",
    "- Написали функции для подсчета sMAPE и финальной sMAPE\n",
    "- Выбрал модели линейной регресси и случайного леса\n",
    "- Перед построением модели поработали с датасетами:\n",
    "\n",
    "    - Добавили в тестовую выборку целевые признаки и в тренеровочном датасете оставили только признаки, присутствующие в тестовом\n",
    "    - Выделили признаки и целевые признаки\n",
    "    - Соединили обучающие и тестовые выборки перед разделением\n",
    "    - Поделили данные на обучающую и валидационную выборки в соотношении 80\\20\n",
    "- Создали свою метрику на основе smape - \"score_smape = make_scorer\"\n",
    "- Произвели масштабирование признаков для линейной регрессии\n",
    "- Построили модели линейной регрессии и случайного леса, с подсчетом smape на валидационной выборке. \n",
    "- Лучшая модель - модель случайного леса, правда есть 1 минус, подбор гиперпараметров занимает очень много времени. \n",
    "- Произвели предсказания на тестовых данных и победила опять же модель случайного леса с лучшими параметрами, которые мы нашли при предсказывании на валидации\n",
    "- Финальная sMAPE для тестовой выборки (Случайный лес): 7.362969847355388\n",
    "- Погдотовили констаную модель и сравнили полученные данные константной модели с данными модели случайного леса на тестовой выборке. "
   ]
  }
 ],
 "metadata": {
  "ExecuteTimeLog": [
   {
    "duration": 470,
    "start_time": "2023-08-25T13:01:33.008Z"
   },
   {
    "duration": 176,
    "start_time": "2023-08-25T13:04:02.997Z"
   },
   {
    "duration": 17,
    "start_time": "2023-08-25T13:04:12.848Z"
   },
   {
    "duration": 1343,
    "start_time": "2023-08-25T13:04:46.188Z"
   },
   {
    "duration": 7,
    "start_time": "2023-08-25T13:08:04.691Z"
   },
   {
    "duration": 9,
    "start_time": "2023-08-25T13:08:31.719Z"
   },
   {
    "duration": 8,
    "start_time": "2023-08-25T13:08:35.651Z"
   },
   {
    "duration": 15992,
    "start_time": "2023-08-25T13:12:25.967Z"
   },
   {
    "duration": 2522,
    "start_time": "2023-08-25T13:12:41.962Z"
   },
   {
    "duration": 2554,
    "start_time": "2023-08-25T13:12:53.482Z"
   },
   {
    "duration": 1939,
    "start_time": "2023-08-25T13:12:56.044Z"
   },
   {
    "duration": 383,
    "start_time": "2023-08-25T13:12:57.985Z"
   },
   {
    "duration": 3011,
    "start_time": "2023-08-25T13:15:24.246Z"
   },
   {
    "duration": 2891,
    "start_time": "2023-08-25T13:15:27.260Z"
   },
   {
    "duration": 422,
    "start_time": "2023-08-25T13:15:30.152Z"
   },
   {
    "duration": 2870,
    "start_time": "2023-08-25T13:23:43.687Z"
   },
   {
    "duration": 3314,
    "start_time": "2023-08-25T13:23:46.560Z"
   },
   {
    "duration": 1135,
    "start_time": "2023-08-25T13:23:49.876Z"
   },
   {
    "duration": 19308,
    "start_time": "2023-08-25T13:23:51.013Z"
   },
   {
    "duration": 3,
    "start_time": "2023-08-25T13:29:43.672Z"
   },
   {
    "duration": 338,
    "start_time": "2023-08-25T13:30:06.175Z"
   },
   {
    "duration": 208,
    "start_time": "2023-08-25T13:30:48.338Z"
   },
   {
    "duration": 1378,
    "start_time": "2023-08-25T13:31:53.905Z"
   },
   {
    "duration": 3,
    "start_time": "2023-08-25T13:40:06.256Z"
   },
   {
    "duration": 40,
    "start_time": "2023-08-25T13:40:18.383Z"
   },
   {
    "duration": 82,
    "start_time": "2023-08-25T13:40:33.160Z"
   },
   {
    "duration": 81,
    "start_time": "2023-08-25T13:40:37.039Z"
   },
   {
    "duration": 52,
    "start_time": "2023-08-25T13:40:46.274Z"
   },
   {
    "duration": 2,
    "start_time": "2023-08-25T14:27:58.813Z"
   },
   {
    "duration": 25,
    "start_time": "2023-08-25T15:59:14.513Z"
   },
   {
    "duration": 381,
    "start_time": "2023-08-28T12:45:23.847Z"
   },
   {
    "duration": 54,
    "start_time": "2023-08-28T12:45:24.230Z"
   },
   {
    "duration": 3,
    "start_time": "2023-08-28T12:45:24.286Z"
   },
   {
    "duration": 1008,
    "start_time": "2023-08-28T12:45:24.290Z"
   },
   {
    "duration": 0,
    "start_time": "2023-08-28T12:45:25.301Z"
   },
   {
    "duration": 0,
    "start_time": "2023-08-28T12:45:25.303Z"
   },
   {
    "duration": 0,
    "start_time": "2023-08-28T12:45:25.304Z"
   },
   {
    "duration": 444,
    "start_time": "2023-08-28T12:46:16.673Z"
   },
   {
    "duration": 82,
    "start_time": "2023-08-28T12:46:17.119Z"
   },
   {
    "duration": 3,
    "start_time": "2023-08-28T12:46:17.202Z"
   },
   {
    "duration": 375,
    "start_time": "2023-08-28T12:46:17.206Z"
   },
   {
    "duration": 176,
    "start_time": "2023-08-28T12:46:17.583Z"
   },
   {
    "duration": 1233,
    "start_time": "2023-08-28T12:46:17.760Z"
   },
   {
    "duration": 85,
    "start_time": "2023-08-28T12:46:18.994Z"
   },
   {
    "duration": 31,
    "start_time": "2023-08-28T12:46:27.574Z"
   },
   {
    "duration": 20,
    "start_time": "2023-08-28T12:53:51.650Z"
   },
   {
    "duration": 27,
    "start_time": "2023-08-28T12:54:20.502Z"
   },
   {
    "duration": 134,
    "start_time": "2023-08-28T13:49:07.760Z"
   },
   {
    "duration": 563,
    "start_time": "2023-08-28T13:49:45.216Z"
   },
   {
    "duration": 417,
    "start_time": "2023-08-28T13:49:56.692Z"
   },
   {
    "duration": 47,
    "start_time": "2023-08-28T13:49:57.112Z"
   },
   {
    "duration": 3,
    "start_time": "2023-08-28T13:49:57.164Z"
   },
   {
    "duration": 410,
    "start_time": "2023-08-28T13:49:57.170Z"
   },
   {
    "duration": 129,
    "start_time": "2023-08-28T13:49:57.582Z"
   },
   {
    "duration": 467,
    "start_time": "2023-08-28T13:49:57.712Z"
   },
   {
    "duration": 33,
    "start_time": "2023-08-28T13:49:58.181Z"
   },
   {
    "duration": 17,
    "start_time": "2023-08-28T13:53:06.492Z"
   },
   {
    "duration": 29,
    "start_time": "2023-08-28T14:05:06.350Z"
   },
   {
    "duration": 17,
    "start_time": "2023-08-28T14:05:19.938Z"
   },
   {
    "duration": 17,
    "start_time": "2023-08-28T14:05:36.341Z"
   },
   {
    "duration": 17,
    "start_time": "2023-08-28T14:05:55.503Z"
   },
   {
    "duration": 69,
    "start_time": "2023-08-28T14:07:56.870Z"
   },
   {
    "duration": 244,
    "start_time": "2023-08-28T14:13:56.808Z"
   },
   {
    "duration": 262,
    "start_time": "2023-08-28T14:19:51.272Z"
   },
   {
    "duration": 234,
    "start_time": "2023-08-28T14:20:03.442Z"
   },
   {
    "duration": 772,
    "start_time": "2023-08-28T14:35:46.270Z"
   },
   {
    "duration": 156,
    "start_time": "2023-08-28T15:16:55.332Z"
   },
   {
    "duration": 55,
    "start_time": "2023-08-28T15:17:07.896Z"
   },
   {
    "duration": 9,
    "start_time": "2023-08-28T15:17:18.296Z"
   },
   {
    "duration": 7,
    "start_time": "2023-08-28T15:17:20.918Z"
   },
   {
    "duration": 10,
    "start_time": "2023-08-28T15:17:21.697Z"
   },
   {
    "duration": 3,
    "start_time": "2023-08-28T15:18:22.293Z"
   },
   {
    "duration": 7,
    "start_time": "2023-08-28T15:18:23.459Z"
   },
   {
    "duration": 6,
    "start_time": "2023-08-28T15:23:58.524Z"
   },
   {
    "duration": 1111,
    "start_time": "2023-08-28T15:27:48.000Z"
   },
   {
    "duration": 48,
    "start_time": "2023-08-28T15:27:49.114Z"
   },
   {
    "duration": 4,
    "start_time": "2023-08-28T15:27:49.164Z"
   },
   {
    "duration": 379,
    "start_time": "2023-08-28T15:27:49.170Z"
   },
   {
    "duration": 122,
    "start_time": "2023-08-28T15:27:49.551Z"
   },
   {
    "duration": 464,
    "start_time": "2023-08-28T15:27:49.674Z"
   },
   {
    "duration": 16,
    "start_time": "2023-08-28T15:27:50.141Z"
   },
   {
    "duration": 50,
    "start_time": "2023-08-28T15:27:50.159Z"
   },
   {
    "duration": 20,
    "start_time": "2023-08-28T15:27:50.212Z"
   },
   {
    "duration": 255,
    "start_time": "2023-08-28T15:27:50.235Z"
   },
   {
    "duration": 18,
    "start_time": "2023-08-28T15:27:50.491Z"
   },
   {
    "duration": 11,
    "start_time": "2023-08-28T15:27:50.511Z"
   },
   {
    "duration": 16,
    "start_time": "2023-08-28T15:27:50.525Z"
   },
   {
    "duration": 105,
    "start_time": "2023-08-28T15:32:30.207Z"
   },
   {
    "duration": 6,
    "start_time": "2023-08-28T15:32:41.602Z"
   },
   {
    "duration": 1143,
    "start_time": "2023-08-30T13:47:08.430Z"
   },
   {
    "duration": 66,
    "start_time": "2023-08-30T13:47:09.576Z"
   },
   {
    "duration": 3,
    "start_time": "2023-08-30T13:47:09.644Z"
   },
   {
    "duration": 1546,
    "start_time": "2023-08-30T13:47:09.648Z"
   },
   {
    "duration": 489,
    "start_time": "2023-08-30T13:47:11.197Z"
   },
   {
    "duration": 1633,
    "start_time": "2023-08-30T13:47:11.687Z"
   },
   {
    "duration": 20,
    "start_time": "2023-08-30T13:47:13.323Z"
   },
   {
    "duration": 24,
    "start_time": "2023-08-30T13:47:13.360Z"
   },
   {
    "duration": 18,
    "start_time": "2023-08-30T13:47:13.385Z"
   },
   {
    "duration": 245,
    "start_time": "2023-08-30T13:47:13.405Z"
   },
   {
    "duration": 7,
    "start_time": "2023-08-30T13:47:13.652Z"
   },
   {
    "duration": 14,
    "start_time": "2023-08-30T13:47:13.661Z"
   },
   {
    "duration": 6,
    "start_time": "2023-08-30T13:47:13.677Z"
   },
   {
    "duration": 13,
    "start_time": "2023-08-30T13:47:13.685Z"
   },
   {
    "duration": 535,
    "start_time": "2023-08-30T14:35:50.599Z"
   },
   {
    "duration": 7,
    "start_time": "2023-08-30T14:37:10.242Z"
   },
   {
    "duration": 1069,
    "start_time": "2023-08-30T14:37:48.111Z"
   },
   {
    "duration": 163,
    "start_time": "2023-08-30T14:42:47.240Z"
   },
   {
    "duration": 16,
    "start_time": "2023-08-30T14:44:31.901Z"
   },
   {
    "duration": 9,
    "start_time": "2023-08-30T14:45:34.018Z"
   },
   {
    "duration": 1055,
    "start_time": "2023-08-30T14:45:37.437Z"
   },
   {
    "duration": 5,
    "start_time": "2023-08-30T14:46:55.641Z"
   },
   {
    "duration": 1181,
    "start_time": "2023-08-30T14:46:57.990Z"
   },
   {
    "duration": 5,
    "start_time": "2023-08-30T14:49:41.097Z"
   },
   {
    "duration": 491,
    "start_time": "2023-08-30T14:50:01.439Z"
   },
   {
    "duration": 6,
    "start_time": "2023-08-30T15:02:55.660Z"
   },
   {
    "duration": 1431,
    "start_time": "2023-08-30T15:02:56.951Z"
   },
   {
    "duration": 1310,
    "start_time": "2023-08-30T15:03:00.966Z"
   },
   {
    "duration": 6,
    "start_time": "2023-08-30T15:03:06.486Z"
   },
   {
    "duration": 154,
    "start_time": "2023-08-30T15:03:20.365Z"
   },
   {
    "duration": 5,
    "start_time": "2023-08-30T15:08:35.102Z"
   },
   {
    "duration": 152,
    "start_time": "2023-08-30T15:08:36.803Z"
   },
   {
    "duration": 6,
    "start_time": "2023-08-30T15:08:51.030Z"
   },
   {
    "duration": 190,
    "start_time": "2023-08-30T15:08:54.209Z"
   },
   {
    "duration": 481,
    "start_time": "2023-08-30T15:09:01.868Z"
   },
   {
    "duration": 6,
    "start_time": "2023-08-30T15:12:08.686Z"
   },
   {
    "duration": 373,
    "start_time": "2023-08-30T15:12:10.177Z"
   },
   {
    "duration": 222,
    "start_time": "2023-08-30T15:16:03.095Z"
   },
   {
    "duration": 125,
    "start_time": "2023-08-30T15:17:28.702Z"
   },
   {
    "duration": 504,
    "start_time": "2023-08-30T15:17:57.805Z"
   },
   {
    "duration": 233,
    "start_time": "2023-08-30T15:19:11.931Z"
   },
   {
    "duration": 579,
    "start_time": "2023-08-30T15:23:59.997Z"
   },
   {
    "duration": 580,
    "start_time": "2023-08-30T15:40:23.098Z"
   },
   {
    "duration": 8,
    "start_time": "2023-08-30T15:43:15.373Z"
   },
   {
    "duration": 446,
    "start_time": "2023-08-30T15:43:17.160Z"
   },
   {
    "duration": 589,
    "start_time": "2023-08-30T15:43:21.949Z"
   },
   {
    "duration": 662,
    "start_time": "2023-08-30T15:43:26.830Z"
   },
   {
    "duration": 1127,
    "start_time": "2023-08-30T15:47:24.573Z"
   },
   {
    "duration": 1179,
    "start_time": "2023-08-30T15:49:36.845Z"
   },
   {
    "duration": 16,
    "start_time": "2023-08-31T16:57:56.871Z"
   },
   {
    "duration": 50,
    "start_time": "2023-08-31T16:59:00.137Z"
   },
   {
    "duration": 5,
    "start_time": "2023-08-31T17:01:48.546Z"
   },
   {
    "duration": 1821,
    "start_time": "2023-08-31T17:02:37.905Z"
   },
   {
    "duration": 82,
    "start_time": "2023-08-31T17:02:39.729Z"
   },
   {
    "duration": 3,
    "start_time": "2023-08-31T17:02:39.813Z"
   },
   {
    "duration": 1031,
    "start_time": "2023-08-31T17:02:39.818Z"
   },
   {
    "duration": 237,
    "start_time": "2023-08-31T17:02:40.852Z"
   },
   {
    "duration": 1363,
    "start_time": "2023-08-31T17:02:41.091Z"
   },
   {
    "duration": 19,
    "start_time": "2023-08-31T17:02:42.456Z"
   },
   {
    "duration": 32,
    "start_time": "2023-08-31T17:02:42.478Z"
   },
   {
    "duration": 17,
    "start_time": "2023-08-31T17:02:42.513Z"
   },
   {
    "duration": 284,
    "start_time": "2023-08-31T17:02:42.532Z"
   },
   {
    "duration": 5,
    "start_time": "2023-08-31T17:02:42.818Z"
   },
   {
    "duration": 32,
    "start_time": "2023-08-31T17:02:42.825Z"
   },
   {
    "duration": 20,
    "start_time": "2023-08-31T17:02:42.859Z"
   },
   {
    "duration": 21,
    "start_time": "2023-08-31T17:02:42.882Z"
   },
   {
    "duration": 28,
    "start_time": "2023-08-31T17:02:42.905Z"
   },
   {
    "duration": 431,
    "start_time": "2023-08-31T17:02:42.935Z"
   },
   {
    "duration": 231,
    "start_time": "2023-08-31T17:02:43.369Z"
   },
   {
    "duration": 501,
    "start_time": "2023-08-31T17:02:43.602Z"
   },
   {
    "duration": 236,
    "start_time": "2023-08-31T17:02:44.105Z"
   },
   {
    "duration": 669,
    "start_time": "2023-08-31T17:02:44.343Z"
   },
   {
    "duration": 1101,
    "start_time": "2023-08-31T17:02:45.014Z"
   },
   {
    "duration": 5,
    "start_time": "2023-08-31T17:02:46.117Z"
   },
   {
    "duration": 186,
    "start_time": "2023-08-31T17:02:46.125Z"
   },
   {
    "duration": 13,
    "start_time": "2023-08-31T17:03:43.302Z"
   },
   {
    "duration": 4,
    "start_time": "2023-08-31T17:03:52.533Z"
   },
   {
    "duration": 10,
    "start_time": "2023-08-31T17:03:53.721Z"
   },
   {
    "duration": 6,
    "start_time": "2023-08-31T17:12:02.926Z"
   },
   {
    "duration": 144,
    "start_time": "2023-08-31T17:12:32.814Z"
   },
   {
    "duration": 264,
    "start_time": "2023-08-31T17:13:11.817Z"
   },
   {
    "duration": 11,
    "start_time": "2023-08-31T17:17:39.014Z"
   },
   {
    "duration": 6,
    "start_time": "2023-08-31T17:18:06.816Z"
   },
   {
    "duration": 9,
    "start_time": "2023-08-31T17:18:08.262Z"
   },
   {
    "duration": 37,
    "start_time": "2023-08-31T17:19:19.970Z"
   },
   {
    "duration": 6,
    "start_time": "2023-08-31T17:24:01.516Z"
   },
   {
    "duration": 183,
    "start_time": "2023-08-31T17:24:03.062Z"
   },
   {
    "duration": 7,
    "start_time": "2023-08-31T17:27:56.648Z"
   },
   {
    "duration": 141,
    "start_time": "2023-08-31T17:27:58.430Z"
   },
   {
    "duration": 536,
    "start_time": "2023-08-31T17:28:23.235Z"
   },
   {
    "duration": 5,
    "start_time": "2023-08-31T17:30:33.319Z"
   },
   {
    "duration": 15,
    "start_time": "2023-08-31T17:30:34.810Z"
   },
   {
    "duration": 3,
    "start_time": "2023-08-31T17:30:57.757Z"
   },
   {
    "duration": 5,
    "start_time": "2023-08-31T17:31:01.656Z"
   },
   {
    "duration": 601,
    "start_time": "2023-08-31T17:31:03.143Z"
   },
   {
    "duration": 5,
    "start_time": "2023-08-31T17:31:15.233Z"
   },
   {
    "duration": 650,
    "start_time": "2023-08-31T17:31:17.102Z"
   },
   {
    "duration": 6,
    "start_time": "2023-08-31T17:33:48.869Z"
   },
   {
    "duration": 548,
    "start_time": "2023-08-31T17:33:50.271Z"
   },
   {
    "duration": 6,
    "start_time": "2023-08-31T17:38:11.895Z"
   },
   {
    "duration": 534,
    "start_time": "2023-08-31T17:38:13.763Z"
   },
   {
    "duration": 7,
    "start_time": "2023-08-31T17:39:15.047Z"
   },
   {
    "duration": 563,
    "start_time": "2023-08-31T17:39:15.735Z"
   },
   {
    "duration": 8,
    "start_time": "2023-08-31T17:39:25.181Z"
   },
   {
    "duration": 9,
    "start_time": "2023-08-31T17:40:00.679Z"
   },
   {
    "duration": 1085,
    "start_time": "2023-08-31T17:40:03.708Z"
   },
   {
    "duration": 6,
    "start_time": "2023-08-31T17:40:28.800Z"
   },
   {
    "duration": 1178,
    "start_time": "2023-08-31T17:40:29.366Z"
   },
   {
    "duration": 5,
    "start_time": "2023-08-31T17:43:50.245Z"
   },
   {
    "duration": 296,
    "start_time": "2023-08-31T17:43:52.319Z"
   },
   {
    "duration": 6,
    "start_time": "2023-08-31T17:45:42.298Z"
   },
   {
    "duration": 915,
    "start_time": "2023-08-31T17:45:44.732Z"
   },
   {
    "duration": 1062,
    "start_time": "2023-08-31T17:46:15.081Z"
   },
   {
    "duration": 6,
    "start_time": "2023-08-31T17:49:08.266Z"
   },
   {
    "duration": 878,
    "start_time": "2023-08-31T17:49:27.400Z"
   },
   {
    "duration": 1031,
    "start_time": "2023-08-31T17:51:38.398Z"
   },
   {
    "duration": 5,
    "start_time": "2023-08-31T17:52:03.399Z"
   },
   {
    "duration": 854,
    "start_time": "2023-08-31T17:52:19.019Z"
   },
   {
    "duration": 3170,
    "start_time": "2023-08-31T17:53:23.827Z"
   },
   {
    "duration": 1913,
    "start_time": "2023-08-31T17:54:04.185Z"
   },
   {
    "duration": 3098,
    "start_time": "2023-08-31T17:54:14.548Z"
   },
   {
    "duration": 17,
    "start_time": "2023-09-01T12:32:51.958Z"
   },
   {
    "duration": 46,
    "start_time": "2023-09-01T12:33:24.875Z"
   },
   {
    "duration": 1759,
    "start_time": "2023-09-01T12:33:33.941Z"
   },
   {
    "duration": 70,
    "start_time": "2023-09-01T12:33:35.703Z"
   },
   {
    "duration": 3,
    "start_time": "2023-09-01T12:33:35.775Z"
   },
   {
    "duration": 1362,
    "start_time": "2023-09-01T12:33:35.780Z"
   },
   {
    "duration": 428,
    "start_time": "2023-09-01T12:33:37.144Z"
   },
   {
    "duration": 1666,
    "start_time": "2023-09-01T12:33:37.574Z"
   },
   {
    "duration": 16,
    "start_time": "2023-09-01T12:33:39.242Z"
   },
   {
    "duration": 42,
    "start_time": "2023-09-01T12:33:39.259Z"
   },
   {
    "duration": 24,
    "start_time": "2023-09-01T12:33:39.303Z"
   },
   {
    "duration": 230,
    "start_time": "2023-09-01T12:33:39.331Z"
   },
   {
    "duration": 4,
    "start_time": "2023-09-01T12:33:39.562Z"
   },
   {
    "duration": 21,
    "start_time": "2023-09-01T12:33:39.568Z"
   },
   {
    "duration": 6,
    "start_time": "2023-09-01T12:33:39.591Z"
   },
   {
    "duration": 12,
    "start_time": "2023-09-01T12:33:39.599Z"
   },
   {
    "duration": 9,
    "start_time": "2023-09-01T12:33:39.613Z"
   },
   {
    "duration": 436,
    "start_time": "2023-09-01T12:33:39.624Z"
   },
   {
    "duration": 269,
    "start_time": "2023-09-01T12:33:40.062Z"
   },
   {
    "duration": 490,
    "start_time": "2023-09-01T12:33:40.333Z"
   },
   {
    "duration": 224,
    "start_time": "2023-09-01T12:33:40.825Z"
   },
   {
    "duration": 618,
    "start_time": "2023-09-01T12:33:41.056Z"
   },
   {
    "duration": 1062,
    "start_time": "2023-09-01T12:33:41.676Z"
   },
   {
    "duration": 7,
    "start_time": "2023-09-01T12:33:42.739Z"
   },
   {
    "duration": 3165,
    "start_time": "2023-09-01T12:33:42.756Z"
   },
   {
    "duration": 7,
    "start_time": "2023-09-01T12:33:45.923Z"
   },
   {
    "duration": 153,
    "start_time": "2023-09-01T12:33:45.932Z"
   },
   {
    "duration": 5,
    "start_time": "2023-09-01T12:38:55.290Z"
   },
   {
    "duration": 1996,
    "start_time": "2023-09-01T12:38:59.082Z"
   },
   {
    "duration": 113,
    "start_time": "2023-09-01T12:41:01.554Z"
   },
   {
    "duration": 1994,
    "start_time": "2023-09-01T12:41:04.477Z"
   },
   {
    "duration": 137,
    "start_time": "2023-09-01T12:41:24.227Z"
   },
   {
    "duration": 6,
    "start_time": "2023-09-01T12:41:38.250Z"
   },
   {
    "duration": 16,
    "start_time": "2023-09-01T12:41:41.468Z"
   },
   {
    "duration": 3,
    "start_time": "2023-09-01T12:42:50.127Z"
   },
   {
    "duration": 24,
    "start_time": "2023-09-01T12:42:57.515Z"
   },
   {
    "duration": 6,
    "start_time": "2023-09-01T12:45:53.181Z"
   },
   {
    "duration": 3,
    "start_time": "2023-09-01T12:45:56.023Z"
   },
   {
    "duration": 1859,
    "start_time": "2023-09-01T12:45:58.512Z"
   },
   {
    "duration": 9,
    "start_time": "2023-09-01T12:46:37.931Z"
   },
   {
    "duration": 3,
    "start_time": "2023-09-01T12:46:39.013Z"
   },
   {
    "duration": 1929,
    "start_time": "2023-09-01T12:46:39.315Z"
   },
   {
    "duration": 6,
    "start_time": "2023-09-01T12:50:24.224Z"
   },
   {
    "duration": 3,
    "start_time": "2023-09-01T12:50:25.989Z"
   },
   {
    "duration": 4127,
    "start_time": "2023-09-01T12:50:26.746Z"
   },
   {
    "duration": 9,
    "start_time": "2023-09-01T12:51:10.102Z"
   },
   {
    "duration": 4,
    "start_time": "2023-09-01T12:51:14.239Z"
   },
   {
    "duration": 3767,
    "start_time": "2023-09-01T12:51:15.300Z"
   },
   {
    "duration": 7,
    "start_time": "2023-09-01T12:54:34.475Z"
   },
   {
    "duration": 1746,
    "start_time": "2023-09-01T12:54:42.787Z"
   },
   {
    "duration": 9,
    "start_time": "2023-09-01T12:56:02.389Z"
   },
   {
    "duration": 3,
    "start_time": "2023-09-01T12:56:02.765Z"
   },
   {
    "duration": 1586,
    "start_time": "2023-09-01T12:56:03.370Z"
   },
   {
    "duration": 1832,
    "start_time": "2023-09-01T13:52:25.797Z"
   },
   {
    "duration": 1702,
    "start_time": "2023-09-01T13:52:42.532Z"
   },
   {
    "duration": 1957,
    "start_time": "2023-09-01T13:59:23.107Z"
   },
   {
    "duration": 1777,
    "start_time": "2023-09-01T13:59:35.762Z"
   },
   {
    "duration": 90,
    "start_time": "2023-09-01T14:05:43.126Z"
   },
   {
    "duration": 1493,
    "start_time": "2023-09-01T14:06:01.272Z"
   },
   {
    "duration": 64,
    "start_time": "2023-09-01T14:06:02.767Z"
   },
   {
    "duration": 11,
    "start_time": "2023-09-01T14:06:02.832Z"
   },
   {
    "duration": 567,
    "start_time": "2023-09-01T14:06:02.845Z"
   },
   {
    "duration": 111,
    "start_time": "2023-09-01T14:06:03.414Z"
   },
   {
    "duration": 403,
    "start_time": "2023-09-01T14:06:03.527Z"
   },
   {
    "duration": 34,
    "start_time": "2023-09-01T14:06:03.932Z"
   },
   {
    "duration": 25,
    "start_time": "2023-09-01T14:06:03.968Z"
   },
   {
    "duration": 17,
    "start_time": "2023-09-01T14:06:03.994Z"
   },
   {
    "duration": 256,
    "start_time": "2023-09-01T14:06:04.013Z"
   },
   {
    "duration": 3,
    "start_time": "2023-09-01T14:06:04.271Z"
   },
   {
    "duration": 14,
    "start_time": "2023-09-01T14:06:04.276Z"
   },
   {
    "duration": 19,
    "start_time": "2023-09-01T14:06:04.292Z"
   },
   {
    "duration": 6,
    "start_time": "2023-09-01T14:06:04.313Z"
   },
   {
    "duration": 6,
    "start_time": "2023-09-01T14:06:04.320Z"
   },
   {
    "duration": 374,
    "start_time": "2023-09-01T14:06:04.328Z"
   },
   {
    "duration": 207,
    "start_time": "2023-09-01T14:06:04.704Z"
   },
   {
    "duration": 430,
    "start_time": "2023-09-01T14:06:04.913Z"
   },
   {
    "duration": 197,
    "start_time": "2023-09-01T14:06:05.345Z"
   },
   {
    "duration": 543,
    "start_time": "2023-09-01T14:06:05.544Z"
   },
   {
    "duration": 81,
    "start_time": "2023-09-01T14:06:06.089Z"
   },
   {
    "duration": 1038,
    "start_time": "2023-09-01T14:06:06.173Z"
   },
   {
    "duration": 8,
    "start_time": "2023-09-01T14:06:07.212Z"
   },
   {
    "duration": 47,
    "start_time": "2023-09-01T14:06:07.221Z"
   },
   {
    "duration": 2289,
    "start_time": "2023-09-01T14:06:07.270Z"
   },
   {
    "duration": 356,
    "start_time": "2023-09-01T14:06:31.429Z"
   },
   {
    "duration": 200,
    "start_time": "2023-09-01T14:06:35.659Z"
   },
   {
    "duration": 568,
    "start_time": "2023-09-01T14:06:40.092Z"
   },
   {
    "duration": 1376,
    "start_time": "2023-09-01T14:07:03.110Z"
   },
   {
    "duration": 59,
    "start_time": "2023-09-01T14:07:04.489Z"
   },
   {
    "duration": 3,
    "start_time": "2023-09-01T14:07:04.550Z"
   },
   {
    "duration": 351,
    "start_time": "2023-09-01T14:07:04.555Z"
   },
   {
    "duration": 116,
    "start_time": "2023-09-01T14:07:04.909Z"
   },
   {
    "duration": 405,
    "start_time": "2023-09-01T14:07:05.027Z"
   },
   {
    "duration": 30,
    "start_time": "2023-09-01T14:07:05.433Z"
   },
   {
    "duration": 25,
    "start_time": "2023-09-01T14:07:05.464Z"
   },
   {
    "duration": 16,
    "start_time": "2023-09-01T14:07:05.491Z"
   },
   {
    "duration": 241,
    "start_time": "2023-09-01T14:07:05.508Z"
   },
   {
    "duration": 4,
    "start_time": "2023-09-01T14:07:05.755Z"
   },
   {
    "duration": 23,
    "start_time": "2023-09-01T14:07:05.761Z"
   },
   {
    "duration": 6,
    "start_time": "2023-09-01T14:07:05.785Z"
   },
   {
    "duration": 12,
    "start_time": "2023-09-01T14:07:05.794Z"
   },
   {
    "duration": 7,
    "start_time": "2023-09-01T14:07:05.807Z"
   },
   {
    "duration": 384,
    "start_time": "2023-09-01T14:07:05.815Z"
   },
   {
    "duration": 207,
    "start_time": "2023-09-01T14:07:06.200Z"
   },
   {
    "duration": 456,
    "start_time": "2023-09-01T14:07:06.409Z"
   },
   {
    "duration": 213,
    "start_time": "2023-09-01T14:07:06.867Z"
   },
   {
    "duration": 567,
    "start_time": "2023-09-01T14:07:07.082Z"
   },
   {
    "duration": 80,
    "start_time": "2023-09-01T14:07:07.651Z"
   },
   {
    "duration": 927,
    "start_time": "2023-09-01T14:07:07.733Z"
   },
   {
    "duration": 6,
    "start_time": "2023-09-01T14:07:08.662Z"
   },
   {
    "duration": 25,
    "start_time": "2023-09-01T14:07:08.670Z"
   },
   {
    "duration": 1569,
    "start_time": "2023-09-01T14:07:08.697Z"
   },
   {
    "duration": 6,
    "start_time": "2023-09-01T14:12:49.456Z"
   },
   {
    "duration": 1470,
    "start_time": "2023-09-01T14:12:59.231Z"
   },
   {
    "duration": 7,
    "start_time": "2023-09-01T14:13:55.309Z"
   },
   {
    "duration": 1519,
    "start_time": "2023-09-01T14:13:57.185Z"
   },
   {
    "duration": 7,
    "start_time": "2023-09-01T14:16:42.032Z"
   },
   {
    "duration": 3,
    "start_time": "2023-09-01T14:16:43.249Z"
   },
   {
    "duration": 1332,
    "start_time": "2023-09-01T14:16:43.778Z"
   },
   {
    "duration": 4,
    "start_time": "2023-09-01T14:21:44.377Z"
   },
   {
    "duration": 324,
    "start_time": "2023-09-01T14:21:54.256Z"
   },
   {
    "duration": 4,
    "start_time": "2023-09-01T14:22:30.196Z"
   },
   {
    "duration": 248,
    "start_time": "2023-09-01T14:22:31.067Z"
   },
   {
    "duration": 7,
    "start_time": "2023-09-01T14:25:02.144Z"
   },
   {
    "duration": 223,
    "start_time": "2023-09-01T14:25:05.166Z"
   },
   {
    "duration": 1824,
    "start_time": "2023-09-01T14:25:22.301Z"
   },
   {
    "duration": 4,
    "start_time": "2023-09-01T15:11:07.092Z"
   },
   {
    "duration": 3,
    "start_time": "2023-09-01T15:11:22.362Z"
   },
   {
    "duration": 17,
    "start_time": "2023-09-01T15:15:06.237Z"
   },
   {
    "duration": 147,
    "start_time": "2023-09-01T15:34:21.703Z"
   },
   {
    "duration": 17,
    "start_time": "2023-09-01T15:34:31.650Z"
   },
   {
    "duration": 1360,
    "start_time": "2023-09-01T15:34:50.709Z"
   },
   {
    "duration": 56,
    "start_time": "2023-09-01T15:34:52.071Z"
   },
   {
    "duration": 3,
    "start_time": "2023-09-01T15:34:52.128Z"
   },
   {
    "duration": 359,
    "start_time": "2023-09-01T15:34:52.132Z"
   },
   {
    "duration": 111,
    "start_time": "2023-09-01T15:34:52.494Z"
   },
   {
    "duration": 455,
    "start_time": "2023-09-01T15:34:52.607Z"
   },
   {
    "duration": 16,
    "start_time": "2023-09-01T15:34:53.063Z"
   },
   {
    "duration": 37,
    "start_time": "2023-09-01T15:34:53.081Z"
   },
   {
    "duration": 17,
    "start_time": "2023-09-01T15:34:53.120Z"
   },
   {
    "duration": 240,
    "start_time": "2023-09-01T15:34:53.139Z"
   },
   {
    "duration": 4,
    "start_time": "2023-09-01T15:34:53.380Z"
   },
   {
    "duration": 18,
    "start_time": "2023-09-01T15:34:53.385Z"
   },
   {
    "duration": 12,
    "start_time": "2023-09-01T15:34:53.404Z"
   },
   {
    "duration": 5,
    "start_time": "2023-09-01T15:34:53.419Z"
   },
   {
    "duration": 7,
    "start_time": "2023-09-01T15:34:53.425Z"
   },
   {
    "duration": 386,
    "start_time": "2023-09-01T15:34:53.434Z"
   },
   {
    "duration": 208,
    "start_time": "2023-09-01T15:34:53.821Z"
   },
   {
    "duration": 466,
    "start_time": "2023-09-01T15:34:54.031Z"
   },
   {
    "duration": 200,
    "start_time": "2023-09-01T15:34:54.498Z"
   },
   {
    "duration": 570,
    "start_time": "2023-09-01T15:34:54.699Z"
   },
   {
    "duration": 89,
    "start_time": "2023-09-01T15:34:55.270Z"
   },
   {
    "duration": 892,
    "start_time": "2023-09-01T15:34:55.361Z"
   },
   {
    "duration": 2,
    "start_time": "2023-09-01T15:34:56.257Z"
   },
   {
    "duration": 16,
    "start_time": "2023-09-01T15:34:56.261Z"
   },
   {
    "duration": 1896,
    "start_time": "2023-09-01T15:34:56.278Z"
   },
   {
    "duration": 3,
    "start_time": "2023-09-01T15:34:58.176Z"
   },
   {
    "duration": 6,
    "start_time": "2023-09-01T15:34:58.181Z"
   },
   {
    "duration": 128,
    "start_time": "2023-09-01T15:34:58.189Z"
   },
   {
    "duration": 5,
    "start_time": "2023-09-01T15:51:49.267Z"
   },
   {
    "duration": 24,
    "start_time": "2023-09-01T15:53:00.028Z"
   },
   {
    "duration": 1441,
    "start_time": "2023-09-01T15:55:32.430Z"
   },
   {
    "duration": 62,
    "start_time": "2023-09-01T15:55:33.873Z"
   },
   {
    "duration": 2,
    "start_time": "2023-09-01T15:55:33.937Z"
   },
   {
    "duration": 374,
    "start_time": "2023-09-01T15:55:33.940Z"
   },
   {
    "duration": 118,
    "start_time": "2023-09-01T15:55:34.316Z"
   },
   {
    "duration": 428,
    "start_time": "2023-09-01T15:55:34.436Z"
   },
   {
    "duration": 19,
    "start_time": "2023-09-01T15:55:34.866Z"
   },
   {
    "duration": 26,
    "start_time": "2023-09-01T15:55:34.886Z"
   },
   {
    "duration": 45,
    "start_time": "2023-09-01T15:55:34.913Z"
   },
   {
    "duration": 229,
    "start_time": "2023-09-01T15:55:34.960Z"
   },
   {
    "duration": 3,
    "start_time": "2023-09-01T15:55:35.190Z"
   },
   {
    "duration": 12,
    "start_time": "2023-09-01T15:55:35.195Z"
   },
   {
    "duration": 5,
    "start_time": "2023-09-01T15:55:35.209Z"
   },
   {
    "duration": 4,
    "start_time": "2023-09-01T15:55:35.217Z"
   },
   {
    "duration": 5,
    "start_time": "2023-09-01T15:55:35.222Z"
   },
   {
    "duration": 397,
    "start_time": "2023-09-01T15:55:35.228Z"
   },
   {
    "duration": 201,
    "start_time": "2023-09-01T15:55:35.627Z"
   },
   {
    "duration": 456,
    "start_time": "2023-09-01T15:55:35.830Z"
   },
   {
    "duration": 199,
    "start_time": "2023-09-01T15:55:36.288Z"
   },
   {
    "duration": 577,
    "start_time": "2023-09-01T15:55:36.489Z"
   },
   {
    "duration": 90,
    "start_time": "2023-09-01T15:55:37.068Z"
   },
   {
    "duration": 19,
    "start_time": "2023-09-01T15:55:37.160Z"
   },
   {
    "duration": 980,
    "start_time": "2023-09-01T15:55:37.180Z"
   },
   {
    "duration": 2,
    "start_time": "2023-09-01T15:55:38.162Z"
   },
   {
    "duration": 7,
    "start_time": "2023-09-01T15:55:38.166Z"
   },
   {
    "duration": 1854,
    "start_time": "2023-09-01T15:55:38.174Z"
   },
   {
    "duration": 3,
    "start_time": "2023-09-01T15:55:40.030Z"
   },
   {
    "duration": 8,
    "start_time": "2023-09-01T15:55:40.035Z"
   },
   {
    "duration": 118,
    "start_time": "2023-09-01T15:55:40.045Z"
   },
   {
    "duration": 0,
    "start_time": "2023-09-01T15:55:40.165Z"
   },
   {
    "duration": 1526,
    "start_time": "2023-09-01T15:58:53.372Z"
   },
   {
    "duration": 70,
    "start_time": "2023-09-01T15:58:54.900Z"
   },
   {
    "duration": 2,
    "start_time": "2023-09-01T15:58:54.972Z"
   },
   {
    "duration": 356,
    "start_time": "2023-09-01T15:58:54.976Z"
   },
   {
    "duration": 121,
    "start_time": "2023-09-01T15:58:55.335Z"
   },
   {
    "duration": 424,
    "start_time": "2023-09-01T15:58:55.458Z"
   },
   {
    "duration": 16,
    "start_time": "2023-09-01T15:58:55.883Z"
   },
   {
    "duration": 24,
    "start_time": "2023-09-01T15:58:55.901Z"
   },
   {
    "duration": 41,
    "start_time": "2023-09-01T15:58:55.927Z"
   },
   {
    "duration": 221,
    "start_time": "2023-09-01T15:58:55.970Z"
   },
   {
    "duration": 3,
    "start_time": "2023-09-01T15:58:56.193Z"
   },
   {
    "duration": 22,
    "start_time": "2023-09-01T15:58:56.197Z"
   },
   {
    "duration": 6,
    "start_time": "2023-09-01T15:58:56.221Z"
   },
   {
    "duration": 3,
    "start_time": "2023-09-01T15:58:56.230Z"
   },
   {
    "duration": 23,
    "start_time": "2023-09-01T15:58:56.235Z"
   },
   {
    "duration": 345,
    "start_time": "2023-09-01T15:58:56.259Z"
   },
   {
    "duration": 188,
    "start_time": "2023-09-01T15:58:56.606Z"
   },
   {
    "duration": 442,
    "start_time": "2023-09-01T15:58:56.796Z"
   },
   {
    "duration": 189,
    "start_time": "2023-09-01T15:58:57.240Z"
   },
   {
    "duration": 1053,
    "start_time": "2023-09-01T15:58:57.431Z"
   },
   {
    "duration": 192,
    "start_time": "2023-09-01T15:58:58.485Z"
   },
   {
    "duration": 1266,
    "start_time": "2023-09-01T15:58:58.679Z"
   },
   {
    "duration": 22,
    "start_time": "2023-09-01T15:58:59.946Z"
   },
   {
    "duration": 3,
    "start_time": "2023-09-01T15:58:59.969Z"
   },
   {
    "duration": 7,
    "start_time": "2023-09-01T15:58:59.973Z"
   },
   {
    "duration": 1861,
    "start_time": "2023-09-01T15:58:59.982Z"
   },
   {
    "duration": 12,
    "start_time": "2023-09-01T15:59:01.844Z"
   },
   {
    "duration": 55,
    "start_time": "2023-09-01T15:59:01.858Z"
   },
   {
    "duration": 126,
    "start_time": "2023-09-01T15:59:01.914Z"
   },
   {
    "duration": 0,
    "start_time": "2023-09-01T15:59:02.041Z"
   },
   {
    "duration": 1384,
    "start_time": "2023-09-01T15:59:36.206Z"
   },
   {
    "duration": 63,
    "start_time": "2023-09-01T15:59:37.592Z"
   },
   {
    "duration": 3,
    "start_time": "2023-09-01T15:59:37.657Z"
   },
   {
    "duration": 373,
    "start_time": "2023-09-01T15:59:37.668Z"
   },
   {
    "duration": 123,
    "start_time": "2023-09-01T15:59:38.056Z"
   },
   {
    "duration": 425,
    "start_time": "2023-09-01T15:59:38.180Z"
   },
   {
    "duration": 15,
    "start_time": "2023-09-01T15:59:38.607Z"
   },
   {
    "duration": 44,
    "start_time": "2023-09-01T15:59:38.624Z"
   },
   {
    "duration": 16,
    "start_time": "2023-09-01T15:59:38.670Z"
   },
   {
    "duration": 258,
    "start_time": "2023-09-01T15:59:38.688Z"
   },
   {
    "duration": 9,
    "start_time": "2023-09-01T15:59:38.947Z"
   },
   {
    "duration": 31,
    "start_time": "2023-09-01T15:59:38.958Z"
   },
   {
    "duration": 41,
    "start_time": "2023-09-01T15:59:38.991Z"
   },
   {
    "duration": 5,
    "start_time": "2023-09-01T15:59:39.034Z"
   },
   {
    "duration": 26,
    "start_time": "2023-09-01T15:59:39.041Z"
   },
   {
    "duration": 351,
    "start_time": "2023-09-01T15:59:39.069Z"
   },
   {
    "duration": 191,
    "start_time": "2023-09-01T15:59:39.422Z"
   },
   {
    "duration": 453,
    "start_time": "2023-09-01T15:59:39.615Z"
   },
   {
    "duration": 189,
    "start_time": "2023-09-01T15:59:40.071Z"
   },
   {
    "duration": 534,
    "start_time": "2023-09-01T15:59:40.262Z"
   },
   {
    "duration": 74,
    "start_time": "2023-09-01T15:59:40.799Z"
   },
   {
    "duration": 837,
    "start_time": "2023-09-01T15:59:40.875Z"
   },
   {
    "duration": 2,
    "start_time": "2023-09-01T15:59:41.715Z"
   },
   {
    "duration": 13,
    "start_time": "2023-09-01T15:59:41.719Z"
   },
   {
    "duration": 1812,
    "start_time": "2023-09-01T15:59:41.734Z"
   },
   {
    "duration": 25,
    "start_time": "2023-09-01T15:59:43.548Z"
   },
   {
    "duration": 18,
    "start_time": "2023-09-01T15:59:43.575Z"
   },
   {
    "duration": 11,
    "start_time": "2023-09-01T15:59:43.594Z"
   },
   {
    "duration": 125,
    "start_time": "2023-09-01T15:59:43.607Z"
   },
   {
    "duration": 0,
    "start_time": "2023-09-01T15:59:43.733Z"
   },
   {
    "duration": 1350,
    "start_time": "2023-09-01T16:04:46.406Z"
   },
   {
    "duration": 54,
    "start_time": "2023-09-01T16:04:47.758Z"
   },
   {
    "duration": 2,
    "start_time": "2023-09-01T16:04:47.814Z"
   },
   {
    "duration": 392,
    "start_time": "2023-09-01T16:04:47.818Z"
   },
   {
    "duration": 111,
    "start_time": "2023-09-01T16:04:48.212Z"
   },
   {
    "duration": 439,
    "start_time": "2023-09-01T16:04:48.325Z"
   },
   {
    "duration": 17,
    "start_time": "2023-09-01T16:04:48.766Z"
   },
   {
    "duration": 27,
    "start_time": "2023-09-01T16:04:48.784Z"
   },
   {
    "duration": 44,
    "start_time": "2023-09-01T16:04:48.813Z"
   },
   {
    "duration": 264,
    "start_time": "2023-09-01T16:04:48.859Z"
   },
   {
    "duration": 3,
    "start_time": "2023-09-01T16:04:49.125Z"
   },
   {
    "duration": 12,
    "start_time": "2023-09-01T16:04:49.130Z"
   },
   {
    "duration": 17,
    "start_time": "2023-09-01T16:04:49.144Z"
   },
   {
    "duration": 4,
    "start_time": "2023-09-01T16:04:49.164Z"
   },
   {
    "duration": 6,
    "start_time": "2023-09-01T16:04:49.170Z"
   },
   {
    "duration": 381,
    "start_time": "2023-09-01T16:04:49.178Z"
   },
   {
    "duration": 197,
    "start_time": "2023-09-01T16:04:49.561Z"
   },
   {
    "duration": 424,
    "start_time": "2023-09-01T16:04:49.760Z"
   },
   {
    "duration": 200,
    "start_time": "2023-09-01T16:04:50.186Z"
   },
   {
    "duration": 543,
    "start_time": "2023-09-01T16:04:50.387Z"
   },
   {
    "duration": 86,
    "start_time": "2023-09-01T16:04:50.932Z"
   },
   {
    "duration": 911,
    "start_time": "2023-09-01T16:04:51.020Z"
   },
   {
    "duration": 3,
    "start_time": "2023-09-01T16:04:51.933Z"
   },
   {
    "duration": 20,
    "start_time": "2023-09-01T16:04:51.937Z"
   },
   {
    "duration": 130,
    "start_time": "2023-09-01T16:04:51.959Z"
   },
   {
    "duration": 0,
    "start_time": "2023-09-01T16:04:52.091Z"
   },
   {
    "duration": 0,
    "start_time": "2023-09-01T16:04:52.093Z"
   },
   {
    "duration": 0,
    "start_time": "2023-09-01T16:04:52.094Z"
   },
   {
    "duration": 0,
    "start_time": "2023-09-01T16:04:52.094Z"
   },
   {
    "duration": 0,
    "start_time": "2023-09-01T16:04:52.095Z"
   },
   {
    "duration": 7,
    "start_time": "2023-09-01T16:05:28.307Z"
   },
   {
    "duration": 9,
    "start_time": "2023-09-01T16:05:32.530Z"
   },
   {
    "duration": 7,
    "start_time": "2023-09-01T16:09:28.109Z"
   },
   {
    "duration": 1871,
    "start_time": "2023-09-01T16:09:34.187Z"
   },
   {
    "duration": 21,
    "start_time": "2023-09-01T16:09:36.060Z"
   },
   {
    "duration": 1372,
    "start_time": "2023-09-01T16:09:47.509Z"
   },
   {
    "duration": 75,
    "start_time": "2023-09-01T16:09:48.883Z"
   },
   {
    "duration": 3,
    "start_time": "2023-09-01T16:09:48.960Z"
   },
   {
    "duration": 343,
    "start_time": "2023-09-01T16:09:48.965Z"
   },
   {
    "duration": 114,
    "start_time": "2023-09-01T16:09:49.311Z"
   },
   {
    "duration": 413,
    "start_time": "2023-09-01T16:09:49.426Z"
   },
   {
    "duration": 16,
    "start_time": "2023-09-01T16:09:49.855Z"
   },
   {
    "duration": 25,
    "start_time": "2023-09-01T16:09:49.873Z"
   },
   {
    "duration": 21,
    "start_time": "2023-09-01T16:09:49.900Z"
   },
   {
    "duration": 225,
    "start_time": "2023-09-01T16:09:49.923Z"
   },
   {
    "duration": 3,
    "start_time": "2023-09-01T16:09:50.157Z"
   },
   {
    "duration": 12,
    "start_time": "2023-09-01T16:09:50.162Z"
   },
   {
    "duration": 5,
    "start_time": "2023-09-01T16:09:50.176Z"
   },
   {
    "duration": 29,
    "start_time": "2023-09-01T16:09:50.184Z"
   },
   {
    "duration": 28,
    "start_time": "2023-09-01T16:09:50.215Z"
   },
   {
    "duration": 372,
    "start_time": "2023-09-01T16:09:50.245Z"
   },
   {
    "duration": 191,
    "start_time": "2023-09-01T16:09:50.619Z"
   },
   {
    "duration": 445,
    "start_time": "2023-09-01T16:09:50.811Z"
   },
   {
    "duration": 185,
    "start_time": "2023-09-01T16:09:51.258Z"
   },
   {
    "duration": 578,
    "start_time": "2023-09-01T16:09:51.445Z"
   },
   {
    "duration": 90,
    "start_time": "2023-09-01T16:09:52.024Z"
   },
   {
    "duration": 935,
    "start_time": "2023-09-01T16:09:52.116Z"
   },
   {
    "duration": 3,
    "start_time": "2023-09-01T16:09:53.056Z"
   },
   {
    "duration": 10,
    "start_time": "2023-09-01T16:09:53.061Z"
   },
   {
    "duration": 1861,
    "start_time": "2023-09-01T16:09:53.072Z"
   },
   {
    "duration": 23,
    "start_time": "2023-09-01T16:09:54.935Z"
   },
   {
    "duration": 26,
    "start_time": "2023-09-01T16:09:54.960Z"
   },
   {
    "duration": 22,
    "start_time": "2023-09-01T16:09:54.988Z"
   },
   {
    "duration": 138,
    "start_time": "2023-09-01T16:09:55.012Z"
   },
   {
    "duration": 0,
    "start_time": "2023-09-01T16:09:55.152Z"
   },
   {
    "duration": 9,
    "start_time": "2023-09-01T16:12:31.463Z"
   },
   {
    "duration": 1735,
    "start_time": "2023-09-01T16:12:33.396Z"
   },
   {
    "duration": 21,
    "start_time": "2023-09-01T16:12:40.574Z"
   },
   {
    "duration": 1554,
    "start_time": "2023-09-01T16:12:49.084Z"
   },
   {
    "duration": 65,
    "start_time": "2023-09-01T16:12:50.640Z"
   },
   {
    "duration": 3,
    "start_time": "2023-09-01T16:12:50.706Z"
   },
   {
    "duration": 375,
    "start_time": "2023-09-01T16:12:50.710Z"
   },
   {
    "duration": 107,
    "start_time": "2023-09-01T16:12:51.087Z"
   },
   {
    "duration": 422,
    "start_time": "2023-09-01T16:12:51.195Z"
   },
   {
    "duration": 17,
    "start_time": "2023-09-01T16:12:51.619Z"
   },
   {
    "duration": 41,
    "start_time": "2023-09-01T16:12:51.638Z"
   },
   {
    "duration": 18,
    "start_time": "2023-09-01T16:12:51.681Z"
   },
   {
    "duration": 245,
    "start_time": "2023-09-01T16:12:51.701Z"
   },
   {
    "duration": 8,
    "start_time": "2023-09-01T16:12:51.948Z"
   },
   {
    "duration": 34,
    "start_time": "2023-09-01T16:12:51.958Z"
   },
   {
    "duration": 11,
    "start_time": "2023-09-01T16:12:51.994Z"
   },
   {
    "duration": 21,
    "start_time": "2023-09-01T16:12:52.009Z"
   },
   {
    "duration": 18,
    "start_time": "2023-09-01T16:12:52.032Z"
   },
   {
    "duration": 372,
    "start_time": "2023-09-01T16:12:52.052Z"
   },
   {
    "duration": 202,
    "start_time": "2023-09-01T16:12:52.426Z"
   },
   {
    "duration": 472,
    "start_time": "2023-09-01T16:12:52.630Z"
   },
   {
    "duration": 212,
    "start_time": "2023-09-01T16:12:53.104Z"
   },
   {
    "duration": 597,
    "start_time": "2023-09-01T16:12:53.318Z"
   },
   {
    "duration": 94,
    "start_time": "2023-09-01T16:12:53.917Z"
   },
   {
    "duration": 924,
    "start_time": "2023-09-01T16:12:54.013Z"
   },
   {
    "duration": 3,
    "start_time": "2023-09-01T16:12:54.938Z"
   },
   {
    "duration": 7,
    "start_time": "2023-09-01T16:12:54.943Z"
   },
   {
    "duration": 8,
    "start_time": "2023-09-01T16:12:54.956Z"
   },
   {
    "duration": 110,
    "start_time": "2023-09-01T16:12:54.966Z"
   },
   {
    "duration": 0,
    "start_time": "2023-09-01T16:12:55.077Z"
   },
   {
    "duration": 0,
    "start_time": "2023-09-01T16:12:55.079Z"
   },
   {
    "duration": 0,
    "start_time": "2023-09-01T16:12:55.080Z"
   },
   {
    "duration": 0,
    "start_time": "2023-09-01T16:12:55.081Z"
   },
   {
    "duration": 0,
    "start_time": "2023-09-01T16:12:55.082Z"
   },
   {
    "duration": 1838,
    "start_time": "2023-09-01T16:13:14.684Z"
   },
   {
    "duration": 21,
    "start_time": "2023-09-01T16:13:20.019Z"
   },
   {
    "duration": 4,
    "start_time": "2023-09-01T16:14:09.246Z"
   },
   {
    "duration": 3,
    "start_time": "2023-09-01T16:14:10.167Z"
   },
   {
    "duration": 19,
    "start_time": "2023-09-01T16:14:11.290Z"
   },
   {
    "duration": 17,
    "start_time": "2023-09-01T16:14:28.567Z"
   },
   {
    "duration": 14,
    "start_time": "2023-09-01T16:56:14.034Z"
   },
   {
    "duration": 12,
    "start_time": "2023-09-01T16:57:35.539Z"
   },
   {
    "duration": 16,
    "start_time": "2023-09-01T16:57:56.549Z"
   },
   {
    "duration": 16,
    "start_time": "2023-09-01T16:58:35.390Z"
   },
   {
    "duration": 9,
    "start_time": "2023-09-01T16:58:43.214Z"
   },
   {
    "duration": 20,
    "start_time": "2023-09-01T16:58:46.844Z"
   },
   {
    "duration": 9,
    "start_time": "2023-09-01T16:59:22.521Z"
   },
   {
    "duration": 5,
    "start_time": "2023-09-01T16:59:30.742Z"
   },
   {
    "duration": 5,
    "start_time": "2023-09-01T17:00:07.228Z"
   },
   {
    "duration": 23,
    "start_time": "2023-09-01T17:02:47.907Z"
   },
   {
    "duration": 1436,
    "start_time": "2023-09-01T17:03:14.645Z"
   },
   {
    "duration": 58,
    "start_time": "2023-09-01T17:03:16.083Z"
   },
   {
    "duration": 3,
    "start_time": "2023-09-01T17:03:16.142Z"
   },
   {
    "duration": 362,
    "start_time": "2023-09-01T17:03:16.147Z"
   },
   {
    "duration": 112,
    "start_time": "2023-09-01T17:03:16.510Z"
   },
   {
    "duration": 445,
    "start_time": "2023-09-01T17:03:16.624Z"
   },
   {
    "duration": 18,
    "start_time": "2023-09-01T17:03:17.071Z"
   },
   {
    "duration": 36,
    "start_time": "2023-09-01T17:03:17.090Z"
   },
   {
    "duration": 42,
    "start_time": "2023-09-01T17:03:17.127Z"
   },
   {
    "duration": 231,
    "start_time": "2023-09-01T17:03:17.171Z"
   },
   {
    "duration": 3,
    "start_time": "2023-09-01T17:03:17.404Z"
   },
   {
    "duration": 15,
    "start_time": "2023-09-01T17:03:17.408Z"
   },
   {
    "duration": 8,
    "start_time": "2023-09-01T17:03:17.425Z"
   },
   {
    "duration": 22,
    "start_time": "2023-09-01T17:03:17.435Z"
   },
   {
    "duration": 17,
    "start_time": "2023-09-01T17:03:17.459Z"
   },
   {
    "duration": 352,
    "start_time": "2023-09-01T17:03:17.477Z"
   },
   {
    "duration": 196,
    "start_time": "2023-09-01T17:03:17.830Z"
   },
   {
    "duration": 473,
    "start_time": "2023-09-01T17:03:18.028Z"
   },
   {
    "duration": 209,
    "start_time": "2023-09-01T17:03:18.503Z"
   },
   {
    "duration": 590,
    "start_time": "2023-09-01T17:03:18.714Z"
   },
   {
    "duration": 91,
    "start_time": "2023-09-01T17:03:19.306Z"
   },
   {
    "duration": 911,
    "start_time": "2023-09-01T17:03:19.399Z"
   },
   {
    "duration": 4,
    "start_time": "2023-09-01T17:03:20.312Z"
   },
   {
    "duration": 59,
    "start_time": "2023-09-01T17:03:20.318Z"
   },
   {
    "duration": 1856,
    "start_time": "2023-09-01T17:03:20.379Z"
   },
   {
    "duration": 4,
    "start_time": "2023-09-01T17:03:22.236Z"
   },
   {
    "duration": 14,
    "start_time": "2023-09-01T17:03:22.242Z"
   },
   {
    "duration": 18,
    "start_time": "2023-09-01T17:03:22.259Z"
   },
   {
    "duration": 8,
    "start_time": "2023-09-01T17:03:22.279Z"
   },
   {
    "duration": 36,
    "start_time": "2023-09-01T17:03:22.288Z"
   },
   {
    "duration": 100,
    "start_time": "2023-09-01T17:47:34.982Z"
   },
   {
    "duration": 9,
    "start_time": "2023-09-01T17:48:14.285Z"
   },
   {
    "duration": 11,
    "start_time": "2023-09-01T17:48:20.553Z"
   },
   {
    "duration": 9,
    "start_time": "2023-09-01T17:49:06.597Z"
   },
   {
    "duration": 4,
    "start_time": "2023-09-01T17:50:13.750Z"
   },
   {
    "duration": 2,
    "start_time": "2023-09-01T17:50:20.035Z"
   },
   {
    "duration": 3,
    "start_time": "2023-09-01T17:50:57.383Z"
   },
   {
    "duration": 4,
    "start_time": "2023-09-01T18:06:14.654Z"
   },
   {
    "duration": 38,
    "start_time": "2023-09-01T18:15:48.889Z"
   },
   {
    "duration": 3,
    "start_time": "2023-09-01T18:51:47.949Z"
   },
   {
    "duration": 23,
    "start_time": "2023-09-01T18:52:31.896Z"
   },
   {
    "duration": 1600,
    "start_time": "2023-09-04T12:56:16.226Z"
   },
   {
    "duration": 59,
    "start_time": "2023-09-04T12:56:17.828Z"
   },
   {
    "duration": 2,
    "start_time": "2023-09-04T12:56:17.889Z"
   },
   {
    "duration": 1244,
    "start_time": "2023-09-04T12:56:17.893Z"
   },
   {
    "duration": 390,
    "start_time": "2023-09-04T12:56:19.139Z"
   },
   {
    "duration": 1566,
    "start_time": "2023-09-04T12:56:19.531Z"
   },
   {
    "duration": 14,
    "start_time": "2023-09-04T12:56:21.099Z"
   },
   {
    "duration": 44,
    "start_time": "2023-09-04T12:56:21.114Z"
   },
   {
    "duration": 19,
    "start_time": "2023-09-04T12:56:21.160Z"
   },
   {
    "duration": 217,
    "start_time": "2023-09-04T12:56:21.181Z"
   },
   {
    "duration": 3,
    "start_time": "2023-09-04T12:56:21.400Z"
   },
   {
    "duration": 31,
    "start_time": "2023-09-04T12:56:21.405Z"
   },
   {
    "duration": 21,
    "start_time": "2023-09-04T12:56:21.438Z"
   },
   {
    "duration": 44,
    "start_time": "2023-09-04T12:56:21.463Z"
   },
   {
    "duration": 20,
    "start_time": "2023-09-04T12:56:21.509Z"
   },
   {
    "duration": 365,
    "start_time": "2023-09-04T12:56:21.530Z"
   },
   {
    "duration": 195,
    "start_time": "2023-09-04T12:56:21.897Z"
   },
   {
    "duration": 417,
    "start_time": "2023-09-04T12:56:22.094Z"
   },
   {
    "duration": 196,
    "start_time": "2023-09-04T12:56:22.513Z"
   },
   {
    "duration": 554,
    "start_time": "2023-09-04T12:56:22.710Z"
   },
   {
    "duration": 60,
    "start_time": "2023-09-04T12:56:23.266Z"
   },
   {
    "duration": 955,
    "start_time": "2023-09-04T12:56:23.327Z"
   },
   {
    "duration": 2,
    "start_time": "2023-09-04T12:56:24.285Z"
   },
   {
    "duration": 121,
    "start_time": "2023-09-04T12:56:24.290Z"
   },
   {
    "duration": 1935,
    "start_time": "2023-09-04T12:56:24.413Z"
   },
   {
    "duration": 4,
    "start_time": "2023-09-04T12:56:26.350Z"
   },
   {
    "duration": 10,
    "start_time": "2023-09-04T12:56:26.355Z"
   },
   {
    "duration": 37,
    "start_time": "2023-09-04T12:56:26.366Z"
   },
   {
    "duration": 20,
    "start_time": "2023-09-04T12:56:26.404Z"
   },
   {
    "duration": 27,
    "start_time": "2023-09-04T12:56:26.425Z"
   },
   {
    "duration": 2,
    "start_time": "2023-09-04T12:56:26.454Z"
   },
   {
    "duration": 39,
    "start_time": "2023-09-04T12:56:26.458Z"
   },
   {
    "duration": 13,
    "start_time": "2023-09-04T13:08:17.397Z"
   },
   {
    "duration": 177,
    "start_time": "2023-09-04T13:08:34.012Z"
   },
   {
    "duration": 12,
    "start_time": "2023-09-04T13:08:40.316Z"
   },
   {
    "duration": 15,
    "start_time": "2023-09-04T13:42:10.265Z"
   },
   {
    "duration": 54,
    "start_time": "2023-09-04T13:47:39.872Z"
   },
   {
    "duration": 49,
    "start_time": "2023-09-04T13:47:45.785Z"
   },
   {
    "duration": 4,
    "start_time": "2023-09-04T13:52:52.531Z"
   },
   {
    "duration": 5730,
    "start_time": "2023-09-04T13:53:21.836Z"
   },
   {
    "duration": 7187,
    "start_time": "2023-09-04T13:56:26.483Z"
   },
   {
    "duration": 6792,
    "start_time": "2023-09-04T13:56:56.799Z"
   },
   {
    "duration": 20,
    "start_time": "2023-09-04T13:57:36.661Z"
   },
   {
    "duration": 7311,
    "start_time": "2023-09-04T13:59:26.094Z"
   },
   {
    "duration": 4,
    "start_time": "2023-09-04T13:59:56.411Z"
   },
   {
    "duration": 17,
    "start_time": "2023-09-04T14:16:40.818Z"
   },
   {
    "duration": 11,
    "start_time": "2023-09-04T14:17:03.124Z"
   },
   {
    "duration": 741082,
    "start_time": "2023-09-04T14:17:35.382Z"
   },
   {
    "duration": 5,
    "start_time": "2023-09-04T14:33:18.961Z"
   },
   {
    "duration": 16,
    "start_time": "2023-09-04T14:46:48.966Z"
   },
   {
    "duration": 3260069,
    "start_time": "2023-09-04T14:47:09.001Z"
   },
   {
    "duration": 121,
    "start_time": "2023-09-04T16:13:05.714Z"
   },
   {
    "duration": 45117,
    "start_time": "2023-09-04T16:51:19.840Z"
   },
   {
    "duration": 2619,
    "start_time": "2023-09-04T16:56:45.428Z"
   },
   {
    "duration": 120,
    "start_time": "2023-09-04T16:59:12.802Z"
   },
   {
    "duration": 145,
    "start_time": "2023-09-04T16:59:59.173Z"
   },
   {
    "duration": 0,
    "start_time": "2023-09-04T18:40:00.973Z"
   },
   {
    "duration": 504,
    "start_time": "2023-09-04T18:40:32.546Z"
   },
   {
    "duration": 1705,
    "start_time": "2023-09-05T13:39:55.117Z"
   },
   {
    "duration": 70,
    "start_time": "2023-09-05T13:39:56.825Z"
   },
   {
    "duration": 4,
    "start_time": "2023-09-05T13:39:56.896Z"
   },
   {
    "duration": 969,
    "start_time": "2023-09-05T13:39:56.901Z"
   },
   {
    "duration": 185,
    "start_time": "2023-09-05T13:39:57.871Z"
   },
   {
    "duration": 1195,
    "start_time": "2023-09-05T13:39:58.057Z"
   },
   {
    "duration": 14,
    "start_time": "2023-09-05T13:39:59.253Z"
   },
   {
    "duration": 37,
    "start_time": "2023-09-05T13:39:59.268Z"
   },
   {
    "duration": 14,
    "start_time": "2023-09-05T13:39:59.306Z"
   },
   {
    "duration": 245,
    "start_time": "2023-09-05T13:39:59.322Z"
   },
   {
    "duration": 3,
    "start_time": "2023-09-05T13:39:59.569Z"
   },
   {
    "duration": 12,
    "start_time": "2023-09-05T13:39:59.573Z"
   },
   {
    "duration": 7,
    "start_time": "2023-09-05T13:39:59.587Z"
   },
   {
    "duration": 6,
    "start_time": "2023-09-05T13:39:59.597Z"
   },
   {
    "duration": 45,
    "start_time": "2023-09-05T13:39:59.604Z"
   },
   {
    "duration": 401,
    "start_time": "2023-09-05T13:39:59.651Z"
   },
   {
    "duration": 268,
    "start_time": "2023-09-05T13:40:00.053Z"
   },
   {
    "duration": 335,
    "start_time": "2023-09-05T13:40:00.323Z"
   },
   {
    "duration": 199,
    "start_time": "2023-09-05T13:40:00.660Z"
   },
   {
    "duration": 555,
    "start_time": "2023-09-05T13:40:00.861Z"
   },
   {
    "duration": 74,
    "start_time": "2023-09-05T13:40:01.418Z"
   },
   {
    "duration": 1051,
    "start_time": "2023-09-05T13:40:01.494Z"
   },
   {
    "duration": 3,
    "start_time": "2023-09-05T13:40:02.549Z"
   },
   {
    "duration": 35,
    "start_time": "2023-09-05T13:40:02.554Z"
   },
   {
    "duration": 1823,
    "start_time": "2023-09-05T13:40:02.591Z"
   },
   {
    "duration": 3,
    "start_time": "2023-09-05T13:40:04.415Z"
   },
   {
    "duration": 20,
    "start_time": "2023-09-05T13:40:04.420Z"
   },
   {
    "duration": 28,
    "start_time": "2023-09-05T13:40:04.442Z"
   },
   {
    "duration": 10,
    "start_time": "2023-09-05T13:40:04.472Z"
   },
   {
    "duration": 16,
    "start_time": "2023-09-05T13:40:04.484Z"
   },
   {
    "duration": 37,
    "start_time": "2023-09-05T13:40:04.502Z"
   },
   {
    "duration": 2518,
    "start_time": "2023-09-05T13:40:04.540Z"
   },
   {
    "duration": 23364,
    "start_time": "2023-09-05T13:40:07.151Z"
   },
   {
    "duration": 0,
    "start_time": "2023-09-05T13:40:30.517Z"
   },
   {
    "duration": 0,
    "start_time": "2023-09-05T13:40:30.519Z"
   },
   {
    "duration": 2415859,
    "start_time": "2023-09-05T13:40:47.506Z"
   },
   {
    "duration": 349135,
    "start_time": "2023-09-05T14:33:53.128Z"
   },
   {
    "duration": 2508899,
    "start_time": "2023-09-05T14:42:02.976Z"
   },
   {
    "duration": 2487574,
    "start_time": "2023-09-05T15:52:30.991Z"
   },
   {
    "duration": 9515,
    "start_time": "2023-09-05T16:42:31.661Z"
   },
   {
    "duration": 10,
    "start_time": "2023-09-05T16:51:46.943Z"
   },
   {
    "duration": 4,
    "start_time": "2023-09-05T16:54:02.898Z"
   },
   {
    "duration": 37,
    "start_time": "2023-09-05T16:54:22.287Z"
   },
   {
    "duration": 93,
    "start_time": "2023-09-05T16:58:36.781Z"
   },
   {
    "duration": 83,
    "start_time": "2023-09-05T17:00:36.574Z"
   }
  ],
  "kernelspec": {
   "display_name": "Python 3 (ipykernel)",
   "language": "python",
   "name": "python3"
  },
  "language_info": {
   "codemirror_mode": {
    "name": "ipython",
    "version": 3
   },
   "file_extension": ".py",
   "mimetype": "text/x-python",
   "name": "python",
   "nbconvert_exporter": "python",
   "pygments_lexer": "ipython3",
   "version": "3.11.3"
  },
  "toc": {
   "base_numbering": 1,
   "nav_menu": {},
   "number_sections": true,
   "sideBar": true,
   "skip_h1_title": true,
   "title_cell": "Содержание",
   "title_sidebar": "Contents",
   "toc_cell": true,
   "toc_position": {
    "height": "calc(100% - 180px)",
    "left": "10px",
    "top": "150px",
    "width": "336px"
   },
   "toc_section_display": true,
   "toc_window_display": true
  },
  "toc-autonumbering": true
 },
 "nbformat": 4,
 "nbformat_minor": 4
}
